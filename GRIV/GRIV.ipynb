{
 "cells": [
  {
   "cell_type": "code",
   "execution_count": 1,
   "metadata": {
    "collapsed": false
   },
   "outputs": [
    {
     "name": "stderr",
     "output_type": "stream",
     "text": [
      "/usr/local/lib/python2.7/dist-packages/IPython/html.py:14: ShimWarning: The `IPython.html` package has been deprecated. You should import from `notebook` instead. `IPython.html.widgets` has moved to `ipywidgets`.\n",
      "  \"`IPython.html.widgets` has moved to `ipywidgets`.\", ShimWarning)\n"
     ]
    }
   ],
   "source": [
    "import sys\n",
    "import util\n",
    "from Polygenic_score import *\n",
    "\n",
    "import os\n",
    "import subprocess\n",
    "from tqdm import tqdm\n",
    "import numpy as np\n",
    "import pandas as pd\n",
    "import matplotlib.pyplot as plt\n",
    "import seaborn as sns\n",
    "import sklearn.metrics\n",
    "import re"
   ]
  },
  {
   "cell_type": "code",
   "execution_count": 2,
   "metadata": {
    "collapsed": true
   },
   "outputs": [],
   "source": [
    "def write_cov_file(pca_file,nb_pc):\n",
    "\n",
    "    cmd_sed = \"sed -i -e \\\"s/:/ /g\\\" -e \\\"s/\\s\\+/\\t/g\\\" -e \\\"s/^\\s\\+//g\\\" {}\".format(pca_file)\n",
    "    p = subprocess.Popen(cmd_sed, shell=True)\n",
    "    assert(p.wait()==0)\n",
    "    \n",
    "    cov_file = pca_file[:-9]+\".cov\"\n",
    "    a=\"\"\n",
    "    for i in range(nb_pc):\n",
    "        a=a+(\"\\tPC{}\".format(i+1))\n",
    "    \n",
    "\n",
    "    cmd_print = \"printf \\\"FID\\tIID{}\\n\\\" > {}\".format(a,cov_file)\n",
    "\n",
    "    p = subprocess.Popen(cmd_print, shell=True)\n",
    "    assert(p.wait()==0)\n",
    "\n",
    "    cmd_tail = \"tail -n+2 {} | cut -f1-{} >> {}\".format(pca_file, 2+nb_pc, cov_file) \n",
    "\n",
    "    #-n+2 récup lignes en commançant par le 2ème\n",
    "    #-f1-2+nb_pc résup les champs 1-nb_pc+2\n",
    "    \n",
    "    p = subprocess.Popen(cmd_tail, shell=True)\n",
    "    assert(p.wait()==0)\n",
    "    \n",
    "    print \"Wrote {}\".format(cov_file)"
   ]
  },
  {
   "cell_type": "code",
   "execution_count": 21,
   "metadata": {
    "collapsed": true
   },
   "outputs": [],
   "source": [
    "def save_strat(strat_file, strat):\n",
    "    pca_res = pd.read_table(strat_file, delim_whitespace=True, skiprows=1, header=None)\n",
    "    PCs_out = strat + \".PCs\"\n",
    "    with open(PCs_out, \"a\") as f:\n",
    "        f.write(', '.join(str(pca_res[0].values)))\n",
    "        f.write('\\n')\n",
    "        f.write(str(pca_res[2].values.tolist())[1:-1])\n",
    "        f.write('\\n')\n",
    "        f.write(str(pca_res[3].values.tolist())[1:-1])\n",
    "        f.write('\\n')\n"
   ]
  },
  {
   "cell_type": "code",
   "execution_count": 38,
   "metadata": {
    "collapsed": true
   },
   "outputs": [],
   "source": [
    "def plink_prune(plink_bfile,outfile):\n",
    "\n",
    "    cmd_prune = \"\"\"plink --bfile {} --exclude /home/vcabeli/Documents/data/high-LD-regions_37.txt --range --indep-pairwise 50 5 0.2 --allow-extra-chr --out {}\"\"\".format(plink_bfile, outfile+\"_prune\")\n",
    "    p = subprocess.Popen(cmd_prune, shell=True)\n",
    "    assert(p.wait() == 0)\n",
    "\n",
    "    cmd_extract = \"\"\"plink --bfile {} --extract {} --allow-extra-chr --chr 1-23 --make-bed --out {}\"\"\".format(plink_bfile, outfile+\"_prune.prune.in\", \n",
    "                              outfile+\"_pruned\")\n",
    "    p = subprocess.Popen(cmd_extract, shell=True)\n",
    "    assert(p.wait() == 0)\n",
    "\n",
    "    print \"Wrote {} bed/bim/fam.\".format( outfile+\"_pruned\")\n"
   ]
  },
  {
   "cell_type": "code",
   "execution_count": 5,
   "metadata": {
    "collapsed": false
   },
   "outputs": [
    {
     "name": "stderr",
     "output_type": "stream",
     "text": [
      "WARNING:root:loadPhen is using default missing value of '-9'.\n"
     ]
    },
    {
     "name": "stdout",
     "output_type": "stream",
     "text": [
      "Using last column in .fam file as phenotype.\n",
      "\tConsidering phenotype as a plink binary 1/2.\n",
      "\tFound 84 cases and 693 controls.\n",
      "Loaded 777 samples and 272115 SNPs.\n"
     ]
    }
   ],
   "source": [
    "snp_data, pheno = util.load_data(\"/home/vcabeli/Documents/analyses_current/GRIV_DESIR/GRIV_DESIR_PR\")"
   ]
  },
  {
   "cell_type": "code",
   "execution_count": 43,
   "metadata": {
    "collapsed": false
   },
   "outputs": [
    {
     "name": "stdout",
     "output_type": "stream",
     "text": [
      "Wrote GRIV_DESIR_PR_low_ld_pruned bed/bim/fam.\n",
      "smartpca.perl -i GRIV_DESIR_PR_low_ld_pruned.bed -a GRIV_DESIR_PR_low_ld_pruned.bim -b GRIV_DESIR_PR_low_ld_pruned.fam -o GRIV_DESIR_PR_low_ld_pruned.pca -p GRIV_DESIR_PR_low_ld_pruned.plot -e GRIV_DESIR_PR_low_ld_pruned.eval -l GRIV_DESIR_PR_low_ld_pruned.log -k 2 -t 2 -m 0\n",
      "Wrote GRIV_DESIR_PR_low_ld_pruned.cov\n"
     ]
    }
   ],
   "source": [
    "plink_prune(\"/home/vcabeli/Documents/analyses_current/GRIV_DESIR/GRIV_DESIR_PR\", \"GRIV_DESIR_PR_low_ld\")\n",
    "cmd_smart_pca2 = \"smartpca.perl -i {} -a {} -b {} -o {} -p {} -e {} -l {} -k {} -t {} -m {}\".format(\"GRIV_DESIR_PR_low_ld_pruned.bed\",\n",
    "                                                                                               \"GRIV_DESIR_PR_low_ld_pruned.bim\",\n",
    "                                                                                               \"GRIV_DESIR_PR_low_ld_pruned.fam\",\n",
    "                                                                                               \"GRIV_DESIR_PR_low_ld_pruned.pca\",\n",
    "                                                                                               \"GRIV_DESIR_PR_low_ld_pruned.plot\",\n",
    "                                                                                               \"GRIV_DESIR_PR_low_ld_pruned.eval\",\n",
    "                                                                                               \"GRIV_DESIR_PR_low_ld_pruned.log\",\n",
    "                                                                                               2, 2, 0)\n",
    "print cmd_smart_pca2\n",
    "p = subprocess.Popen(cmd_smart_pca2, shell=True)\n",
    "p.wait()\n",
    "\n",
    "\n",
    "write_cov_file(\"GRIV_DESIR_PR_low_ld_pruned.pca.evec\",2)\n",
    "save_strat(\"GRIV_DESIR_PR_low_ld_pruned.pca.evec\", \"GRIV_DESIR_PR_low_ld{}\".format(5)) #OUTPUT LINE\n"
   ]
  },
  {
   "cell_type": "code",
   "execution_count": 46,
   "metadata": {
    "collapsed": false
   },
   "outputs": [
    {
     "name": "stdout",
     "output_type": "stream",
     "text": [
      "plink --bfile /home/vcabeli/Documents/analyses_current/GRIV_DESIR/GRIV_DESIR_PR --logistic --out GRIV_DESIR_PR_nocovar\n"
     ]
    },
    {
     "data": {
      "text/html": [
       "<div>\n",
       "<table border=\"1\" class=\"dataframe\">\n",
       "  <thead>\n",
       "    <tr style=\"text-align: right;\">\n",
       "      <th></th>\n",
       "      <th>CHR</th>\n",
       "      <th>SNP</th>\n",
       "      <th>BP</th>\n",
       "      <th>A1</th>\n",
       "      <th>TEST</th>\n",
       "      <th>NMISS</th>\n",
       "      <th>OR</th>\n",
       "      <th>STAT</th>\n",
       "      <th>P</th>\n",
       "    </tr>\n",
       "  </thead>\n",
       "  <tbody>\n",
       "    <tr>\n",
       "      <th>0</th>\n",
       "      <td>1</td>\n",
       "      <td>rs3737728</td>\n",
       "      <td>1021415</td>\n",
       "      <td>A</td>\n",
       "      <td>ADD</td>\n",
       "      <td>774</td>\n",
       "      <td>1.0490</td>\n",
       "      <td>0.2531</td>\n",
       "      <td>0.8002</td>\n",
       "    </tr>\n",
       "    <tr>\n",
       "      <th>1</th>\n",
       "      <td>1</td>\n",
       "      <td>rs6687776</td>\n",
       "      <td>1030565</td>\n",
       "      <td>T</td>\n",
       "      <td>ADD</td>\n",
       "      <td>777</td>\n",
       "      <td>1.2220</td>\n",
       "      <td>0.9701</td>\n",
       "      <td>0.3320</td>\n",
       "    </tr>\n",
       "    <tr>\n",
       "      <th>2</th>\n",
       "      <td>1</td>\n",
       "      <td>rs9651273</td>\n",
       "      <td>1031540</td>\n",
       "      <td>A</td>\n",
       "      <td>ADD</td>\n",
       "      <td>776</td>\n",
       "      <td>0.9359</td>\n",
       "      <td>-0.3393</td>\n",
       "      <td>0.7344</td>\n",
       "    </tr>\n",
       "    <tr>\n",
       "      <th>3</th>\n",
       "      <td>1</td>\n",
       "      <td>rs4970405</td>\n",
       "      <td>1048955</td>\n",
       "      <td>G</td>\n",
       "      <td>ADD</td>\n",
       "      <td>774</td>\n",
       "      <td>0.9345</td>\n",
       "      <td>-0.2642</td>\n",
       "      <td>0.7916</td>\n",
       "    </tr>\n",
       "    <tr>\n",
       "      <th>4</th>\n",
       "      <td>1</td>\n",
       "      <td>rs12726255</td>\n",
       "      <td>1049950</td>\n",
       "      <td>G</td>\n",
       "      <td>ADD</td>\n",
       "      <td>777</td>\n",
       "      <td>1.0810</td>\n",
       "      <td>0.3591</td>\n",
       "      <td>0.7195</td>\n",
       "    </tr>\n",
       "  </tbody>\n",
       "</table>\n",
       "</div>"
      ],
      "text/plain": [
       "   CHR         SNP       BP A1 TEST  NMISS      OR    STAT       P\n",
       "0    1   rs3737728  1021415  A  ADD    774  1.0490  0.2531  0.8002\n",
       "1    1   rs6687776  1030565  T  ADD    777  1.2220  0.9701  0.3320\n",
       "2    1   rs9651273  1031540  A  ADD    776  0.9359 -0.3393  0.7344\n",
       "3    1   rs4970405  1048955  G  ADD    774  0.9345 -0.2642  0.7916\n",
       "4    1  rs12726255  1049950  G  ADD    777  1.0810  0.3591  0.7195"
      ]
     },
     "execution_count": 46,
     "metadata": {},
     "output_type": "execute_result"
    }
   ],
   "source": [
    "#test d'association: classification (Rlog) NO COVAR\n",
    "cmd_second_gwas = \"plink --bfile {} --logistic --out {}\".format(\"/home/vcabeli/Documents/analyses_current/GRIV_DESIR/GRIV_DESIR_PR\",\n",
    "                                                                                                   \"GRIV_DESIR_PR_nocovar\")\n",
    "print cmd_second_gwas\n",
    "p = subprocess.Popen(cmd_second_gwas, shell=True)\n",
    "p.wait()\n",
    "low_ld_res = pd.read_table(\"GRIV_DESIR_PR_nocovar.assoc.logistic\", delim_whitespace=True)\n",
    "low_ld_res.head()\n"
   ]
  },
  {
   "cell_type": "code",
   "execution_count": 47,
   "metadata": {
    "collapsed": false
   },
   "outputs": [
    {
     "name": "stdout",
     "output_type": "stream",
     "text": [
      "plink --bfile /home/vcabeli/Documents/analyses_current/GRIV_DESIR/GRIV_DESIR_PR --covar GRIV_DESIR_PR_low_ld_pruned.cov  --hide-covar --logistic --out low_ld\n"
     ]
    },
    {
     "data": {
      "text/html": [
       "<div>\n",
       "<table border=\"1\" class=\"dataframe\">\n",
       "  <thead>\n",
       "    <tr style=\"text-align: right;\">\n",
       "      <th></th>\n",
       "      <th>CHR</th>\n",
       "      <th>SNP</th>\n",
       "      <th>BP</th>\n",
       "      <th>A1</th>\n",
       "      <th>TEST</th>\n",
       "      <th>NMISS</th>\n",
       "      <th>OR</th>\n",
       "      <th>STAT</th>\n",
       "      <th>P</th>\n",
       "    </tr>\n",
       "  </thead>\n",
       "  <tbody>\n",
       "    <tr>\n",
       "      <th>0</th>\n",
       "      <td>1</td>\n",
       "      <td>rs3737728</td>\n",
       "      <td>1021415</td>\n",
       "      <td>A</td>\n",
       "      <td>ADD</td>\n",
       "      <td>774</td>\n",
       "      <td>0.9147</td>\n",
       "      <td>-0.44460</td>\n",
       "      <td>0.6566</td>\n",
       "    </tr>\n",
       "    <tr>\n",
       "      <th>1</th>\n",
       "      <td>1</td>\n",
       "      <td>rs6687776</td>\n",
       "      <td>1030565</td>\n",
       "      <td>T</td>\n",
       "      <td>ADD</td>\n",
       "      <td>777</td>\n",
       "      <td>1.3630</td>\n",
       "      <td>1.41600</td>\n",
       "      <td>0.1568</td>\n",
       "    </tr>\n",
       "    <tr>\n",
       "      <th>2</th>\n",
       "      <td>1</td>\n",
       "      <td>rs9651273</td>\n",
       "      <td>1031540</td>\n",
       "      <td>A</td>\n",
       "      <td>ADD</td>\n",
       "      <td>776</td>\n",
       "      <td>0.8177</td>\n",
       "      <td>-0.96420</td>\n",
       "      <td>0.3350</td>\n",
       "    </tr>\n",
       "    <tr>\n",
       "      <th>3</th>\n",
       "      <td>1</td>\n",
       "      <td>rs4970405</td>\n",
       "      <td>1048955</td>\n",
       "      <td>G</td>\n",
       "      <td>ADD</td>\n",
       "      <td>774</td>\n",
       "      <td>1.0040</td>\n",
       "      <td>0.01672</td>\n",
       "      <td>0.9867</td>\n",
       "    </tr>\n",
       "    <tr>\n",
       "      <th>4</th>\n",
       "      <td>1</td>\n",
       "      <td>rs12726255</td>\n",
       "      <td>1049950</td>\n",
       "      <td>G</td>\n",
       "      <td>ADD</td>\n",
       "      <td>777</td>\n",
       "      <td>1.1920</td>\n",
       "      <td>0.77210</td>\n",
       "      <td>0.4401</td>\n",
       "    </tr>\n",
       "  </tbody>\n",
       "</table>\n",
       "</div>"
      ],
      "text/plain": [
       "   CHR         SNP       BP A1 TEST  NMISS      OR     STAT       P\n",
       "0    1   rs3737728  1021415  A  ADD    774  0.9147 -0.44460  0.6566\n",
       "1    1   rs6687776  1030565  T  ADD    777  1.3630  1.41600  0.1568\n",
       "2    1   rs9651273  1031540  A  ADD    776  0.8177 -0.96420  0.3350\n",
       "3    1   rs4970405  1048955  G  ADD    774  1.0040  0.01672  0.9867\n",
       "4    1  rs12726255  1049950  G  ADD    777  1.1920  0.77210  0.4401"
      ]
     },
     "execution_count": 47,
     "metadata": {},
     "output_type": "execute_result"
    }
   ],
   "source": [
    "cmd_second_gwas = \"plink --bfile {} --covar {}  --hide-covar --logistic --out {}\".format(\"/home/vcabeli/Documents/analyses_current/GRIV_DESIR/GRIV_DESIR_PR\",\n",
    "                                                                                                   \"GRIV_DESIR_PR_low_ld_pruned.cov\",\n",
    "                                                                                                   \"low_ld\")\n",
    "print cmd_second_gwas\n",
    "p = subprocess.Popen(cmd_second_gwas, shell=True)\n",
    "p.wait()\n",
    "low_ld_res = pd.read_table(\"low_ld.assoc.logistic\", delim_whitespace=True)\n",
    "low_ld_res.head()"
   ]
  },
  {
   "cell_type": "markdown",
   "metadata": {},
   "source": [
    "### SUR R\n",
    "d= read.table(\"GRIV_DESIR_low_ld_pruned.pca.evec\")\n",
    "\n",
    "plot(d$V2, d$V3, pch=16)\n",
    "\n",
    "library(qqman)\n",
    "########## code visualistaion donnée R\n",
    "\n",
    " ############# awk '{print$9}' GRIV_DESIR_PR_nocovar.assoc.logistic > pvalue_assoc_grivPR_nocovar.txt\n",
    " \n",
    " t_3=read.table(\"~/stage/GRIV/pvalue_assoc_grivPR_nocovar.txt\",header=TRUE)\n",
    " \n",
    " png(filename = \"grivPR_assoc_nocovar_qq.png\")\n",
    " \n",
    " qq(pvector = t_3$P)\n",
    " \n",
    " dev.off()\n",
    " \n",
    "############### awk '{print$9}' low_ld.assoc.logistic > pvalue_association_grivPR.txt\n",
    "\n",
    "t_3=read.table(\"~/stage/GRIV/pvalue_association_grivPR.txt\",header=TRUE)\n",
    "\n",
    "png(filename = \"grivPR_assoc_wcovar_qq.png\")\n",
    "\n",
    "qq(pvector = t_3$P)\n",
    "\n",
    "dev.off()"
   ]
  }
 ],
 "metadata": {
  "kernelspec": {
   "display_name": "Python 2",
   "language": "python",
   "name": "python2"
  },
  "language_info": {
   "codemirror_mode": {
    "name": "ipython",
    "version": 2
   },
   "file_extension": ".py",
   "mimetype": "text/x-python",
   "name": "python",
   "nbconvert_exporter": "python",
   "pygments_lexer": "ipython2",
   "version": "2.7.12"
  }
 },
 "nbformat": 4,
 "nbformat_minor": 2
}
