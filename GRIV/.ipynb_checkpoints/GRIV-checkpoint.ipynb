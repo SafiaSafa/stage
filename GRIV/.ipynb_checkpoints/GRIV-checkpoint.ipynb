{
 "cells": [
  {
   "cell_type": "code",
   "execution_count": 2,
   "metadata": {
    "collapsed": false
   },
   "outputs": [
    {
     "name": "stderr",
     "output_type": "stream",
     "text": [
      "/usr/local/lib/python2.7/dist-packages/IPython/html.py:14: ShimWarning: The `IPython.html` package has been deprecated. You should import from `notebook` instead. `IPython.html.widgets` has moved to `ipywidgets`.\n",
      "  \"`IPython.html.widgets` has moved to `ipywidgets`.\", ShimWarning)\n"
     ]
    }
   ],
   "source": [
    "import sys\n",
    "import util\n",
    "from Polygenic_score import *\n",
    "\n",
    "import os\n",
    "import subprocess\n",
    "from tqdm import tqdm\n",
    "import numpy as np\n",
    "import pandas as pd\n",
    "import matplotlib.pyplot as plt\n",
    "import seaborn as sns\n",
    "import sklearn.metrics\n",
    "import re"
   ]
  },
  {
   "cell_type": "code",
   "execution_count": 3,
   "metadata": {
    "collapsed": false
   },
   "outputs": [
    {
     "name": "stderr",
     "output_type": "stream",
     "text": [
      "WARNING:root:loadPhen is using default missing value of '-9'.\n"
     ]
    },
    {
     "name": "stdout",
     "output_type": "stream",
     "text": [
      "Using last column in .fam file as phenotype.\n",
      "\tConsidering phenotype as a plink binary 1/2.\n",
      "\tFound 266 cases and 693 controls.\n",
      "Loaded 959 samples and 272115 SNPs.\n"
     ]
    }
   ],
   "source": [
    "snp_data, pheno = util.load_data(\"/home/vcabeli/Documents/analyses_current/GRIV_DESIR/GRIV_DESIR_NP\")"
   ]
  },
  {
   "cell_type": "code",
   "execution_count": null,
   "metadata": {
    "collapsed": true
   },
   "outputs": [],
   "source": [
    "def write_cov_file(pca_file,nb_pc):\n",
    "\n",
    "    cmd_sed = \"sed -i -e \\\"s/:/ /g\\\" -e \\\"s/\\s\\+/\\t/g\\\" -e \\\"s/^\\s\\+//g\\\" {}\".format(pca_file)\n",
    "    p = subprocess.Popen(cmd_sed, shell=True)\n",
    "    assert(p.wait()==0)\n",
    "    \n",
    "    cov_file = pca_file[:-9]+\".cov\"\n",
    "    a=\"\"\n",
    "    for i in range(nb_pc):\n",
    "        a=a+(\"\\tPC{}\".format(i+1))\n",
    "    \n",
    "\n",
    "    cmd_print = \"printf \\\"FID\\tIID{}\\n\\\" > {}\".format(a,cov_file)\n",
    "\n",
    "    p = subprocess.Popen(cmd_print, shell=True)\n",
    "    assert(p.wait()==0)\n",
    "\n",
    "    cmd_tail = \"tail -n+2 {} | cut -f1-{} >> {}\".format(pca_file, 2+nb_pc, cov_file) \n",
    "\n",
    "    #-n+2 récup lignes en commançant par le 2ème\n",
    "    #-f1-2+nb_pc résup les champs 1-nb_pc+2\n",
    "    \n",
    "    p = subprocess.Popen(cmd_tail, shell=True)\n",
    "    assert(p.wait()==0)\n",
    "    \n",
    "    print \"Wrote {}\".format(cov_file)"
   ]
  },
  {
   "cell_type": "code",
   "execution_count": null,
   "metadata": {
    "collapsed": true
   },
   "outputs": [],
   "source": [
    "def save_strat(strat_file, strat):\n",
    "    pca_res = pd.read_table(strat_file, delim_whitespace=True, skiprows=1, header=None)\n",
    "    PCs_out = strat + \".PCs\"\n",
    "    with open(PCs_out, \"a\") as f:\n",
    "        f.write(', '.join(pca_res[0].values))\n",
    "        f.write('\\n')\n",
    "        f.write(str(pca_res[2].values.tolist())[1:-1])\n",
    "        f.write('\\n')\n",
    "        f.write(str(pca_res[3].values.tolist())[1:-1])\n",
    "        f.write('\\n')\n"
   ]
  },
  {
   "cell_type": "code",
   "execution_count": 7,
   "metadata": {
    "collapsed": false
   },
   "outputs": [
    {
     "name": "stdout",
     "output_type": "stream",
     "text": [
      "smartpca.perl -i /home/vcabeli/Documents/analyses_current/GRIV_DESIR/GRIV_DESIR_NP.bed -a /home/vcabeli/Documents/analyses_current/GRIV_DESIR/GRIV_DESIR_NP.bim -b /home/vcabeli/Documents/analyses_current/GRIV_DESIR/GRIV_DESIR_NP.fam -o GRIV_DESIR_NP.pca -p GRIV_DESIR_NP.plot -e GRIV_DESIR_NP.eval -l GRIV_DESIR_NP.log -k 2 -t 2 -m 0\n"
     ]
    },
    {
     "data": {
      "text/plain": [
       "0"
      ]
     },
     "execution_count": 7,
     "metadata": {},
     "output_type": "execute_result"
    }
   ],
   "source": [
    "cmd_smart_pca2 = \"smartpca.perl -i {} -a {} -b {} -o {} -p {} -e {} -l {} -k {} -t {} -m {}\".format(\"/home/vcabeli/Documents/analyses_current/GRIV_DESIR/GRIV_DESIR_NP.bed\",\n",
    "                                                                                               \"/home/vcabeli/Documents/analyses_current/GRIV_DESIR/GRIV_DESIR_NP.bim\",\n",
    "                                                                                               \"/home/vcabeli/Documents/analyses_current/GRIV_DESIR/GRIV_DESIR_NP.fam\",\n",
    "                                                                                               \"GRIV_DESIR_NP.pca\",\n",
    "                                                                                               \"GRIV_DESIR_NP.plot\",\n",
    "                                                                                               \"GRIV_DESIR_NP.eval\",\n",
    "                                                                                               \"GRIV_DESIR_NP.log\",\n",
    "                                                                                               2, 2, 0)\n",
    "print cmd_smart_pca2\n",
    "p = subprocess.Popen(cmd_smart_pca2, shell=True)\n",
    "p.wait()\n",
    "\n"
   ]
  },
  {
   "cell_type": "code",
   "execution_count": 12,
   "metadata": {
    "collapsed": false
   },
   "outputs": [
    {
     "name": "stderr",
     "output_type": "stream",
     "text": [
      "WARNING:root:loadPhen is using default missing value of '-9'.\n"
     ]
    },
    {
     "name": "stdout",
     "output_type": "stream",
     "text": [
      "Using last column in .fam file as phenotype.\n",
      "\tConsidering phenotype as a plink binary 1/2.\n",
      "\tFound 84 cases and 693 controls.\n",
      "Loaded 777 samples and 272115 SNPs.\n"
     ]
    }
   ],
   "source": [
    "snp_data, pheno = util.load_data(\"/home/vcabeli/Documents/analyses_current/GRIV_DESIR/GRIV_DESIR_PR\")"
   ]
  },
  {
   "cell_type": "code",
   "execution_count": 13,
   "metadata": {
    "collapsed": false
   },
   "outputs": [
    {
     "name": "stdout",
     "output_type": "stream",
     "text": [
      "smartpca.perl -i /home/vcabeli/Documents/analyses_current/GRIV_DESIR/GRIV_DESIR_PR.bed -a /home/vcabeli/Documents/analyses_current/GRIV_DESIR/GRIV_DESIR_PR.bim -b /home/vcabeli/Documents/analyses_current/GRIV_DESIR/GRIV_DESIR_PR.fam -o GRIV_DESIR_PR.pca -p GRIV_DESIR_PR.plot -e GRIV_DESIR_PR.eval -l GRIV_DESIR_PR.log -k 2 -t 2 -m 0\n"
     ]
    },
    {
     "data": {
      "text/plain": [
       "0"
      ]
     },
     "execution_count": 13,
     "metadata": {},
     "output_type": "execute_result"
    }
   ],
   "source": [
    "cmd_smart_pca2 = \"smartpca.perl -i {} -a {} -b {} -o {} -p {} -e {} -l {} -k {} -t {} -m {}\".format(\"/home/vcabeli/Documents/analyses_current/GRIV_DESIR/GRIV_DESIR_PR.bed\",\n",
    "                                                                                               \"/home/vcabeli/Documents/analyses_current/GRIV_DESIR/GRIV_DESIR_PR.bim\",\n",
    "                                                                                               \"/home/vcabeli/Documents/analyses_current/GRIV_DESIR/GRIV_DESIR_PR.fam\",\n",
    "                                                                                               \"GRIV_DESIR_PR.pca\",\n",
    "                                                                                               \"GRIV_DESIR_PR.plot\",\n",
    "                                                                                               \"GRIV_DESIR_PR.eval\",\n",
    "                                                                                               \"GRIV_DESIR_PR.log\",\n",
    "                                                                                               2, 2, 0)\n",
    "print cmd_smart_pca2\n",
    "p = subprocess.Popen(cmd_smart_pca2, shell=True)\n",
    "p.wait()\n",
    "\n",
    "write_cov_file(\"GRIV_DESIR_PR.pca.evec\",2)\n",
    "save_strat(\"GRIV_DESIR_PR.pca.evec\", \"low_ld{}\".format(thresh_LD)) #OUTPUT LINE\n"
   ]
  },
  {
   "cell_type": "code",
   "execution_count": null,
   "metadata": {
    "collapsed": true
   },
   "outputs": [],
   "source": [
    "#test d'association: classification (Rlog)\n",
    "cmd_second_gwas = \"plink --bfile {} --logistic sex beta hide-covar --covar {} --covar-name PC1-PC{} --out {}\".format(\"/home/vcabeli/Documents/analyses_current/GRIV_DESIR/GRIV_DESIR_PR\",\n",
    "                                                                                                   \"GRIV_DESIR_PR_pruned.cov\",\n",
    "                                                                                                    2,\n",
    "                                                                                                   \"GRIV_DESIR_PR\")\n",
    "print cmd_second_gwas\n",
    "p = subprocess.Popen(cmd_second_gwas, shell=True)\n",
    "p.wait()\n",
    "low_ld_res = pd.read_table(\"GRIV_DESIR_PR.assoc.logistic\", delim_whitespace=True)\n",
    "low_ld_res.head()"
   ]
  },
  {
   "cell_type": "code",
   "execution_count": null,
   "metadata": {
    "collapsed": true
   },
   "outputs": [],
   "source": [
    "# code visualistaion donnée R\n",
    "# d = read.table(\"GRIV_DESIR_NP.pca.evec\")\n",
    "# plot(d$V2, d$V3, pch=16)\n",
    "\n",
    "# #### Split training / testing datasets\n",
    "train_idces = np.random.choice(np.arange(snp_data.row_count), size=int(snp_data.row_count*0.5), replace=False)\n",
    "test_idces = np.setdiff1d(np.arange(snp_data.row_count), train_idces, assume_unique=True)\n",
    "\n",
    "\n",
    "\n",
    "\n",
    "training_sample_out = \"training_samples.keep\"\n",
    "\n",
    "with open(training_sample_out, 'w') as f:\n",
    "    for i in train_idces:\n",
    "        f.write(pheno['iid'][i][0] + \"\\t\" + pheno['iid'][i][1])\n",
    "        f.write(\"\\n\")\n",
    "\n",
    "\n",
    "\n",
    "# #### Build training set bed bim fam\n",
    "\n",
    "\n",
    "#creation fichier plink (bam,bed,fam) avec les données d'apprentissage seulement\n",
    "cmd_keep_plink = \"plink --bfile {} --keep {} --make-bed --out {}\".format(\"/home/vcabeli/Documents/data/BP_final/BP.B37-final\",\n",
    "                                                                         training_sample_out,\n",
    "                                                                         \"training_set\")\n",
    "print cmd_keep_plink\n",
    "p = subprocess.Popen(cmd_keep_plink, shell=True)\n",
    "p.wait()\n",
    "\n",
    "#test d'association: classification (Rlog)\n",
    "cmd_second_gwas = \"plink --bfile {} --logistic sex beta hide-covar --covar {} --covar-name PC1-PC{} --out {}\".format(\"training_set\",\n",
    "                                                                                                   \"low_ld_pruned.cov\",\n",
    "                                                                                                    2,\n",
    "                                                                                                   \"low_ld\")\n",
    "print cmd_second_gwas\n",
    "p = subprocess.Popen(cmd_second_gwas, shell=True)\n",
    "p.wait()\n",
    "low_ld_res = pd.read_table(\"low_ld.assoc.logistic\", delim_whitespace=True)\n",
    "\n",
    "\n",
    "# clump les SNPs pour garder les SNPs indépendantes \n",
    "sorted_snps_low_ld = np.argsort(low_ld_res.P)\n",
    "sorted_snps_low_ld = clump_sorted_snps(\"training_set\", \"low_ld.assoc.logistic\",\n",
    "                                       snp_data.col, sorted_snps_low_ld)\n",
    "\n",
    "\n",
    "# #### Coded genotype (hardy-weinberg)\n",
    "# \n",
    "# With sufficiently large cohorts, traning and test sets should have the same MAFs. \n",
    "# The coded genotype is computed on the whole dataset.\n",
    "\n",
    "\n",
    "\n",
    "\n",
    "G_hw = snp_data.val.copy()\n",
    "\n",
    "MAFs = np.nansum(2-G_hw, axis=0, ) / (np.count_nonzero(~np.isnan(G_hw), axis=0) * 2)\n",
    "G_hw = (2-G_hw - 2*MAFs)/np.sqrt(2*MAFs*(1-MAFs))\n",
    "\n",
    "# ### Compute PRS\n",
    "\n",
    "prs_low_ld = polygen_score_sign(G_hw, sorted_snps_low_ld,\n",
    "                                threshs,\n",
    "                                test_idces, pheno,\n",
    "                                low_ld_res.BETA)\n",
    "time = range(10, 95000, 1000)\n",
    "sns.tsplot(np.power(prs_low_ld,1),color='red',ci=[0,95],time=time, condition=\"w/out L2_tresh_5_BP.extract\",estimator=np.mean)\n",
    "\n",
    "sns.plt.ylabel('AUC')\n",
    "sns.plt.xlabel('N SNPs')\n",
    "\n",
    "plt.show()"
   ]
  }
 ],
 "metadata": {
  "kernelspec": {
   "display_name": "Python 2",
   "language": "python",
   "name": "python2"
  },
  "language_info": {
   "codemirror_mode": {
    "name": "ipython",
    "version": 2
   },
   "file_extension": ".py",
   "mimetype": "text/x-python",
   "name": "python",
   "nbconvert_exporter": "python",
   "pygments_lexer": "ipython2",
   "version": "2.7.12"
  }
 },
 "nbformat": 4,
 "nbformat_minor": 2
}
