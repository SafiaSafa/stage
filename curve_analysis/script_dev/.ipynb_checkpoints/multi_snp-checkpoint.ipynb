{
 "cells": [
  {
   "cell_type": "code",
   "execution_count": 1,
   "metadata": {
    "collapsed": false
   },
   "outputs": [
    {
     "name": "stderr",
     "output_type": "stream",
     "text": [
      "/usr/local/lib/python2.7/dist-packages/IPython/html.py:14: ShimWarning: The `IPython.html` package has been deprecated. You should import from `notebook` instead. `IPython.html.widgets` has moved to `ipywidgets`.\n",
      "  \"`IPython.html.widgets` has moved to `ipywidgets`.\", ShimWarning)\n"
     ]
    }
   ],
   "source": [
    "import sys\n",
    "import util\n",
    "from Polygenic_score import *\n",
    "\n",
    "import os\n",
    "import subprocess\n",
    "from tqdm import tqdm\n",
    "import numpy as np\n",
    "import pandas as pd\n",
    "import matplotlib.pyplot as plt\n",
    "import seaborn as sns\n",
    "import sklearn.metrics\n",
    "import re\n",
    "import sklearn.metrics\n",
    "from tqdm import tqdm"
   ]
  },
  {
   "cell_type": "code",
   "execution_count": 2,
   "metadata": {
    "collapsed": true
   },
   "outputs": [],
   "source": [
    "def clump_sorted_snps(bfile, assoc_file, snp_values, sorted_snps):\n",
    "\n",
    "    clump_out = assoc_file[:assoc_file.index(\".assoc\")] + \"_clump\"\n",
    "    cmd_plink_clump = \"plink --bfile {} --clump {} --clump-p1 1 --clump-p2 1 --clump-r2 0.2 --clump-kb 500 --out {} \".format(bfile,\n",
    "            assoc_file,\n",
    "            clump_out)\n",
    "    print cmd_plink_clump\n",
    "    p = subprocess.Popen(cmd_plink_clump, shell=True)\n",
    "    p.wait()\n",
    "\n",
    "    clumped_res = pd.read_table(clump_out+\".clumped\", delim_whitespace=True)\n",
    "    clumped_snps = set(clumped_res.SNP)\n",
    "\n",
    "    clumped_sorted_snps = np.array([i for i in sorted_snps if snp_values[i] in clumped_snps])\n",
    "    return clumped_sorted_snps\n",
    "\n"
   ]
  },
  {
   "cell_type": "code",
   "execution_count": 8,
   "metadata": {
    "collapsed": true
   },
   "outputs": [],
   "source": [
    "def save_strat(strat_file, strat):\n",
    "    pca_res = pd.read_table(strat_file, delim_whitespace=True, skiprows=1, header=None)\n",
    "    PCs_out = strat + \".PCs\"\n",
    "    #with open(\"res_clumped/\"+PCs_out, \"a\") as f:\n",
    "    with open(PCs_out, \"a\") as f:\n",
    "        f.write(', '.join(str(pca_res[0].values)))\n",
    "        f.write('\\n')\n",
    "        f.write(str(pca_res[2].values.tolist())[1:-1])\n",
    "        f.write('\\n')\n",
    "        f.write(str(pca_res[3].values.tolist())[1:-1])\n",
    "        f.write('\\n')\n"
   ]
  },
  {
   "cell_type": "code",
   "execution_count": 4,
   "metadata": {
    "collapsed": true
   },
   "outputs": [],
   "source": [
    "def plink_prune(plink_bfile):\n",
    "\n",
    "    cmd_prune = \"\"\"plink --bfile {}      --exclude /home/vcabeli/Documents/data/high-LD-regions_37.txt           --range --indep-pairwise 50 5 0.2           --allow-extra-chr           --out {}\"\"\".format(plink_bfile, plink_bfile+\"_prune\")\n",
    "    p = subprocess.Popen(cmd_prune, shell=True)\n",
    "    assert(p.wait() == 0)\n",
    "\n",
    "    cmd_extract = \"\"\"plink --bfile {}           --extract {}           --allow-extra-chr           --chr 1-23           --make-bed           --out {}\"\"\".format(plink_bfile, plink_bfile + \"_prune.prune.in\", \n",
    "                             plink_bfile + \"_pruned\")\n",
    "    p = subprocess.Popen(cmd_extract, shell=True)\n",
    "    assert(p.wait() == 0)\n",
    "\n",
    "    print \"Wrote {} bed/bim/fam.\".format(plink_bfile + \"_pruned\")\n",
    "\n"
   ]
  },
  {
   "cell_type": "code",
   "execution_count": 5,
   "metadata": {
    "collapsed": true
   },
   "outputs": [],
   "source": [
    "def write_cov_file(pca_file,nb_pc=2):\n",
    "\n",
    "    cmd_sed = \"sed -i -e \\\"s/:/ /g\\\" -e \\\"s/\\s\\+/\\t/g\\\" -e \\\"s/^\\s\\+//g\\\" {}\".format(pca_file)\n",
    "    p = subprocess.Popen(cmd_sed, shell=True)\n",
    "    assert(p.wait()==0)\n",
    "    \n",
    "    cov_file = pca_file[:-9]+\".cov\"\n",
    "    a=\"\"\n",
    "    for i in range(nb_pc):\n",
    "        a=a+(\"\\tPC{}\".format(i+1))\n",
    "    \n",
    "\n",
    "    cmd_print = \"printf \\\"FID\\tIID{}\\n\\\" > {}\".format(a,cov_file)\n",
    "\n",
    "    p = subprocess.Popen(cmd_print, shell=True)\n",
    "    assert(p.wait()==0)\n",
    "\n",
    "    cmd_tail = \"tail -n+2 {} | cut -f1-{} >> {}\".format(pca_file, 2+nb_pc, cov_file) \n",
    "\n",
    "    #-n+2 récup lignes en commançant par le 2ème\n",
    "    #-f1-2+nb_pc résup les champs 1-nb_pc+2\n",
    "    \n",
    "    p = subprocess.Popen(cmd_tail, shell=True)\n",
    "    assert(p.wait()==0)\n",
    "    \n",
    "    print \"Wrote {}\".format(cov_file)"
   ]
  },
  {
   "cell_type": "code",
   "execution_count": 6,
   "metadata": {
    "collapsed": false
   },
   "outputs": [],
   "source": [
    "def iterate_bis(snp_data, pheno,n_iter,threshs,thresh_LD,nb_pc,nb_snps):\n",
    "    res_hw_pval_sign = np.zeros([n_iter, len(threshs)])\n",
    "    for iteration in range(n_iter):\n",
    "\n",
    "        print \"=========================Iteration {}=========================\".format(iteration)\n",
    "        \n",
    "        # extraction des SNPs indépendantes selon le seuil de LD\n",
    "        cmd_extract_low_ld_snps = \"plink --bfile {} --extract {} --make-bed --out {}\".format(\"/home/vcabeli/Documents/data/BP_final/BP.B37-final\",\n",
    "                                                                                             \"L2_thresh_{}_BP.extract\".format(thresh_LD),\n",
    "                                                                                             \"low_ld\")\n",
    "        print cmd_extract_low_ld_snps\n",
    "        p = subprocess.Popen(cmd_extract_low_ld_snps, shell=True)\n",
    "        assert(p.wait()==0)\n",
    "\n",
    "        plink_prune(\"low_ld\")\n",
    "\n",
    "\n",
    "\n",
    "        # Covariables\n",
    "        cmd_smart_pca2 = \"smartpca.perl -i {} -a {} -b {} -o {} -p {} -e {} -l {} -k {} -t {} -m {}\".format(\"low_ld_pruned.bed\",\n",
    "                                                                                                           \"low_ld_pruned.bim\",\n",
    "                                                                                                           \"low_ld_pruned.fam\",\n",
    "                                                                                                           \"low_ld_pruned.pca\",\n",
    "                                                                                                           \"low_ld_pruned.plot\",\n",
    "                                                                                                           \"low_ld_pruned.eval\",\n",
    "                                                                                                           \"low_ld_pruned.log\",\n",
    "                                                                                                           nb_pc, 2, 0)\n",
    "        print cmd_smart_pca2\n",
    "        p = subprocess.Popen(cmd_smart_pca2, shell=True)\n",
    "        p.wait()\n",
    "\n",
    "\n",
    "        write_cov_file(\"low_ld_pruned.pca.evec\",2)\n",
    "        save_strat(\"low_ld_pruned.pca.evec\", \"low_ld{}\".format(thresh_LD)) #OUTPUT LINE\n",
    "\n",
    "        # Split training / testing datasets\n",
    "        indx=np.random.choice(snp_data.shape[0],nb_snps)\n",
    "        val_pheno={}\n",
    "        liste=[]\n",
    "        for i in indx:\n",
    "            liste.append(pheno['vals'][i])\n",
    "        val_pheno['vals'] = liste\n",
    "        copi_data=snp_data[indx,:]\n",
    "        train_idces = np.random.choice(np.arange(copi_data.row_count), size=int(copi_data.row_count*0.5), replace=False)\n",
    "        print len(train_idces)\n",
    "        test_idces = np.setdiff1d(np.arange(copi_data.row_count), train_idces, assume_unique=True)\n",
    "        print len(test_idces)\n",
    "\n",
    "\n",
    "        training_sample_out = \"training_samples.keep\"\n",
    "\n",
    "        with open(training_sample_out, 'w') as f:\n",
    "            for i in train_idces:\n",
    "                f.write(pheno['iid'][i][0] + \"\\t\" + pheno['iid'][i][1])\n",
    "                f.write(\"\\n\")\n",
    "\n",
    "\n",
    "        # #### Coded genotype (hardy-weinberg)\n",
    "        # \n",
    "        # With sufficiently large cohorts, traning and test sets should have the same MAFs. The coded genotype is computed on the whole dataset.\n",
    "\n",
    "\n",
    "\n",
    "        G_hw = snp_data.val[indx,:].copy()\n",
    "        print \"Ghw\",len(G_hw)\n",
    "        MAFs = np.nansum(2-G_hw, axis=0, ) / (np.count_nonzero(~np.isnan(G_hw), axis=0) * 2)\n",
    "        G_hw = (2-G_hw - 2*MAFs)/np.sqrt(2*MAFs*(1-MAFs))\n",
    "\n",
    "\n",
    "        # #### Build training set bed bim fam\n",
    "\n",
    "\n",
    "\n",
    "        cmd_keep_plink = \"plink --bfile {} --keep {} --make-bed --out {}\".format(\"/home/vcabeli/Documents/data/BP_final/BP.B37-final\",\n",
    "                                                                                 training_sample_out,\n",
    "                                                                                 \"training_set\")\n",
    "        print cmd_keep_plink\n",
    "        p = subprocess.Popen(cmd_keep_plink, shell=True)\n",
    "        p.wait()\n",
    "\n",
    "\n",
    "\n",
    "\n",
    "\n",
    "        \n",
    "\n",
    "\n",
    "\n",
    "\n",
    "\n",
    "\n",
    "        cmd_second_gwas = \"plink --bfile {} --logistic sex beta hide-covar --covar {} --covar-name PC1-PC{} --out {}\".format(\"training_set\",\n",
    "                                                                                                           \"low_ld_pruned.cov\",\n",
    "                                                                                                            nb_pc,\n",
    "                                                                                                           \"low_ld\")\n",
    "        print cmd_second_gwas\n",
    "        p = subprocess.Popen(cmd_second_gwas, shell=True)\n",
    "        p.wait()\n",
    "        low_ld_res = pd.read_table(\"low_ld.assoc.logistic\", delim_whitespace=True)\n",
    "\n",
    "\n",
    "\n",
    "        # ### Compute PRS\n",
    "\n",
    "\n",
    "\n",
    "\n",
    "\n",
    "        sorted_snps_low_ld = np.argsort(low_ld_res.P)\n",
    "        sorted_snps_low_ld = clump_sorted_snps(\"training_set\", \"low_ld.assoc.logistic\",\n",
    "                                               copi_data.col, sorted_snps_low_ld)\n",
    "\n",
    "\n",
    "        prs_low_ld = polygen_score_sign(G_hw, sorted_snps_low_ld,\n",
    "                                        threshs,\n",
    "                                        test_idces, val_pheno,\n",
    "                                        low_ld_res.BETA)\n",
    "        res_hw_pval_sign[iteration] = prs_low_ld\n",
    "    return(res_hw_pval_sign)"
   ]
  },
  {
   "cell_type": "code",
   "execution_count": 9,
   "metadata": {
    "collapsed": false
   },
   "outputs": [
    {
     "name": "stderr",
     "output_type": "stream",
     "text": [
      "WARNING:root:loadPhen is using default missing value of '-9'.\n"
     ]
    },
    {
     "name": "stdout",
     "output_type": "stream",
     "text": [
      "Using last column in .fam file as phenotype.\n",
      "\tConsidering phenotype as a plink binary 1/2.\n",
      "\tFound 427 cases and 1525 controls.\n",
      "Loaded 1952 samples and 250140 SNPs.\n",
      "========================= 2 PCs =========================\n",
      "========================= 50 SNPs =========================\n",
      "=========================Iteration 0=========================\n",
      "25\n",
      "25\n",
      "Ghw 50\n"
     ]
    },
    {
     "name": "stderr",
     "output_type": "stream",
     "text": [
      "/usr/local/lib/python2.7/dist-packages/ipykernel/__main__.py:37: RuntimeWarning: invalid value encountered in divide\n"
     ]
    },
    {
     "name": "stdout",
     "output_type": "stream",
     "text": [
      "plink --bfile /home/vcabeli/Documents/data/BP_final/BP.B37-final --keep training_samples.keep --make-bed --out training_set\n",
      "plink --bfile training_set --extract L2_thresh_5_BP.extract --make-bed --out low_ld\n",
      "Wrote low_ld_pruned bed/bim/fam.\n",
      "smartpca.perl -i low_ld_pruned.bed -a low_ld_pruned.bim -b low_ld_pruned.fam -o low_ld_pruned.pca -p low_ld_pruned.plot -e low_ld_pruned.eval -l low_ld_pruned.log -k 2 -t 2 -m 0\n",
      "Wrote low_ld_pruned.cov\n",
      "plink --bfile training_set --logistic sex beta hide-covar --covar low_ld_pruned.cov --covar-name PC1-PC2 --out low_ld\n",
      "plink --bfile training_set --clump low_ld.assoc.logistic --clump-p1 1 --clump-p2 1 --clump-r2 0.2 --clump-kb 500 --out low_ld_clump \n"
     ]
    },
    {
     "name": "stderr",
     "output_type": "stream",
     "text": [
      "\r",
      "  0%|          | 0/500 [00:00<?, ?it/s]"
     ]
    },
    {
     "name": "stdout",
     "output_type": "stream",
     "text": [
      "6\n",
      "19\n"
     ]
    },
    {
     "name": "stderr",
     "output_type": "stream",
     "text": [
      "100%|██████████| 500/500 [00:00<00:00, 2208.53it/s]\n"
     ]
    },
    {
     "name": "stdout",
     "output_type": "stream",
     "text": [
      "=========================Iteration 1=========================\n",
      "25\n",
      "25\n",
      "Ghw 50\n",
      "plink --bfile /home/vcabeli/Documents/data/BP_final/BP.B37-final --keep training_samples.keep --make-bed --out training_set\n",
      "plink --bfile training_set --extract L2_thresh_5_BP.extract --make-bed --out low_ld\n",
      "Wrote low_ld_pruned bed/bim/fam.\n",
      "smartpca.perl -i low_ld_pruned.bed -a low_ld_pruned.bim -b low_ld_pruned.fam -o low_ld_pruned.pca -p low_ld_pruned.plot -e low_ld_pruned.eval -l low_ld_pruned.log -k 2 -t 2 -m 0\n",
      "Wrote low_ld_pruned.cov\n",
      "plink --bfile training_set --logistic sex beta hide-covar --covar low_ld_pruned.cov --covar-name PC1-PC2 --out low_ld\n",
      "plink --bfile training_set --clump low_ld.assoc.logistic --clump-p1 1 --clump-p2 1 --clump-r2 0.2 --clump-kb 500 --out low_ld_clump \n"
     ]
    },
    {
     "name": "stderr",
     "output_type": "stream",
     "text": [
      "\r",
      "  0%|          | 0/500 [00:00<?, ?it/s]"
     ]
    },
    {
     "name": "stdout",
     "output_type": "stream",
     "text": [
      "2\n",
      "23\n"
     ]
    },
    {
     "name": "stderr",
     "output_type": "stream",
     "text": [
      "100%|██████████| 500/500 [00:00<00:00, 2163.31it/s]\n"
     ]
    },
    {
     "name": "stdout",
     "output_type": "stream",
     "text": [
      "========================= 100 SNPs =========================\n",
      "=========================Iteration 0=========================\n",
      "50\n",
      "50\n",
      "Ghw 100\n",
      "plink --bfile /home/vcabeli/Documents/data/BP_final/BP.B37-final --keep training_samples.keep --make-bed --out training_set\n",
      "plink --bfile training_set --extract L2_thresh_5_BP.extract --make-bed --out low_ld\n",
      "Wrote low_ld_pruned bed/bim/fam.\n",
      "smartpca.perl -i low_ld_pruned.bed -a low_ld_pruned.bim -b low_ld_pruned.fam -o low_ld_pruned.pca -p low_ld_pruned.plot -e low_ld_pruned.eval -l low_ld_pruned.log -k 2 -t 2 -m 0\n",
      "Wrote low_ld_pruned.cov\n",
      "plink --bfile training_set --logistic sex beta hide-covar --covar low_ld_pruned.cov --covar-name PC1-PC2 --out low_ld\n",
      "plink --bfile training_set --clump low_ld.assoc.logistic --clump-p1 1 --clump-p2 1 --clump-r2 0.2 --clump-kb 500 --out low_ld_clump \n",
      "13\n",
      "37\n"
     ]
    },
    {
     "name": "stderr",
     "output_type": "stream",
     "text": [
      "100%|██████████| 500/500 [00:00<00:00, 1136.23it/s]\n"
     ]
    },
    {
     "name": "stdout",
     "output_type": "stream",
     "text": [
      "=========================Iteration 1=========================\n",
      "50\n",
      "50\n",
      "Ghw 100\n",
      "plink --bfile /home/vcabeli/Documents/data/BP_final/BP.B37-final --keep training_samples.keep --make-bed --out training_set\n",
      "plink --bfile training_set --extract L2_thresh_5_BP.extract --make-bed --out low_ld\n",
      "Wrote low_ld_pruned bed/bim/fam.\n",
      "smartpca.perl -i low_ld_pruned.bed -a low_ld_pruned.bim -b low_ld_pruned.fam -o low_ld_pruned.pca -p low_ld_pruned.plot -e low_ld_pruned.eval -l low_ld_pruned.log -k 2 -t 2 -m 0\n",
      "Wrote low_ld_pruned.cov\n",
      "plink --bfile training_set --logistic sex beta hide-covar --covar low_ld_pruned.cov --covar-name PC1-PC2 --out low_ld\n",
      "plink --bfile training_set --clump low_ld.assoc.logistic --clump-p1 1 --clump-p2 1 --clump-r2 0.2 --clump-kb 500 --out low_ld_clump \n",
      "15\n",
      "35\n"
     ]
    },
    {
     "name": "stderr",
     "output_type": "stream",
     "text": [
      "100%|██████████| 500/500 [00:00<00:00, 1095.71it/s]\n"
     ]
    },
    {
     "name": "stdout",
     "output_type": "stream",
     "text": [
      "========================= 200 SNPs =========================\n",
      "=========================Iteration 0=========================\n",
      "100\n",
      "100\n",
      "Ghw 200\n",
      "plink --bfile /home/vcabeli/Documents/data/BP_final/BP.B37-final --keep training_samples.keep --make-bed --out training_set\n",
      "plink --bfile training_set --extract L2_thresh_5_BP.extract --make-bed --out low_ld\n",
      "Wrote low_ld_pruned bed/bim/fam.\n",
      "smartpca.perl -i low_ld_pruned.bed -a low_ld_pruned.bim -b low_ld_pruned.fam -o low_ld_pruned.pca -p low_ld_pruned.plot -e low_ld_pruned.eval -l low_ld_pruned.log -k 2 -t 2 -m 0\n",
      "Wrote low_ld_pruned.cov\n",
      "plink --bfile training_set --logistic sex beta hide-covar --covar low_ld_pruned.cov --covar-name PC1-PC2 --out low_ld\n",
      "plink --bfile training_set --clump low_ld.assoc.logistic --clump-p1 1 --clump-p2 1 --clump-r2 0.2 --clump-kb 500 --out low_ld_clump \n",
      "21\n",
      "79\n"
     ]
    },
    {
     "name": "stderr",
     "output_type": "stream",
     "text": [
      "100%|██████████| 500/500 [00:00<00:00, 513.31it/s]\n"
     ]
    },
    {
     "name": "stdout",
     "output_type": "stream",
     "text": [
      "=========================Iteration 1=========================\n",
      "100\n",
      "100\n",
      "Ghw 200\n",
      "plink --bfile /home/vcabeli/Documents/data/BP_final/BP.B37-final --keep training_samples.keep --make-bed --out training_set\n",
      "plink --bfile training_set --extract L2_thresh_5_BP.extract --make-bed --out low_ld\n",
      "Wrote low_ld_pruned bed/bim/fam.\n",
      "smartpca.perl -i low_ld_pruned.bed -a low_ld_pruned.bim -b low_ld_pruned.fam -o low_ld_pruned.pca -p low_ld_pruned.plot -e low_ld_pruned.eval -l low_ld_pruned.log -k 2 -t 2 -m 0\n",
      "Wrote low_ld_pruned.cov\n",
      "plink --bfile training_set --logistic sex beta hide-covar --covar low_ld_pruned.cov --covar-name PC1-PC2 --out low_ld\n",
      "plink --bfile training_set --clump low_ld.assoc.logistic --clump-p1 1 --clump-p2 1 --clump-r2 0.2 --clump-kb 500 --out low_ld_clump \n",
      "17\n",
      "83\n"
     ]
    },
    {
     "name": "stderr",
     "output_type": "stream",
     "text": [
      "100%|██████████| 500/500 [00:00<00:00, 523.18it/s]\n"
     ]
    },
    {
     "name": "stdout",
     "output_type": "stream",
     "text": [
      "========================= 500 SNPs =========================\n",
      "=========================Iteration 0=========================\n",
      "250\n",
      "250\n",
      "Ghw 500\n",
      "plink --bfile /home/vcabeli/Documents/data/BP_final/BP.B37-final --keep training_samples.keep --make-bed --out training_set\n",
      "plink --bfile training_set --extract L2_thresh_5_BP.extract --make-bed --out low_ld\n",
      "Wrote low_ld_pruned bed/bim/fam.\n",
      "smartpca.perl -i low_ld_pruned.bed -a low_ld_pruned.bim -b low_ld_pruned.fam -o low_ld_pruned.pca -p low_ld_pruned.plot -e low_ld_pruned.eval -l low_ld_pruned.log -k 2 -t 2 -m 0\n",
      "Wrote low_ld_pruned.cov\n",
      "plink --bfile training_set --logistic sex beta hide-covar --covar low_ld_pruned.cov --covar-name PC1-PC2 --out low_ld\n",
      "plink --bfile training_set --clump low_ld.assoc.logistic --clump-p1 1 --clump-p2 1 --clump-r2 0.2 --clump-kb 500 --out low_ld_clump \n",
      "65\n",
      "185\n"
     ]
    },
    {
     "name": "stderr",
     "output_type": "stream",
     "text": [
      "100%|██████████| 500/500 [00:03<00:00, 161.13it/s]\n"
     ]
    },
    {
     "name": "stdout",
     "output_type": "stream",
     "text": [
      "=========================Iteration 1=========================\n",
      "250\n",
      "250\n",
      "Ghw 500\n",
      "plink --bfile /home/vcabeli/Documents/data/BP_final/BP.B37-final --keep training_samples.keep --make-bed --out training_set\n",
      "plink --bfile training_set --extract L2_thresh_5_BP.extract --make-bed --out low_ld\n",
      "Wrote low_ld_pruned bed/bim/fam.\n",
      "smartpca.perl -i low_ld_pruned.bed -a low_ld_pruned.bim -b low_ld_pruned.fam -o low_ld_pruned.pca -p low_ld_pruned.plot -e low_ld_pruned.eval -l low_ld_pruned.log -k 2 -t 2 -m 0\n",
      "Wrote low_ld_pruned.cov\n",
      "plink --bfile training_set --logistic sex beta hide-covar --covar low_ld_pruned.cov --covar-name PC1-PC2 --out low_ld\n",
      "plink --bfile training_set --clump low_ld.assoc.logistic --clump-p1 1 --clump-p2 1 --clump-r2 0.2 --clump-kb 500 --out low_ld_clump \n",
      "53\n",
      "197\n"
     ]
    },
    {
     "name": "stderr",
     "output_type": "stream",
     "text": [
      "100%|██████████| 500/500 [00:03<00:00, 155.62it/s]\n"
     ]
    },
    {
     "name": "stdout",
     "output_type": "stream",
     "text": [
      "========================= 1000 SNPs =========================\n",
      "=========================Iteration 0=========================\n",
      "500\n",
      "500\n",
      "Ghw 1000\n",
      "plink --bfile /home/vcabeli/Documents/data/BP_final/BP.B37-final --keep training_samples.keep --make-bed --out training_set\n",
      "plink --bfile training_set --extract L2_thresh_5_BP.extract --make-bed --out low_ld\n",
      "Wrote low_ld_pruned bed/bim/fam.\n",
      "smartpca.perl -i low_ld_pruned.bed -a low_ld_pruned.bim -b low_ld_pruned.fam -o low_ld_pruned.pca -p low_ld_pruned.plot -e low_ld_pruned.eval -l low_ld_pruned.log -k 2 -t 2 -m 0\n",
      "Wrote low_ld_pruned.cov\n",
      "plink --bfile training_set --logistic sex beta hide-covar --covar low_ld_pruned.cov --covar-name PC1-PC2 --out low_ld\n",
      "plink --bfile training_set --clump low_ld.assoc.logistic --clump-p1 1 --clump-p2 1 --clump-r2 0.2 --clump-kb 500 --out low_ld_clump \n",
      "113\n",
      "387\n"
     ]
    },
    {
     "name": "stderr",
     "output_type": "stream",
     "text": [
      "100%|██████████| 500/500 [00:08<00:00, 58.13it/s]\n"
     ]
    },
    {
     "name": "stdout",
     "output_type": "stream",
     "text": [
      "=========================Iteration 1=========================\n",
      "500\n",
      "500\n",
      "Ghw 1000\n",
      "plink --bfile /home/vcabeli/Documents/data/BP_final/BP.B37-final --keep training_samples.keep --make-bed --out training_set\n",
      "plink --bfile training_set --extract L2_thresh_5_BP.extract --make-bed --out low_ld\n",
      "Wrote low_ld_pruned bed/bim/fam.\n",
      "smartpca.perl -i low_ld_pruned.bed -a low_ld_pruned.bim -b low_ld_pruned.fam -o low_ld_pruned.pca -p low_ld_pruned.plot -e low_ld_pruned.eval -l low_ld_pruned.log -k 2 -t 2 -m 0\n",
      "Wrote low_ld_pruned.cov\n",
      "plink --bfile training_set --logistic sex beta hide-covar --covar low_ld_pruned.cov --covar-name PC1-PC2 --out low_ld\n",
      "plink --bfile training_set --clump low_ld.assoc.logistic --clump-p1 1 --clump-p2 1 --clump-r2 0.2 --clump-kb 500 --out low_ld_clump \n",
      "108\n",
      "392\n"
     ]
    },
    {
     "name": "stderr",
     "output_type": "stream",
     "text": [
      "100%|██████████| 500/500 [00:08<00:00, 56.86it/s]\n"
     ]
    },
    {
     "name": "stdout",
     "output_type": "stream",
     "text": [
      "========================= 1952 SNPs =========================\n",
      "=========================Iteration 0=========================\n",
      "976\n",
      "976\n",
      "Ghw 1952\n",
      "plink --bfile /home/vcabeli/Documents/data/BP_final/BP.B37-final --keep training_samples.keep --make-bed --out training_set\n",
      "plink --bfile training_set --extract L2_thresh_5_BP.extract --make-bed --out low_ld\n",
      "Wrote low_ld_pruned bed/bim/fam.\n",
      "smartpca.perl -i low_ld_pruned.bed -a low_ld_pruned.bim -b low_ld_pruned.fam -o low_ld_pruned.pca -p low_ld_pruned.plot -e low_ld_pruned.eval -l low_ld_pruned.log -k 2 -t 2 -m 0\n",
      "Wrote low_ld_pruned.cov\n",
      "plink --bfile training_set --logistic sex beta hide-covar --covar low_ld_pruned.cov --covar-name PC1-PC2 --out low_ld\n",
      "plink --bfile training_set --clump low_ld.assoc.logistic --clump-p1 1 --clump-p2 1 --clump-r2 0.2 --clump-kb 500 --out low_ld_clump \n",
      "197\n",
      "779\n"
     ]
    },
    {
     "name": "stderr",
     "output_type": "stream",
     "text": [
      "100%|██████████| 500/500 [00:26<00:00, 19.06it/s]\n"
     ]
    },
    {
     "name": "stdout",
     "output_type": "stream",
     "text": [
      "=========================Iteration 1=========================\n",
      "976\n",
      "976\n",
      "Ghw 1952\n",
      "plink --bfile /home/vcabeli/Documents/data/BP_final/BP.B37-final --keep training_samples.keep --make-bed --out training_set\n",
      "plink --bfile training_set --extract L2_thresh_5_BP.extract --make-bed --out low_ld\n",
      "Wrote low_ld_pruned bed/bim/fam.\n",
      "smartpca.perl -i low_ld_pruned.bed -a low_ld_pruned.bim -b low_ld_pruned.fam -o low_ld_pruned.pca -p low_ld_pruned.plot -e low_ld_pruned.eval -l low_ld_pruned.log -k 2 -t 2 -m 0\n",
      "Wrote low_ld_pruned.cov\n",
      "plink --bfile training_set --logistic sex beta hide-covar --covar low_ld_pruned.cov --covar-name PC1-PC2 --out low_ld\n",
      "plink --bfile training_set --clump low_ld.assoc.logistic --clump-p1 1 --clump-p2 1 --clump-r2 0.2 --clump-kb 500 --out low_ld_clump \n",
      "233\n",
      "743\n"
     ]
    },
    {
     "name": "stderr",
     "output_type": "stream",
     "text": [
      "100%|██████████| 500/500 [00:26<00:00, 19.17it/s]\n"
     ]
    },
    {
     "name": "stdout",
     "output_type": "stream",
     "text": [
      "========================= 3 PCs =========================\n",
      "========================= 50 SNPs =========================\n",
      "=========================Iteration 0=========================\n",
      "25\n",
      "25\n",
      "Ghw 50\n",
      "plink --bfile /home/vcabeli/Documents/data/BP_final/BP.B37-final --keep training_samples.keep --make-bed --out training_set\n",
      "plink --bfile training_set --extract L2_thresh_5_BP.extract --make-bed --out low_ld\n",
      "Wrote low_ld_pruned bed/bim/fam.\n",
      "smartpca.perl -i low_ld_pruned.bed -a low_ld_pruned.bim -b low_ld_pruned.fam -o low_ld_pruned.pca -p low_ld_pruned.plot -e low_ld_pruned.eval -l low_ld_pruned.log -k 3 -t 2 -m 0\n",
      "Wrote low_ld_pruned.cov\n",
      "plink --bfile training_set --logistic sex beta hide-covar --covar low_ld_pruned.cov --covar-name PC1-PC3 --out low_ld\n",
      "plink --bfile training_set --clump low_ld.assoc.logistic --clump-p1 1 --clump-p2 1 --clump-r2 0.2 --clump-kb 500 --out low_ld_clump \n"
     ]
    },
    {
     "name": "stderr",
     "output_type": "stream",
     "text": [
      "\r",
      "  0%|          | 0/500 [00:00<?, ?it/s]"
     ]
    },
    {
     "name": "stdout",
     "output_type": "stream",
     "text": [
      "7\n",
      "18\n"
     ]
    },
    {
     "name": "stderr",
     "output_type": "stream",
     "text": [
      "100%|██████████| 500/500 [00:00<00:00, 2205.06it/s]\n"
     ]
    },
    {
     "name": "stdout",
     "output_type": "stream",
     "text": [
      "=========================Iteration 1=========================\n",
      "25\n",
      "25\n",
      "Ghw 50\n",
      "plink --bfile /home/vcabeli/Documents/data/BP_final/BP.B37-final --keep training_samples.keep --make-bed --out training_set\n",
      "plink --bfile training_set --extract L2_thresh_5_BP.extract --make-bed --out low_ld\n",
      "Wrote low_ld_pruned bed/bim/fam.\n",
      "smartpca.perl -i low_ld_pruned.bed -a low_ld_pruned.bim -b low_ld_pruned.fam -o low_ld_pruned.pca -p low_ld_pruned.plot -e low_ld_pruned.eval -l low_ld_pruned.log -k 3 -t 2 -m 0\n",
      "Wrote low_ld_pruned.cov\n",
      "plink --bfile training_set --logistic sex beta hide-covar --covar low_ld_pruned.cov --covar-name PC1-PC3 --out low_ld\n",
      "plink --bfile training_set --clump low_ld.assoc.logistic --clump-p1 1 --clump-p2 1 --clump-r2 0.2 --clump-kb 500 --out low_ld_clump \n"
     ]
    },
    {
     "name": "stderr",
     "output_type": "stream",
     "text": [
      "\r",
      "  0%|          | 0/500 [00:00<?, ?it/s]"
     ]
    },
    {
     "name": "stdout",
     "output_type": "stream",
     "text": [
      "5\n",
      "20\n"
     ]
    },
    {
     "name": "stderr",
     "output_type": "stream",
     "text": [
      "100%|██████████| 500/500 [00:00<00:00, 2260.85it/s]\n"
     ]
    },
    {
     "name": "stdout",
     "output_type": "stream",
     "text": [
      "========================= 100 SNPs =========================\n",
      "=========================Iteration 0=========================\n",
      "50\n",
      "50\n",
      "Ghw 100\n",
      "plink --bfile /home/vcabeli/Documents/data/BP_final/BP.B37-final --keep training_samples.keep --make-bed --out training_set\n",
      "plink --bfile training_set --extract L2_thresh_5_BP.extract --make-bed --out low_ld\n",
      "Wrote low_ld_pruned bed/bim/fam.\n",
      "smartpca.perl -i low_ld_pruned.bed -a low_ld_pruned.bim -b low_ld_pruned.fam -o low_ld_pruned.pca -p low_ld_pruned.plot -e low_ld_pruned.eval -l low_ld_pruned.log -k 3 -t 2 -m 0\n",
      "Wrote low_ld_pruned.cov\n",
      "plink --bfile training_set --logistic sex beta hide-covar --covar low_ld_pruned.cov --covar-name PC1-PC3 --out low_ld\n",
      "plink --bfile training_set --clump low_ld.assoc.logistic --clump-p1 1 --clump-p2 1 --clump-r2 0.2 --clump-kb 500 --out low_ld_clump \n",
      "8\n",
      "42\n"
     ]
    },
    {
     "name": "stderr",
     "output_type": "stream",
     "text": [
      "100%|██████████| 500/500 [00:00<00:00, 1135.83it/s]\n"
     ]
    },
    {
     "name": "stdout",
     "output_type": "stream",
     "text": [
      "=========================Iteration 1=========================\n",
      "50\n",
      "50\n",
      "Ghw 100\n",
      "plink --bfile /home/vcabeli/Documents/data/BP_final/BP.B37-final --keep training_samples.keep --make-bed --out training_set\n",
      "plink --bfile training_set --extract L2_thresh_5_BP.extract --make-bed --out low_ld\n",
      "Wrote low_ld_pruned bed/bim/fam.\n",
      "smartpca.perl -i low_ld_pruned.bed -a low_ld_pruned.bim -b low_ld_pruned.fam -o low_ld_pruned.pca -p low_ld_pruned.plot -e low_ld_pruned.eval -l low_ld_pruned.log -k 3 -t 2 -m 0\n",
      "Wrote low_ld_pruned.cov\n",
      "plink --bfile training_set --logistic sex beta hide-covar --covar low_ld_pruned.cov --covar-name PC1-PC3 --out low_ld\n",
      "plink --bfile training_set --clump low_ld.assoc.logistic --clump-p1 1 --clump-p2 1 --clump-r2 0.2 --clump-kb 500 --out low_ld_clump \n",
      "12\n",
      "38\n"
     ]
    },
    {
     "name": "stderr",
     "output_type": "stream",
     "text": [
      "100%|██████████| 500/500 [00:00<00:00, 1107.90it/s]\n"
     ]
    },
    {
     "name": "stdout",
     "output_type": "stream",
     "text": [
      "========================= 200 SNPs =========================\n",
      "=========================Iteration 0=========================\n",
      "100\n",
      "100\n",
      "Ghw 200\n",
      "plink --bfile /home/vcabeli/Documents/data/BP_final/BP.B37-final --keep training_samples.keep --make-bed --out training_set\n",
      "plink --bfile training_set --extract L2_thresh_5_BP.extract --make-bed --out low_ld\n",
      "Wrote low_ld_pruned bed/bim/fam.\n",
      "smartpca.perl -i low_ld_pruned.bed -a low_ld_pruned.bim -b low_ld_pruned.fam -o low_ld_pruned.pca -p low_ld_pruned.plot -e low_ld_pruned.eval -l low_ld_pruned.log -k 3 -t 2 -m 0\n",
      "Wrote low_ld_pruned.cov\n",
      "plink --bfile training_set --logistic sex beta hide-covar --covar low_ld_pruned.cov --covar-name PC1-PC3 --out low_ld\n",
      "plink --bfile training_set --clump low_ld.assoc.logistic --clump-p1 1 --clump-p2 1 --clump-r2 0.2 --clump-kb 500 --out low_ld_clump \n",
      "21\n",
      "79\n"
     ]
    },
    {
     "name": "stderr",
     "output_type": "stream",
     "text": [
      "100%|██████████| 500/500 [00:00<00:00, 528.73it/s]\n"
     ]
    },
    {
     "name": "stdout",
     "output_type": "stream",
     "text": [
      "=========================Iteration 1=========================\n",
      "100\n",
      "100\n",
      "Ghw 200\n",
      "plink --bfile /home/vcabeli/Documents/data/BP_final/BP.B37-final --keep training_samples.keep --make-bed --out training_set\n",
      "plink --bfile training_set --extract L2_thresh_5_BP.extract --make-bed --out low_ld\n",
      "Wrote low_ld_pruned bed/bim/fam.\n",
      "smartpca.perl -i low_ld_pruned.bed -a low_ld_pruned.bim -b low_ld_pruned.fam -o low_ld_pruned.pca -p low_ld_pruned.plot -e low_ld_pruned.eval -l low_ld_pruned.log -k 3 -t 2 -m 0\n",
      "Wrote low_ld_pruned.cov\n",
      "plink --bfile training_set --logistic sex beta hide-covar --covar low_ld_pruned.cov --covar-name PC1-PC3 --out low_ld\n",
      "plink --bfile training_set --clump low_ld.assoc.logistic --clump-p1 1 --clump-p2 1 --clump-r2 0.2 --clump-kb 500 --out low_ld_clump \n",
      "29\n",
      "71\n"
     ]
    },
    {
     "name": "stderr",
     "output_type": "stream",
     "text": [
      "100%|██████████| 500/500 [00:00<00:00, 522.27it/s]\n"
     ]
    },
    {
     "name": "stdout",
     "output_type": "stream",
     "text": [
      "========================= 500 SNPs =========================\n",
      "=========================Iteration 0=========================\n",
      "250\n",
      "250\n",
      "Ghw 500\n",
      "plink --bfile /home/vcabeli/Documents/data/BP_final/BP.B37-final --keep training_samples.keep --make-bed --out training_set\n",
      "plink --bfile training_set --extract L2_thresh_5_BP.extract --make-bed --out low_ld\n",
      "Wrote low_ld_pruned bed/bim/fam.\n",
      "smartpca.perl -i low_ld_pruned.bed -a low_ld_pruned.bim -b low_ld_pruned.fam -o low_ld_pruned.pca -p low_ld_pruned.plot -e low_ld_pruned.eval -l low_ld_pruned.log -k 3 -t 2 -m 0\n",
      "Wrote low_ld_pruned.cov\n",
      "plink --bfile training_set --logistic sex beta hide-covar --covar low_ld_pruned.cov --covar-name PC1-PC3 --out low_ld\n",
      "plink --bfile training_set --clump low_ld.assoc.logistic --clump-p1 1 --clump-p2 1 --clump-r2 0.2 --clump-kb 500 --out low_ld_clump \n",
      "62\n",
      "188\n"
     ]
    },
    {
     "name": "stderr",
     "output_type": "stream",
     "text": [
      "100%|██████████| 500/500 [00:03<00:00, 161.39it/s]\n"
     ]
    },
    {
     "name": "stdout",
     "output_type": "stream",
     "text": [
      "=========================Iteration 1=========================\n",
      "250\n",
      "250\n",
      "Ghw 500\n",
      "plink --bfile /home/vcabeli/Documents/data/BP_final/BP.B37-final --keep training_samples.keep --make-bed --out training_set\n",
      "plink --bfile training_set --extract L2_thresh_5_BP.extract --make-bed --out low_ld\n",
      "Wrote low_ld_pruned bed/bim/fam.\n",
      "smartpca.perl -i low_ld_pruned.bed -a low_ld_pruned.bim -b low_ld_pruned.fam -o low_ld_pruned.pca -p low_ld_pruned.plot -e low_ld_pruned.eval -l low_ld_pruned.log -k 3 -t 2 -m 0\n",
      "Wrote low_ld_pruned.cov\n",
      "plink --bfile training_set --logistic sex beta hide-covar --covar low_ld_pruned.cov --covar-name PC1-PC3 --out low_ld\n",
      "plink --bfile training_set --clump low_ld.assoc.logistic --clump-p1 1 --clump-p2 1 --clump-r2 0.2 --clump-kb 500 --out low_ld_clump \n",
      "51\n",
      "199\n"
     ]
    },
    {
     "name": "stderr",
     "output_type": "stream",
     "text": [
      "100%|██████████| 500/500 [00:03<00:00, 158.32it/s]\n"
     ]
    },
    {
     "name": "stdout",
     "output_type": "stream",
     "text": [
      "========================= 1000 SNPs =========================\n",
      "=========================Iteration 0=========================\n",
      "500\n",
      "500\n",
      "Ghw 1000\n",
      "plink --bfile /home/vcabeli/Documents/data/BP_final/BP.B37-final --keep training_samples.keep --make-bed --out training_set\n",
      "plink --bfile training_set --extract L2_thresh_5_BP.extract --make-bed --out low_ld\n",
      "Wrote low_ld_pruned bed/bim/fam.\n",
      "smartpca.perl -i low_ld_pruned.bed -a low_ld_pruned.bim -b low_ld_pruned.fam -o low_ld_pruned.pca -p low_ld_pruned.plot -e low_ld_pruned.eval -l low_ld_pruned.log -k 3 -t 2 -m 0\n",
      "Wrote low_ld_pruned.cov\n",
      "plink --bfile training_set --logistic sex beta hide-covar --covar low_ld_pruned.cov --covar-name PC1-PC3 --out low_ld\n",
      "plink --bfile training_set --clump low_ld.assoc.logistic --clump-p1 1 --clump-p2 1 --clump-r2 0.2 --clump-kb 500 --out low_ld_clump \n",
      "119\n",
      "381\n"
     ]
    },
    {
     "name": "stderr",
     "output_type": "stream",
     "text": [
      "100%|██████████| 500/500 [00:08<00:00, 57.89it/s]\n"
     ]
    },
    {
     "name": "stdout",
     "output_type": "stream",
     "text": [
      "=========================Iteration 1=========================\n",
      "500\n",
      "500\n",
      "Ghw 1000\n",
      "plink --bfile /home/vcabeli/Documents/data/BP_final/BP.B37-final --keep training_samples.keep --make-bed --out training_set\n",
      "plink --bfile training_set --extract L2_thresh_5_BP.extract --make-bed --out low_ld\n",
      "Wrote low_ld_pruned bed/bim/fam.\n",
      "smartpca.perl -i low_ld_pruned.bed -a low_ld_pruned.bim -b low_ld_pruned.fam -o low_ld_pruned.pca -p low_ld_pruned.plot -e low_ld_pruned.eval -l low_ld_pruned.log -k 3 -t 2 -m 0\n",
      "Wrote low_ld_pruned.cov\n",
      "plink --bfile training_set --logistic sex beta hide-covar --covar low_ld_pruned.cov --covar-name PC1-PC3 --out low_ld\n",
      "plink --bfile training_set --clump low_ld.assoc.logistic --clump-p1 1 --clump-p2 1 --clump-r2 0.2 --clump-kb 500 --out low_ld_clump \n",
      "114\n",
      "386\n"
     ]
    },
    {
     "name": "stderr",
     "output_type": "stream",
     "text": [
      "100%|██████████| 500/500 [00:08<00:00, 56.57it/s]\n"
     ]
    },
    {
     "name": "stdout",
     "output_type": "stream",
     "text": [
      "========================= 1952 SNPs =========================\n",
      "=========================Iteration 0=========================\n",
      "976\n",
      "976\n",
      "Ghw 1952\n",
      "plink --bfile /home/vcabeli/Documents/data/BP_final/BP.B37-final --keep training_samples.keep --make-bed --out training_set\n",
      "plink --bfile training_set --extract L2_thresh_5_BP.extract --make-bed --out low_ld\n",
      "Wrote low_ld_pruned bed/bim/fam.\n",
      "smartpca.perl -i low_ld_pruned.bed -a low_ld_pruned.bim -b low_ld_pruned.fam -o low_ld_pruned.pca -p low_ld_pruned.plot -e low_ld_pruned.eval -l low_ld_pruned.log -k 3 -t 2 -m 0\n",
      "Wrote low_ld_pruned.cov\n",
      "plink --bfile training_set --logistic sex beta hide-covar --covar low_ld_pruned.cov --covar-name PC1-PC3 --out low_ld\n",
      "plink --bfile training_set --clump low_ld.assoc.logistic --clump-p1 1 --clump-p2 1 --clump-r2 0.2 --clump-kb 500 --out low_ld_clump \n",
      "192\n",
      "784\n"
     ]
    },
    {
     "name": "stderr",
     "output_type": "stream",
     "text": [
      "100%|██████████| 500/500 [00:27<00:00, 19.08it/s]\n"
     ]
    },
    {
     "name": "stdout",
     "output_type": "stream",
     "text": [
      "=========================Iteration 1=========================\n",
      "976\n",
      "976\n",
      "Ghw 1952\n",
      "plink --bfile /home/vcabeli/Documents/data/BP_final/BP.B37-final --keep training_samples.keep --make-bed --out training_set\n",
      "plink --bfile training_set --extract L2_thresh_5_BP.extract --make-bed --out low_ld\n",
      "Wrote low_ld_pruned bed/bim/fam.\n",
      "smartpca.perl -i low_ld_pruned.bed -a low_ld_pruned.bim -b low_ld_pruned.fam -o low_ld_pruned.pca -p low_ld_pruned.plot -e low_ld_pruned.eval -l low_ld_pruned.log -k 3 -t 2 -m 0\n",
      "Wrote low_ld_pruned.cov\n",
      "plink --bfile training_set --logistic sex beta hide-covar --covar low_ld_pruned.cov --covar-name PC1-PC3 --out low_ld\n",
      "plink --bfile training_set --clump low_ld.assoc.logistic --clump-p1 1 --clump-p2 1 --clump-r2 0.2 --clump-kb 500 --out low_ld_clump \n",
      "211\n",
      "765\n"
     ]
    },
    {
     "name": "stderr",
     "output_type": "stream",
     "text": [
      "100%|██████████| 500/500 [00:26<00:00, 19.13it/s]\n"
     ]
    },
    {
     "name": "stdout",
     "output_type": "stream",
     "text": [
      "========================= 4 PCs =========================\n",
      "========================= 50 SNPs =========================\n",
      "=========================Iteration 0=========================\n",
      "25\n",
      "25\n",
      "Ghw 50\n",
      "plink --bfile /home/vcabeli/Documents/data/BP_final/BP.B37-final --keep training_samples.keep --make-bed --out training_set\n",
      "plink --bfile training_set --extract L2_thresh_5_BP.extract --make-bed --out low_ld\n",
      "Wrote low_ld_pruned bed/bim/fam.\n",
      "smartpca.perl -i low_ld_pruned.bed -a low_ld_pruned.bim -b low_ld_pruned.fam -o low_ld_pruned.pca -p low_ld_pruned.plot -e low_ld_pruned.eval -l low_ld_pruned.log -k 4 -t 2 -m 0\n",
      "Wrote low_ld_pruned.cov\n",
      "plink --bfile training_set --logistic sex beta hide-covar --covar low_ld_pruned.cov --covar-name PC1-PC4 --out low_ld\n",
      "plink --bfile training_set --clump low_ld.assoc.logistic --clump-p1 1 --clump-p2 1 --clump-r2 0.2 --clump-kb 500 --out low_ld_clump \n"
     ]
    },
    {
     "name": "stderr",
     "output_type": "stream",
     "text": [
      "\r",
      "  0%|          | 0/500 [00:00<?, ?it/s]"
     ]
    },
    {
     "name": "stdout",
     "output_type": "stream",
     "text": [
      "5\n",
      "20\n"
     ]
    },
    {
     "name": "stderr",
     "output_type": "stream",
     "text": [
      "100%|██████████| 500/500 [00:00<00:00, 2186.28it/s]\n"
     ]
    },
    {
     "name": "stdout",
     "output_type": "stream",
     "text": [
      "=========================Iteration 1=========================\n",
      "25\n",
      "25\n",
      "Ghw 50\n",
      "plink --bfile /home/vcabeli/Documents/data/BP_final/BP.B37-final --keep training_samples.keep --make-bed --out training_set\n",
      "plink --bfile training_set --extract L2_thresh_5_BP.extract --make-bed --out low_ld\n",
      "Wrote low_ld_pruned bed/bim/fam.\n",
      "smartpca.perl -i low_ld_pruned.bed -a low_ld_pruned.bim -b low_ld_pruned.fam -o low_ld_pruned.pca -p low_ld_pruned.plot -e low_ld_pruned.eval -l low_ld_pruned.log -k 4 -t 2 -m 0\n",
      "Wrote low_ld_pruned.cov\n",
      "plink --bfile training_set --logistic sex beta hide-covar --covar low_ld_pruned.cov --covar-name PC1-PC4 --out low_ld\n",
      "plink --bfile training_set --clump low_ld.assoc.logistic --clump-p1 1 --clump-p2 1 --clump-r2 0.2 --clump-kb 500 --out low_ld_clump \n"
     ]
    },
    {
     "name": "stderr",
     "output_type": "stream",
     "text": [
      "\r",
      "  0%|          | 0/500 [00:00<?, ?it/s]"
     ]
    },
    {
     "name": "stdout",
     "output_type": "stream",
     "text": [
      "6\n",
      "19\n"
     ]
    },
    {
     "name": "stderr",
     "output_type": "stream",
     "text": [
      "100%|██████████| 500/500 [00:00<00:00, 2241.59it/s]\n"
     ]
    },
    {
     "name": "stdout",
     "output_type": "stream",
     "text": [
      "========================= 100 SNPs =========================\n",
      "=========================Iteration 0=========================\n",
      "50\n",
      "50\n",
      "Ghw 100\n",
      "plink --bfile /home/vcabeli/Documents/data/BP_final/BP.B37-final --keep training_samples.keep --make-bed --out training_set\n",
      "plink --bfile training_set --extract L2_thresh_5_BP.extract --make-bed --out low_ld\n",
      "Wrote low_ld_pruned bed/bim/fam.\n",
      "smartpca.perl -i low_ld_pruned.bed -a low_ld_pruned.bim -b low_ld_pruned.fam -o low_ld_pruned.pca -p low_ld_pruned.plot -e low_ld_pruned.eval -l low_ld_pruned.log -k 4 -t 2 -m 0\n",
      "Wrote low_ld_pruned.cov\n",
      "plink --bfile training_set --logistic sex beta hide-covar --covar low_ld_pruned.cov --covar-name PC1-PC4 --out low_ld\n",
      "plink --bfile training_set --clump low_ld.assoc.logistic --clump-p1 1 --clump-p2 1 --clump-r2 0.2 --clump-kb 500 --out low_ld_clump \n",
      "8\n",
      "42\n"
     ]
    },
    {
     "name": "stderr",
     "output_type": "stream",
     "text": [
      "100%|██████████| 500/500 [00:00<00:00, 1144.46it/s]\n"
     ]
    },
    {
     "name": "stdout",
     "output_type": "stream",
     "text": [
      "=========================Iteration 1=========================\n",
      "50\n",
      "50\n",
      "Ghw 100\n",
      "plink --bfile /home/vcabeli/Documents/data/BP_final/BP.B37-final --keep training_samples.keep --make-bed --out training_set\n",
      "plink --bfile training_set --extract L2_thresh_5_BP.extract --make-bed --out low_ld\n",
      "Wrote low_ld_pruned bed/bim/fam.\n",
      "smartpca.perl -i low_ld_pruned.bed -a low_ld_pruned.bim -b low_ld_pruned.fam -o low_ld_pruned.pca -p low_ld_pruned.plot -e low_ld_pruned.eval -l low_ld_pruned.log -k 4 -t 2 -m 0\n",
      "Wrote low_ld_pruned.cov\n",
      "plink --bfile training_set --logistic sex beta hide-covar --covar low_ld_pruned.cov --covar-name PC1-PC4 --out low_ld\n",
      "plink --bfile training_set --clump low_ld.assoc.logistic --clump-p1 1 --clump-p2 1 --clump-r2 0.2 --clump-kb 500 --out low_ld_clump \n",
      "12\n",
      "38\n"
     ]
    },
    {
     "name": "stderr",
     "output_type": "stream",
     "text": [
      "100%|██████████| 500/500 [00:00<00:00, 1062.32it/s]\n"
     ]
    },
    {
     "name": "stdout",
     "output_type": "stream",
     "text": [
      "========================= 200 SNPs =========================\n",
      "=========================Iteration 0=========================\n",
      "100\n",
      "100\n",
      "Ghw 200\n",
      "plink --bfile /home/vcabeli/Documents/data/BP_final/BP.B37-final --keep training_samples.keep --make-bed --out training_set\n",
      "plink --bfile training_set --extract L2_thresh_5_BP.extract --make-bed --out low_ld\n",
      "Wrote low_ld_pruned bed/bim/fam.\n",
      "smartpca.perl -i low_ld_pruned.bed -a low_ld_pruned.bim -b low_ld_pruned.fam -o low_ld_pruned.pca -p low_ld_pruned.plot -e low_ld_pruned.eval -l low_ld_pruned.log -k 4 -t 2 -m 0\n",
      "Wrote low_ld_pruned.cov\n",
      "plink --bfile training_set --logistic sex beta hide-covar --covar low_ld_pruned.cov --covar-name PC1-PC4 --out low_ld\n",
      "plink --bfile training_set --clump low_ld.assoc.logistic --clump-p1 1 --clump-p2 1 --clump-r2 0.2 --clump-kb 500 --out low_ld_clump \n",
      "30\n",
      "70\n"
     ]
    },
    {
     "name": "stderr",
     "output_type": "stream",
     "text": [
      "100%|██████████| 500/500 [00:00<00:00, 531.21it/s]\n"
     ]
    },
    {
     "name": "stdout",
     "output_type": "stream",
     "text": [
      "=========================Iteration 1=========================\n",
      "100\n",
      "100\n",
      "Ghw 200\n",
      "plink --bfile /home/vcabeli/Documents/data/BP_final/BP.B37-final --keep training_samples.keep --make-bed --out training_set\n",
      "plink --bfile training_set --extract L2_thresh_5_BP.extract --make-bed --out low_ld\n",
      "Wrote low_ld_pruned bed/bim/fam.\n",
      "smartpca.perl -i low_ld_pruned.bed -a low_ld_pruned.bim -b low_ld_pruned.fam -o low_ld_pruned.pca -p low_ld_pruned.plot -e low_ld_pruned.eval -l low_ld_pruned.log -k 4 -t 2 -m 0\n",
      "Wrote low_ld_pruned.cov\n",
      "plink --bfile training_set --logistic sex beta hide-covar --covar low_ld_pruned.cov --covar-name PC1-PC4 --out low_ld\n",
      "plink --bfile training_set --clump low_ld.assoc.logistic --clump-p1 1 --clump-p2 1 --clump-r2 0.2 --clump-kb 500 --out low_ld_clump \n",
      "15\n",
      "85\n"
     ]
    },
    {
     "name": "stderr",
     "output_type": "stream",
     "text": [
      "100%|██████████| 500/500 [00:00<00:00, 527.71it/s]\n"
     ]
    },
    {
     "name": "stdout",
     "output_type": "stream",
     "text": [
      "========================= 500 SNPs =========================\n",
      "=========================Iteration 0=========================\n",
      "250\n",
      "250\n",
      "Ghw 500\n",
      "plink --bfile /home/vcabeli/Documents/data/BP_final/BP.B37-final --keep training_samples.keep --make-bed --out training_set\n",
      "plink --bfile training_set --extract L2_thresh_5_BP.extract --make-bed --out low_ld\n",
      "Wrote low_ld_pruned bed/bim/fam.\n",
      "smartpca.perl -i low_ld_pruned.bed -a low_ld_pruned.bim -b low_ld_pruned.fam -o low_ld_pruned.pca -p low_ld_pruned.plot -e low_ld_pruned.eval -l low_ld_pruned.log -k 4 -t 2 -m 0\n",
      "Wrote low_ld_pruned.cov\n",
      "plink --bfile training_set --logistic sex beta hide-covar --covar low_ld_pruned.cov --covar-name PC1-PC4 --out low_ld\n",
      "plink --bfile training_set --clump low_ld.assoc.logistic --clump-p1 1 --clump-p2 1 --clump-r2 0.2 --clump-kb 500 --out low_ld_clump \n",
      "68\n",
      "182\n"
     ]
    },
    {
     "name": "stderr",
     "output_type": "stream",
     "text": [
      "100%|██████████| 500/500 [00:03<00:00, 161.84it/s]\n"
     ]
    },
    {
     "name": "stdout",
     "output_type": "stream",
     "text": [
      "=========================Iteration 1=========================\n",
      "250\n",
      "250\n",
      "Ghw 500\n",
      "plink --bfile /home/vcabeli/Documents/data/BP_final/BP.B37-final --keep training_samples.keep --make-bed --out training_set\n",
      "plink --bfile training_set --extract L2_thresh_5_BP.extract --make-bed --out low_ld\n",
      "Wrote low_ld_pruned bed/bim/fam.\n",
      "smartpca.perl -i low_ld_pruned.bed -a low_ld_pruned.bim -b low_ld_pruned.fam -o low_ld_pruned.pca -p low_ld_pruned.plot -e low_ld_pruned.eval -l low_ld_pruned.log -k 4 -t 2 -m 0\n",
      "Wrote low_ld_pruned.cov\n",
      "plink --bfile training_set --logistic sex beta hide-covar --covar low_ld_pruned.cov --covar-name PC1-PC4 --out low_ld\n",
      "plink --bfile training_set --clump low_ld.assoc.logistic --clump-p1 1 --clump-p2 1 --clump-r2 0.2 --clump-kb 500 --out low_ld_clump \n",
      "67\n",
      "183\n"
     ]
    },
    {
     "name": "stderr",
     "output_type": "stream",
     "text": [
      "100%|██████████| 500/500 [00:03<00:00, 159.59it/s]\n"
     ]
    },
    {
     "name": "stdout",
     "output_type": "stream",
     "text": [
      "========================= 1000 SNPs =========================\n",
      "=========================Iteration 0=========================\n",
      "500\n",
      "500\n",
      "Ghw 1000\n",
      "plink --bfile /home/vcabeli/Documents/data/BP_final/BP.B37-final --keep training_samples.keep --make-bed --out training_set\n",
      "plink --bfile training_set --extract L2_thresh_5_BP.extract --make-bed --out low_ld\n",
      "Wrote low_ld_pruned bed/bim/fam.\n",
      "smartpca.perl -i low_ld_pruned.bed -a low_ld_pruned.bim -b low_ld_pruned.fam -o low_ld_pruned.pca -p low_ld_pruned.plot -e low_ld_pruned.eval -l low_ld_pruned.log -k 4 -t 2 -m 0\n",
      "Wrote low_ld_pruned.cov\n",
      "plink --bfile training_set --logistic sex beta hide-covar --covar low_ld_pruned.cov --covar-name PC1-PC4 --out low_ld\n",
      "plink --bfile training_set --clump low_ld.assoc.logistic --clump-p1 1 --clump-p2 1 --clump-r2 0.2 --clump-kb 500 --out low_ld_clump \n",
      "116\n",
      "384\n"
     ]
    },
    {
     "name": "stderr",
     "output_type": "stream",
     "text": [
      "100%|██████████| 500/500 [00:08<00:00, 57.78it/s]\n"
     ]
    },
    {
     "name": "stdout",
     "output_type": "stream",
     "text": [
      "=========================Iteration 1=========================\n",
      "500\n",
      "500\n",
      "Ghw 1000\n",
      "plink --bfile /home/vcabeli/Documents/data/BP_final/BP.B37-final --keep training_samples.keep --make-bed --out training_set\n",
      "plink --bfile training_set --extract L2_thresh_5_BP.extract --make-bed --out low_ld\n",
      "Wrote low_ld_pruned bed/bim/fam.\n",
      "smartpca.perl -i low_ld_pruned.bed -a low_ld_pruned.bim -b low_ld_pruned.fam -o low_ld_pruned.pca -p low_ld_pruned.plot -e low_ld_pruned.eval -l low_ld_pruned.log -k 4 -t 2 -m 0\n",
      "Wrote low_ld_pruned.cov\n",
      "plink --bfile training_set --logistic sex beta hide-covar --covar low_ld_pruned.cov --covar-name PC1-PC4 --out low_ld\n",
      "plink --bfile training_set --clump low_ld.assoc.logistic --clump-p1 1 --clump-p2 1 --clump-r2 0.2 --clump-kb 500 --out low_ld_clump \n",
      "107\n",
      "393\n"
     ]
    },
    {
     "name": "stderr",
     "output_type": "stream",
     "text": [
      "100%|██████████| 500/500 [00:08<00:00, 57.58it/s]\n"
     ]
    },
    {
     "name": "stdout",
     "output_type": "stream",
     "text": [
      "========================= 1952 SNPs =========================\n",
      "=========================Iteration 0=========================\n",
      "976\n",
      "976\n",
      "Ghw 1952\n",
      "plink --bfile /home/vcabeli/Documents/data/BP_final/BP.B37-final --keep training_samples.keep --make-bed --out training_set\n",
      "plink --bfile training_set --extract L2_thresh_5_BP.extract --make-bed --out low_ld\n",
      "Wrote low_ld_pruned bed/bim/fam.\n",
      "smartpca.perl -i low_ld_pruned.bed -a low_ld_pruned.bim -b low_ld_pruned.fam -o low_ld_pruned.pca -p low_ld_pruned.plot -e low_ld_pruned.eval -l low_ld_pruned.log -k 4 -t 2 -m 0\n",
      "Wrote low_ld_pruned.cov\n",
      "plink --bfile training_set --logistic sex beta hide-covar --covar low_ld_pruned.cov --covar-name PC1-PC4 --out low_ld\n",
      "plink --bfile training_set --clump low_ld.assoc.logistic --clump-p1 1 --clump-p2 1 --clump-r2 0.2 --clump-kb 500 --out low_ld_clump \n",
      "202\n",
      "774\n"
     ]
    },
    {
     "name": "stderr",
     "output_type": "stream",
     "text": [
      "100%|██████████| 500/500 [00:26<00:00, 19.19it/s]\n"
     ]
    },
    {
     "name": "stdout",
     "output_type": "stream",
     "text": [
      "=========================Iteration 1=========================\n",
      "976\n",
      "976\n",
      "Ghw 1952\n",
      "plink --bfile /home/vcabeli/Documents/data/BP_final/BP.B37-final --keep training_samples.keep --make-bed --out training_set\n",
      "plink --bfile training_set --extract L2_thresh_5_BP.extract --make-bed --out low_ld\n",
      "Wrote low_ld_pruned bed/bim/fam.\n",
      "smartpca.perl -i low_ld_pruned.bed -a low_ld_pruned.bim -b low_ld_pruned.fam -o low_ld_pruned.pca -p low_ld_pruned.plot -e low_ld_pruned.eval -l low_ld_pruned.log -k 4 -t 2 -m 0\n",
      "Wrote low_ld_pruned.cov\n",
      "plink --bfile training_set --logistic sex beta hide-covar --covar low_ld_pruned.cov --covar-name PC1-PC4 --out low_ld\n",
      "plink --bfile training_set --clump low_ld.assoc.logistic --clump-p1 1 --clump-p2 1 --clump-r2 0.2 --clump-kb 500 --out low_ld_clump \n",
      "218\n",
      "758\n"
     ]
    },
    {
     "name": "stderr",
     "output_type": "stream",
     "text": [
      "100%|██████████| 500/500 [00:26<00:00, 18.93it/s]\n"
     ]
    },
    {
     "name": "stdout",
     "output_type": "stream",
     "text": [
      "Wrote fct_SNP.pdf.\n"
     ]
    },
    {
     "data": {
      "image/png": "[encoded data removed]",
      "text/plain": [
       "<matplotlib.figure.Figure at 0x7f1c4bce7350>"
      ]
     },
     "metadata": {},
     "output_type": "display_data"
    }
   ],
   "source": [
    "snp_data, pheno = util.load_data(\"/home/vcabeli/Documents/data/BP_final/BP.B37-final\")\n",
    "n_iter = 10\n",
    "threshs = range(10, 70000, 140)\n",
    "thresh_LD = 5\n",
    "nb_pc_tot=5\n",
    "time = range(10,70000,140)\n",
    "time_pc = range(2,nb_pc_tot)\n",
    "col='bgrcmk'\n",
    "\n",
    "############\"\n",
    "auc_50 = np.zeros([nb_pc_tot-2,n_iter,len(threshs)])\n",
    "auc_100 = np.zeros([nb_pc_tot-2,n_iter,len(threshs)])\n",
    "auc_200 = np.zeros([nb_pc_tot-2,n_iter,len(threshs)])\n",
    "auc_500 = np.zeros([nb_pc_tot-2,n_iter,len(threshs)])\n",
    "auc_1000= np.zeros([nb_pc_tot-2,n_iter,len(threshs)])\n",
    "auc_2000= np.zeros([nb_pc_tot-2,n_iter,len(threshs)])\n",
    "###########PC\n",
    "for PC in range(2,nb_pc_tot):\n",
    "    print \"========================= {} PCs =========================\".format(PC)\n",
    "    print \"========================= {} SNPs =========================\".format(50)\n",
    "    auc_50[PC-2]=iterate_bis(snp_data, pheno,n_iter,threshs,thresh_LD,PC,50)\n",
    "    print \"========================= {} SNPs =========================\".format(100)\n",
    "    auc_100[PC-2]=iterate_bis(snp_data, pheno,n_iter,threshs,thresh_LD,PC,100)\n",
    "    print \"========================= {} SNPs =========================\".format(200)\n",
    "    auc_200[PC-2]=iterate_bis(snp_data, pheno,n_iter,threshs,thresh_LD,PC,200)\n",
    "    print \"========================= {} SNPs =========================\".format(500)\n",
    "    auc_500[PC-2]=iterate_bis(snp_data, pheno,n_iter,threshs,thresh_LD,PC,500)\n",
    "    print \"========================= {} SNPs =========================\".format(1000)\n",
    "    auc_1000[PC-2]=iterate_bis(snp_data, pheno,n_iter,threshs,thresh_LD,PC,1000)\n",
    "    print \"========================= {} SNPs =========================\".format(snp_data.shape[0])\n",
    "    auc_2000[PC-2]=iterate_bis(snp_data, pheno,n_iter,threshs,thresh_LD,PC,snp_data.shape[0])\n",
    "\n",
    "\n",
    "\n",
    "sns.tsplot(auc_50.mean(axis=(1,2)),time_pc,color=col[0],ci=[0,95], condition=\"SNP 50\")\n",
    "sns.tsplot(auc_100.mean(axis=(1,2)),time_pc,color=col[1],ci=[0,95], condition=\"SNP 100\")\n",
    "sns.tsplot(auc_200.mean(axis=(1,2)),time_pc,color=col[2],ci=[0,95], condition=\"SNP 200\")\n",
    "sns.tsplot(auc_500.mean(axis=(1,2)),time_pc,color=col[3],ci=[0,95], condition=\"SNP 500\")\n",
    "sns.tsplot(auc_1000.mean(axis=(1,2)),time_pc,color=col[4],ci=[0,95], condition=\"SNP 1000\")\n",
    "sns.tsplot(auc_2000.mean(axis=(1,2)),time_pc,color=col[5],ci=[0,95], condition=\"SNP 2000\")\n",
    "sns.plt.ylabel('AUC')\n",
    "sns.plt.xlabel('N PCs')\n",
    "sns.plt.savefig(\"fct_SNP.pdf\", format=\"pdf\")\n",
    "\n",
    "print \"Wrote {}.\".format(\"fct_SNP.pdf\")\n",
    "plt.show()\n"
   ]
  },
  {
   "cell_type": "code",
   "execution_count": 23,
   "metadata": {
    "collapsed": false
   },
   "outputs": [
    {
     "name": "stdout",
     "output_type": "stream",
     "text": [
      "Wrote fct_SNP.pdf.\n"
     ]
    },
    {
     "data": {
      "image/png": "[encoded data removed]",
      "text/plain": [
       "<matplotlib.figure.Figure at 0x7f1c4a904c10>"
      ]
     },
     "metadata": {},
     "output_type": "display_data"
    }
   ],
   "source": [
    "sns.tsplot(auc_50.mean(axis=(1,2)),time_pc,color=col[0],ci=[0,95], condition=\"SNP 50\")\n",
    "sns.tsplot(auc_100.mean(axis=(1,2)),time_pc,color=col[1],ci=[0,95], condition=\"SNP 100\")\n",
    "sns.tsplot(auc_200.mean(axis=(1,2)),time_pc,color=col[2],ci=[0,95], condition=\"SNP 200\")\n",
    "sns.tsplot(auc_500.mean(axis=(1,2)),time_pc,color=col[3],ci=[0,95], condition=\"SNP 500\")\n",
    "sns.tsplot(auc_1000.mean(axis=(1,2)),time_pc,color=col[4],ci=[0,95], condition=\"SNP 1000\")\n",
    "sns.tsplot(auc_2000.mean(axis=(1,2)),time_pc,color=col[5],ci=[0,95], condition=\"SNP 2000\")\n",
    "sns.plt.ylabel('AUC')\n",
    "sns.plt.xlabel('N PCs')\n",
    "sns.plt.savefig(\"fct_SNP.pdf\", format=\"pdf\")\n",
    "\n",
    "print \"Wrote {}.\".format(\"fct_SNP.pdf\")\n",
    "plt.show()"
   ]
  }
 ],
 "metadata": {
  "kernelspec": {
   "display_name": "Python 2",
   "language": "python",
   "name": "python2"
  },
  "language_info": {
   "codemirror_mode": {
    "name": "ipython",
    "version": 2
   },
   "file_extension": ".py",
   "mimetype": "text/x-python",
   "name": "python",
   "nbconvert_exporter": "python",
   "pygments_lexer": "ipython2",
   "version": "2.7.12"
  }
 },
 "nbformat": 4,
 "nbformat_minor": 2
}
