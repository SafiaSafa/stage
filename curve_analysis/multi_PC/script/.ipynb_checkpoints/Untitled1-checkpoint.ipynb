{
 "cells": [
  {
   "cell_type": "code",
   "execution_count": 3,
   "metadata": {
    "collapsed": false
   },
   "outputs": [],
   "source": [
    "# %load script.py\n",
    "#! /usr/bin/env python2\n",
    "\n",
    "\n",
    "# import module\n",
    "import os\n",
    "adress_abs = os.getcwd()\n",
    "import sys\n",
    "sys.path.append(adress_abs+\"/scripts\") # Contains \"util\" and \"Polygenic_score\" packages\n",
    "import util\n",
    "from Polygenic_score_BP import *\n",
    "\n",
    "import subprocess\n",
    "from tqdm import tqdm\n",
    "import numpy as np\n",
    "import pandas as pd\n",
    "import matplotlib.pyplot as plt\n",
    "import seaborn as sns\n",
    "import sklearn.metrics\n",
    "import re"
   ]
  },
  {
   "cell_type": "markdown",
   "metadata": {},
   "source": [
    "## Fonctions"
   ]
  },
  {
   "cell_type": "code",
   "execution_count": 4,
   "metadata": {
    "collapsed": true
   },
   "outputs": [],
   "source": [
    "def write_cov_file(pca_file,nb_pc):\n",
    "\n",
    "    cmd_sed = \"sed -i -e \\\"s/:/ /g\\\" -e \\\"s/\\s\\+/\\t/g\\\" -e \\\"s/^\\s\\+//g\\\" {}\".format(pca_file)\n",
    "    p = subprocess.Popen(cmd_sed, shell=True)\n",
    "    assert(p.wait()==0)\n",
    "    \n",
    "    cov_file = pca_file[:-9]+\".cov\"\n",
    "    a=\"\"\n",
    "    for i in range(nb_pc):\n",
    "        a=a+(\"\\tPC{}\".format(i+1))\n",
    "    \n",
    "\n",
    "    cmd_print = \"printf \\\"FID\\tIID{}\\n\\\" > {}\".format(a,cov_file)\n",
    "\n",
    "    p = subprocess.Popen(cmd_print, shell=True)\n",
    "    assert(p.wait()==0)\n",
    "\n",
    "    cmd_tail = \"tail -n+2 {} | cut -f1-{} >> {}\".format(pca_file, 2+nb_pc, cov_file) \n",
    "\n",
    "    #-n+2 récup lignes en commançant par le 2ème\n",
    "    #-f1-2+nb_pc résup les champs 1-nb_pc+2\n",
    "    \n",
    "    p = subprocess.Popen(cmd_tail, shell=True)\n",
    "    assert(p.wait()==0)\n",
    "    \n",
    "    print \"Wrote {}\".format(cov_file)"
   ]
  },
  {
   "cell_type": "code",
   "execution_count": 5,
   "metadata": {
    "collapsed": true
   },
   "outputs": [],
   "source": [
    "def save_strat(strat_file, strat):\n",
    "    pca_res = pd.read_table(strat_file, delim_whitespace=True, skiprows=1, header=None)\n",
    "    PCs_out = strat + \".PCs\"\n",
    "    with open(PCs_out, \"a\") as f:\n",
    "        f.write(', '.join(pca_res[0].values))\n",
    "        f.write('\\n')\n",
    "        f.write(str(pca_res[2].values.tolist())[1:-1])\n",
    "        f.write('\\n')\n",
    "        f.write(str(pca_res[3].values.tolist())[1:-1])\n",
    "        f.write('\\n')"
   ]
  },
  {
   "cell_type": "code",
   "execution_count": 6,
   "metadata": {
    "collapsed": true
   },
   "outputs": [],
   "source": [
    "def plink_prune(plink_bfile):\n",
    "\n",
    "    cmd_prune = \"\"\"plink --bfile {}      --exclude /home/vcabeli/Documents/data/high-LD-regions_37.txt           --range --indep-pairwise 50 5 0.2           --allow-extra-chr           --out {}\"\"\".format(plink_bfile, plink_bfile+\"_prune\")\n",
    "    p = subprocess.Popen(cmd_prune, shell=True)\n",
    "    assert(p.wait() == 0)\n",
    "\n",
    "    cmd_extract = \"\"\"plink --bfile {}           --extract {}           --allow-extra-chr           --chr 1-23           --make-bed           --out {}\"\"\".format(plink_bfile, plink_bfile + \"_prune.prune.in\", \n",
    "                             plink_bfile + \"_pruned\")\n",
    "    p = subprocess.Popen(cmd_extract, shell=True)\n",
    "    assert(p.wait() == 0)\n",
    "\n",
    "    print \"Wrote {} bed/bim/fam.\".format(plink_bfile + \"_pruned\")"
   ]
  },
  {
   "cell_type": "code",
   "execution_count": 16,
   "metadata": {
    "collapsed": true
   },
   "outputs": [],
   "source": [
    "def cov_file(file_name,training_sample_out,thresh_LD,k=2):   \n",
    "\n",
    "    #creer le fichier de covariables \n",
    "    cmd_keep_plink = \"plink --bfile {} --keep {} --make-bed --out {}\".format(\"/home/vcabeli/Documents/data/BP_final/BP.B37-final\",\n",
    "                                                                         training_sample_out,\n",
    "                                                                         \"training_set\")\n",
    "    print cmd_keep_plink\n",
    "    p = subprocess.Popen(cmd_keep_plink, shell=True)\n",
    "    p.wait()\n",
    "    cmd_extract_low_ld_snps = \"plink --bfile {} --extract {} --make-bed --out {}\".format(\"training_set\",\n",
    "                                                                                     \"L2_thresh_{}_BP.extract\".format(thresh_LD),\n",
    "                                                                                     file_name)\n",
    "    print cmd_extract_low_ld_snps\n",
    "    p = subprocess.Popen(cmd_extract_low_ld_snps, shell=True)\n",
    "    assert(p.wait()==0)\n",
    "\n",
    "    plink_prune(file_name)\n",
    "    #########################################PCA 1 ###########################\n",
    "    #k = nombrede PC\n",
    "    cmd_smart_pca2 = \"smartpca.perl -i {} -a {} -b {} -o {} -p {} -e {} -l {} -k {} -t {} -m {}\".format(\"{}_pruned.bed\".format(file_name),\n",
    "                                                                                                  \"{}_pruned.bim\".format(file_name),\n",
    "                                                                                                   \"{}_pruned.fam\".format(file_name),\n",
    "                                                                                                   \"{}_pruned.pca\".format(file_name),\n",
    "                                                                                                   \"{}_pruned.plot\".format(file_name),\n",
    "                                                                                                   \"{}_pruned.eval\".format(file_name),\n",
    "                                                                                                   \"{}_pruned.log\".format(file_name),\n",
    "                                                                                                   k, 2, 0)\n",
    "    print cmd_smart_pca2\n",
    "    p = subprocess.Popen(cmd_smart_pca2, shell=True)\n",
    "    p.wait()\n",
    "    #écriture fichier covariables\n",
    "    write_cov_file(\"{}_pruned.pca.evec\".format(file_name),k)\n",
    "    save_strat(\"{}_pruned.pca.evec\".format(file_name), \"low_ld{}\".format(thresh_LD)) #OUTPUT LINE\n",
    "    return(\"{}_pruned\".format(file_name))"
   ]
  },
  {
   "cell_type": "code",
   "execution_count": 17,
   "metadata": {
    "collapsed": false
   },
   "outputs": [],
   "source": [
    "def test(file_pca,n_iter,nb_pc):\n",
    "    threshs = range(10, 250140, 500)\n",
    "    threshs_clumped = range(10, 80000,300)\n",
    "    thresh_LD = 5 \n",
    "\n",
    "    snp_data, pheno = util.load_data(\"/home/vcabeli/Documents/data/BP_final/BP.B37-final\")\n",
    "    pheno['bp_type'] = np.zeros(snp_data.row_count)\n",
    "    \n",
    "    logistic_res = pd.read_table(\"/home/vcabeli/Documents/analyses_current/assoc/genotyped/class_logistic..assoc.logistic\",\n",
    "                             delim_whitespace=True)\n",
    "    logistic_res = logistic_res[logistic_res.TEST == \"ADD\"]\n",
    "    logistic_res.reset_index(drop=True, inplace=True)\n",
    "\n",
    "    res_hw_pval_sign = np.zeros([n_iter, len(threshs)])\n",
    "\n",
    "    for iteration in range(n_iter):\n",
    "\n",
    "        print \"=========================Iteration {}=========================\".format(iteration)\n",
    "\n",
    "        train_idces = np.random.choice(np.arange(snp_data.row_count), size=int(snp_data.row_count*0.5), replace=False)\n",
    "        test_idces = np.setdiff1d(np.arange(snp_data.row_count), train_idces, assume_unique=True)\n",
    "\n",
    "        stats_sets = pd.DataFrame(index= ['Training', 'Test'],\n",
    "                                  columns=['n_controls', 'n_cases', 'n_bp1', 'n_bp2'])\n",
    "\n",
    "        for i, idces in enumerate([train_idces, test_idces]):\n",
    "            stats_sets.iloc[i]['n_controls'] = np.count_nonzero([pheno['vals'][j] == 1 for j in idces])\n",
    "            stats_sets.iloc[i]['n_cases'] = np.count_nonzero([pheno['vals'][j] == 2 for j in idces])\n",
    "            stats_sets.iloc[i]['n_bp1'] = np.count_nonzero(pheno['bp_type'][idces] == 1)\n",
    "            stats_sets.iloc[i]['n_bp2'] = np.count_nonzero(pheno['bp_type'][idces] == 2)\n",
    "\n",
    "\n",
    "\n",
    "\n",
    "        training_sample_out = \"training_samples.keep\"\n",
    "\n",
    "        with open(training_sample_out, 'w') as f:\n",
    "            for i in train_idces:\n",
    "                f.write(pheno['iid'][i][0] + \"\\t\" + pheno['iid'][i][1])\n",
    "                f.write(\"\\n\")\n",
    "\n",
    "        file_cov = cov_file(file_pca, training_sample_out,thresh_LD, nb_pc)\n",
    "                \n",
    "        G_hw = snp_data.val.copy()\n",
    "\n",
    "        MAFs = np.nansum(2-G_hw, axis=0, ) / (np.count_nonzero(~np.isnan(G_hw), axis=0) * 2)\n",
    "        # ## Classical polygenic score : pvalue threshold, logistic $\\beta$s\n",
    "        #\n",
    "        # Where SNP selection is based on their logitic association test p-value and weights are the $\\beta$s.\n",
    "\n",
    "\n",
    "\n",
    "\n",
    "        cmd_plink = \"plink --bfile {} --keep {} --logistic sex beta --covar {} --hide-covar --out {}\".format(\"/home/vcabeli/Documents/data/BP_final/BP.B37-final\",\n",
    "                                                                                                             training_sample_out,\n",
    "                                                                                                             \"{}.cov\".format(file_cov),\n",
    "                                                                                                             \"train_log\")\n",
    "\n",
    "        print cmd_plink\n",
    "        p = subprocess.Popen(cmd_plink, shell=True)\n",
    "        p.wait()\n",
    "\n",
    "        train_res = pd.read_table(\"train_log.assoc.logistic\", delim_whitespace=True)\n",
    "        assert(np.all(logistic_res.SNP == train_res.SNP))\n",
    "\n",
    "\n",
    "\n",
    "        util.control_idces = [i for i in train_idces if pheno['vals'][i] == 1]\n",
    "        util.case_idces = [i for i in train_idces if pheno['vals'][i] == 2]\n",
    "\n",
    "\n",
    "\n",
    "\n",
    "\n",
    "\n",
    "        sorted_snps_pval = np.argsort(train_res.P.values)\n",
    "\n",
    "\n",
    "\n",
    "\n",
    "        # ## Coded genotyped\n",
    "        #\n",
    "        # Under Hardy-Weinberg equilibrium, $G_i = \\frac{(X_i - 2 f_i)}{\\sqrt{2fi(1-fi)}}$ where $X_i$ is the number of minor alleles and $f_i$ the minor allele frequency.\n",
    "\n",
    "\n",
    "        ttest_test = polygen_score_sign(G_hw, sorted_snps_pval,\n",
    "                                        threshs,\n",
    "                                        test_idces, pheno,\n",
    "                                        train_res.BETA)\n",
    "\n",
    "\n",
    "\n",
    "\n",
    "        res_hw_pval_sign[iteration] = ttest_test\n",
    "\n",
    "\n",
    "\n",
    "\n",
    "\n",
    "    return(res_hw_pval_sign)\n"
   ]
  },
  {
   "cell_type": "markdown",
   "metadata": {},
   "source": [
    "## Main"
   ]
  },
  {
   "cell_type": "code",
   "execution_count": 50,
   "metadata": {
    "collapsed": false
   },
   "outputs": [
    {
     "name": "stderr",
     "output_type": "stream",
     "text": [
      "WARNING:root:loadPhen is using default missing value of '-9'.\n"
     ]
    },
    {
     "name": "stdout",
     "output_type": "stream",
     "text": [
      "==============================================PC===========================================================\n",
      "Using last column in .fam file as phenotype.\n",
      "\tConsidering phenotype as a plink binary 1/2.\n",
      "\tFound 427 cases and 1525 controls.\n",
      "Loaded 1952 samples and 250140 SNPs.\n",
      "=========================Iteration 0=========================\n",
      "plink --bfile /home/vcabeli/Documents/data/BP_final/BP.B37-final --keep training_samples.keep --make-bed --out training_set\n",
      "plink --bfile training_set --extract L2_thresh_5_BP.extract --make-bed --out PCA3\n",
      "Wrote PCA3_pruned bed/bim/fam.\n",
      "smartpca.perl -i PCA3_pruned.bed -a PCA3_pruned.bim -b PCA3_pruned.fam -o PCA3_pruned.pca -p PCA3_pruned.plot -e PCA3_pruned.eval -l PCA3_pruned.log -k 3 -t 2 -m 0\n",
      "Wrote PCA3_pruned.cov\n",
      "plink --bfile /home/vcabeli/Documents/data/BP_final/BP.B37-final --keep training_samples.keep --logistic sex beta --covar PCA3_pruned.cov --hide-covar --out train_log\n"
     ]
    },
    {
     "name": "stderr",
     "output_type": "stream",
     "text": [
      "100%|██████████| 501/501 [00:27<00:00, 18.23it/s]\n"
     ]
    },
    {
     "name": "stdout",
     "output_type": "stream",
     "text": [
      "=========================Iteration 1=========================\n",
      "plink --bfile /home/vcabeli/Documents/data/BP_final/BP.B37-final --keep training_samples.keep --make-bed --out training_set\n",
      "plink --bfile training_set --extract L2_thresh_5_BP.extract --make-bed --out PCA3\n",
      "Wrote PCA3_pruned bed/bim/fam.\n",
      "smartpca.perl -i PCA3_pruned.bed -a PCA3_pruned.bim -b PCA3_pruned.fam -o PCA3_pruned.pca -p PCA3_pruned.plot -e PCA3_pruned.eval -l PCA3_pruned.log -k 3 -t 2 -m 0\n",
      "Wrote PCA3_pruned.cov\n",
      "plink --bfile /home/vcabeli/Documents/data/BP_final/BP.B37-final --keep training_samples.keep --logistic sex beta --covar PCA3_pruned.cov --hide-covar --out train_log\n"
     ]
    },
    {
     "name": "stderr",
     "output_type": "stream",
     "text": [
      "100%|██████████| 501/501 [00:26<00:00, 18.97it/s]\n"
     ]
    },
    {
     "name": "stdout",
     "output_type": "stream",
     "text": [
      "=========================Iteration 2=========================\n",
      "plink --bfile /home/vcabeli/Documents/data/BP_final/BP.B37-final --keep training_samples.keep --make-bed --out training_set\n",
      "plink --bfile training_set --extract L2_thresh_5_BP.extract --make-bed --out PCA3\n",
      "Wrote PCA3_pruned bed/bim/fam.\n",
      "smartpca.perl -i PCA3_pruned.bed -a PCA3_pruned.bim -b PCA3_pruned.fam -o PCA3_pruned.pca -p PCA3_pruned.plot -e PCA3_pruned.eval -l PCA3_pruned.log -k 3 -t 2 -m 0\n",
      "Wrote PCA3_pruned.cov\n",
      "plink --bfile /home/vcabeli/Documents/data/BP_final/BP.B37-final --keep training_samples.keep --logistic sex beta --covar PCA3_pruned.cov --hide-covar --out train_log\n"
     ]
    },
    {
     "name": "stderr",
     "output_type": "stream",
     "text": [
      "100%|██████████| 501/501 [00:26<00:00, 18.96it/s]\n"
     ]
    },
    {
     "name": "stdout",
     "output_type": "stream",
     "text": [
      "=========================Iteration 3=========================\n",
      "plink --bfile /home/vcabeli/Documents/data/BP_final/BP.B37-final --keep training_samples.keep --make-bed --out training_set\n",
      "plink --bfile training_set --extract L2_thresh_5_BP.extract --make-bed --out PCA3\n",
      "Wrote PCA3_pruned bed/bim/fam.\n",
      "smartpca.perl -i PCA3_pruned.bed -a PCA3_pruned.bim -b PCA3_pruned.fam -o PCA3_pruned.pca -p PCA3_pruned.plot -e PCA3_pruned.eval -l PCA3_pruned.log -k 3 -t 2 -m 0\n",
      "Wrote PCA3_pruned.cov\n",
      "plink --bfile /home/vcabeli/Documents/data/BP_final/BP.B37-final --keep training_samples.keep --logistic sex beta --covar PCA3_pruned.cov --hide-covar --out train_log\n"
     ]
    },
    {
     "name": "stderr",
     "output_type": "stream",
     "text": [
      "100%|██████████| 501/501 [00:26<00:00, 19.07it/s]\n"
     ]
    },
    {
     "name": "stdout",
     "output_type": "stream",
     "text": [
      "=========================Iteration 4=========================\n",
      "plink --bfile /home/vcabeli/Documents/data/BP_final/BP.B37-final --keep training_samples.keep --make-bed --out training_set\n",
      "plink --bfile training_set --extract L2_thresh_5_BP.extract --make-bed --out PCA3\n",
      "Wrote PCA3_pruned bed/bim/fam.\n",
      "smartpca.perl -i PCA3_pruned.bed -a PCA3_pruned.bim -b PCA3_pruned.fam -o PCA3_pruned.pca -p PCA3_pruned.plot -e PCA3_pruned.eval -l PCA3_pruned.log -k 3 -t 2 -m 0\n",
      "Wrote PCA3_pruned.cov\n",
      "plink --bfile /home/vcabeli/Documents/data/BP_final/BP.B37-final --keep training_samples.keep --logistic sex beta --covar PCA3_pruned.cov --hide-covar --out train_log\n"
     ]
    },
    {
     "name": "stderr",
     "output_type": "stream",
     "text": [
      "100%|██████████| 501/501 [00:26<00:00, 18.88it/s]\n"
     ]
    },
    {
     "name": "stdout",
     "output_type": "stream",
     "text": [
      "=========================Iteration 5=========================\n",
      "plink --bfile /home/vcabeli/Documents/data/BP_final/BP.B37-final --keep training_samples.keep --make-bed --out training_set\n",
      "plink --bfile training_set --extract L2_thresh_5_BP.extract --make-bed --out PCA3\n",
      "Wrote PCA3_pruned bed/bim/fam.\n",
      "smartpca.perl -i PCA3_pruned.bed -a PCA3_pruned.bim -b PCA3_pruned.fam -o PCA3_pruned.pca -p PCA3_pruned.plot -e PCA3_pruned.eval -l PCA3_pruned.log -k 3 -t 2 -m 0\n",
      "Wrote PCA3_pruned.cov\n",
      "plink --bfile /home/vcabeli/Documents/data/BP_final/BP.B37-final --keep training_samples.keep --logistic sex beta --covar PCA3_pruned.cov --hide-covar --out train_log\n"
     ]
    },
    {
     "name": "stderr",
     "output_type": "stream",
     "text": [
      "100%|██████████| 501/501 [00:26<00:00, 18.90it/s]\n"
     ]
    },
    {
     "name": "stdout",
     "output_type": "stream",
     "text": [
      "=========================Iteration 6=========================\n",
      "plink --bfile /home/vcabeli/Documents/data/BP_final/BP.B37-final --keep training_samples.keep --make-bed --out training_set\n",
      "plink --bfile training_set --extract L2_thresh_5_BP.extract --make-bed --out PCA3\n",
      "Wrote PCA3_pruned bed/bim/fam.\n",
      "smartpca.perl -i PCA3_pruned.bed -a PCA3_pruned.bim -b PCA3_pruned.fam -o PCA3_pruned.pca -p PCA3_pruned.plot -e PCA3_pruned.eval -l PCA3_pruned.log -k 3 -t 2 -m 0\n",
      "Wrote PCA3_pruned.cov\n",
      "plink --bfile /home/vcabeli/Documents/data/BP_final/BP.B37-final --keep training_samples.keep --logistic sex beta --covar PCA3_pruned.cov --hide-covar --out train_log\n"
     ]
    },
    {
     "name": "stderr",
     "output_type": "stream",
     "text": [
      "100%|██████████| 501/501 [00:26<00:00, 18.60it/s]\n"
     ]
    },
    {
     "name": "stdout",
     "output_type": "stream",
     "text": [
      "=========================Iteration 7=========================\n",
      "plink --bfile /home/vcabeli/Documents/data/BP_final/BP.B37-final --keep training_samples.keep --make-bed --out training_set\n",
      "plink --bfile training_set --extract L2_thresh_5_BP.extract --make-bed --out PCA3\n",
      "Wrote PCA3_pruned bed/bim/fam.\n",
      "smartpca.perl -i PCA3_pruned.bed -a PCA3_pruned.bim -b PCA3_pruned.fam -o PCA3_pruned.pca -p PCA3_pruned.plot -e PCA3_pruned.eval -l PCA3_pruned.log -k 3 -t 2 -m 0\n",
      "Wrote PCA3_pruned.cov\n",
      "plink --bfile /home/vcabeli/Documents/data/BP_final/BP.B37-final --keep training_samples.keep --logistic sex beta --covar PCA3_pruned.cov --hide-covar --out train_log\n"
     ]
    },
    {
     "name": "stderr",
     "output_type": "stream",
     "text": [
      "100%|██████████| 501/501 [00:26<00:00, 18.68it/s]\n"
     ]
    },
    {
     "name": "stdout",
     "output_type": "stream",
     "text": [
      "=========================Iteration 8=========================\n",
      "plink --bfile /home/vcabeli/Documents/data/BP_final/BP.B37-final --keep training_samples.keep --make-bed --out training_set\n",
      "plink --bfile training_set --extract L2_thresh_5_BP.extract --make-bed --out PCA3\n",
      "Wrote PCA3_pruned bed/bim/fam.\n",
      "smartpca.perl -i PCA3_pruned.bed -a PCA3_pruned.bim -b PCA3_pruned.fam -o PCA3_pruned.pca -p PCA3_pruned.plot -e PCA3_pruned.eval -l PCA3_pruned.log -k 3 -t 2 -m 0\n",
      "Wrote PCA3_pruned.cov\n",
      "plink --bfile /home/vcabeli/Documents/data/BP_final/BP.B37-final --keep training_samples.keep --logistic sex beta --covar PCA3_pruned.cov --hide-covar --out train_log\n"
     ]
    },
    {
     "name": "stderr",
     "output_type": "stream",
     "text": [
      "100%|██████████| 501/501 [00:26<00:00, 18.96it/s]\n"
     ]
    },
    {
     "name": "stdout",
     "output_type": "stream",
     "text": [
      "=========================Iteration 9=========================\n",
      "plink --bfile /home/vcabeli/Documents/data/BP_final/BP.B37-final --keep training_samples.keep --make-bed --out training_set\n",
      "plink --bfile training_set --extract L2_thresh_5_BP.extract --make-bed --out PCA3\n",
      "Wrote PCA3_pruned bed/bim/fam.\n",
      "smartpca.perl -i PCA3_pruned.bed -a PCA3_pruned.bim -b PCA3_pruned.fam -o PCA3_pruned.pca -p PCA3_pruned.plot -e PCA3_pruned.eval -l PCA3_pruned.log -k 3 -t 2 -m 0\n",
      "Wrote PCA3_pruned.cov\n",
      "plink --bfile /home/vcabeli/Documents/data/BP_final/BP.B37-final --keep training_samples.keep --logistic sex beta --covar PCA3_pruned.cov --hide-covar --out train_log\n"
     ]
    },
    {
     "name": "stderr",
     "output_type": "stream",
     "text": [
      "100%|██████████| 501/501 [00:26<00:00, 18.94it/s]\n",
      "WARNING:root:loadPhen is using default missing value of '-9'.\n"
     ]
    },
    {
     "name": "stdout",
     "output_type": "stream",
     "text": [
      "==============================================PC===========================================================\n",
      "Using last column in .fam file as phenotype.\n",
      "\tConsidering phenotype as a plink binary 1/2.\n",
      "\tFound 427 cases and 1525 controls.\n",
      "Loaded 1952 samples and 250140 SNPs.\n",
      "=========================Iteration 0=========================\n",
      "plink --bfile /home/vcabeli/Documents/data/BP_final/BP.B37-final --keep training_samples.keep --make-bed --out training_set\n",
      "plink --bfile training_set --extract L2_thresh_5_BP.extract --make-bed --out PCA5\n",
      "Wrote PCA5_pruned bed/bim/fam.\n",
      "smartpca.perl -i PCA5_pruned.bed -a PCA5_pruned.bim -b PCA5_pruned.fam -o PCA5_pruned.pca -p PCA5_pruned.plot -e PCA5_pruned.eval -l PCA5_pruned.log -k 5 -t 2 -m 0\n",
      "Wrote PCA5_pruned.cov\n",
      "plink --bfile /home/vcabeli/Documents/data/BP_final/BP.B37-final --keep training_samples.keep --logistic sex beta --covar PCA5_pruned.cov --hide-covar --out train_log\n"
     ]
    },
    {
     "name": "stderr",
     "output_type": "stream",
     "text": [
      "100%|██████████| 501/501 [00:26<00:00, 19.21it/s]\n"
     ]
    },
    {
     "name": "stdout",
     "output_type": "stream",
     "text": [
      "=========================Iteration 1=========================\n",
      "plink --bfile /home/vcabeli/Documents/data/BP_final/BP.B37-final --keep training_samples.keep --make-bed --out training_set\n",
      "plink --bfile training_set --extract L2_thresh_5_BP.extract --make-bed --out PCA5\n",
      "Wrote PCA5_pruned bed/bim/fam.\n",
      "smartpca.perl -i PCA5_pruned.bed -a PCA5_pruned.bim -b PCA5_pruned.fam -o PCA5_pruned.pca -p PCA5_pruned.plot -e PCA5_pruned.eval -l PCA5_pruned.log -k 5 -t 2 -m 0\n",
      "Wrote PCA5_pruned.cov\n",
      "plink --bfile /home/vcabeli/Documents/data/BP_final/BP.B37-final --keep training_samples.keep --logistic sex beta --covar PCA5_pruned.cov --hide-covar --out train_log\n"
     ]
    },
    {
     "name": "stderr",
     "output_type": "stream",
     "text": [
      "100%|██████████| 501/501 [07:12<00:00,  1.16it/s]  \n"
     ]
    },
    {
     "name": "stdout",
     "output_type": "stream",
     "text": [
      "=========================Iteration 2=========================\n",
      "plink --bfile /home/vcabeli/Documents/data/BP_final/BP.B37-final --keep training_samples.keep --make-bed --out training_set\n",
      "plink --bfile training_set --extract L2_thresh_5_BP.extract --make-bed --out PCA5\n",
      "Wrote PCA5_pruned bed/bim/fam.\n",
      "smartpca.perl -i PCA5_pruned.bed -a PCA5_pruned.bim -b PCA5_pruned.fam -o PCA5_pruned.pca -p PCA5_pruned.plot -e PCA5_pruned.eval -l PCA5_pruned.log -k 5 -t 2 -m 0\n",
      "Wrote PCA5_pruned.cov\n",
      "plink --bfile /home/vcabeli/Documents/data/BP_final/BP.B37-final --keep training_samples.keep --logistic sex beta --covar PCA5_pruned.cov --hide-covar --out train_log\n"
     ]
    },
    {
     "name": "stderr",
     "output_type": "stream",
     "text": [
      "100%|██████████| 501/501 [00:26<00:00, 18.75it/s]\n"
     ]
    },
    {
     "name": "stdout",
     "output_type": "stream",
     "text": [
      "=========================Iteration 3=========================\n",
      "plink --bfile /home/vcabeli/Documents/data/BP_final/BP.B37-final --keep training_samples.keep --make-bed --out training_set\n",
      "plink --bfile training_set --extract L2_thresh_5_BP.extract --make-bed --out PCA5\n",
      "Wrote PCA5_pruned bed/bim/fam.\n",
      "smartpca.perl -i PCA5_pruned.bed -a PCA5_pruned.bim -b PCA5_pruned.fam -o PCA5_pruned.pca -p PCA5_pruned.plot -e PCA5_pruned.eval -l PCA5_pruned.log -k 5 -t 2 -m 0\n",
      "Wrote PCA5_pruned.cov\n",
      "plink --bfile /home/vcabeli/Documents/data/BP_final/BP.B37-final --keep training_samples.keep --logistic sex beta --covar PCA5_pruned.cov --hide-covar --out train_log\n"
     ]
    },
    {
     "name": "stderr",
     "output_type": "stream",
     "text": [
      "100%|██████████| 501/501 [00:26<00:00, 18.80it/s]\n"
     ]
    },
    {
     "name": "stdout",
     "output_type": "stream",
     "text": [
      "=========================Iteration 4=========================\n",
      "plink --bfile /home/vcabeli/Documents/data/BP_final/BP.B37-final --keep training_samples.keep --make-bed --out training_set\n",
      "plink --bfile training_set --extract L2_thresh_5_BP.extract --make-bed --out PCA5\n",
      "Wrote PCA5_pruned bed/bim/fam.\n",
      "smartpca.perl -i PCA5_pruned.bed -a PCA5_pruned.bim -b PCA5_pruned.fam -o PCA5_pruned.pca -p PCA5_pruned.plot -e PCA5_pruned.eval -l PCA5_pruned.log -k 5 -t 2 -m 0\n",
      "Wrote PCA5_pruned.cov\n",
      "plink --bfile /home/vcabeli/Documents/data/BP_final/BP.B37-final --keep training_samples.keep --logistic sex beta --covar PCA5_pruned.cov --hide-covar --out train_log\n"
     ]
    },
    {
     "name": "stderr",
     "output_type": "stream",
     "text": [
      "100%|██████████| 501/501 [00:26<00:00, 18.67it/s]\n"
     ]
    },
    {
     "name": "stdout",
     "output_type": "stream",
     "text": [
      "=========================Iteration 5=========================\n",
      "plink --bfile /home/vcabeli/Documents/data/BP_final/BP.B37-final --keep training_samples.keep --make-bed --out training_set\n",
      "plink --bfile training_set --extract L2_thresh_5_BP.extract --make-bed --out PCA5\n",
      "Wrote PCA5_pruned bed/bim/fam.\n",
      "smartpca.perl -i PCA5_pruned.bed -a PCA5_pruned.bim -b PCA5_pruned.fam -o PCA5_pruned.pca -p PCA5_pruned.plot -e PCA5_pruned.eval -l PCA5_pruned.log -k 5 -t 2 -m 0\n",
      "Wrote PCA5_pruned.cov\n",
      "plink --bfile /home/vcabeli/Documents/data/BP_final/BP.B37-final --keep training_samples.keep --logistic sex beta --covar PCA5_pruned.cov --hide-covar --out train_log\n"
     ]
    },
    {
     "name": "stderr",
     "output_type": "stream",
     "text": [
      "100%|██████████| 501/501 [00:26<00:00, 18.62it/s]\n"
     ]
    },
    {
     "name": "stdout",
     "output_type": "stream",
     "text": [
      "=========================Iteration 6=========================\n",
      "plink --bfile /home/vcabeli/Documents/data/BP_final/BP.B37-final --keep training_samples.keep --make-bed --out training_set\n",
      "plink --bfile training_set --extract L2_thresh_5_BP.extract --make-bed --out PCA5\n",
      "Wrote PCA5_pruned bed/bim/fam.\n",
      "smartpca.perl -i PCA5_pruned.bed -a PCA5_pruned.bim -b PCA5_pruned.fam -o PCA5_pruned.pca -p PCA5_pruned.plot -e PCA5_pruned.eval -l PCA5_pruned.log -k 5 -t 2 -m 0\n",
      "Wrote PCA5_pruned.cov\n",
      "plink --bfile /home/vcabeli/Documents/data/BP_final/BP.B37-final --keep training_samples.keep --logistic sex beta --covar PCA5_pruned.cov --hide-covar --out train_log\n"
     ]
    },
    {
     "name": "stderr",
     "output_type": "stream",
     "text": [
      "100%|██████████| 501/501 [00:26<00:00, 18.91it/s]\n"
     ]
    },
    {
     "name": "stdout",
     "output_type": "stream",
     "text": [
      "=========================Iteration 7=========================\n",
      "plink --bfile /home/vcabeli/Documents/data/BP_final/BP.B37-final --keep training_samples.keep --make-bed --out training_set\n",
      "plink --bfile training_set --extract L2_thresh_5_BP.extract --make-bed --out PCA5\n",
      "Wrote PCA5_pruned bed/bim/fam.\n",
      "smartpca.perl -i PCA5_pruned.bed -a PCA5_pruned.bim -b PCA5_pruned.fam -o PCA5_pruned.pca -p PCA5_pruned.plot -e PCA5_pruned.eval -l PCA5_pruned.log -k 5 -t 2 -m 0\n",
      "Wrote PCA5_pruned.cov\n",
      "plink --bfile /home/vcabeli/Documents/data/BP_final/BP.B37-final --keep training_samples.keep --logistic sex beta --covar PCA5_pruned.cov --hide-covar --out train_log\n"
     ]
    },
    {
     "name": "stderr",
     "output_type": "stream",
     "text": [
      "100%|██████████| 501/501 [00:26<00:00, 19.07it/s]\n"
     ]
    },
    {
     "name": "stdout",
     "output_type": "stream",
     "text": [
      "=========================Iteration 8=========================\n",
      "plink --bfile /home/vcabeli/Documents/data/BP_final/BP.B37-final --keep training_samples.keep --make-bed --out training_set\n",
      "plink --bfile training_set --extract L2_thresh_5_BP.extract --make-bed --out PCA5\n",
      "Wrote PCA5_pruned bed/bim/fam.\n",
      "smartpca.perl -i PCA5_pruned.bed -a PCA5_pruned.bim -b PCA5_pruned.fam -o PCA5_pruned.pca -p PCA5_pruned.plot -e PCA5_pruned.eval -l PCA5_pruned.log -k 5 -t 2 -m 0\n",
      "Wrote PCA5_pruned.cov\n",
      "plink --bfile /home/vcabeli/Documents/data/BP_final/BP.B37-final --keep training_samples.keep --logistic sex beta --covar PCA5_pruned.cov --hide-covar --out train_log\n"
     ]
    },
    {
     "name": "stderr",
     "output_type": "stream",
     "text": [
      "100%|██████████| 501/501 [00:26<00:00, 18.82it/s]\n"
     ]
    },
    {
     "name": "stdout",
     "output_type": "stream",
     "text": [
      "=========================Iteration 9=========================\n",
      "plink --bfile /home/vcabeli/Documents/data/BP_final/BP.B37-final --keep training_samples.keep --make-bed --out training_set\n",
      "plink --bfile training_set --extract L2_thresh_5_BP.extract --make-bed --out PCA5\n",
      "Wrote PCA5_pruned bed/bim/fam.\n",
      "smartpca.perl -i PCA5_pruned.bed -a PCA5_pruned.bim -b PCA5_pruned.fam -o PCA5_pruned.pca -p PCA5_pruned.plot -e PCA5_pruned.eval -l PCA5_pruned.log -k 5 -t 2 -m 0\n",
      "Wrote PCA5_pruned.cov\n",
      "plink --bfile /home/vcabeli/Documents/data/BP_final/BP.B37-final --keep training_samples.keep --logistic sex beta --covar PCA5_pruned.cov --hide-covar --out train_log\n"
     ]
    },
    {
     "name": "stderr",
     "output_type": "stream",
     "text": [
      "100%|██████████| 501/501 [00:26<00:00, 18.79it/s]\n"
     ]
    }
   ],
   "source": [
    "n_iter = 10\n",
    "\n",
    "print \"==============================================PC===========================================================\"\n",
    "res_pval_3=test(\"PCA3\",n_iter,3)\n",
    "\n",
    "print \"==============================================PC===========================================================\"\n",
    "res_pval_5=test(\"PCA5\",n_iter,5)"
   ]
  },
  {
   "cell_type": "code",
   "execution_count": 59,
   "metadata": {
    "collapsed": false
   },
   "outputs": [
    {
     "name": "stdout",
     "output_type": "stream",
     "text": [
      "[[ 0.51334053  0.51996664  0.51656855 ...,  0.47906201  0.47904893\n",
      "   0.47904239]\n",
      " [ 0.45920578  0.49856576  0.49956428 ...,  0.44629154  0.44627944\n",
      "   0.4462976 ]\n",
      " [ 0.49519708  0.48121129  0.45723361 ...,  0.43680419  0.43682122\n",
      "   0.43682122]\n",
      " ..., \n",
      " [ 0.49487279  0.46526625  0.45677385 ...,  0.48048305  0.48049504\n",
      "   0.48050703]\n",
      " [ 0.5006566   0.47894023  0.4850282  ...,  0.44281789  0.44282395\n",
      "   0.44282395]\n",
      " [ 0.50805571  0.44806162  0.45689244 ...,  0.45893729  0.45892522\n",
      "   0.45892522]]\n",
      "Wrote test.pdf.\n"
     ]
    },
    {
     "data": {
      "image/png": "[encoded data removed]",
      "text/plain": [
       "<matplotlib.figure.Figure at 0x7f81f6a72110>"
      ]
     },
     "metadata": {},
     "output_type": "display_data"
    }
   ],
   "source": [
    "res_pval = res_pval_3\n",
    "res_pval_2 = res_pval_5\n",
    "print(res_pval)\n",
    "time = range(10, 250140, 500)\n",
    "for i in range(len(time)):\n",
    "    res_pval[res_pval[:,i] == 0,i] = np.nan\n",
    "    res_pval[np.isnan(res_pval[:,i]),i] = np.nanmedian(res_pval[:,i])\n",
    "    \n",
    "    res_pval_2[res_pval_2[:,i] == 0,i] = np.nan\n",
    "    res_pval_2[np.isnan(res_pval_2[:,i]),i] = np.nanmedian(res_pval_2[:,i])\n",
    "\n",
    "\n",
    "sns.tsplot(np.power(res_pval,1),color='b',ci=[0,95],time=time, condition=\"PC3\")\n",
    "sns.tsplot(np.power(res_pval_2,1),color='g',ci=[0,95],time=time, condition=\"PC5\")\n",
    "sns.plt.ylabel('AUC')\n",
    "sns.plt.xlabel('N SNPs')\n",
    "sns.plt.savefig(\"test.pdf\", format=\"pdf\")\n",
    "\n",
    "print \"Wrote {}.\".format(\"test.pdf\")\n",
    "\n",
    "plt.show()"
   ]
  }
 ],
 "metadata": {
  "kernelspec": {
   "display_name": "Python 2",
   "language": "python",
   "name": "python2"
  },
  "language_info": {
   "codemirror_mode": {
    "name": "ipython",
    "version": 2
   },
   "file_extension": ".py",
   "mimetype": "text/x-python",
   "name": "python",
   "nbconvert_exporter": "python",
   "pygments_lexer": "ipython2",
   "version": "2.7.12"
  }
 },
 "nbformat": 4,
 "nbformat_minor": 2
}
