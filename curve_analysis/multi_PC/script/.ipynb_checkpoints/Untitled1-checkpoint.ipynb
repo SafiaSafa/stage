{
 "cells": [
  {
   "cell_type": "code",
   "execution_count": 1,
   "metadata": {
    "collapsed": false
   },
   "outputs": [
    {
     "name": "stderr",
     "output_type": "stream",
     "text": [
      "/usr/local/lib/python2.7/dist-packages/IPython/html.py:14: ShimWarning: The `IPython.html` package has been deprecated. You should import from `notebook` instead. `IPython.html.widgets` has moved to `ipywidgets`.\n",
      "  \"`IPython.html.widgets` has moved to `ipywidgets`.\", ShimWarning)\n"
     ]
    }
   ],
   "source": [
    "# %load script.py\n",
    "#! /usr/bin/env python2\n",
    "\n",
    "\n",
    "# import module\n",
    "import os\n",
    "adress_abs = os.getcwd()\n",
    "import sys\n",
    "sys.path.append(adress_abs+\"/scripts\") # Contains \"util\" and \"Polygenic_score\" packages\n",
    "import util\n",
    "from Polygenic_score import *\n",
    "\n",
    "import subprocess\n",
    "from tqdm import tqdm\n",
    "import numpy as np\n",
    "import pandas as pd\n",
    "import matplotlib.pyplot as plt\n",
    "import seaborn as sns\n",
    "import sklearn.metrics\n",
    "import re"
   ]
  },
  {
   "cell_type": "markdown",
   "metadata": {},
   "source": [
    "## Fonctions"
   ]
  },
  {
   "cell_type": "code",
   "execution_count": 3,
   "metadata": {
    "collapsed": true
   },
   "outputs": [],
   "source": [
    "def clump_sorted_snps(bfile, assoc_file, snp_values, sorted_snps):\n",
    "\n",
    "    clump_out = assoc_file[:assoc_file.index(\".assoc\")] + \"_clump\"\n",
    "    cmd_plink_clump = \"plink --bfile {} --clump {} --clump-p1 1 --clump-p2 1 --clump-r2 0.2 --clump-kb 500 --out {} \".format(bfile,\n",
    "            assoc_file,\n",
    "            clump_out)\n",
    "    print cmd_plink_clump\n",
    "    p = subprocess.Popen(cmd_plink_clump, shell=True)\n",
    "    p.wait()\n",
    "\n",
    "    clumped_res = pd.read_table(clump_out+\".clumped\", delim_whitespace=True)\n",
    "    clumped_snps = set(clumped_res.SNP)\n",
    "\n",
    "    clumped_sorted_snps = np.array([i for i in sorted_snps if snp_values[i] in clumped_snps])\n",
    "    return clumped_sorted_snps\n"
   ]
  },
  {
   "cell_type": "code",
   "execution_count": 62,
   "metadata": {
    "collapsed": true
   },
   "outputs": [],
   "source": [
    "def write_cov_file(pca_file):\n",
    "\n",
    "    cmd_sed = \"sed -i -e \\\"s/:/ /g\\\" -e \\\"s/\\s\\+/\\t/g\\\" -e \\\"s/^\\s\\+//g\\\" {}\".format(pca_file)\n",
    "    p = subprocess.Popen(cmd_sed, shell=True)\n",
    "    assert(p.wait()==0)\n",
    "    \n",
    "    cov_file = pca_file[:-9]+\".cov\"\n",
    "    cmd_print = \"printf \\\"FID\\tIID\\tPC1\\tPC2\\n\\\" > {}\".format(cov_file)\n",
    "    p = subprocess.Popen(cmd_print, shell=True)\n",
    "    assert(p.wait()==0)\n",
    "\n",
    "    cmd_tail = \"tail -n+2 {} | cut -f1-4 >> {}\".format(pca_file, cov_file) \n",
    "    #-n+2 récup lignes en commançant par le 2ème\n",
    "    #-f1-4 résup les champs 1-4\n",
    "    p = subprocess.Popen(cmd_tail, shell=True)\n",
    "    assert(p.wait()==0)\n",
    "    \n",
    "    print \"Wrote {}\".format(cov_file)"
   ]
  },
  {
   "cell_type": "code",
   "execution_count": null,
   "metadata": {
    "collapsed": true
   },
   "outputs": [],
   "source": [
    "def write_cov_file_2(pca_file):\n",
    "\n",
    "    cmd_sed = \"sed -i -e \\\"s/:/ /g\\\" -e \\\"s/\\s\\+/\\t/g\\\" -e \\\"s/^\\s\\+//g\\\" {}\".format(pca_file)\n",
    "    p = subprocess.Popen(cmd_sed, shell=True)\n",
    "    assert(p.wait()==0)\n",
    "    \n",
    "    cov_file = pca_file[:-9]+\".cov\"\n",
    "    cmd_print = \"printf \\\"FID\\tIID\\tPC1\\tPC2\\tPC3\\tPC4\\tPC5\\n\\\" > {}\".format(cov_file)\n",
    "    p = subprocess.Popen(cmd_print, shell=True)\n",
    "    assert(p.wait()==0)\n",
    "\n",
    "    cmd_tail = \"tail -n+2 {} | cut -f1-7 >> {}\".format(pca_file, cov_file) \n",
    "    #-n+2 récup lignes en commançant par le 2ème\n",
    "    #-f1-4 résup les champs 1-4\n",
    "    p = subprocess.Popen(cmd_tail, shell=True)\n",
    "    assert(p.wait()==0)\n",
    "    \n",
    "    print \"Wrote {}\".format(cov_file)"
   ]
  },
  {
   "cell_type": "code",
   "execution_count": 23,
   "metadata": {
    "collapsed": true
   },
   "outputs": [],
   "source": [
    "def save_strat(strat_file, strat):\n",
    "    pca_res = pd.read_table(strat_file, delim_whitespace=True, skiprows=1, header=None)\n",
    "    PCs_out = strat + \".PCs\"\n",
    "    with open(PCs_out, \"a\") as f:\n",
    "        f.write(', '.join(pca_res[0].values))\n",
    "        f.write('\\n')\n",
    "        f.write(str(pca_res[2].values.tolist())[1:-1])\n",
    "        f.write('\\n')\n",
    "        f.write(str(pca_res[3].values.tolist())[1:-1])\n",
    "        f.write('\\n')"
   ]
  },
  {
   "cell_type": "code",
   "execution_count": 5,
   "metadata": {
    "collapsed": true
   },
   "outputs": [],
   "source": [
    "def plink_prune(plink_bfile):\n",
    "\n",
    "    cmd_prune = \"\"\"plink --bfile {}      --exclude /home/vcabeli/Documents/data/high-LD-regions_37.txt           --range --indep-pairwise 50 5 0.2           --allow-extra-chr           --out {}\"\"\".format(plink_bfile, plink_bfile+\"_prune\")\n",
    "    p = subprocess.Popen(cmd_prune, shell=True)\n",
    "    assert(p.wait() == 0)\n",
    "\n",
    "    cmd_extract = \"\"\"plink --bfile {}           --extract {}           --allow-extra-chr           --chr 1-23           --make-bed           --out {}\"\"\".format(plink_bfile, plink_bfile + \"_prune.prune.in\", \n",
    "                             plink_bfile + \"_pruned\")\n",
    "    p = subprocess.Popen(cmd_extract, shell=True)\n",
    "    assert(p.wait() == 0)\n",
    "\n",
    "    print \"Wrote {} bed/bim/fam.\".format(plink_bfile + \"_pruned\")"
   ]
  },
  {
   "cell_type": "code",
   "execution_count": 6,
   "metadata": {
    "collapsed": true
   },
   "outputs": [],
   "source": [
    "def independent_snps(snps_list):\n",
    "    with open(\"non_pruned_list\", 'w') as f:\n",
    "        for snp in snps_list:\n",
    "            f.write(snp)\n",
    "            f.write(\"\\n\")\n",
    "    cmd_extract = \"plink --bfile {} --extract {} --make-bed --out {}\".format(\"training_set\",\n",
    "                                                                             \"non_pruned_list\",\n",
    "                                                                             \"snp_list\")\n",
    "    print cmd_extract\n",
    "    p = subprocess.Popen(cmd_extract, shell=True)\n",
    "    assert(p.wait()==0)\n",
    "\n",
    "    plink_prune(\"snp_list\")\n",
    "\n",
    "    t = pd.read_table(\"snp_list_pruned.bim\", delim_whitespace=True, header=None)\n",
    "    return t[1].values\n"
   ]
  },
  {
   "cell_type": "code",
   "execution_count": 68,
   "metadata": {
    "collapsed": true
   },
   "outputs": [],
   "source": [
    "def plot_pca(cov_file) :\n",
    "    \n",
    "    training_set_pca = pd.read_table(cov_file)\n",
    "    pheno_df = pd.DataFrame({'IID' : [pheno['iid'][i][1] for i in range(len(pheno['iid']))], 'pheno' : pheno['vals']})\n",
    "    training_set_pca = training_set_pca.merge(pheno_df, on=\"IID\", how=\"inner\")\n",
    "    \n",
    "    plt.scatter(data=training_set_pca[training_set_pca.pheno == 1], x=\"PC1\", y=\"PC2\", \n",
    "                label=\"controls\", s=15)\n",
    "    plt.scatter(data=training_set_pca[training_set_pca.pheno == 2], x=\"PC1\", y=\"PC2\",\n",
    "                label=\"cases\", s=15)\n",
    "    plt.legend()\n",
    "    plt.xlabel(\"PC1\")\n",
    "    plt.ylabel(\"PC2\")\n",
    "    plt.gca().set_aspect('equal', adjustable='box')\n",
    "    plt.show()"
   ]
  },
  {
   "cell_type": "code",
   "execution_count": 58,
   "metadata": {
    "collapsed": true
   },
   "outputs": [],
   "source": [
    "def plot_pca_2(cov_file) :\n",
    "    \n",
    "    training_set_pca = pd.read_table(cov_file)\n",
    "    pheno_df = pd.DataFrame({'IID' : [pheno['iid'][i][1] for i in range(len(pheno['iid']))], 'pheno' : pheno['vals']})\n",
    "    training_set_pca = training_set_pca.merge(pheno_df, on=\"IID\", how=\"inner\")\n",
    "    \n",
    "    plt.scatter(data=training_set_pca[training_set_pca.pheno == 1], x=\"PC3\", y=\"PC4\", \n",
    "                label=\"controls\", s=15)\n",
    "    plt.scatter(data=training_set_pca[training_set_pca.pheno == 2], x=\"PC3\", y=\"PC4\",\n",
    "                label=\"cases\", s=15)\n",
    "    plt.legend()\n",
    "    plt.xlabel(\"PC3\")\n",
    "    plt.ylabel(\"PC4\")\n",
    "    plt.gca().set_aspect('equal', adjustable='box')\n",
    "    plt.show()"
   ]
  },
  {
   "cell_type": "code",
   "execution_count": 9,
   "metadata": {
    "collapsed": true
   },
   "outputs": [],
   "source": [
    "def find_quantile(quantiles, value):\n",
    "    idx = (np.abs(quantiles-value)).argmin()\n",
    "    return idx"
   ]
  },
  {
   "cell_type": "code",
   "execution_count": 10,
   "metadata": {
    "collapsed": true
   },
   "outputs": [],
   "source": [
    "def sample_match(data, target_data, size, quantiles=100):\n",
    "    target_quantiles = target_data.quantile(np.linspace(0,1,quantiles)).values\n",
    "    quantile_map = {row.SNP : find_quantile(target_quantiles, row.MAF) for row in data.itertuples()}\n",
    "    len_quantiles = np.bincount(quantile_map.values())\n",
    "    \n",
    "    prop = [1./(quantiles)/len_quantiles[quantile_map[SNP]] for SNP in data.SNP]\n",
    "    \n",
    "    random_sample = np.random.choice(data.SNP, size, False, p=prop)\n",
    "    return random_sample"
   ]
  },
  {
   "cell_type": "markdown",
   "metadata": {},
   "source": [
    "## Main"
   ]
  },
  {
   "cell_type": "code",
   "execution_count": 79,
   "metadata": {
    "collapsed": false
   },
   "outputs": [
    {
     "name": "stderr",
     "output_type": "stream",
     "text": [
      "WARNING:root:loadPhen is using default missing value of '-9'.\n"
     ]
    },
    {
     "name": "stdout",
     "output_type": "stream",
     "text": [
      "Using last column in .fam file as phenotype.\n",
      "\tConsidering phenotype as a plink binary 1/2.\n",
      "\tFound 427 cases and 1525 controls.\n",
      "Loaded 1952 samples and 250140 SNPs.\n"
     ]
    }
   ],
   "source": [
    "\n",
    "snp_data, pheno = util.load_data(\"/home/vcabeli/Documents/data/BP_final/BP.B37-final\")\n",
    "pheno['bp_type'] = np.zeros(snp_data.row_count)\n",
    "\n",
    "# #### Split training / testing datasets\n",
    "\n",
    "\n",
    "\n",
    "train_idces = np.random.choice(np.arange(snp_data.row_count), size=int(snp_data.row_count*0.5), replace=False)\n",
    "test_idces = np.setdiff1d(np.arange(snp_data.row_count), train_idces, assume_unique=True)\n",
    "\n",
    "\n",
    "\n",
    "\n",
    "training_sample_out = \"training_samples.keep\"\n",
    "\n",
    "with open(training_sample_out, 'w') as f:\n",
    "    for i in train_idces:\n",
    "        f.write(pheno['iid'][i][0] + \"\\t\" + pheno['iid'][i][1])\n",
    "        f.write(\"\\n\")"
   ]
  },
  {
   "cell_type": "code",
   "execution_count": 74,
   "metadata": {
    "collapsed": true
   },
   "outputs": [],
   "source": [
    "G_hw = snp_data.val.copy()\n",
    "\n",
    "MAFs = np.nansum(2-G_hw, axis=0, ) / (np.count_nonzero(~np.isnan(G_hw), axis=0) * 2)"
   ]
  },
  {
   "cell_type": "code",
   "execution_count": 51,
   "metadata": {
    "collapsed": false
   },
   "outputs": [
    {
     "name": "stdout",
     "output_type": "stream",
     "text": [
      "plink --bfile /home/vcabeli/Documents/data/BP_final/BP.B37-final --keep training_samples.keep --make-bed --out training_set\n"
     ]
    },
    {
     "data": {
      "text/plain": [
       "0"
      ]
     },
     "execution_count": 51,
     "metadata": {},
     "output_type": "execute_result"
    }
   ],
   "source": [
    "# #### Build training set bed bim fam\n",
    "\n",
    "\n",
    "\n",
    "cmd_keep_plink = \"plink --bfile {} --keep {} --make-bed --out {}\".format(\"/home/vcabeli/Documents/data/BP_final/BP.B37-final\",\n",
    "                                                                         training_sample_out,\n",
    "                                                                         \"training_set\")\n",
    "print cmd_keep_plink\n",
    "p = subprocess.Popen(cmd_keep_plink, shell=True)\n",
    "p.wait()"
   ]
  },
  {
   "cell_type": "code",
   "execution_count": 52,
   "metadata": {
    "collapsed": false
   },
   "outputs": [
    {
     "name": "stdout",
     "output_type": "stream",
     "text": [
      "plink --bfile training_set --extract L2_thresh_5_BP.extract --make-bed --out low_ld\n",
      "Wrote low_ld_pruned bed/bim/fam.\n"
     ]
    }
   ],
   "source": [
    "\n",
    "\n",
    "threshs = range(10, 70000, 300)\n",
    "thresh_LD = 5 \n",
    "\n",
    "\n",
    "\n",
    "cmd_extract_low_ld_snps = \"plink --bfile {} --extract {} --make-bed --out {}\".format(\"training_set\",\n",
    "                                                                                     \"L2_thresh_{}_BP.extract\".format(thresh_LD),\n",
    "                                                                                     \"low_ld\")\n",
    "print cmd_extract_low_ld_snps\n",
    "p = subprocess.Popen(cmd_extract_low_ld_snps, shell=True)\n",
    "assert(p.wait()==0)\n",
    "\n",
    "plink_prune(\"low_ld\")"
   ]
  },
  {
   "cell_type": "code",
   "execution_count": 63,
   "metadata": {
    "collapsed": false
   },
   "outputs": [
    {
     "name": "stdout",
     "output_type": "stream",
     "text": [
      "smartpca.perl -i low_ld_pruned.bed -a low_ld_pruned.bim -b low_ld_pruned.fam -o low_ld_pruned.pca -p low_ld_pruned.plot -e low_ld_pruned.eval -l low_ld_pruned.log -k 2 -t 2 -m 0\n"
     ]
    },
    {
     "data": {
      "text/plain": [
       "0"
      ]
     },
     "execution_count": 63,
     "metadata": {},
     "output_type": "execute_result"
    }
   ],
   "source": [
    "#########################################PCA 1 ###########################\n",
    "#k = nombrede PC\n",
    "cmd_smart_pca2 = \"smartpca.perl -i {} -a {} -b {} -o {} -p {} -e {} -l {} -k {} -t {} -m {}\".format(\"low_ld_pruned.bed\",\n",
    "                                                                                                   \"low_ld_pruned.bim\",\n",
    "                                                                                                   \"low_ld_pruned.fam\",\n",
    "                                                                                                   \"low_ld_pruned.pca\",\n",
    "                                                                                                   \"low_ld_pruned.plot\",\n",
    "                                                                                                   \"low_ld_pruned.eval\",\n",
    "                                                                                                   \"low_ld_pruned.log\",\n",
    "                                                                                                   2, 2, 0)\n",
    "print cmd_smart_pca2\n",
    "p = subprocess.Popen(cmd_smart_pca2, shell=True)\n",
    "p.wait()"
   ]
  },
  {
   "cell_type": "code",
   "execution_count": 64,
   "metadata": {
    "collapsed": false
   },
   "outputs": [
    {
     "name": "stdout",
     "output_type": "stream",
     "text": [
      "Wrote low_ld_pruned.cov\n"
     ]
    }
   ],
   "source": [
    "#écriture fichier covariables\n",
    "write_cov_file(\"low_ld_pruned.pca.evec\")"
   ]
  },
  {
   "cell_type": "code",
   "execution_count": 69,
   "metadata": {
    "collapsed": false
   },
   "outputs": [
    {
     "data": {
      "image/png": "[encoded data removed]",
      "text/plain": [
       "<matplotlib.figure.Figure at 0x7fe39169f950>"
      ]
     },
     "metadata": {},
     "output_type": "display_data"
    }
   ],
   "source": [
    "save_strat(\"low_ld_pruned.pca.evec\", \"low_ld{}\".format(thresh_LD)) #OUTPUT LINE\n",
    "plot_pca(\"low_ld_pruned.cov\")\n",
    "#plot_pca_2(\"low_ld_pruned.cov\")"
   ]
  },
  {
   "cell_type": "code",
   "execution_count": 70,
   "metadata": {
    "collapsed": false
   },
   "outputs": [
    {
     "name": "stdout",
     "output_type": "stream",
     "text": [
      "plink --bfile training_set --logistic sex beta hide-covar --covar low_ld_pruned.cov --covar-name PC1-PC2 --out low_ld\n"
     ]
    }
   ],
   "source": [
    "\n",
    "cmd_second_gwas = \"plink --bfile {} --logistic sex beta hide-covar --covar {} --covar-name PC1-PC2 --out {}\".format(\"training_set\",\n",
    "                                                                                                   \"low_ld_pruned.cov\",\n",
    "                                                                                                   \"low_ld\")\n",
    "#changer covar-names ???\n",
    "print cmd_second_gwas\n",
    "p = subprocess.Popen(cmd_second_gwas, shell=True)\n",
    "p.wait()\n",
    "\n",
    "low_ld_res = pd.read_table(\"low_ld.assoc.logistic\", delim_whitespace=True)"
   ]
  },
  {
   "cell_type": "code",
   "execution_count": 72,
   "metadata": {
    "collapsed": false
   },
   "outputs": [
    {
     "name": "stdout",
     "output_type": "stream",
     "text": [
      "plink --bfile training_set --clump low_ld.assoc.logistic --clump-p1 1 --clump-p2 1 --clump-r2 0.2 --clump-kb 500 --out low_ld_clump \n",
      "[ 37542  62996  71425 ...,   3300 138094 212584]\n"
     ]
    }
   ],
   "source": [
    "# ### Compute Polygenic Risk Score\n",
    "\n",
    "\n",
    "sorted_snps_low_ld = np.argsort(low_ld_res.P) #sort par Pvalue\n",
    "sorted_snps_low_ld = clump_sorted_snps(\"training_set\", \"low_ld.assoc.logistic\",\n",
    "                                       snp_data.col, sorted_snps_low_ld)\n",
    "\n",
    "print(sorted_snps_low_ld)\n",
    "# pbl avec + de cov (?low_ld_clump.clumped?)"
   ]
  },
  {
   "cell_type": "code",
   "execution_count": 75,
   "metadata": {
    "collapsed": false
   },
   "outputs": [
    {
     "name": "stderr",
     "output_type": "stream",
     "text": [
      "100%|██████████| 234/234 [00:12<00:00, 18.19it/s]\n"
     ]
    }
   ],
   "source": [
    "prs_low_ld = polygen_score_sign(G_hw, sorted_snps_low_ld,\n",
    "                                threshs,\n",
    "                                test_idces, pheno,\n",
    "                                low_ld_res.BETA)\n",
    "with open(\"prs_low_ld_{}.res\".format(thresh_LD), 'a') as f: #OUTPUT LINE\n",
    "    np.savetxt(f, prs_low_ld)\n"
   ]
  },
  {
   "cell_type": "code",
   "execution_count": 83,
   "metadata": {
    "collapsed": true
   },
   "outputs": [],
   "source": [
    "logistic_res = pd.read_table(\"/home/vcabeli/Documents/analyses_current/assoc/genotyped/class_logistic..assoc.logistic\",\n",
    "                             delim_whitespace=True)\n",
    "logistic_res = logistic_res[logistic_res.TEST == \"ADD\"]\n",
    "logistic_res.reset_index(drop=True, inplace=True)"
   ]
  },
  {
   "cell_type": "code",
   "execution_count": 132,
   "metadata": {
    "collapsed": false
   },
   "outputs": [],
   "source": [
    "n_iter = 10"
   ]
  },
  {
   "cell_type": "code",
   "execution_count": 99,
   "metadata": {
    "collapsed": true
   },
   "outputs": [],
   "source": [
    "# \n",
    "threshs = range(10, 250140, 500)\n",
    "threshs_clumped = range(10, 80000,300)\n",
    "\n",
    "\n",
    "res_hw_pval_sign = np.zeros([n_iter, len(threshs)])\n",
    "res_hw_iscore_sign = np.zeros([n_iter, len(threshs)])\n",
    "\n",
    "res_hw_pval_sign_clumped = np.zeros([n_iter, len(threshs_clumped)])\n",
    "res_hw_iscore_sign_clumped = np.zeros([n_iter, len(threshs_clumped)])"
   ]
  },
  {
   "cell_type": "code",
   "execution_count": 133,
   "metadata": {
    "collapsed": false
   },
   "outputs": [
    {
     "name": "stdout",
     "output_type": "stream",
     "text": [
      "=========================Iteration 0=========================\n",
      "plink --bfile /home/vcabeli/Documents/data/BP_final/BP.B37-final --keep training_samples.keep --logistic sex beta --covar /home/vcabeli/Documents/data/BP_final/BP.B37-final.cov --hide-covar --out train_log\n",
      "Computing I scores of 250140 SNPs, for 214 case samples and 762 controls...\n",
      "Done.\n"
     ]
    },
    {
     "name": "stderr",
     "output_type": "stream",
     "text": [
      "100%|██████████| 501/501 [00:26<00:00, 19.23it/s]\n",
      "100%|██████████| 501/501 [00:26<00:00, 19.14it/s]\n"
     ]
    },
    {
     "name": "stdout",
     "output_type": "stream",
     "text": [
      "plink --bfile /home/vcabeli/Documents/data/BP_final/BP.B37-final --keep training_samples.keep --clump train_log.assoc.logistic --clump-p1 1 --clump-p2 1 --clump-r2 0.2 --clump-kb 500 --out train_clump_0.2_500 \n"
     ]
    },
    {
     "name": "stderr",
     "output_type": "stream",
     "text": [
      "100%|██████████| 267/267 [00:13<00:00, 19.18it/s]\n",
      "100%|██████████| 267/267 [00:13<00:00, 19.11it/s]\n"
     ]
    },
    {
     "name": "stdout",
     "output_type": "stream",
     "text": [
      "=========================Iteration 1=========================\n",
      "plink --bfile /home/vcabeli/Documents/data/BP_final/BP.B37-final --keep training_samples.keep --logistic sex beta --covar /home/vcabeli/Documents/data/BP_final/BP.B37-final.cov --hide-covar --out train_log\n",
      "Computing I scores of 250140 SNPs, for 196 case samples and 780 controls...\n",
      "Done.\n"
     ]
    },
    {
     "name": "stderr",
     "output_type": "stream",
     "text": [
      "100%|██████████| 501/501 [00:26<00:00, 19.22it/s]\n",
      "100%|██████████| 501/501 [00:26<00:00, 19.19it/s]\n"
     ]
    },
    {
     "name": "stdout",
     "output_type": "stream",
     "text": [
      "plink --bfile /home/vcabeli/Documents/data/BP_final/BP.B37-final --keep training_samples.keep --clump train_log.assoc.logistic --clump-p1 1 --clump-p2 1 --clump-r2 0.2 --clump-kb 500 --out train_clump_0.2_500 \n"
     ]
    },
    {
     "name": "stderr",
     "output_type": "stream",
     "text": [
      "100%|██████████| 267/267 [00:13<00:00, 19.36it/s]\n",
      "100%|██████████| 267/267 [00:13<00:00, 19.34it/s]\n"
     ]
    },
    {
     "name": "stdout",
     "output_type": "stream",
     "text": [
      "=========================Iteration 2=========================\n",
      "plink --bfile /home/vcabeli/Documents/data/BP_final/BP.B37-final --keep training_samples.keep --logistic sex beta --covar /home/vcabeli/Documents/data/BP_final/BP.B37-final.cov --hide-covar --out train_log\n",
      "Computing I scores of 250140 SNPs, for 221 case samples and 755 controls...\n",
      "Done.\n"
     ]
    },
    {
     "name": "stderr",
     "output_type": "stream",
     "text": [
      "100%|██████████| 501/501 [00:26<00:00, 19.25it/s]\n"
     ]
    },
    {
     "ename": "IndexError",
     "evalue": "index 2 is out of bounds for axis 0 with size 2",
     "output_type": "error",
     "traceback": [
      "\u001b[0;31m---------------------------------------------------------------------------\u001b[0m",
      "\u001b[0;31mIndexError\u001b[0m                                Traceback (most recent call last)",
      "\u001b[0;32m<ipython-input-133-19259ed64701>\u001b[0m in \u001b[0;36m<module>\u001b[0;34m()\u001b[0m\n\u001b[1;32m     75\u001b[0m     \u001b[0;31m# In[32]:\u001b[0m\u001b[0;34m\u001b[0m\u001b[0;34m\u001b[0m\u001b[0m\n\u001b[1;32m     76\u001b[0m \u001b[0;34m\u001b[0m\u001b[0m\n\u001b[0;32m---> 77\u001b[0;31m     \u001b[0mres_hw_pval_sign\u001b[0m\u001b[0;34m[\u001b[0m\u001b[0miteration\u001b[0m\u001b[0;34m]\u001b[0m \u001b[0;34m=\u001b[0m \u001b[0mttest_test\u001b[0m\u001b[0;34m\u001b[0m\u001b[0m\n\u001b[0m\u001b[1;32m     78\u001b[0m \u001b[0;34m\u001b[0m\u001b[0m\n\u001b[1;32m     79\u001b[0m \u001b[0;34m\u001b[0m\u001b[0m\n",
      "\u001b[0;31mIndexError\u001b[0m: index 2 is out of bounds for axis 0 with size 2"
     ]
    }
   ],
   "source": [
    "for iteration in range(n_iter):\n",
    "\n",
    "    print \"=========================Iteration {}=========================\".format(iteration)\n",
    "\n",
    "    train_idces = np.random.choice(np.arange(snp_data.row_count), size=int(snp_data.row_count*0.5), replace=False)\n",
    "    test_idces = np.setdiff1d(np.arange(snp_data.row_count), train_idces, assume_unique=True)\n",
    "\n",
    "    stats_sets = pd.DataFrame(index= ['Training', 'Test'],\n",
    "                              columns=['n_controls', 'n_cases', 'n_bp1', 'n_bp2'])\n",
    "\n",
    "    for i, idces in enumerate([train_idces, test_idces]):\n",
    "        stats_sets.iloc[i]['n_controls'] = np.count_nonzero([pheno['vals'][j] == 1 for j in idces])\n",
    "        stats_sets.iloc[i]['n_cases'] = np.count_nonzero([pheno['vals'][j] == 2 for j in idces])\n",
    "        stats_sets.iloc[i]['n_bp1'] = np.count_nonzero(pheno['bp_type'][idces] == 1)\n",
    "        stats_sets.iloc[i]['n_bp2'] = np.count_nonzero(pheno['bp_type'][idces] == 2)\n",
    "\n",
    "\n",
    "    # In[8]:\n",
    "\n",
    "    training_sample_out = \"training_samples.keep\"\n",
    "\n",
    "    with open(training_sample_out, 'w') as f:\n",
    "        for i in train_idces:\n",
    "            f.write(pheno['iid'][i][0] + \"\\t\" + pheno['iid'][i][1])\n",
    "            f.write(\"\\n\")\n",
    "\n",
    "\n",
    "    # ## Classical polygenic score : pvalue threshold, logistic $\\beta$s\n",
    "    #\n",
    "    # Where SNP selection is based on their logitic association test p-value and weights are the $\\beta$s.\n",
    "\n",
    "    # In[9]:\n",
    "\n",
    "    os.chdir(\"/home/vcabeli/Documents/analyses_current/polygenic_score/BP\")\n",
    "\n",
    "    cmd_plink = \"plink --bfile {} --keep {} --logistic sex beta --covar {} --hide-covar --out {}\".format(\"/home/vcabeli/Documents/data/BP_final/BP.B37-final\",\n",
    "                                                                                                         training_sample_out,\n",
    "                                                                                                         \"/home/vcabeli/Documents/data/BP_final/BP.B37-final.cov\",\n",
    "                                                                                                         \"train_log\")\n",
    "    print cmd_plink\n",
    "    p = subprocess.Popen(cmd_plink, shell=True)\n",
    "    p.wait()\n",
    "\n",
    "    train_res = pd.read_table(\"train_log.assoc.logistic\", delim_whitespace=True)\n",
    "    assert(np.all(logistic_res.SNP == train_res.SNP))\n",
    "\n",
    "\n",
    "\n",
    "    util.control_idces = [i for i in train_idces if pheno['vals'][i] == 1]\n",
    "    util.case_idces = [i for i in train_idces if pheno['vals'][i] == 2]\n",
    "\n",
    "    i_scores_train = util.get_i_scores_binary()\n",
    "\n",
    "\n",
    "    # In[15]:\n",
    "\n",
    "    sorted_snps_pval = np.argsort(train_res.P.values)\n",
    "    sorted_snps_iscore = np.argsort(-i_scores_train)\n",
    "\n",
    "\n",
    "\n",
    "\n",
    "    # ## Coded genotyped\n",
    "    #\n",
    "    # Under Hardy-Weinberg equilibrium, $G_i = \\frac{(X_i - 2 f_i)}{\\sqrt{2fi(1-fi)}}$ where $X_i$ is the number of minor alleles and $f_i$ the minor allele frequency.\n",
    "\n",
    "    # In[31]:\n",
    "\n",
    "    ttest_test = polygen_score_sign(G_hw, sorted_snps_pval,\n",
    "                                    threshs,\n",
    "                                    test_idces, pheno,\n",
    "                                    train_res.BETA)\n",
    "\n",
    "\n",
    "    # In[32]:\n",
    "\n",
    "    res_hw_pval_sign[iteration] = ttest_test\n",
    "\n",
    "\n",
    "\n",
    "    # ## I score threshold\n",
    "\n",
    "    # In[39]:\n",
    "\n",
    "    ttest_test = polygen_score_sign(G_hw, sorted_snps_iscore,\n",
    "                                    threshs,\n",
    "                                    test_idces, pheno,\n",
    "                                    train_res.BETA)\n",
    "\n",
    "\n",
    "    # In[40]:\n",
    "\n",
    "    res_hw_iscore_sign[iteration] = ttest_test\n",
    "\n",
    "    # Clump\n",
    "\n",
    "    os.chdir(\"/home/vcabeli/Documents/analyses_current/polygenic_score/BP\")\n",
    "\n",
    "    cmd_plink_clump = \"plink --bfile {} --keep {} --clump {} --clump-p1 1 --clump-p2 1 --clump-r2 0.2 --clump-kb 500 --out {} \".format(\"/home/vcabeli/Documents/data/BP_final/BP.B37-final\",\n",
    "                                                                                                         training_sample_out,\n",
    "                                                                                                         \"train_log.assoc.logistic\",\n",
    "                                                                                                         \"train_clump_0.2_500\")\n",
    "    print cmd_plink_clump\n",
    "    p = subprocess.Popen(cmd_plink_clump, shell=True)\n",
    "    p.wait()\n",
    "\n",
    "    clumped_res = pd.read_table(\"train_clump_0.2_500.clumped\",\n",
    "                            delim_whitespace=True)\n",
    "    clumped_snps = set(clumped_res.SNP)\n",
    "\n",
    "    clumped_sorted_snps_pval = np.array([i for i in sorted_snps_pval if snp_data.col[i] in clumped_snps])\n",
    "    clumped_sorted_snps_iscore = np.array([i for i in sorted_snps_iscore if snp_data.col[i] in clumped_snps])\n",
    "\n",
    "    ttest_test = polygen_score_sign(G_hw, clumped_sorted_snps_pval,\n",
    "                                threshs_clumped,\n",
    "                                test_idces, pheno,\n",
    "                                train_res.BETA)\n",
    "\n",
    "    res_hw_pval_sign_clumped[iteration] = ttest_test\n",
    "\n",
    "    ttest_test = polygen_score(G_hw, clumped_sorted_snps_iscore,\n",
    "                           threshs_clumped,\n",
    "                           test_idces, pheno,\n",
    "                           train_res.BETA)\n",
    "\n",
    "    res_hw_iscore_sign_clumped[iteration] = ttest_test\n",
    "\n",
    "\n",
    "\n",
    "np.savetxt(X=res_hw_pval_sign, fname=\"res_hw_pval_sign.txt\")\n",
    "np.savetxt(X=res_hw_iscore_sign, fname=\"res_hw_iscore_sign.txt\")\n",
    "\n",
    "np.savetxt(X=res_hw_pval_sign_clumped, fname=\"res_hw_pval_sign_clumped.txt\")\n",
    "np.savetxt(X=res_hw_iscore_sign_clumped, fname=\"res_hw_iscore_sign_clumped.txt\")\n"
   ]
  },
  {
   "cell_type": "code",
   "execution_count": 131,
   "metadata": {
    "collapsed": false
   },
   "outputs": [
    {
     "name": "stdout",
     "output_type": "stream",
     "text": [
      "Wrote toto.pdf.\n"
     ]
    },
    {
     "data": {
      "image/png": "[encoded data removed]",
      "text/plain": [
       "<matplotlib.figure.Figure at 0x7fe38ff18250>"
      ]
     },
     "metadata": {},
     "output_type": "display_data"
    }
   ],
   "source": [
    "\n",
    "res_pval = np.loadtxt(\"res_hw_pval_sign.txt\")\n",
    "res_iscore = np.loadtxt(\"res_hw_iscore_sign.txt\")\n",
    "\n",
    "time = range(10, 250140, 500)\n",
    "for i in range(len(time)):\n",
    "    res_pval[res_pval[:,i] == 0,i] = np.nan\n",
    "    res_iscore[res_iscore[:,i] == 0,i] = np.nan\n",
    "    res_pval[np.isnan(res_pval[:,i]),i] = np.nanmedian(res_pval[:,i])\n",
    "    res_iscore[np.isnan(res_iscore[:,i]),i] = np.nanmedian(res_iscore[:,i])\n",
    "\n",
    "\n",
    "sns.tsplot(np.power(res_pval,1),color='b',ci=[0,95],time=time, condition=\"p-value\")\n",
    "sns.tsplot(np.power(res_iscore,1),color='g',ci=[0,95],time=time, condition=\"I score\")\n",
    "sns.plt.ylabel('AUC')\n",
    "sns.plt.xlabel('N SNPs')\n",
    "sns.plt.savefig(\"toto.pdf\", format=\"pdf\")\n",
    "\n",
    "print \"Wrote {}.\".format(\"toto.pdf\")\n",
    "plt.show()"
   ]
  }
 ],
 "metadata": {
  "kernelspec": {
   "display_name": "Python 2",
   "language": "python",
   "name": "python2"
  },
  "language_info": {
   "codemirror_mode": {
    "name": "ipython",
    "version": 2
   },
   "file_extension": ".py",
   "mimetype": "text/x-python",
   "name": "python",
   "nbconvert_exporter": "python",
   "pygments_lexer": "ipython2",
   "version": "2.7.12"
  }
 },
 "nbformat": 4,
 "nbformat_minor": 2
}
