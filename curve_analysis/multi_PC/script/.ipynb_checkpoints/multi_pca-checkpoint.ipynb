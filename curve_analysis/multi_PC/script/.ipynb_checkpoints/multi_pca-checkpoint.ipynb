{
 "cells": [
  {
   "cell_type": "code",
   "execution_count": 10,
   "metadata": {
    "collapsed": false
   },
   "outputs": [],
   "source": [
    "import sys\n",
    "import util\n",
    "from Polygenic_score import *\n",
    "\n",
    "import os\n",
    "import subprocess\n",
    "from tqdm import tqdm\n",
    "import numpy as np\n",
    "import pandas as pd\n",
    "import matplotlib.pyplot as plt\n",
    "import seaborn as sns\n",
    "import sklearn.metrics\n",
    "import re"
   ]
  },
  {
   "cell_type": "code",
   "execution_count": 11,
   "metadata": {
    "collapsed": true
   },
   "outputs": [],
   "source": [
    "def clump_sorted_snps(bfile, assoc_file, snp_values, sorted_snps):\n",
    "\n",
    "    clump_out = assoc_file[:assoc_file.index(\".assoc\")] + \"_clump\"\n",
    "    cmd_plink_clump = \"plink --bfile {} --clump {} --clump-p1 1 --clump-p2 1 --clump-r2 0.2 --clump-kb 500 --out {} \".format(bfile,\n",
    "            assoc_file,\n",
    "            clump_out)\n",
    "    print cmd_plink_clump\n",
    "    p = subprocess.Popen(cmd_plink_clump, shell=True)\n",
    "    p.wait()\n",
    "\n",
    "    clumped_res = pd.read_table(clump_out+\".clumped\", delim_whitespace=True)\n",
    "    clumped_snps = set(clumped_res.SNP)\n",
    "\n",
    "    clumped_sorted_snps = np.array([i for i in sorted_snps if snp_values[i] in clumped_snps])\n",
    "    return clumped_sorted_snps\n",
    "\n"
   ]
  },
  {
   "cell_type": "code",
   "execution_count": 12,
   "metadata": {
    "collapsed": true
   },
   "outputs": [],
   "source": [
    "def save_strat(strat_file, strat):\n",
    "    pca_res = pd.read_table(strat_file, delim_whitespace=True, skiprows=1, header=None)\n",
    "    PCs_out = strat + \".PCs\"\n",
    "    with open(PCs_out, \"a\") as f:\n",
    "        f.write(', '.join(pca_res[0].values))\n",
    "        f.write('\\n')\n",
    "        f.write(str(pca_res[2].values.tolist())[1:-1])\n",
    "        f.write('\\n')\n",
    "        f.write(str(pca_res[3].values.tolist())[1:-1])\n",
    "        f.write('\\n')\n"
   ]
  },
  {
   "cell_type": "code",
   "execution_count": 13,
   "metadata": {
    "collapsed": true
   },
   "outputs": [],
   "source": [
    "def plink_prune(plink_bfile):\n",
    "\n",
    "    cmd_prune = \"\"\"plink --bfile {} --exclude /home/vcabeli/Documents/data/high-LD-regions_37.txt --range --indep-pairwise 50 5 0.2 --allow-extra-chr --out {}\"\"\".format(plink_bfile, plink_bfile+\"_prune\")\n",
    "    p = subprocess.Popen(cmd_prune, shell=True)\n",
    "    assert(p.wait() == 0)\n",
    "\n",
    "    cmd_extract = \"\"\"plink --bfile {} --extract {} --allow-extra-chr --chr 1-23 --make-bed --out {}\"\"\".format(plink_bfile, plink_bfile + \"_prune.prune.in\", \n",
    "                             plink_bfile + \"_pruned\")\n",
    "    p = subprocess.Popen(cmd_extract, shell=True)\n",
    "    assert(p.wait() == 0)\n",
    "\n",
    "    print \"Wrote {} bed/bim/fam.\".format(plink_bfile + \"_pruned\")\n",
    "\n"
   ]
  },
  {
   "cell_type": "code",
   "execution_count": 14,
   "metadata": {
    "collapsed": true
   },
   "outputs": [],
   "source": [
    "def write_cov_file(pca_file,nb_pc):\n",
    "\n",
    "    cmd_sed = \"sed -i -e \\\"s/:/ /g\\\" -e \\\"s/\\s\\+/\\t/g\\\" -e \\\"s/^\\s\\+//g\\\" {}\".format(pca_file)\n",
    "    p = subprocess.Popen(cmd_sed, shell=True)\n",
    "    assert(p.wait()==0)\n",
    "    \n",
    "    cov_file = pca_file[:-9]+\".cov\"\n",
    "    a=\"\"\n",
    "    for i in range(nb_pc):\n",
    "        a=a+(\"\\tPC{}\".format(i+1))\n",
    "    \n",
    "\n",
    "    cmd_print = \"printf \\\"FID\\tIID{}\\n\\\" > {}\".format(a,cov_file)\n",
    "\n",
    "    p = subprocess.Popen(cmd_print, shell=True)\n",
    "    assert(p.wait()==0)\n",
    "\n",
    "    cmd_tail = \"tail -n+2 {} | cut -f1-{} >> {}\".format(pca_file, 2+nb_pc, cov_file) \n",
    "\n",
    "    #-n+2 récup lignes en commançant par le 2ème\n",
    "    #-f1-2+nb_pc résup les champs 1-nb_pc+2\n",
    "    \n",
    "    p = subprocess.Popen(cmd_tail, shell=True)\n",
    "    assert(p.wait()==0)\n",
    "    \n",
    "    print \"Wrote {}\".format(cov_file)"
   ]
  },
  {
   "cell_type": "code",
   "execution_count": 15,
   "metadata": {
    "collapsed": true
   },
   "outputs": [],
   "source": [
    "def iterate(snp_data, pheno,n_iter,threshs,thresh_LD,nb_pc):\n",
    "    res_hw_pval_sign = np.zeros([n_iter, len(threshs)])\n",
    "    \n",
    "    for iteration in range(n_iter):\n",
    "\n",
    "        print \"=========================Iteration {}=========================\".format(iteration)\n",
    "        \n",
    "        # extraction des SNPs indépendantes selon le seuil de LD\n",
    "        cmd_extract_low_ld_snps = \"plink --bfile {} --extract {} --make-bed --out {}\".format(\"/home/vcabeli/Documents/data/BP_final/BP.B37-final\",\n",
    "                                                                                             \"L2_thresh_{}_BP.extract\".format(thresh_LD),\n",
    "                                                                                             \"low_ld\")\n",
    "        print cmd_extract_low_ld_snps\n",
    "        p = subprocess.Popen(cmd_extract_low_ld_snps, shell=True)\n",
    "        assert(p.wait()==0)\n",
    "\n",
    "        plink_prune(\"low_ld\")\n",
    "\n",
    "\n",
    " \n",
    "        # Covariables\n",
    "        if(nb_pc!=0):\n",
    "            cmd_smart_pca2 = \"smartpca.perl -i {} -a {} -b {} -o {} -p {} -e {} -l {} -k {} -t {} -m {}\".format(\"low_ld_pruned.bed\",\n",
    "                                                                                                           \"low_ld_pruned.bim\",\n",
    "                                                                                                           \"low_ld_pruned.fam\",\n",
    "                                                                                                           \"low_ld_pruned.pca\",\n",
    "                                                                                                           \"low_ld_pruned.plot\",\n",
    "                                                                                                           \"low_ld_pruned.eval\",\n",
    "                                                                                                           \"low_ld_pruned.log\",\n",
    "                                                                                                           nb_pc, 2, 0)\n",
    "            print cmd_smart_pca2\n",
    "            p = subprocess.Popen(cmd_smart_pca2, shell=True)\n",
    "            p.wait()\n",
    "\n",
    "\n",
    "            write_cov_file(\"low_ld_pruned.pca.evec\",nb_pc)\n",
    "            save_strat(\"low_ld_pruned.pca.evec\", \"low_ld{}\".format(thresh_LD)) #OUTPUT LINE\n",
    "\n",
    "        \n",
    "        # #### Split training / testing datasets\n",
    "        train_idces = np.random.choice(np.arange(snp_data.row_count), size=int(snp_data.row_count*0.5), replace=False)\n",
    "        test_idces = np.setdiff1d(np.arange(snp_data.row_count), train_idces, assume_unique=True)\n",
    "\n",
    "\n",
    "\n",
    "\n",
    "        training_sample_out = \"training_samples.keep\"\n",
    "\n",
    "        with open(training_sample_out, 'w') as f:\n",
    "            for i in train_idces:\n",
    "                f.write(pheno['iid'][i][0] + \"\\t\" + pheno['iid'][i][1])\n",
    "                f.write(\"\\n\")\n",
    "\n",
    "\n",
    "\n",
    "\n",
    "        # #### Build training set bed bim fam\n",
    "\n",
    "\n",
    "        #creation fichier plink (bam,bed,fam) avec les données d'apprentissage seulement\n",
    "        cmd_keep_plink = \"plink --bfile {} --keep {} --make-bed --out {}\".format(\"/home/vcabeli/Documents/data/BP_final/BP.B37-final\",\n",
    "                                                                                 training_sample_out,\n",
    "                                                                                 \"training_set\")\n",
    "        print cmd_keep_plink\n",
    "        p = subprocess.Popen(cmd_keep_plink, shell=True)\n",
    "        p.wait()\n",
    "\n",
    "\n",
    "\n",
    "\n",
    "\n",
    "        #test d'association: classification (Rlog)\n",
    "        if (nb_pc==0):\n",
    "            cmd_second_gwas = \"plink --bfile {} --logistic sex beta hide-covar --out {}\".format(\"training_set\",\"low_ld\")\n",
    "        else:\n",
    "            cmd_second_gwas = \"plink --bfile {} --logistic sex beta hide-covar --covar {} --covar-name PC1-PC{} --out {}\".format(\"training_set\",\n",
    "                                                                                                           \"low_ld_pruned.cov\",\n",
    "                                                                                                            nb_pc,\n",
    "                                                                                                           \"low_ld\")\n",
    "        print cmd_second_gwas\n",
    "        p = subprocess.Popen(cmd_second_gwas, shell=True)\n",
    "        p.wait()\n",
    "        low_ld_res = pd.read_table(\"low_ld.assoc.logistic\", delim_whitespace=True)\n",
    "\n",
    "\n",
    "        # clump les SNPs pour garder les SNPs indépendantes \n",
    "        sorted_snps_low_ld = np.argsort(low_ld_res.P)\n",
    "        sorted_snps_low_ld = clump_sorted_snps(\"training_set\", \"low_ld.assoc.logistic\",\n",
    "                                               snp_data.col, sorted_snps_low_ld)\n",
    "\n",
    "        \n",
    "        # #### Coded genotype (hardy-weinberg)\n",
    "        # \n",
    "        # With sufficiently large cohorts, traning and test sets should have the same MAFs. \n",
    "        # The coded genotype is computed on the whole dataset.\n",
    "\n",
    "\n",
    "\n",
    "\n",
    "        G_hw = snp_data.val.copy()\n",
    "\n",
    "        MAFs = np.nansum(2-G_hw, axis=0, ) / (np.count_nonzero(~np.isnan(G_hw), axis=0) * 2)\n",
    "        G_hw = (2-G_hw - 2*MAFs)/np.sqrt(2*MAFs*(1-MAFs))\n",
    "\n",
    "        # ### Compute PRS\n",
    "        \n",
    "        prs_low_ld = polygen_score_sign(G_hw, sorted_snps_low_ld,\n",
    "                                        threshs,\n",
    "                                        test_idces, pheno,\n",
    "                                        low_ld_res.BETA)\n",
    "        res_hw_pval_sign[iteration] = prs_low_ld\n",
    "        \n",
    "        ###### Compute I-score\n",
    "        #i_scores_classification = util.get_i_scores_binary()\n",
    "\n",
    "        #df_iscore = pd.DataFrame({'SNP':snp_data.col, 'i_score':i_scores_classification})\n",
    "        #data frame a 2 colone (pê recupe que la deuxieme)\n",
    "        #res_hw_iscore[iteration] = df_iscore\n",
    "        \n",
    "        ####### Compute LD-score \n",
    "        \n",
    "    return(res_hw_pval_sign)"
   ]
  },
  {
   "cell_type": "code",
   "execution_count": 27,
   "metadata": {
    "collapsed": false,
    "scrolled": true
   },
   "outputs": [
    {
     "name": "stderr",
     "output_type": "stream",
     "text": [
      "WARNING:root:loadPhen is using default missing value of '-9'.\n"
     ]
    },
    {
     "name": "stdout",
     "output_type": "stream",
     "text": [
      "Using last column in .fam file as phenotype.\n",
      "\tConsidering phenotype as a plink binary 1/2.\n",
      "\tFound 427 cases and 1525 controls.\n",
      "Loaded 1952 samples and 250140 SNPs.\n",
      "========================= 0 PCs =========================\n",
      "=========================Iteration 0=========================\n",
      "plink --bfile /home/vcabeli/Documents/data/BP_final/BP.B37-final --extract L2_thresh_5_BP.extract --make-bed --out low_ld\n",
      "Wrote low_ld_pruned bed/bim/fam.\n",
      "plink --bfile /home/vcabeli/Documents/data/BP_final/BP.B37-final --keep training_samples.keep --make-bed --out training_set\n",
      "plink --bfile training_set --logistic sex beta hide-covar --out low_ld\n",
      "plink --bfile training_set --clump low_ld.assoc.logistic --clump-p1 1 --clump-p2 1 --clump-r2 0.2 --clump-kb 500 --out low_ld_clump \n"
     ]
    },
    {
     "name": "stderr",
     "output_type": "stream",
     "text": [
      "100%|██████████| 140/140 [00:07<00:00, 19.16it/s]\n"
     ]
    },
    {
     "name": "stdout",
     "output_type": "stream",
     "text": [
      "=========================Iteration 1=========================\n",
      "plink --bfile /home/vcabeli/Documents/data/BP_final/BP.B37-final --extract L2_thresh_5_BP.extract --make-bed --out low_ld\n",
      "Wrote low_ld_pruned bed/bim/fam.\n",
      "plink --bfile /home/vcabeli/Documents/data/BP_final/BP.B37-final --keep training_samples.keep --make-bed --out training_set\n",
      "plink --bfile training_set --logistic sex beta hide-covar --out low_ld\n",
      "plink --bfile training_set --clump low_ld.assoc.logistic --clump-p1 1 --clump-p2 1 --clump-r2 0.2 --clump-kb 500 --out low_ld_clump \n"
     ]
    },
    {
     "name": "stderr",
     "output_type": "stream",
     "text": [
      "100%|██████████| 140/140 [00:07<00:00, 19.15it/s]\n"
     ]
    },
    {
     "name": "stdout",
     "output_type": "stream",
     "text": [
      "=========================Iteration 2=========================\n",
      "plink --bfile /home/vcabeli/Documents/data/BP_final/BP.B37-final --extract L2_thresh_5_BP.extract --make-bed --out low_ld\n",
      "Wrote low_ld_pruned bed/bim/fam.\n",
      "plink --bfile /home/vcabeli/Documents/data/BP_final/BP.B37-final --keep training_samples.keep --make-bed --out training_set\n",
      "plink --bfile training_set --logistic sex beta hide-covar --out low_ld\n",
      "plink --bfile training_set --clump low_ld.assoc.logistic --clump-p1 1 --clump-p2 1 --clump-r2 0.2 --clump-kb 500 --out low_ld_clump \n"
     ]
    },
    {
     "name": "stderr",
     "output_type": "stream",
     "text": [
      "100%|██████████| 140/140 [00:07<00:00, 18.42it/s]\n"
     ]
    },
    {
     "name": "stdout",
     "output_type": "stream",
     "text": [
      "=========================Iteration 3=========================\n",
      "plink --bfile /home/vcabeli/Documents/data/BP_final/BP.B37-final --extract L2_thresh_5_BP.extract --make-bed --out low_ld\n",
      "Wrote low_ld_pruned bed/bim/fam.\n",
      "plink --bfile /home/vcabeli/Documents/data/BP_final/BP.B37-final --keep training_samples.keep --make-bed --out training_set\n",
      "plink --bfile training_set --logistic sex beta hide-covar --out low_ld\n",
      "plink --bfile training_set --clump low_ld.assoc.logistic --clump-p1 1 --clump-p2 1 --clump-r2 0.2 --clump-kb 500 --out low_ld_clump \n"
     ]
    },
    {
     "name": "stderr",
     "output_type": "stream",
     "text": [
      "100%|██████████| 140/140 [00:07<00:00, 19.28it/s]\n"
     ]
    },
    {
     "name": "stdout",
     "output_type": "stream",
     "text": [
      "=========================Iteration 4=========================\n",
      "plink --bfile /home/vcabeli/Documents/data/BP_final/BP.B37-final --extract L2_thresh_5_BP.extract --make-bed --out low_ld\n",
      "Wrote low_ld_pruned bed/bim/fam.\n",
      "plink --bfile /home/vcabeli/Documents/data/BP_final/BP.B37-final --keep training_samples.keep --make-bed --out training_set\n",
      "plink --bfile training_set --logistic sex beta hide-covar --out low_ld\n",
      "plink --bfile training_set --clump low_ld.assoc.logistic --clump-p1 1 --clump-p2 1 --clump-r2 0.2 --clump-kb 500 --out low_ld_clump \n"
     ]
    },
    {
     "name": "stderr",
     "output_type": "stream",
     "text": [
      "100%|██████████| 140/140 [00:07<00:00, 19.11it/s]\n"
     ]
    },
    {
     "name": "stdout",
     "output_type": "stream",
     "text": [
      "=========================Iteration 5=========================\n",
      "plink --bfile /home/vcabeli/Documents/data/BP_final/BP.B37-final --extract L2_thresh_5_BP.extract --make-bed --out low_ld\n",
      "Wrote low_ld_pruned bed/bim/fam.\n",
      "plink --bfile /home/vcabeli/Documents/data/BP_final/BP.B37-final --keep training_samples.keep --make-bed --out training_set\n",
      "plink --bfile training_set --logistic sex beta hide-covar --out low_ld\n",
      "plink --bfile training_set --clump low_ld.assoc.logistic --clump-p1 1 --clump-p2 1 --clump-r2 0.2 --clump-kb 500 --out low_ld_clump \n"
     ]
    },
    {
     "name": "stderr",
     "output_type": "stream",
     "text": [
      "100%|██████████| 140/140 [00:07<00:00, 19.29it/s]\n"
     ]
    },
    {
     "name": "stdout",
     "output_type": "stream",
     "text": [
      "=========================Iteration 6=========================\n",
      "plink --bfile /home/vcabeli/Documents/data/BP_final/BP.B37-final --extract L2_thresh_5_BP.extract --make-bed --out low_ld\n",
      "Wrote low_ld_pruned bed/bim/fam.\n",
      "plink --bfile /home/vcabeli/Documents/data/BP_final/BP.B37-final --keep training_samples.keep --make-bed --out training_set\n",
      "plink --bfile training_set --logistic sex beta hide-covar --out low_ld\n",
      "plink --bfile training_set --clump low_ld.assoc.logistic --clump-p1 1 --clump-p2 1 --clump-r2 0.2 --clump-kb 500 --out low_ld_clump \n"
     ]
    },
    {
     "name": "stderr",
     "output_type": "stream",
     "text": [
      "100%|██████████| 140/140 [00:07<00:00, 19.11it/s]\n"
     ]
    },
    {
     "name": "stdout",
     "output_type": "stream",
     "text": [
      "=========================Iteration 7=========================\n",
      "plink --bfile /home/vcabeli/Documents/data/BP_final/BP.B37-final --extract L2_thresh_5_BP.extract --make-bed --out low_ld\n",
      "Wrote low_ld_pruned bed/bim/fam.\n",
      "plink --bfile /home/vcabeli/Documents/data/BP_final/BP.B37-final --keep training_samples.keep --make-bed --out training_set\n",
      "plink --bfile training_set --logistic sex beta hide-covar --out low_ld\n",
      "plink --bfile training_set --clump low_ld.assoc.logistic --clump-p1 1 --clump-p2 1 --clump-r2 0.2 --clump-kb 500 --out low_ld_clump \n"
     ]
    },
    {
     "name": "stderr",
     "output_type": "stream",
     "text": [
      "100%|██████████| 140/140 [00:07<00:00, 19.13it/s]\n"
     ]
    },
    {
     "name": "stdout",
     "output_type": "stream",
     "text": [
      "=========================Iteration 8=========================\n",
      "plink --bfile /home/vcabeli/Documents/data/BP_final/BP.B37-final --extract L2_thresh_5_BP.extract --make-bed --out low_ld\n",
      "Wrote low_ld_pruned bed/bim/fam.\n",
      "plink --bfile /home/vcabeli/Documents/data/BP_final/BP.B37-final --keep training_samples.keep --make-bed --out training_set\n",
      "plink --bfile training_set --logistic sex beta hide-covar --out low_ld\n",
      "plink --bfile training_set --clump low_ld.assoc.logistic --clump-p1 1 --clump-p2 1 --clump-r2 0.2 --clump-kb 500 --out low_ld_clump \n"
     ]
    },
    {
     "name": "stderr",
     "output_type": "stream",
     "text": [
      "100%|██████████| 140/140 [00:07<00:00, 19.14it/s]\n"
     ]
    },
    {
     "name": "stdout",
     "output_type": "stream",
     "text": [
      "=========================Iteration 9=========================\n",
      "plink --bfile /home/vcabeli/Documents/data/BP_final/BP.B37-final --extract L2_thresh_5_BP.extract --make-bed --out low_ld\n",
      "Wrote low_ld_pruned bed/bim/fam.\n",
      "plink --bfile /home/vcabeli/Documents/data/BP_final/BP.B37-final --keep training_samples.keep --make-bed --out training_set\n",
      "plink --bfile training_set --logistic sex beta hide-covar --out low_ld\n",
      "plink --bfile training_set --clump low_ld.assoc.logistic --clump-p1 1 --clump-p2 1 --clump-r2 0.2 --clump-kb 500 --out low_ld_clump \n"
     ]
    },
    {
     "name": "stderr",
     "output_type": "stream",
     "text": [
      "100%|██████████| 140/140 [00:07<00:00, 19.17it/s]\n"
     ]
    },
    {
     "name": "stdout",
     "output_type": "stream",
     "text": [
      "========================= 10 PCs =========================\n",
      "=========================Iteration 0=========================\n",
      "plink --bfile /home/vcabeli/Documents/data/BP_final/BP.B37-final --extract L2_thresh_5_BP.extract --make-bed --out low_ld\n",
      "Wrote low_ld_pruned bed/bim/fam.\n",
      "smartpca.perl -i low_ld_pruned.bed -a low_ld_pruned.bim -b low_ld_pruned.fam -o low_ld_pruned.pca -p low_ld_pruned.plot -e low_ld_pruned.eval -l low_ld_pruned.log -k 10 -t 2 -m 0\n",
      "Wrote low_ld_pruned.cov\n",
      "plink --bfile /home/vcabeli/Documents/data/BP_final/BP.B37-final --keep training_samples.keep --make-bed --out training_set\n",
      "plink --bfile training_set --logistic sex beta hide-covar --covar low_ld_pruned.cov --covar-name PC1-PC10 --out low_ld\n",
      "plink --bfile training_set --clump low_ld.assoc.logistic --clump-p1 1 --clump-p2 1 --clump-r2 0.2 --clump-kb 500 --out low_ld_clump \n"
     ]
    },
    {
     "name": "stderr",
     "output_type": "stream",
     "text": [
      "100%|██████████| 140/140 [00:07<00:00, 19.06it/s]\n"
     ]
    },
    {
     "name": "stdout",
     "output_type": "stream",
     "text": [
      "=========================Iteration 1=========================\n",
      "plink --bfile /home/vcabeli/Documents/data/BP_final/BP.B37-final --extract L2_thresh_5_BP.extract --make-bed --out low_ld\n",
      "Wrote low_ld_pruned bed/bim/fam.\n",
      "smartpca.perl -i low_ld_pruned.bed -a low_ld_pruned.bim -b low_ld_pruned.fam -o low_ld_pruned.pca -p low_ld_pruned.plot -e low_ld_pruned.eval -l low_ld_pruned.log -k 10 -t 2 -m 0\n",
      "Wrote low_ld_pruned.cov\n",
      "plink --bfile /home/vcabeli/Documents/data/BP_final/BP.B37-final --keep training_samples.keep --make-bed --out training_set\n",
      "plink --bfile training_set --logistic sex beta hide-covar --covar low_ld_pruned.cov --covar-name PC1-PC10 --out low_ld\n",
      "plink --bfile training_set --clump low_ld.assoc.logistic --clump-p1 1 --clump-p2 1 --clump-r2 0.2 --clump-kb 500 --out low_ld_clump \n"
     ]
    },
    {
     "name": "stderr",
     "output_type": "stream",
     "text": [
      "100%|██████████| 140/140 [00:07<00:00, 18.97it/s]\n"
     ]
    },
    {
     "name": "stdout",
     "output_type": "stream",
     "text": [
      "=========================Iteration 2=========================\n",
      "plink --bfile /home/vcabeli/Documents/data/BP_final/BP.B37-final --extract L2_thresh_5_BP.extract --make-bed --out low_ld\n",
      "Wrote low_ld_pruned bed/bim/fam.\n",
      "smartpca.perl -i low_ld_pruned.bed -a low_ld_pruned.bim -b low_ld_pruned.fam -o low_ld_pruned.pca -p low_ld_pruned.plot -e low_ld_pruned.eval -l low_ld_pruned.log -k 10 -t 2 -m 0\n",
      "Wrote low_ld_pruned.cov\n",
      "plink --bfile /home/vcabeli/Documents/data/BP_final/BP.B37-final --keep training_samples.keep --make-bed --out training_set\n",
      "plink --bfile training_set --logistic sex beta hide-covar --covar low_ld_pruned.cov --covar-name PC1-PC10 --out low_ld\n",
      "plink --bfile training_set --clump low_ld.assoc.logistic --clump-p1 1 --clump-p2 1 --clump-r2 0.2 --clump-kb 500 --out low_ld_clump \n"
     ]
    },
    {
     "name": "stderr",
     "output_type": "stream",
     "text": [
      "100%|██████████| 140/140 [00:07<00:00, 19.09it/s]\n"
     ]
    },
    {
     "name": "stdout",
     "output_type": "stream",
     "text": [
      "=========================Iteration 3=========================\n",
      "plink --bfile /home/vcabeli/Documents/data/BP_final/BP.B37-final --extract L2_thresh_5_BP.extract --make-bed --out low_ld\n",
      "Wrote low_ld_pruned bed/bim/fam.\n",
      "smartpca.perl -i low_ld_pruned.bed -a low_ld_pruned.bim -b low_ld_pruned.fam -o low_ld_pruned.pca -p low_ld_pruned.plot -e low_ld_pruned.eval -l low_ld_pruned.log -k 10 -t 2 -m 0\n",
      "Wrote low_ld_pruned.cov\n",
      "plink --bfile /home/vcabeli/Documents/data/BP_final/BP.B37-final --keep training_samples.keep --make-bed --out training_set\n",
      "plink --bfile training_set --logistic sex beta hide-covar --covar low_ld_pruned.cov --covar-name PC1-PC10 --out low_ld\n",
      "plink --bfile training_set --clump low_ld.assoc.logistic --clump-p1 1 --clump-p2 1 --clump-r2 0.2 --clump-kb 500 --out low_ld_clump \n"
     ]
    },
    {
     "name": "stderr",
     "output_type": "stream",
     "text": [
      "100%|██████████| 140/140 [00:07<00:00, 19.07it/s]\n"
     ]
    },
    {
     "name": "stdout",
     "output_type": "stream",
     "text": [
      "=========================Iteration 4=========================\n",
      "plink --bfile /home/vcabeli/Documents/data/BP_final/BP.B37-final --extract L2_thresh_5_BP.extract --make-bed --out low_ld\n",
      "Wrote low_ld_pruned bed/bim/fam.\n",
      "smartpca.perl -i low_ld_pruned.bed -a low_ld_pruned.bim -b low_ld_pruned.fam -o low_ld_pruned.pca -p low_ld_pruned.plot -e low_ld_pruned.eval -l low_ld_pruned.log -k 10 -t 2 -m 0\n",
      "Wrote low_ld_pruned.cov\n",
      "plink --bfile /home/vcabeli/Documents/data/BP_final/BP.B37-final --keep training_samples.keep --make-bed --out training_set\n",
      "plink --bfile training_set --logistic sex beta hide-covar --covar low_ld_pruned.cov --covar-name PC1-PC10 --out low_ld\n",
      "plink --bfile training_set --clump low_ld.assoc.logistic --clump-p1 1 --clump-p2 1 --clump-r2 0.2 --clump-kb 500 --out low_ld_clump \n"
     ]
    },
    {
     "name": "stderr",
     "output_type": "stream",
     "text": [
      "100%|██████████| 140/140 [00:07<00:00, 18.14it/s]\n"
     ]
    },
    {
     "name": "stdout",
     "output_type": "stream",
     "text": [
      "=========================Iteration 5=========================\n",
      "plink --bfile /home/vcabeli/Documents/data/BP_final/BP.B37-final --extract L2_thresh_5_BP.extract --make-bed --out low_ld\n",
      "Wrote low_ld_pruned bed/bim/fam.\n",
      "smartpca.perl -i low_ld_pruned.bed -a low_ld_pruned.bim -b low_ld_pruned.fam -o low_ld_pruned.pca -p low_ld_pruned.plot -e low_ld_pruned.eval -l low_ld_pruned.log -k 10 -t 2 -m 0\n",
      "Wrote low_ld_pruned.cov\n",
      "plink --bfile /home/vcabeli/Documents/data/BP_final/BP.B37-final --keep training_samples.keep --make-bed --out training_set\n",
      "plink --bfile training_set --logistic sex beta hide-covar --covar low_ld_pruned.cov --covar-name PC1-PC10 --out low_ld\n",
      "plink --bfile training_set --clump low_ld.assoc.logistic --clump-p1 1 --clump-p2 1 --clump-r2 0.2 --clump-kb 500 --out low_ld_clump \n"
     ]
    },
    {
     "name": "stderr",
     "output_type": "stream",
     "text": [
      "100%|██████████| 140/140 [00:07<00:00, 19.12it/s]\n"
     ]
    },
    {
     "name": "stdout",
     "output_type": "stream",
     "text": [
      "=========================Iteration 6=========================\n",
      "plink --bfile /home/vcabeli/Documents/data/BP_final/BP.B37-final --extract L2_thresh_5_BP.extract --make-bed --out low_ld\n",
      "Wrote low_ld_pruned bed/bim/fam.\n",
      "smartpca.perl -i low_ld_pruned.bed -a low_ld_pruned.bim -b low_ld_pruned.fam -o low_ld_pruned.pca -p low_ld_pruned.plot -e low_ld_pruned.eval -l low_ld_pruned.log -k 10 -t 2 -m 0\n",
      "Wrote low_ld_pruned.cov\n",
      "plink --bfile /home/vcabeli/Documents/data/BP_final/BP.B37-final --keep training_samples.keep --make-bed --out training_set\n",
      "plink --bfile training_set --logistic sex beta hide-covar --covar low_ld_pruned.cov --covar-name PC1-PC10 --out low_ld\n",
      "plink --bfile training_set --clump low_ld.assoc.logistic --clump-p1 1 --clump-p2 1 --clump-r2 0.2 --clump-kb 500 --out low_ld_clump \n"
     ]
    },
    {
     "name": "stderr",
     "output_type": "stream",
     "text": [
      "100%|██████████| 140/140 [00:07<00:00, 19.04it/s]\n"
     ]
    },
    {
     "name": "stdout",
     "output_type": "stream",
     "text": [
      "=========================Iteration 7=========================\n",
      "plink --bfile /home/vcabeli/Documents/data/BP_final/BP.B37-final --extract L2_thresh_5_BP.extract --make-bed --out low_ld\n",
      "Wrote low_ld_pruned bed/bim/fam.\n",
      "smartpca.perl -i low_ld_pruned.bed -a low_ld_pruned.bim -b low_ld_pruned.fam -o low_ld_pruned.pca -p low_ld_pruned.plot -e low_ld_pruned.eval -l low_ld_pruned.log -k 10 -t 2 -m 0\n",
      "Wrote low_ld_pruned.cov\n",
      "plink --bfile /home/vcabeli/Documents/data/BP_final/BP.B37-final --keep training_samples.keep --make-bed --out training_set\n",
      "plink --bfile training_set --logistic sex beta hide-covar --covar low_ld_pruned.cov --covar-name PC1-PC10 --out low_ld\n",
      "plink --bfile training_set --clump low_ld.assoc.logistic --clump-p1 1 --clump-p2 1 --clump-r2 0.2 --clump-kb 500 --out low_ld_clump \n"
     ]
    },
    {
     "name": "stderr",
     "output_type": "stream",
     "text": [
      "100%|██████████| 140/140 [00:07<00:00, 19.01it/s]\n"
     ]
    },
    {
     "name": "stdout",
     "output_type": "stream",
     "text": [
      "=========================Iteration 8=========================\n",
      "plink --bfile /home/vcabeli/Documents/data/BP_final/BP.B37-final --extract L2_thresh_5_BP.extract --make-bed --out low_ld\n",
      "Wrote low_ld_pruned bed/bim/fam.\n",
      "smartpca.perl -i low_ld_pruned.bed -a low_ld_pruned.bim -b low_ld_pruned.fam -o low_ld_pruned.pca -p low_ld_pruned.plot -e low_ld_pruned.eval -l low_ld_pruned.log -k 10 -t 2 -m 0\n",
      "Wrote low_ld_pruned.cov\n",
      "plink --bfile /home/vcabeli/Documents/data/BP_final/BP.B37-final --keep training_samples.keep --make-bed --out training_set\n",
      "plink --bfile training_set --logistic sex beta hide-covar --covar low_ld_pruned.cov --covar-name PC1-PC10 --out low_ld\n",
      "plink --bfile training_set --clump low_ld.assoc.logistic --clump-p1 1 --clump-p2 1 --clump-r2 0.2 --clump-kb 500 --out low_ld_clump \n"
     ]
    },
    {
     "name": "stderr",
     "output_type": "stream",
     "text": [
      "100%|██████████| 140/140 [00:07<00:00, 19.04it/s]\n"
     ]
    },
    {
     "name": "stdout",
     "output_type": "stream",
     "text": [
      "=========================Iteration 9=========================\n",
      "plink --bfile /home/vcabeli/Documents/data/BP_final/BP.B37-final --extract L2_thresh_5_BP.extract --make-bed --out low_ld\n",
      "Wrote low_ld_pruned bed/bim/fam.\n",
      "smartpca.perl -i low_ld_pruned.bed -a low_ld_pruned.bim -b low_ld_pruned.fam -o low_ld_pruned.pca -p low_ld_pruned.plot -e low_ld_pruned.eval -l low_ld_pruned.log -k 10 -t 2 -m 0\n",
      "Wrote low_ld_pruned.cov\n",
      "plink --bfile /home/vcabeli/Documents/data/BP_final/BP.B37-final --keep training_samples.keep --make-bed --out training_set\n",
      "plink --bfile training_set --logistic sex beta hide-covar --covar low_ld_pruned.cov --covar-name PC1-PC10 --out low_ld\n",
      "plink --bfile training_set --clump low_ld.assoc.logistic --clump-p1 1 --clump-p2 1 --clump-r2 0.2 --clump-kb 500 --out low_ld_clump \n"
     ]
    },
    {
     "name": "stderr",
     "output_type": "stream",
     "text": [
      "100%|██████████| 140/140 [00:07<00:00, 18.88it/s]\n"
     ]
    },
    {
     "name": "stdout",
     "output_type": "stream",
     "text": [
      "========================= 20 PCs =========================\n",
      "=========================Iteration 0=========================\n",
      "plink --bfile /home/vcabeli/Documents/data/BP_final/BP.B37-final --extract L2_thresh_5_BP.extract --make-bed --out low_ld\n",
      "Wrote low_ld_pruned bed/bim/fam.\n",
      "smartpca.perl -i low_ld_pruned.bed -a low_ld_pruned.bim -b low_ld_pruned.fam -o low_ld_pruned.pca -p low_ld_pruned.plot -e low_ld_pruned.eval -l low_ld_pruned.log -k 20 -t 2 -m 0\n",
      "Wrote low_ld_pruned.cov\n",
      "plink --bfile /home/vcabeli/Documents/data/BP_final/BP.B37-final --keep training_samples.keep --make-bed --out training_set\n",
      "plink --bfile training_set --logistic sex beta hide-covar --covar low_ld_pruned.cov --covar-name PC1-PC20 --out low_ld\n",
      "plink --bfile training_set --clump low_ld.assoc.logistic --clump-p1 1 --clump-p2 1 --clump-r2 0.2 --clump-kb 500 --out low_ld_clump \n"
     ]
    },
    {
     "name": "stderr",
     "output_type": "stream",
     "text": [
      "100%|██████████| 140/140 [00:07<00:00, 19.10it/s]\n"
     ]
    },
    {
     "name": "stdout",
     "output_type": "stream",
     "text": [
      "=========================Iteration 1=========================\n",
      "plink --bfile /home/vcabeli/Documents/data/BP_final/BP.B37-final --extract L2_thresh_5_BP.extract --make-bed --out low_ld\n",
      "Wrote low_ld_pruned bed/bim/fam.\n",
      "smartpca.perl -i low_ld_pruned.bed -a low_ld_pruned.bim -b low_ld_pruned.fam -o low_ld_pruned.pca -p low_ld_pruned.plot -e low_ld_pruned.eval -l low_ld_pruned.log -k 20 -t 2 -m 0\n",
      "Wrote low_ld_pruned.cov\n",
      "plink --bfile /home/vcabeli/Documents/data/BP_final/BP.B37-final --keep training_samples.keep --make-bed --out training_set\n",
      "plink --bfile training_set --logistic sex beta hide-covar --covar low_ld_pruned.cov --covar-name PC1-PC20 --out low_ld\n",
      "plink --bfile training_set --clump low_ld.assoc.logistic --clump-p1 1 --clump-p2 1 --clump-r2 0.2 --clump-kb 500 --out low_ld_clump \n"
     ]
    },
    {
     "name": "stderr",
     "output_type": "stream",
     "text": [
      "100%|██████████| 140/140 [00:07<00:00, 18.99it/s]\n"
     ]
    },
    {
     "name": "stdout",
     "output_type": "stream",
     "text": [
      "=========================Iteration 2=========================\n",
      "plink --bfile /home/vcabeli/Documents/data/BP_final/BP.B37-final --extract L2_thresh_5_BP.extract --make-bed --out low_ld\n",
      "Wrote low_ld_pruned bed/bim/fam.\n",
      "smartpca.perl -i low_ld_pruned.bed -a low_ld_pruned.bim -b low_ld_pruned.fam -o low_ld_pruned.pca -p low_ld_pruned.plot -e low_ld_pruned.eval -l low_ld_pruned.log -k 20 -t 2 -m 0\n",
      "Wrote low_ld_pruned.cov\n",
      "plink --bfile /home/vcabeli/Documents/data/BP_final/BP.B37-final --keep training_samples.keep --make-bed --out training_set\n",
      "plink --bfile training_set --logistic sex beta hide-covar --covar low_ld_pruned.cov --covar-name PC1-PC20 --out low_ld\n",
      "plink --bfile training_set --clump low_ld.assoc.logistic --clump-p1 1 --clump-p2 1 --clump-r2 0.2 --clump-kb 500 --out low_ld_clump \n"
     ]
    },
    {
     "name": "stderr",
     "output_type": "stream",
     "text": [
      "100%|██████████| 140/140 [00:07<00:00, 19.11it/s]\n"
     ]
    },
    {
     "name": "stdout",
     "output_type": "stream",
     "text": [
      "=========================Iteration 3=========================\n",
      "plink --bfile /home/vcabeli/Documents/data/BP_final/BP.B37-final --extract L2_thresh_5_BP.extract --make-bed --out low_ld\n",
      "Wrote low_ld_pruned bed/bim/fam.\n",
      "smartpca.perl -i low_ld_pruned.bed -a low_ld_pruned.bim -b low_ld_pruned.fam -o low_ld_pruned.pca -p low_ld_pruned.plot -e low_ld_pruned.eval -l low_ld_pruned.log -k 20 -t 2 -m 0\n",
      "Wrote low_ld_pruned.cov\n",
      "plink --bfile /home/vcabeli/Documents/data/BP_final/BP.B37-final --keep training_samples.keep --make-bed --out training_set\n",
      "plink --bfile training_set --logistic sex beta hide-covar --covar low_ld_pruned.cov --covar-name PC1-PC20 --out low_ld\n",
      "plink --bfile training_set --clump low_ld.assoc.logistic --clump-p1 1 --clump-p2 1 --clump-r2 0.2 --clump-kb 500 --out low_ld_clump \n"
     ]
    },
    {
     "name": "stderr",
     "output_type": "stream",
     "text": [
      "100%|██████████| 140/140 [00:07<00:00, 19.00it/s]\n"
     ]
    },
    {
     "name": "stdout",
     "output_type": "stream",
     "text": [
      "=========================Iteration 4=========================\n",
      "plink --bfile /home/vcabeli/Documents/data/BP_final/BP.B37-final --extract L2_thresh_5_BP.extract --make-bed --out low_ld\n",
      "Wrote low_ld_pruned bed/bim/fam.\n",
      "smartpca.perl -i low_ld_pruned.bed -a low_ld_pruned.bim -b low_ld_pruned.fam -o low_ld_pruned.pca -p low_ld_pruned.plot -e low_ld_pruned.eval -l low_ld_pruned.log -k 20 -t 2 -m 0\n",
      "Wrote low_ld_pruned.cov\n",
      "plink --bfile /home/vcabeli/Documents/data/BP_final/BP.B37-final --keep training_samples.keep --make-bed --out training_set\n",
      "plink --bfile training_set --logistic sex beta hide-covar --covar low_ld_pruned.cov --covar-name PC1-PC20 --out low_ld\n",
      "plink --bfile training_set --clump low_ld.assoc.logistic --clump-p1 1 --clump-p2 1 --clump-r2 0.2 --clump-kb 500 --out low_ld_clump \n"
     ]
    },
    {
     "name": "stderr",
     "output_type": "stream",
     "text": [
      "100%|██████████| 140/140 [00:07<00:00, 18.07it/s]\n"
     ]
    },
    {
     "name": "stdout",
     "output_type": "stream",
     "text": [
      "=========================Iteration 5=========================\n",
      "plink --bfile /home/vcabeli/Documents/data/BP_final/BP.B37-final --extract L2_thresh_5_BP.extract --make-bed --out low_ld\n",
      "Wrote low_ld_pruned bed/bim/fam.\n",
      "smartpca.perl -i low_ld_pruned.bed -a low_ld_pruned.bim -b low_ld_pruned.fam -o low_ld_pruned.pca -p low_ld_pruned.plot -e low_ld_pruned.eval -l low_ld_pruned.log -k 20 -t 2 -m 0\n",
      "Wrote low_ld_pruned.cov\n",
      "plink --bfile /home/vcabeli/Documents/data/BP_final/BP.B37-final --keep training_samples.keep --make-bed --out training_set\n",
      "plink --bfile training_set --logistic sex beta hide-covar --covar low_ld_pruned.cov --covar-name PC1-PC20 --out low_ld\n",
      "plink --bfile training_set --clump low_ld.assoc.logistic --clump-p1 1 --clump-p2 1 --clump-r2 0.2 --clump-kb 500 --out low_ld_clump \n"
     ]
    },
    {
     "name": "stderr",
     "output_type": "stream",
     "text": [
      "100%|██████████| 140/140 [00:07<00:00, 19.20it/s]\n"
     ]
    },
    {
     "name": "stdout",
     "output_type": "stream",
     "text": [
      "=========================Iteration 6=========================\n",
      "plink --bfile /home/vcabeli/Documents/data/BP_final/BP.B37-final --extract L2_thresh_5_BP.extract --make-bed --out low_ld\n",
      "Wrote low_ld_pruned bed/bim/fam.\n",
      "smartpca.perl -i low_ld_pruned.bed -a low_ld_pruned.bim -b low_ld_pruned.fam -o low_ld_pruned.pca -p low_ld_pruned.plot -e low_ld_pruned.eval -l low_ld_pruned.log -k 20 -t 2 -m 0\n",
      "Wrote low_ld_pruned.cov\n",
      "plink --bfile /home/vcabeli/Documents/data/BP_final/BP.B37-final --keep training_samples.keep --make-bed --out training_set\n",
      "plink --bfile training_set --logistic sex beta hide-covar --covar low_ld_pruned.cov --covar-name PC1-PC20 --out low_ld\n",
      "plink --bfile training_set --clump low_ld.assoc.logistic --clump-p1 1 --clump-p2 1 --clump-r2 0.2 --clump-kb 500 --out low_ld_clump \n"
     ]
    },
    {
     "name": "stderr",
     "output_type": "stream",
     "text": [
      "100%|██████████| 140/140 [00:07<00:00, 19.24it/s]\n"
     ]
    },
    {
     "name": "stdout",
     "output_type": "stream",
     "text": [
      "=========================Iteration 7=========================\n",
      "plink --bfile /home/vcabeli/Documents/data/BP_final/BP.B37-final --extract L2_thresh_5_BP.extract --make-bed --out low_ld\n",
      "Wrote low_ld_pruned bed/bim/fam.\n",
      "smartpca.perl -i low_ld_pruned.bed -a low_ld_pruned.bim -b low_ld_pruned.fam -o low_ld_pruned.pca -p low_ld_pruned.plot -e low_ld_pruned.eval -l low_ld_pruned.log -k 20 -t 2 -m 0\n",
      "Wrote low_ld_pruned.cov\n",
      "plink --bfile /home/vcabeli/Documents/data/BP_final/BP.B37-final --keep training_samples.keep --make-bed --out training_set\n",
      "plink --bfile training_set --logistic sex beta hide-covar --covar low_ld_pruned.cov --covar-name PC1-PC20 --out low_ld\n",
      "plink --bfile training_set --clump low_ld.assoc.logistic --clump-p1 1 --clump-p2 1 --clump-r2 0.2 --clump-kb 500 --out low_ld_clump \n"
     ]
    },
    {
     "name": "stderr",
     "output_type": "stream",
     "text": [
      "100%|██████████| 140/140 [00:07<00:00, 19.17it/s]\n"
     ]
    },
    {
     "name": "stdout",
     "output_type": "stream",
     "text": [
      "=========================Iteration 8=========================\n",
      "plink --bfile /home/vcabeli/Documents/data/BP_final/BP.B37-final --extract L2_thresh_5_BP.extract --make-bed --out low_ld\n",
      "Wrote low_ld_pruned bed/bim/fam.\n",
      "smartpca.perl -i low_ld_pruned.bed -a low_ld_pruned.bim -b low_ld_pruned.fam -o low_ld_pruned.pca -p low_ld_pruned.plot -e low_ld_pruned.eval -l low_ld_pruned.log -k 20 -t 2 -m 0\n",
      "Wrote low_ld_pruned.cov\n",
      "plink --bfile /home/vcabeli/Documents/data/BP_final/BP.B37-final --keep training_samples.keep --make-bed --out training_set\n",
      "plink --bfile training_set --logistic sex beta hide-covar --covar low_ld_pruned.cov --covar-name PC1-PC20 --out low_ld\n",
      "plink --bfile training_set --clump low_ld.assoc.logistic --clump-p1 1 --clump-p2 1 --clump-r2 0.2 --clump-kb 500 --out low_ld_clump \n"
     ]
    },
    {
     "name": "stderr",
     "output_type": "stream",
     "text": [
      "100%|██████████| 140/140 [00:07<00:00, 19.11it/s]\n"
     ]
    },
    {
     "name": "stdout",
     "output_type": "stream",
     "text": [
      "=========================Iteration 9=========================\n",
      "plink --bfile /home/vcabeli/Documents/data/BP_final/BP.B37-final --extract L2_thresh_5_BP.extract --make-bed --out low_ld\n",
      "Wrote low_ld_pruned bed/bim/fam.\n",
      "smartpca.perl -i low_ld_pruned.bed -a low_ld_pruned.bim -b low_ld_pruned.fam -o low_ld_pruned.pca -p low_ld_pruned.plot -e low_ld_pruned.eval -l low_ld_pruned.log -k 20 -t 2 -m 0\n",
      "Wrote low_ld_pruned.cov\n",
      "plink --bfile /home/vcabeli/Documents/data/BP_final/BP.B37-final --keep training_samples.keep --make-bed --out training_set\n",
      "plink --bfile training_set --logistic sex beta hide-covar --covar low_ld_pruned.cov --covar-name PC1-PC20 --out low_ld\n",
      "plink --bfile training_set --clump low_ld.assoc.logistic --clump-p1 1 --clump-p2 1 --clump-r2 0.2 --clump-kb 500 --out low_ld_clump \n"
     ]
    },
    {
     "name": "stderr",
     "output_type": "stream",
     "text": [
      "100%|██████████| 140/140 [00:07<00:00, 19.03it/s]\n"
     ]
    },
    {
     "name": "stdout",
     "output_type": "stream",
     "text": [
      "========================= 30 PCs =========================\n",
      "=========================Iteration 0=========================\n",
      "plink --bfile /home/vcabeli/Documents/data/BP_final/BP.B37-final --extract L2_thresh_5_BP.extract --make-bed --out low_ld\n",
      "Wrote low_ld_pruned bed/bim/fam.\n",
      "smartpca.perl -i low_ld_pruned.bed -a low_ld_pruned.bim -b low_ld_pruned.fam -o low_ld_pruned.pca -p low_ld_pruned.plot -e low_ld_pruned.eval -l low_ld_pruned.log -k 30 -t 2 -m 0\n",
      "Wrote low_ld_pruned.cov\n",
      "plink --bfile /home/vcabeli/Documents/data/BP_final/BP.B37-final --keep training_samples.keep --make-bed --out training_set\n",
      "plink --bfile training_set --logistic sex beta hide-covar --covar low_ld_pruned.cov --covar-name PC1-PC30 --out low_ld\n",
      "plink --bfile training_set --clump low_ld.assoc.logistic --clump-p1 1 --clump-p2 1 --clump-r2 0.2 --clump-kb 500 --out low_ld_clump \n"
     ]
    },
    {
     "name": "stderr",
     "output_type": "stream",
     "text": [
      "100%|██████████| 140/140 [00:07<00:00, 19.20it/s]\n"
     ]
    },
    {
     "name": "stdout",
     "output_type": "stream",
     "text": [
      "=========================Iteration 1=========================\n",
      "plink --bfile /home/vcabeli/Documents/data/BP_final/BP.B37-final --extract L2_thresh_5_BP.extract --make-bed --out low_ld\n",
      "Wrote low_ld_pruned bed/bim/fam.\n",
      "smartpca.perl -i low_ld_pruned.bed -a low_ld_pruned.bim -b low_ld_pruned.fam -o low_ld_pruned.pca -p low_ld_pruned.plot -e low_ld_pruned.eval -l low_ld_pruned.log -k 30 -t 2 -m 0\n",
      "Wrote low_ld_pruned.cov\n",
      "plink --bfile /home/vcabeli/Documents/data/BP_final/BP.B37-final --keep training_samples.keep --make-bed --out training_set\n",
      "plink --bfile training_set --logistic sex beta hide-covar --covar low_ld_pruned.cov --covar-name PC1-PC30 --out low_ld\n",
      "plink --bfile training_set --clump low_ld.assoc.logistic --clump-p1 1 --clump-p2 1 --clump-r2 0.2 --clump-kb 500 --out low_ld_clump \n"
     ]
    },
    {
     "name": "stderr",
     "output_type": "stream",
     "text": [
      "100%|██████████| 140/140 [00:07<00:00, 18.85it/s]\n"
     ]
    },
    {
     "name": "stdout",
     "output_type": "stream",
     "text": [
      "=========================Iteration 2=========================\n",
      "plink --bfile /home/vcabeli/Documents/data/BP_final/BP.B37-final --extract L2_thresh_5_BP.extract --make-bed --out low_ld\n",
      "Wrote low_ld_pruned bed/bim/fam.\n",
      "smartpca.perl -i low_ld_pruned.bed -a low_ld_pruned.bim -b low_ld_pruned.fam -o low_ld_pruned.pca -p low_ld_pruned.plot -e low_ld_pruned.eval -l low_ld_pruned.log -k 30 -t 2 -m 0\n",
      "Wrote low_ld_pruned.cov\n",
      "plink --bfile /home/vcabeli/Documents/data/BP_final/BP.B37-final --keep training_samples.keep --make-bed --out training_set\n",
      "plink --bfile training_set --logistic sex beta hide-covar --covar low_ld_pruned.cov --covar-name PC1-PC30 --out low_ld\n",
      "plink --bfile training_set --clump low_ld.assoc.logistic --clump-p1 1 --clump-p2 1 --clump-r2 0.2 --clump-kb 500 --out low_ld_clump \n"
     ]
    },
    {
     "name": "stderr",
     "output_type": "stream",
     "text": [
      "100%|██████████| 140/140 [00:07<00:00, 19.07it/s]\n"
     ]
    },
    {
     "name": "stdout",
     "output_type": "stream",
     "text": [
      "=========================Iteration 3=========================\n",
      "plink --bfile /home/vcabeli/Documents/data/BP_final/BP.B37-final --extract L2_thresh_5_BP.extract --make-bed --out low_ld\n",
      "Wrote low_ld_pruned bed/bim/fam.\n",
      "smartpca.perl -i low_ld_pruned.bed -a low_ld_pruned.bim -b low_ld_pruned.fam -o low_ld_pruned.pca -p low_ld_pruned.plot -e low_ld_pruned.eval -l low_ld_pruned.log -k 30 -t 2 -m 0\n",
      "Wrote low_ld_pruned.cov\n",
      "plink --bfile /home/vcabeli/Documents/data/BP_final/BP.B37-final --keep training_samples.keep --make-bed --out training_set\n",
      "plink --bfile training_set --logistic sex beta hide-covar --covar low_ld_pruned.cov --covar-name PC1-PC30 --out low_ld\n",
      "plink --bfile training_set --clump low_ld.assoc.logistic --clump-p1 1 --clump-p2 1 --clump-r2 0.2 --clump-kb 500 --out low_ld_clump \n"
     ]
    },
    {
     "name": "stderr",
     "output_type": "stream",
     "text": [
      "100%|██████████| 140/140 [00:07<00:00, 18.54it/s]\n"
     ]
    },
    {
     "name": "stdout",
     "output_type": "stream",
     "text": [
      "=========================Iteration 4=========================\n",
      "plink --bfile /home/vcabeli/Documents/data/BP_final/BP.B37-final --extract L2_thresh_5_BP.extract --make-bed --out low_ld\n",
      "Wrote low_ld_pruned bed/bim/fam.\n",
      "smartpca.perl -i low_ld_pruned.bed -a low_ld_pruned.bim -b low_ld_pruned.fam -o low_ld_pruned.pca -p low_ld_pruned.plot -e low_ld_pruned.eval -l low_ld_pruned.log -k 30 -t 2 -m 0\n",
      "Wrote low_ld_pruned.cov\n",
      "plink --bfile /home/vcabeli/Documents/data/BP_final/BP.B37-final --keep training_samples.keep --make-bed --out training_set\n",
      "plink --bfile training_set --logistic sex beta hide-covar --covar low_ld_pruned.cov --covar-name PC1-PC30 --out low_ld\n",
      "plink --bfile training_set --clump low_ld.assoc.logistic --clump-p1 1 --clump-p2 1 --clump-r2 0.2 --clump-kb 500 --out low_ld_clump \n"
     ]
    },
    {
     "name": "stderr",
     "output_type": "stream",
     "text": [
      "100%|██████████| 140/140 [00:07<00:00, 18.03it/s]\n"
     ]
    },
    {
     "name": "stdout",
     "output_type": "stream",
     "text": [
      "=========================Iteration 5=========================\n",
      "plink --bfile /home/vcabeli/Documents/data/BP_final/BP.B37-final --extract L2_thresh_5_BP.extract --make-bed --out low_ld\n",
      "Wrote low_ld_pruned bed/bim/fam.\n",
      "smartpca.perl -i low_ld_pruned.bed -a low_ld_pruned.bim -b low_ld_pruned.fam -o low_ld_pruned.pca -p low_ld_pruned.plot -e low_ld_pruned.eval -l low_ld_pruned.log -k 30 -t 2 -m 0\n",
      "Wrote low_ld_pruned.cov\n",
      "plink --bfile /home/vcabeli/Documents/data/BP_final/BP.B37-final --keep training_samples.keep --make-bed --out training_set\n",
      "plink --bfile training_set --logistic sex beta hide-covar --covar low_ld_pruned.cov --covar-name PC1-PC30 --out low_ld\n",
      "plink --bfile training_set --clump low_ld.assoc.logistic --clump-p1 1 --clump-p2 1 --clump-r2 0.2 --clump-kb 500 --out low_ld_clump \n"
     ]
    },
    {
     "name": "stderr",
     "output_type": "stream",
     "text": [
      "100%|██████████| 140/140 [00:07<00:00, 19.10it/s]\n"
     ]
    },
    {
     "name": "stdout",
     "output_type": "stream",
     "text": [
      "=========================Iteration 6=========================\n",
      "plink --bfile /home/vcabeli/Documents/data/BP_final/BP.B37-final --extract L2_thresh_5_BP.extract --make-bed --out low_ld\n",
      "Wrote low_ld_pruned bed/bim/fam.\n",
      "smartpca.perl -i low_ld_pruned.bed -a low_ld_pruned.bim -b low_ld_pruned.fam -o low_ld_pruned.pca -p low_ld_pruned.plot -e low_ld_pruned.eval -l low_ld_pruned.log -k 30 -t 2 -m 0\n",
      "Wrote low_ld_pruned.cov\n",
      "plink --bfile /home/vcabeli/Documents/data/BP_final/BP.B37-final --keep training_samples.keep --make-bed --out training_set\n",
      "plink --bfile training_set --logistic sex beta hide-covar --covar low_ld_pruned.cov --covar-name PC1-PC30 --out low_ld\n",
      "plink --bfile training_set --clump low_ld.assoc.logistic --clump-p1 1 --clump-p2 1 --clump-r2 0.2 --clump-kb 500 --out low_ld_clump \n"
     ]
    },
    {
     "name": "stderr",
     "output_type": "stream",
     "text": [
      "100%|██████████| 140/140 [00:07<00:00, 19.15it/s]\n"
     ]
    },
    {
     "name": "stdout",
     "output_type": "stream",
     "text": [
      "=========================Iteration 7=========================\n",
      "plink --bfile /home/vcabeli/Documents/data/BP_final/BP.B37-final --extract L2_thresh_5_BP.extract --make-bed --out low_ld\n",
      "Wrote low_ld_pruned bed/bim/fam.\n",
      "smartpca.perl -i low_ld_pruned.bed -a low_ld_pruned.bim -b low_ld_pruned.fam -o low_ld_pruned.pca -p low_ld_pruned.plot -e low_ld_pruned.eval -l low_ld_pruned.log -k 30 -t 2 -m 0\n",
      "Wrote low_ld_pruned.cov\n",
      "plink --bfile /home/vcabeli/Documents/data/BP_final/BP.B37-final --keep training_samples.keep --make-bed --out training_set\n",
      "plink --bfile training_set --logistic sex beta hide-covar --covar low_ld_pruned.cov --covar-name PC1-PC30 --out low_ld\n",
      "plink --bfile training_set --clump low_ld.assoc.logistic --clump-p1 1 --clump-p2 1 --clump-r2 0.2 --clump-kb 500 --out low_ld_clump \n"
     ]
    },
    {
     "name": "stderr",
     "output_type": "stream",
     "text": [
      "100%|██████████| 140/140 [00:07<00:00, 19.08it/s]\n"
     ]
    },
    {
     "name": "stdout",
     "output_type": "stream",
     "text": [
      "=========================Iteration 8=========================\n",
      "plink --bfile /home/vcabeli/Documents/data/BP_final/BP.B37-final --extract L2_thresh_5_BP.extract --make-bed --out low_ld\n",
      "Wrote low_ld_pruned bed/bim/fam.\n",
      "smartpca.perl -i low_ld_pruned.bed -a low_ld_pruned.bim -b low_ld_pruned.fam -o low_ld_pruned.pca -p low_ld_pruned.plot -e low_ld_pruned.eval -l low_ld_pruned.log -k 30 -t 2 -m 0\n",
      "Wrote low_ld_pruned.cov\n",
      "plink --bfile /home/vcabeli/Documents/data/BP_final/BP.B37-final --keep training_samples.keep --make-bed --out training_set\n",
      "plink --bfile training_set --logistic sex beta hide-covar --covar low_ld_pruned.cov --covar-name PC1-PC30 --out low_ld\n",
      "plink --bfile training_set --clump low_ld.assoc.logistic --clump-p1 1 --clump-p2 1 --clump-r2 0.2 --clump-kb 500 --out low_ld_clump \n"
     ]
    },
    {
     "name": "stderr",
     "output_type": "stream",
     "text": [
      "100%|██████████| 140/140 [00:07<00:00, 18.96it/s]\n"
     ]
    },
    {
     "name": "stdout",
     "output_type": "stream",
     "text": [
      "=========================Iteration 9=========================\n",
      "plink --bfile /home/vcabeli/Documents/data/BP_final/BP.B37-final --extract L2_thresh_5_BP.extract --make-bed --out low_ld\n",
      "Wrote low_ld_pruned bed/bim/fam.\n",
      "smartpca.perl -i low_ld_pruned.bed -a low_ld_pruned.bim -b low_ld_pruned.fam -o low_ld_pruned.pca -p low_ld_pruned.plot -e low_ld_pruned.eval -l low_ld_pruned.log -k 30 -t 2 -m 0\n",
      "Wrote low_ld_pruned.cov\n",
      "plink --bfile /home/vcabeli/Documents/data/BP_final/BP.B37-final --keep training_samples.keep --make-bed --out training_set\n",
      "plink --bfile training_set --logistic sex beta hide-covar --covar low_ld_pruned.cov --covar-name PC1-PC30 --out low_ld\n",
      "plink --bfile training_set --clump low_ld.assoc.logistic --clump-p1 1 --clump-p2 1 --clump-r2 0.2 --clump-kb 500 --out low_ld_clump \n"
     ]
    },
    {
     "name": "stderr",
     "output_type": "stream",
     "text": [
      "100%|██████████| 140/140 [00:07<00:00, 19.04it/s]\n"
     ]
    },
    {
     "name": "stdout",
     "output_type": "stream",
     "text": [
      "========================= 40 PCs =========================\n",
      "=========================Iteration 0=========================\n",
      "plink --bfile /home/vcabeli/Documents/data/BP_final/BP.B37-final --extract L2_thresh_5_BP.extract --make-bed --out low_ld\n",
      "Wrote low_ld_pruned bed/bim/fam.\n",
      "smartpca.perl -i low_ld_pruned.bed -a low_ld_pruned.bim -b low_ld_pruned.fam -o low_ld_pruned.pca -p low_ld_pruned.plot -e low_ld_pruned.eval -l low_ld_pruned.log -k 40 -t 2 -m 0\n",
      "Wrote low_ld_pruned.cov\n",
      "plink --bfile /home/vcabeli/Documents/data/BP_final/BP.B37-final --keep training_samples.keep --make-bed --out training_set\n",
      "plink --bfile training_set --logistic sex beta hide-covar --covar low_ld_pruned.cov --covar-name PC1-PC40 --out low_ld\n",
      "plink --bfile training_set --clump low_ld.assoc.logistic --clump-p1 1 --clump-p2 1 --clump-r2 0.2 --clump-kb 500 --out low_ld_clump \n"
     ]
    },
    {
     "name": "stderr",
     "output_type": "stream",
     "text": [
      "100%|██████████| 140/140 [00:07<00:00, 18.84it/s]\n"
     ]
    },
    {
     "name": "stdout",
     "output_type": "stream",
     "text": [
      "=========================Iteration 1=========================\n",
      "plink --bfile /home/vcabeli/Documents/data/BP_final/BP.B37-final --extract L2_thresh_5_BP.extract --make-bed --out low_ld\n",
      "Wrote low_ld_pruned bed/bim/fam.\n",
      "smartpca.perl -i low_ld_pruned.bed -a low_ld_pruned.bim -b low_ld_pruned.fam -o low_ld_pruned.pca -p low_ld_pruned.plot -e low_ld_pruned.eval -l low_ld_pruned.log -k 40 -t 2 -m 0\n",
      "Wrote low_ld_pruned.cov\n",
      "plink --bfile /home/vcabeli/Documents/data/BP_final/BP.B37-final --keep training_samples.keep --make-bed --out training_set\n",
      "plink --bfile training_set --logistic sex beta hide-covar --covar low_ld_pruned.cov --covar-name PC1-PC40 --out low_ld\n",
      "plink --bfile training_set --clump low_ld.assoc.logistic --clump-p1 1 --clump-p2 1 --clump-r2 0.2 --clump-kb 500 --out low_ld_clump \n"
     ]
    },
    {
     "name": "stderr",
     "output_type": "stream",
     "text": [
      "100%|██████████| 140/140 [00:07<00:00, 19.08it/s]\n"
     ]
    },
    {
     "name": "stdout",
     "output_type": "stream",
     "text": [
      "=========================Iteration 2=========================\n",
      "plink --bfile /home/vcabeli/Documents/data/BP_final/BP.B37-final --extract L2_thresh_5_BP.extract --make-bed --out low_ld\n",
      "Wrote low_ld_pruned bed/bim/fam.\n",
      "smartpca.perl -i low_ld_pruned.bed -a low_ld_pruned.bim -b low_ld_pruned.fam -o low_ld_pruned.pca -p low_ld_pruned.plot -e low_ld_pruned.eval -l low_ld_pruned.log -k 40 -t 2 -m 0\n",
      "Wrote low_ld_pruned.cov\n",
      "plink --bfile /home/vcabeli/Documents/data/BP_final/BP.B37-final --keep training_samples.keep --make-bed --out training_set\n",
      "plink --bfile training_set --logistic sex beta hide-covar --covar low_ld_pruned.cov --covar-name PC1-PC40 --out low_ld\n",
      "plink --bfile training_set --clump low_ld.assoc.logistic --clump-p1 1 --clump-p2 1 --clump-r2 0.2 --clump-kb 500 --out low_ld_clump \n"
     ]
    },
    {
     "name": "stderr",
     "output_type": "stream",
     "text": [
      "100%|██████████| 140/140 [00:07<00:00, 19.07it/s]\n"
     ]
    },
    {
     "name": "stdout",
     "output_type": "stream",
     "text": [
      "=========================Iteration 3=========================\n",
      "plink --bfile /home/vcabeli/Documents/data/BP_final/BP.B37-final --extract L2_thresh_5_BP.extract --make-bed --out low_ld\n",
      "Wrote low_ld_pruned bed/bim/fam.\n",
      "smartpca.perl -i low_ld_pruned.bed -a low_ld_pruned.bim -b low_ld_pruned.fam -o low_ld_pruned.pca -p low_ld_pruned.plot -e low_ld_pruned.eval -l low_ld_pruned.log -k 40 -t 2 -m 0\n",
      "Wrote low_ld_pruned.cov\n",
      "plink --bfile /home/vcabeli/Documents/data/BP_final/BP.B37-final --keep training_samples.keep --make-bed --out training_set\n",
      "plink --bfile training_set --logistic sex beta hide-covar --covar low_ld_pruned.cov --covar-name PC1-PC40 --out low_ld\n",
      "plink --bfile training_set --clump low_ld.assoc.logistic --clump-p1 1 --clump-p2 1 --clump-r2 0.2 --clump-kb 500 --out low_ld_clump \n"
     ]
    },
    {
     "name": "stderr",
     "output_type": "stream",
     "text": [
      "100%|██████████| 140/140 [00:07<00:00, 18.98it/s]\n"
     ]
    },
    {
     "name": "stdout",
     "output_type": "stream",
     "text": [
      "=========================Iteration 4=========================\n",
      "plink --bfile /home/vcabeli/Documents/data/BP_final/BP.B37-final --extract L2_thresh_5_BP.extract --make-bed --out low_ld\n",
      "Wrote low_ld_pruned bed/bim/fam.\n",
      "smartpca.perl -i low_ld_pruned.bed -a low_ld_pruned.bim -b low_ld_pruned.fam -o low_ld_pruned.pca -p low_ld_pruned.plot -e low_ld_pruned.eval -l low_ld_pruned.log -k 40 -t 2 -m 0\n",
      "Wrote low_ld_pruned.cov\n",
      "plink --bfile /home/vcabeli/Documents/data/BP_final/BP.B37-final --keep training_samples.keep --make-bed --out training_set\n",
      "plink --bfile training_set --logistic sex beta hide-covar --covar low_ld_pruned.cov --covar-name PC1-PC40 --out low_ld\n",
      "plink --bfile training_set --clump low_ld.assoc.logistic --clump-p1 1 --clump-p2 1 --clump-r2 0.2 --clump-kb 500 --out low_ld_clump \n"
     ]
    },
    {
     "name": "stderr",
     "output_type": "stream",
     "text": [
      "100%|██████████| 140/140 [00:07<00:00, 18.08it/s]\n"
     ]
    },
    {
     "name": "stdout",
     "output_type": "stream",
     "text": [
      "=========================Iteration 5=========================\n",
      "plink --bfile /home/vcabeli/Documents/data/BP_final/BP.B37-final --extract L2_thresh_5_BP.extract --make-bed --out low_ld\n",
      "Wrote low_ld_pruned bed/bim/fam.\n",
      "smartpca.perl -i low_ld_pruned.bed -a low_ld_pruned.bim -b low_ld_pruned.fam -o low_ld_pruned.pca -p low_ld_pruned.plot -e low_ld_pruned.eval -l low_ld_pruned.log -k 40 -t 2 -m 0\n",
      "Wrote low_ld_pruned.cov\n",
      "plink --bfile /home/vcabeli/Documents/data/BP_final/BP.B37-final --keep training_samples.keep --make-bed --out training_set\n",
      "plink --bfile training_set --logistic sex beta hide-covar --covar low_ld_pruned.cov --covar-name PC1-PC40 --out low_ld\n",
      "plink --bfile training_set --clump low_ld.assoc.logistic --clump-p1 1 --clump-p2 1 --clump-r2 0.2 --clump-kb 500 --out low_ld_clump \n"
     ]
    },
    {
     "name": "stderr",
     "output_type": "stream",
     "text": [
      "100%|██████████| 140/140 [00:07<00:00, 19.24it/s]\n"
     ]
    },
    {
     "name": "stdout",
     "output_type": "stream",
     "text": [
      "=========================Iteration 6=========================\n",
      "plink --bfile /home/vcabeli/Documents/data/BP_final/BP.B37-final --extract L2_thresh_5_BP.extract --make-bed --out low_ld\n",
      "Wrote low_ld_pruned bed/bim/fam.\n",
      "smartpca.perl -i low_ld_pruned.bed -a low_ld_pruned.bim -b low_ld_pruned.fam -o low_ld_pruned.pca -p low_ld_pruned.plot -e low_ld_pruned.eval -l low_ld_pruned.log -k 40 -t 2 -m 0\n",
      "Wrote low_ld_pruned.cov\n",
      "plink --bfile /home/vcabeli/Documents/data/BP_final/BP.B37-final --keep training_samples.keep --make-bed --out training_set\n",
      "plink --bfile training_set --logistic sex beta hide-covar --covar low_ld_pruned.cov --covar-name PC1-PC40 --out low_ld\n",
      "plink --bfile training_set --clump low_ld.assoc.logistic --clump-p1 1 --clump-p2 1 --clump-r2 0.2 --clump-kb 500 --out low_ld_clump \n"
     ]
    },
    {
     "name": "stderr",
     "output_type": "stream",
     "text": [
      "100%|██████████| 140/140 [00:07<00:00, 19.06it/s]\n"
     ]
    },
    {
     "name": "stdout",
     "output_type": "stream",
     "text": [
      "=========================Iteration 7=========================\n",
      "plink --bfile /home/vcabeli/Documents/data/BP_final/BP.B37-final --extract L2_thresh_5_BP.extract --make-bed --out low_ld\n",
      "Wrote low_ld_pruned bed/bim/fam.\n",
      "smartpca.perl -i low_ld_pruned.bed -a low_ld_pruned.bim -b low_ld_pruned.fam -o low_ld_pruned.pca -p low_ld_pruned.plot -e low_ld_pruned.eval -l low_ld_pruned.log -k 40 -t 2 -m 0\n",
      "Wrote low_ld_pruned.cov\n",
      "plink --bfile /home/vcabeli/Documents/data/BP_final/BP.B37-final --keep training_samples.keep --make-bed --out training_set\n",
      "plink --bfile training_set --logistic sex beta hide-covar --covar low_ld_pruned.cov --covar-name PC1-PC40 --out low_ld\n",
      "plink --bfile training_set --clump low_ld.assoc.logistic --clump-p1 1 --clump-p2 1 --clump-r2 0.2 --clump-kb 500 --out low_ld_clump \n"
     ]
    },
    {
     "name": "stderr",
     "output_type": "stream",
     "text": [
      "100%|██████████| 140/140 [00:07<00:00, 19.02it/s]\n"
     ]
    },
    {
     "name": "stdout",
     "output_type": "stream",
     "text": [
      "=========================Iteration 8=========================\n",
      "plink --bfile /home/vcabeli/Documents/data/BP_final/BP.B37-final --extract L2_thresh_5_BP.extract --make-bed --out low_ld\n",
      "Wrote low_ld_pruned bed/bim/fam.\n",
      "smartpca.perl -i low_ld_pruned.bed -a low_ld_pruned.bim -b low_ld_pruned.fam -o low_ld_pruned.pca -p low_ld_pruned.plot -e low_ld_pruned.eval -l low_ld_pruned.log -k 40 -t 2 -m 0\n",
      "Wrote low_ld_pruned.cov\n",
      "plink --bfile /home/vcabeli/Documents/data/BP_final/BP.B37-final --keep training_samples.keep --make-bed --out training_set\n",
      "plink --bfile training_set --logistic sex beta hide-covar --covar low_ld_pruned.cov --covar-name PC1-PC40 --out low_ld\n",
      "plink --bfile training_set --clump low_ld.assoc.logistic --clump-p1 1 --clump-p2 1 --clump-r2 0.2 --clump-kb 500 --out low_ld_clump \n"
     ]
    },
    {
     "name": "stderr",
     "output_type": "stream",
     "text": [
      "100%|██████████| 140/140 [00:07<00:00, 19.19it/s]\n"
     ]
    },
    {
     "name": "stdout",
     "output_type": "stream",
     "text": [
      "=========================Iteration 9=========================\n",
      "plink --bfile /home/vcabeli/Documents/data/BP_final/BP.B37-final --extract L2_thresh_5_BP.extract --make-bed --out low_ld\n",
      "Wrote low_ld_pruned bed/bim/fam.\n",
      "smartpca.perl -i low_ld_pruned.bed -a low_ld_pruned.bim -b low_ld_pruned.fam -o low_ld_pruned.pca -p low_ld_pruned.plot -e low_ld_pruned.eval -l low_ld_pruned.log -k 40 -t 2 -m 0\n",
      "Wrote low_ld_pruned.cov\n",
      "plink --bfile /home/vcabeli/Documents/data/BP_final/BP.B37-final --keep training_samples.keep --make-bed --out training_set\n",
      "plink --bfile training_set --logistic sex beta hide-covar --covar low_ld_pruned.cov --covar-name PC1-PC40 --out low_ld\n",
      "plink --bfile training_set --clump low_ld.assoc.logistic --clump-p1 1 --clump-p2 1 --clump-r2 0.2 --clump-kb 500 --out low_ld_clump \n"
     ]
    },
    {
     "name": "stderr",
     "output_type": "stream",
     "text": [
      "100%|██████████| 140/140 [00:07<00:00, 19.08it/s]\n"
     ]
    },
    {
     "name": "stdout",
     "output_type": "stream",
     "text": [
      "========================= 50 PCs =========================\n",
      "=========================Iteration 0=========================\n",
      "plink --bfile /home/vcabeli/Documents/data/BP_final/BP.B37-final --extract L2_thresh_5_BP.extract --make-bed --out low_ld\n",
      "Wrote low_ld_pruned bed/bim/fam.\n",
      "smartpca.perl -i low_ld_pruned.bed -a low_ld_pruned.bim -b low_ld_pruned.fam -o low_ld_pruned.pca -p low_ld_pruned.plot -e low_ld_pruned.eval -l low_ld_pruned.log -k 50 -t 2 -m 0\n",
      "Wrote low_ld_pruned.cov\n",
      "plink --bfile /home/vcabeli/Documents/data/BP_final/BP.B37-final --keep training_samples.keep --make-bed --out training_set\n",
      "plink --bfile training_set --logistic sex beta hide-covar --covar low_ld_pruned.cov --covar-name PC1-PC50 --out low_ld\n",
      "plink --bfile training_set --clump low_ld.assoc.logistic --clump-p1 1 --clump-p2 1 --clump-r2 0.2 --clump-kb 500 --out low_ld_clump \n"
     ]
    },
    {
     "name": "stderr",
     "output_type": "stream",
     "text": [
      "100%|██████████| 140/140 [00:07<00:00, 19.08it/s]\n"
     ]
    },
    {
     "name": "stdout",
     "output_type": "stream",
     "text": [
      "=========================Iteration 1=========================\n",
      "plink --bfile /home/vcabeli/Documents/data/BP_final/BP.B37-final --extract L2_thresh_5_BP.extract --make-bed --out low_ld\n",
      "Wrote low_ld_pruned bed/bim/fam.\n",
      "smartpca.perl -i low_ld_pruned.bed -a low_ld_pruned.bim -b low_ld_pruned.fam -o low_ld_pruned.pca -p low_ld_pruned.plot -e low_ld_pruned.eval -l low_ld_pruned.log -k 50 -t 2 -m 0\n",
      "Wrote low_ld_pruned.cov\n",
      "plink --bfile /home/vcabeli/Documents/data/BP_final/BP.B37-final --keep training_samples.keep --make-bed --out training_set\n",
      "plink --bfile training_set --logistic sex beta hide-covar --covar low_ld_pruned.cov --covar-name PC1-PC50 --out low_ld\n",
      "plink --bfile training_set --clump low_ld.assoc.logistic --clump-p1 1 --clump-p2 1 --clump-r2 0.2 --clump-kb 500 --out low_ld_clump \n"
     ]
    },
    {
     "name": "stderr",
     "output_type": "stream",
     "text": [
      "100%|██████████| 140/140 [00:07<00:00, 16.80it/s]\n"
     ]
    },
    {
     "name": "stdout",
     "output_type": "stream",
     "text": [
      "=========================Iteration 2=========================\n",
      "plink --bfile /home/vcabeli/Documents/data/BP_final/BP.B37-final --extract L2_thresh_5_BP.extract --make-bed --out low_ld\n",
      "Wrote low_ld_pruned bed/bim/fam.\n",
      "smartpca.perl -i low_ld_pruned.bed -a low_ld_pruned.bim -b low_ld_pruned.fam -o low_ld_pruned.pca -p low_ld_pruned.plot -e low_ld_pruned.eval -l low_ld_pruned.log -k 50 -t 2 -m 0\n",
      "Wrote low_ld_pruned.cov\n",
      "plink --bfile /home/vcabeli/Documents/data/BP_final/BP.B37-final --keep training_samples.keep --make-bed --out training_set\n",
      "plink --bfile training_set --logistic sex beta hide-covar --covar low_ld_pruned.cov --covar-name PC1-PC50 --out low_ld\n",
      "plink --bfile training_set --clump low_ld.assoc.logistic --clump-p1 1 --clump-p2 1 --clump-r2 0.2 --clump-kb 500 --out low_ld_clump \n"
     ]
    },
    {
     "name": "stderr",
     "output_type": "stream",
     "text": [
      "100%|██████████| 140/140 [00:07<00:00, 18.92it/s]\n"
     ]
    },
    {
     "name": "stdout",
     "output_type": "stream",
     "text": [
      "=========================Iteration 3=========================\n",
      "plink --bfile /home/vcabeli/Documents/data/BP_final/BP.B37-final --extract L2_thresh_5_BP.extract --make-bed --out low_ld\n",
      "Wrote low_ld_pruned bed/bim/fam.\n",
      "smartpca.perl -i low_ld_pruned.bed -a low_ld_pruned.bim -b low_ld_pruned.fam -o low_ld_pruned.pca -p low_ld_pruned.plot -e low_ld_pruned.eval -l low_ld_pruned.log -k 50 -t 2 -m 0\n",
      "Wrote low_ld_pruned.cov\n",
      "plink --bfile /home/vcabeli/Documents/data/BP_final/BP.B37-final --keep training_samples.keep --make-bed --out training_set\n",
      "plink --bfile training_set --logistic sex beta hide-covar --covar low_ld_pruned.cov --covar-name PC1-PC50 --out low_ld\n",
      "plink --bfile training_set --clump low_ld.assoc.logistic --clump-p1 1 --clump-p2 1 --clump-r2 0.2 --clump-kb 500 --out low_ld_clump \n"
     ]
    },
    {
     "name": "stderr",
     "output_type": "stream",
     "text": [
      "100%|██████████| 140/140 [00:07<00:00, 18.52it/s]\n"
     ]
    },
    {
     "name": "stdout",
     "output_type": "stream",
     "text": [
      "=========================Iteration 4=========================\n",
      "plink --bfile /home/vcabeli/Documents/data/BP_final/BP.B37-final --extract L2_thresh_5_BP.extract --make-bed --out low_ld\n",
      "Wrote low_ld_pruned bed/bim/fam.\n",
      "smartpca.perl -i low_ld_pruned.bed -a low_ld_pruned.bim -b low_ld_pruned.fam -o low_ld_pruned.pca -p low_ld_pruned.plot -e low_ld_pruned.eval -l low_ld_pruned.log -k 50 -t 2 -m 0\n",
      "Wrote low_ld_pruned.cov\n",
      "plink --bfile /home/vcabeli/Documents/data/BP_final/BP.B37-final --keep training_samples.keep --make-bed --out training_set\n",
      "plink --bfile training_set --logistic sex beta hide-covar --covar low_ld_pruned.cov --covar-name PC1-PC50 --out low_ld\n",
      "plink --bfile training_set --clump low_ld.assoc.logistic --clump-p1 1 --clump-p2 1 --clump-r2 0.2 --clump-kb 500 --out low_ld_clump \n"
     ]
    },
    {
     "name": "stderr",
     "output_type": "stream",
     "text": [
      "100%|██████████| 140/140 [00:08<00:00, 17.63it/s]\n"
     ]
    },
    {
     "name": "stdout",
     "output_type": "stream",
     "text": [
      "=========================Iteration 5=========================\n",
      "plink --bfile /home/vcabeli/Documents/data/BP_final/BP.B37-final --extract L2_thresh_5_BP.extract --make-bed --out low_ld\n",
      "Wrote low_ld_pruned bed/bim/fam.\n",
      "smartpca.perl -i low_ld_pruned.bed -a low_ld_pruned.bim -b low_ld_pruned.fam -o low_ld_pruned.pca -p low_ld_pruned.plot -e low_ld_pruned.eval -l low_ld_pruned.log -k 50 -t 2 -m 0\n",
      "Wrote low_ld_pruned.cov\n",
      "plink --bfile /home/vcabeli/Documents/data/BP_final/BP.B37-final --keep training_samples.keep --make-bed --out training_set\n",
      "plink --bfile training_set --logistic sex beta hide-covar --covar low_ld_pruned.cov --covar-name PC1-PC50 --out low_ld\n",
      "plink --bfile training_set --clump low_ld.assoc.logistic --clump-p1 1 --clump-p2 1 --clump-r2 0.2 --clump-kb 500 --out low_ld_clump \n"
     ]
    },
    {
     "name": "stderr",
     "output_type": "stream",
     "text": [
      "100%|██████████| 140/140 [00:07<00:00, 18.94it/s]\n"
     ]
    },
    {
     "name": "stdout",
     "output_type": "stream",
     "text": [
      "=========================Iteration 6=========================\n",
      "plink --bfile /home/vcabeli/Documents/data/BP_final/BP.B37-final --extract L2_thresh_5_BP.extract --make-bed --out low_ld\n",
      "Wrote low_ld_pruned bed/bim/fam.\n",
      "smartpca.perl -i low_ld_pruned.bed -a low_ld_pruned.bim -b low_ld_pruned.fam -o low_ld_pruned.pca -p low_ld_pruned.plot -e low_ld_pruned.eval -l low_ld_pruned.log -k 50 -t 2 -m 0\n",
      "Wrote low_ld_pruned.cov\n",
      "plink --bfile /home/vcabeli/Documents/data/BP_final/BP.B37-final --keep training_samples.keep --make-bed --out training_set\n",
      "plink --bfile training_set --logistic sex beta hide-covar --covar low_ld_pruned.cov --covar-name PC1-PC50 --out low_ld\n",
      "plink --bfile training_set --clump low_ld.assoc.logistic --clump-p1 1 --clump-p2 1 --clump-r2 0.2 --clump-kb 500 --out low_ld_clump \n"
     ]
    },
    {
     "name": "stderr",
     "output_type": "stream",
     "text": [
      "100%|██████████| 140/140 [00:07<00:00, 18.87it/s]\n"
     ]
    },
    {
     "name": "stdout",
     "output_type": "stream",
     "text": [
      "=========================Iteration 7=========================\n",
      "plink --bfile /home/vcabeli/Documents/data/BP_final/BP.B37-final --extract L2_thresh_5_BP.extract --make-bed --out low_ld\n",
      "Wrote low_ld_pruned bed/bim/fam.\n",
      "smartpca.perl -i low_ld_pruned.bed -a low_ld_pruned.bim -b low_ld_pruned.fam -o low_ld_pruned.pca -p low_ld_pruned.plot -e low_ld_pruned.eval -l low_ld_pruned.log -k 50 -t 2 -m 0\n",
      "Wrote low_ld_pruned.cov\n",
      "plink --bfile /home/vcabeli/Documents/data/BP_final/BP.B37-final --keep training_samples.keep --make-bed --out training_set\n",
      "plink --bfile training_set --logistic sex beta hide-covar --covar low_ld_pruned.cov --covar-name PC1-PC50 --out low_ld\n",
      "plink --bfile training_set --clump low_ld.assoc.logistic --clump-p1 1 --clump-p2 1 --clump-r2 0.2 --clump-kb 500 --out low_ld_clump \n"
     ]
    },
    {
     "name": "stderr",
     "output_type": "stream",
     "text": [
      "100%|██████████| 140/140 [00:07<00:00, 18.91it/s]\n"
     ]
    },
    {
     "name": "stdout",
     "output_type": "stream",
     "text": [
      "=========================Iteration 8=========================\n",
      "plink --bfile /home/vcabeli/Documents/data/BP_final/BP.B37-final --extract L2_thresh_5_BP.extract --make-bed --out low_ld\n",
      "Wrote low_ld_pruned bed/bim/fam.\n",
      "smartpca.perl -i low_ld_pruned.bed -a low_ld_pruned.bim -b low_ld_pruned.fam -o low_ld_pruned.pca -p low_ld_pruned.plot -e low_ld_pruned.eval -l low_ld_pruned.log -k 50 -t 2 -m 0\n",
      "Wrote low_ld_pruned.cov\n",
      "plink --bfile /home/vcabeli/Documents/data/BP_final/BP.B37-final --keep training_samples.keep --make-bed --out training_set\n",
      "plink --bfile training_set --logistic sex beta hide-covar --covar low_ld_pruned.cov --covar-name PC1-PC50 --out low_ld\n",
      "plink --bfile training_set --clump low_ld.assoc.logistic --clump-p1 1 --clump-p2 1 --clump-r2 0.2 --clump-kb 500 --out low_ld_clump \n"
     ]
    },
    {
     "name": "stderr",
     "output_type": "stream",
     "text": [
      "100%|██████████| 140/140 [00:07<00:00, 18.29it/s]\n"
     ]
    },
    {
     "name": "stdout",
     "output_type": "stream",
     "text": [
      "=========================Iteration 9=========================\n",
      "plink --bfile /home/vcabeli/Documents/data/BP_final/BP.B37-final --extract L2_thresh_5_BP.extract --make-bed --out low_ld\n",
      "Wrote low_ld_pruned bed/bim/fam.\n",
      "smartpca.perl -i low_ld_pruned.bed -a low_ld_pruned.bim -b low_ld_pruned.fam -o low_ld_pruned.pca -p low_ld_pruned.plot -e low_ld_pruned.eval -l low_ld_pruned.log -k 50 -t 2 -m 0\n",
      "Wrote low_ld_pruned.cov\n",
      "plink --bfile /home/vcabeli/Documents/data/BP_final/BP.B37-final --keep training_samples.keep --make-bed --out training_set\n",
      "plink --bfile training_set --logistic sex beta hide-covar --covar low_ld_pruned.cov --covar-name PC1-PC50 --out low_ld\n",
      "plink --bfile training_set --clump low_ld.assoc.logistic --clump-p1 1 --clump-p2 1 --clump-r2 0.2 --clump-kb 500 --out low_ld_clump \n"
     ]
    },
    {
     "name": "stderr",
     "output_type": "stream",
     "text": [
      "100%|██████████| 140/140 [00:07<00:00, 19.03it/s]\n"
     ]
    },
    {
     "data": {
      "image/png": "[encoded data removed]",
      "text/plain": [
       "<matplotlib.figure.Figure at 0x7fbd96991fd0>"
      ]
     },
     "metadata": {},
     "output_type": "display_data"
    }
   ],
   "source": [
    "if __name__ == '__main__':\n",
    "\n",
    "    snp_data, pheno = util.load_data(\"/home/vcabeli/Documents/data/BP_final/BP.B37-final\")\n",
    "    #imputed data (données par chromosome: \"/home/vcabeli/Documents/data/BP_final_imputed/0.5_info/merged/plink/bedbimfam/BP.B37-imputed.chr{}.merged.1KG_P3.EURMAF0.005.0.5_info\".format(chrom)\n",
    "    n_iter = 10\n",
    "    threshs = range(10, 70000, 500)\n",
    "    thresh_LD = 5\n",
    "    nb_pc_tot=51\n",
    "    time = range(10,70000,500)\n",
    "    get_color = lambda : \"#\" + \"\".join(np.random.choice(list(\"02468acef\"), size=6))\n",
    "    step = 10\n",
    "    ############\n",
    "    for PC in range(0,nb_pc_tot,step):\n",
    "        print \"========================= {} PCs =========================\".format(PC)\n",
    "        res_pval=iterate(snp_data, pheno,n_iter,threshs,thresh_LD,PC)\n",
    "\n",
    "\n",
    "        for i in range(len(time)):\n",
    "            res_pval[res_pval[:,i] == 0,i] = np.nan\n",
    "            res_pval[np.isnan(res_pval[:,i]),i] = np.nanmedian(res_pval[:,i])\n",
    "        sns.tsplot(np.power(res_pval,1),color=get_color(),ci=[0,95],time=time, condition=\"PC{}\".format(PC))\n",
    "\n",
    "    sns.plt.ylabel('AUC')\n",
    "    sns.plt.xlabel('N SNPs')\n",
    "    #sns.plt.savefig(\"fct_pc.pdf\", format=\"pdf\")\n",
    "\n",
    "    #print \"Wrote {}.\".format(\"fct_pc.pdf\")\n",
    "    plt.show()\n"
   ]
  },
  {
   "cell_type": "code",
   "execution_count": 8,
   "metadata": {
    "collapsed": false
   },
   "outputs": [],
   "source": [
    "def polygen_score_sign(geno, sorted_snps, threshs, test_idces, pheno, betas) :\n",
    "\n",
    "    auc = np.zeros(len(threshs))\n",
    "    n_samples = len(test_idces)\n",
    "    n_snps = max(threshs)+1\n",
    "    sorted_snps = sorted_snps[:n_snps]\n",
    "    test_cases = [i for i,j in enumerate(test_idces) if pheno['vals'][j]==2]\n",
    "    #print(len(test_cases))\n",
    "    test_controls = [i for i,j in enumerate(test_idces) if pheno['vals'][j]==1]\n",
    "    #print(len(test_controls))\n",
    "    betas = betas.values[sorted_snps]\n",
    "    # geno = vecteur de taille m (nb snp) de marqueurs du code génétique [du groupe test] [trié par p-value]\n",
    "    # np.nan_to_num = Replace nan with zero and inf with large finite numbers.\n",
    "    polygen_score_test = np.multiply(np.nan_to_num(geno[test_idces][:,sorted_snps]),\n",
    "                                     np.sign(np.nan_to_num(betas)))\n",
    "    polygen_score_test = polygen_score_test.cumsum(axis=1)\n",
    "    #print \"val\",polygen_score_test[:,140][1]\n",
    "\n",
    "    # score polygénique calculer sur 70000 snps mais auc tout les 140(=len(threshs)) snps (lisse la courbe)\n",
    "    # top score polygénique tout les 140 snps\n",
    "    for i, top in enumerate(tqdm(threshs)):\n",
    "        TPR = np.zeros(n_samples)\n",
    "        FPR = np.zeros(n_samples)\n",
    "        for idx, val in enumerate(polygen_score_test[:,top]):\n",
    "            #print polygen_score_test[test_cases,top]>val\n",
    "            #print np.count_nonzero(polygen_score_test[test_cases,top]>val) / len(test_cases)\n",
    "            TPR[idx] = 1.0*np.count_nonzero(polygen_score_test[test_cases,top]>val) / len(test_cases) ##############PQ??????????\n",
    "            FPR[idx] = 1.0*np.count_nonzero(polygen_score_test[test_controls,top]>val) / len(test_controls)\n",
    "        auc[i] = sklearn.metrics.auc(x=FPR, y=TPR,reorder=True)\n",
    "\n",
    "    return auc"
   ]
  },
  {
   "cell_type": "code",
   "execution_count": 26,
   "metadata": {
    "collapsed": false,
    "scrolled": true
   },
   "outputs": [
    {
     "name": "stderr",
     "output_type": "stream",
     "text": [
      "WARNING:root:loadPhen is using default missing value of '-9'.\n"
     ]
    },
    {
     "name": "stdout",
     "output_type": "stream",
     "text": [
      "Using last column in .fam file as phenotype.\n",
      "\tConsidering phenotype as a plink binary 1/2.\n",
      "\tFound 427 cases and 1525 controls.\n",
      "Loaded 1952 samples and 250140 SNPs.\n",
      "plink --bfile /home/vcabeli/Documents/data/BP_final/BP.B37-final --extract L2_thresh_5_BP.extract --make-bed --out low_ld\n",
      "Wrote low_ld_pruned bed/bim/fam.\n",
      "smartpca.perl -i low_ld_pruned.bed -a low_ld_pruned.bim -b low_ld_pruned.fam -o low_ld_pruned.pca -p low_ld_pruned.plot -e low_ld_pruned.eval -l low_ld_pruned.log -k 1 -t 2 -m 0\n",
      "Wrote low_ld_pruned.cov\n",
      "('ghw avant:', array([[ 2.,  1.,  2., ...,  2.,  2.,  2.],\n",
      "       [ 1.,  1.,  1., ...,  2.,  2.,  2.],\n",
      "       [ 2.,  2.,  2., ...,  1.,  1.,  1.],\n",
      "       ..., \n",
      "       [ 2.,  2.,  2., ...,  2.,  2.,  2.],\n",
      "       [ 2.,  2.,  2., ...,  2.,  2.,  2.],\n",
      "       [ 1.,  2.,  1., ...,  2.,  2.,  2.]], dtype=float32))\n",
      "MAfs : [ 0.15340909  0.25680534  0.15906762 ...,  0.23411885  0.26844262\n",
      "  0.23009759]\n",
      "('ghw apres:', array([[-0.60201006,  0.78725552, -0.61507115, ..., -0.78190232,\n",
      "        -0.85667588, -0.77313118],\n",
      "       [ 1.36009679,  0.78725552,  1.31829259, ..., -0.78190232,\n",
      "        -0.85667588, -0.77313118],\n",
      "       [-0.60201006, -0.83131523, -0.61507115, ...,  0.88798097,\n",
      "         0.73896469,  0.90687597],\n",
      "       ..., \n",
      "       [-0.60201006, -0.83131523, -0.61507115, ..., -0.78190232,\n",
      "        -0.85667588, -0.77313118],\n",
      "       [-0.60201006, -0.83131523, -0.61507115, ..., -0.78190232,\n",
      "        -0.85667588, -0.77313118],\n",
      "       [ 1.36009679, -0.83131523,  1.31829259, ..., -0.78190232,\n",
      "        -0.85667588, -0.77313118]]))\n",
      "plink --bfile /home/vcabeli/Documents/data/BP_final/BP.B37-final --keep training_samples.keep --make-bed --out training_set\n",
      "plink --bfile training_set --logistic sex beta hide-covar --covar low_ld_pruned.cov --covar-name PC1-PC1 --out low_ld\n",
      "plink --bfile training_set --clump low_ld.assoc.logistic --clump-p1 1 --clump-p2 1 --clump-r2 0.2 --clump-kb 500 --out low_ld_clump \n"
     ]
    },
    {
     "name": "stderr",
     "output_type": "stream",
     "text": [
      "100%|██████████| 140/140 [00:07<00:00, 19.32it/s]\n"
     ]
    },
    {
     "data": {
      "image/png": "[encoded data removed]",
      "text/plain": [
       "<matplotlib.figure.Figure at 0x7fe749434d90>"
      ]
     },
     "metadata": {},
     "output_type": "display_data"
    }
   ],
   "source": [
    "threshs = range(10, 70000, 500)\n",
    "thresh_LD = 5\n",
    "##################################\n",
    "snp_data, pheno = util.load_data(\"/home/vcabeli/Documents/data/BP_final/BP.B37-final\")\n",
    "#imputed data (données par chromosome: \"/home/vcabeli/Documents/data/BP_final_imputed/0.5_info/merged/plink/bedbimfam/BP.B37-imputed.chr{}.merged.1KG_P3.EURMAF0.005.0.5_info\".format(chrom)\n",
    "\n",
    "\n",
    "\n",
    "# extraction des SNPs indépendantes selon le seuil de LD\n",
    "cmd_extract_low_ld_snps = \"plink --bfile {} --extract {} --make-bed --out {}\".format(\"/home/vcabeli/Documents/data/BP_final/BP.B37-final\",\n",
    "                                                                                     \"L2_thresh_{}_BP.extract\".format(thresh_LD),\n",
    "                                                                                     \"low_ld\")\n",
    "print cmd_extract_low_ld_snps\n",
    "p = subprocess.Popen(cmd_extract_low_ld_snps, shell=True)\n",
    "assert(p.wait()==0)\n",
    "\n",
    "plink_prune(\"low_ld\")\n",
    "\n",
    "\n",
    "\n",
    "# Covariables\n",
    "cmd_smart_pca2 = \"smartpca.perl -i {} -a {} -b {} -o {} -p {} -e {} -l {} -k {} -t {} -m {}\".format(\"low_ld_pruned.bed\",\n",
    "                                                                                                   \"low_ld_pruned.bim\",\n",
    "                                                                                                   \"low_ld_pruned.fam\",\n",
    "                                                                                                   \"low_ld_pruned.pca\",\n",
    "                                                                                                   \"low_ld_pruned.plot\",\n",
    "                                                                                                   \"low_ld_pruned.eval\",\n",
    "                                                                                                   \"low_ld_pruned.log\",\n",
    "                                                                                                   2, 2, 0)\n",
    "print cmd_smart_pca2\n",
    "p = subprocess.Popen(cmd_smart_pca2, shell=True)\n",
    "p.wait()\n",
    "\n",
    "\n",
    "write_cov_file(\"low_ld_pruned.pca.evec\",2)\n",
    "save_strat(\"low_ld_pruned.pca.evec\", \"low_ld{}\".format(thresh_LD)) #OUTPUT LINE\n",
    "\n",
    "\n",
    "\n",
    "\n",
    "################séparation test/app\n",
    "\n",
    "\n",
    "train_idces = np.random.choice(np.arange(snp_data.row_count), size=int(snp_data.row_count*0.5), replace=False)\n",
    "test_idces = np.setdiff1d(np.arange(snp_data.row_count), train_idces, assume_unique=True)\n",
    "\n",
    "\n",
    "\n",
    "\n",
    "training_sample_out = \"training_samples.keep\"\n",
    "\n",
    "with open(training_sample_out, 'w') as f:\n",
    "    for i in train_idces:\n",
    "        f.write(pheno['iid'][i][0] + \"\\t\" + pheno['iid'][i][1])\n",
    "        f.write(\"\\n\")\n",
    "\n",
    "\n",
    "# #### Coded genotype (hardy-weinberg)\n",
    "# \n",
    "# With sufficiently large cohorts, traning and test sets should have the same MAFs. \n",
    "# The coded genotype is computed on the whole dataset.\n",
    "\n",
    "\n",
    "\n",
    "G_hw = snp_data.val.copy()\n",
    "print(\"ghw avant:\",G_hw)\n",
    "\n",
    "MAFs = np.nansum(2-G_hw, axis=0, ) / (np.count_nonzero(~np.isnan(G_hw), axis=0) * 2)\n",
    "print \"MAfs :\",MAFs\n",
    "\n",
    "G_hw = (2-G_hw - 2*MAFs)/np.sqrt(2*MAFs*(1-MAFs)) ##############\"Power and accuracy of polygenic Scores\" \n",
    "print(\"ghw apres:\",G_hw)\n",
    "\n",
    "\n",
    "# #### Build training set bed bim fam\n",
    "#creation fichier plink (bam,bed,fam) avec les données d'apprentissage seulement\n",
    "cmd_keep_plink = \"plink --bfile {} --keep {} --make-bed --out {}\".format(\"/home/vcabeli/Documents/data/BP_final/BP.B37-final\",\n",
    "                                                                         training_sample_out,\n",
    "                                                                         \"training_set\")\n",
    "print cmd_keep_plink\n",
    "p = subprocess.Popen(cmd_keep_plink, shell=True)\n",
    "p.wait()\n",
    "\n",
    "\n",
    "\n",
    "\n",
    "\n",
    "\n",
    "#test d'association: classification (Rlog)\n",
    "cmd_second_gwas = \"plink --bfile {} --logistic sex beta hide-covar --covar {} --covar-name PC1-PC{} --out {}\".format(\"training_set\",\n",
    "                                                                                                   \"low_ld_pruned.cov\",\n",
    "                                                                                                    2,\n",
    "                                                                                                   \"low_ld\")\n",
    "print cmd_second_gwas\n",
    "p = subprocess.Popen(cmd_second_gwas, shell=True)\n",
    "p.wait()\n",
    "low_ld_res = pd.read_table(\"low_ld.assoc.logistic\", delim_whitespace=True)\n",
    "\n",
    "\n",
    "# clump les SNPs pour garder les SNPs indépendantes \n",
    "sorted_snps_low_ld = np.argsort(low_ld_res.P)\n",
    "sorted_snps_low_ld = clump_sorted_snps(\"training_set\", \"low_ld.assoc.logistic\",\n",
    "                                       snp_data.col, sorted_snps_low_ld)\n",
    "\n",
    "# ### Compute PRS\n",
    "prs_low_ld = polygen_score_sign(G_hw, sorted_snps_low_ld,\n",
    "                                threshs,\n",
    "                                test_idces, pheno,\n",
    "                                low_ld_res.BETA)\n",
    "time = range(10,70000,500)\n",
    "sns.tsplot(np.power(prs_low_ld,1),color='r',ci=[0,95],time=time)\n",
    "\n",
    "sns.plt.ylabel('AUC')\n",
    "sns.plt.xlabel('N SNPs')\n",
    "\n",
    "\n",
    "plt.show()\n",
    "  "
   ]
  }
 ],
 "metadata": {
  "kernelspec": {
   "display_name": "Python 2",
   "language": "python",
   "name": "python2"
  },
  "language_info": {
   "codemirror_mode": {
    "name": "ipython",
    "version": 2
   },
   "file_extension": ".py",
   "mimetype": "text/x-python",
   "name": "python",
   "nbconvert_exporter": "python",
   "pygments_lexer": "ipython2",
   "version": "2.7.12"
  }
 },
 "nbformat": 4,
 "nbformat_minor": 2
}
