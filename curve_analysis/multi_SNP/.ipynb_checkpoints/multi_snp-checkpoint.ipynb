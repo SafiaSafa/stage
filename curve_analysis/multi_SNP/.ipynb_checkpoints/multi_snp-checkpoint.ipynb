{
 "cells": [
  {
   "cell_type": "code",
   "execution_count": 2,
   "metadata": {
    "collapsed": false
   },
   "outputs": [
    {
     "name": "stderr",
     "output_type": "stream",
     "text": [
      "/usr/local/lib/python2.7/dist-packages/IPython/html.py:14: ShimWarning: The `IPython.html` package has been deprecated. You should import from `notebook` instead. `IPython.html.widgets` has moved to `ipywidgets`.\n",
      "  \"`IPython.html.widgets` has moved to `ipywidgets`.\", ShimWarning)\n"
     ]
    }
   ],
   "source": [
    "import sys\n",
    "import util\n",
    "from Polygenic_score import *\n",
    "\n",
    "import os\n",
    "import subprocess\n",
    "from tqdm import tqdm\n",
    "import numpy as np\n",
    "import pandas as pd\n",
    "import matplotlib.pyplot as plt\n",
    "import seaborn as sns\n",
    "import sklearn.metrics\n",
    "import re\n",
    "import sklearn.metrics\n",
    "from tqdm import tqdm"
   ]
  },
  {
   "cell_type": "code",
   "execution_count": 3,
   "metadata": {
    "collapsed": true
   },
   "outputs": [],
   "source": [
    "def clump_sorted_snps(bfile, assoc_file, snp_values, sorted_snps):\n",
    "\n",
    "    clump_out = assoc_file[:assoc_file.index(\".assoc\")] + \"_clump\"\n",
    "    cmd_plink_clump = \"plink --bfile {} --clump {} --clump-p1 1 --clump-p2 1 --clump-r2 0.2 --clump-kb 500 --out {} \".format(bfile,\n",
    "            assoc_file,\n",
    "            clump_out)\n",
    "    print cmd_plink_clump\n",
    "    p = subprocess.Popen(cmd_plink_clump, shell=True)\n",
    "    p.wait()\n",
    "\n",
    "    clumped_res = pd.read_table(clump_out+\".clumped\", delim_whitespace=True)\n",
    "    clumped_snps = set(clumped_res.SNP)\n",
    "\n",
    "    clumped_sorted_snps = np.array([i for i in sorted_snps if snp_values[i] in clumped_snps])\n",
    "    return clumped_sorted_snps\n",
    "\n"
   ]
  },
  {
   "cell_type": "code",
   "execution_count": 4,
   "metadata": {
    "collapsed": true
   },
   "outputs": [],
   "source": [
    "def save_strat(strat_file, strat):\n",
    "    pca_res = pd.read_table(strat_file, delim_whitespace=True, skiprows=1, header=None)\n",
    "    PCs_out = strat + \".PCs\"\n",
    "    #with open(\"res_clumped/\"+PCs_out, \"a\") as f:\n",
    "    with open(PCs_out, \"a\") as f:\n",
    "        f.write(', '.join(str(pca_res[0].values)))\n",
    "        f.write('\\n')\n",
    "        f.write(str(pca_res[2].values.tolist())[1:-1])\n",
    "        f.write('\\n')\n",
    "        f.write(str(pca_res[3].values.tolist())[1:-1])\n",
    "        f.write('\\n')\n"
   ]
  },
  {
   "cell_type": "code",
   "execution_count": 5,
   "metadata": {
    "collapsed": true
   },
   "outputs": [],
   "source": [
    "def plink_prune(plink_bfile):\n",
    "\n",
    "    cmd_prune = \"\"\"plink --bfile {}      --exclude /home/vcabeli/Documents/data/high-LD-regions_37.txt           --range --indep-pairwise 50 5 0.2           --allow-extra-chr           --out {}\"\"\".format(plink_bfile, plink_bfile+\"_prune\")\n",
    "    p = subprocess.Popen(cmd_prune, shell=True)\n",
    "    assert(p.wait() == 0)\n",
    "\n",
    "    cmd_extract = \"\"\"plink --bfile {}           --extract {}           --allow-extra-chr           --chr 1-23           --make-bed           --out {}\"\"\".format(plink_bfile, plink_bfile + \"_prune.prune.in\", \n",
    "                             plink_bfile + \"_pruned\")\n",
    "    p = subprocess.Popen(cmd_extract, shell=True)\n",
    "    assert(p.wait() == 0)\n",
    "\n",
    "    print \"Wrote {} bed/bim/fam.\".format(plink_bfile + \"_pruned\")\n",
    "\n"
   ]
  },
  {
   "cell_type": "code",
   "execution_count": 6,
   "metadata": {
    "collapsed": true
   },
   "outputs": [],
   "source": [
    "def write_cov_file(pca_file,nb_pc=2):\n",
    "\n",
    "    cmd_sed = \"sed -i -e \\\"s/:/ /g\\\" -e \\\"s/\\s\\+/\\t/g\\\" -e \\\"s/^\\s\\+//g\\\" {}\".format(pca_file)\n",
    "    p = subprocess.Popen(cmd_sed, shell=True)\n",
    "    assert(p.wait()==0)\n",
    "    \n",
    "    cov_file = pca_file[:-9]+\".cov\"\n",
    "    a=\"\"\n",
    "    for i in range(nb_pc):\n",
    "        a=a+(\"\\tPC{}\".format(i+1))\n",
    "    \n",
    "\n",
    "    cmd_print = \"printf \\\"FID\\tIID{}\\n\\\" > {}\".format(a,cov_file)\n",
    "\n",
    "    p = subprocess.Popen(cmd_print, shell=True)\n",
    "    assert(p.wait()==0)\n",
    "\n",
    "    cmd_tail = \"tail -n+2 {} | cut -f1-{} >> {}\".format(pca_file, 2+nb_pc, cov_file) \n",
    "\n",
    "    #-n+2 récup lignes en commançant par le 2ème\n",
    "    #-f1-2+nb_pc résup les champs 1-nb_pc+2\n",
    "    \n",
    "    p = subprocess.Popen(cmd_tail, shell=True)\n",
    "    assert(p.wait()==0)\n",
    "    \n",
    "    print \"Wrote {}\".format(cov_file)"
   ]
  },
  {
   "cell_type": "code",
   "execution_count": 218,
   "metadata": {
    "collapsed": false
   },
   "outputs": [],
   "source": [
    " def select_snp(nb_snps):\n",
    "    snp_gene_table = pd.read_table(\"/home/vcabeli/Documents/data/BP_final/BP.B37-final.bim\",\n",
    "                                   delim_whitespace=True,names=[\"chr\",\"snp\",\"distance\",\"position\",\"Allele_1\",\"Allele_2\"])\n",
    "\n",
    "\n",
    "    indx=np.random.choice(snp_gene_table.shape[0],nb_snps)\n",
    "    snp_extract=snp_gene_table.snp[indx]\n",
    "    #ecriture du fichier contenant la liste des snp a garder \n",
    "    extract_file=str(nb_snps)+\"_snps.extract\"\n",
    "    set_file=str(nb_snps)+\"_snps_set\"\n",
    "    with open(extract_file, 'w') as f:\n",
    "        for snp in snp_extract:\n",
    "                f.write(snp)\n",
    "                f.write(\"\\n\")\n",
    "    #ecriture fichier bim/bed/fam contenant 50 snps\n",
    "    cmd_keep_plink = \"plink --bfile {} --extract {} --make-bed --out {}\".format(\"/home/vcabeli/Documents/data/BP_final/BP.B37-final\",\n",
    "                                                                                     extract_file,\n",
    "                                                                                     set_file)\n",
    "    print cmd_keep_plink\n",
    "    p = subprocess.Popen(cmd_keep_plink, shell=True)\n",
    "    p.wait()\n",
    "    return(set_file)"
   ]
  },
  {
   "cell_type": "code",
   "execution_count": 286,
   "metadata": {
    "collapsed": false,
    "scrolled": true
   },
   "outputs": [],
   "source": [
    "def iterate(n_iter,threshs,nb_pc,data):\n",
    "    res_hw_pval_sign = np.zeros([n_iter, len(threshs)])\n",
    "    for iteration in range(n_iter):\n",
    "\n",
    "        print \"=========================Iteration {}=========================\".format(iteration)\n",
    "        # extraction des SNPs indépendantes selon le seuil de LD \n",
    "        cmd_extract_low_ld_snps = \"plink --bfile {} --extract {} --make-bed --out {}\".format(data,\n",
    "                                                                                             \"L2_thresh_{}_BP.extract\".format(thresh_LD),\n",
    "                                                                                             \"low_ld\")\n",
    "        print cmd_extract_low_ld_snps\n",
    "        p = subprocess.Popen(cmd_extract_low_ld_snps, shell=True)\n",
    "        assert(p.wait()==0)\n",
    "\n",
    "        plink_prune(\"low_ld\")\n",
    "\n",
    "\n",
    "\n",
    "        # Covariables\n",
    "        if(nb_pc!=0):\n",
    "            cmd_smart_pca2 = \"smartpca.perl -i {} -a {} -b {} -o {} -p {} -e {} -l {} -k {} -t {} -m {}\".format(\"low_ld_pruned.bed\",\n",
    "                                                                                                               \"low_ld_pruned.bim\",\n",
    "                                                                                                               \"low_ld_pruned.fam\",\n",
    "                                                                                                               \"low_ld_pruned.pca\",\n",
    "                                                                                                               \"low_ld_pruned.plot\",\n",
    "                                                                                                               \"low_ld_pruned.eval\",\n",
    "                                                                                                               \"low_ld_pruned.log\",\n",
    "                                                                                                               nb_pc, 2, 0)\n",
    "            print cmd_smart_pca2\n",
    "            p = subprocess.Popen(cmd_smart_pca2, shell=True)\n",
    "            p.wait()\n",
    "\n",
    "\n",
    "            write_cov_file(\"low_ld_pruned.pca.evec\",nb_pc)\n",
    "            save_strat(\"low_ld_pruned.pca.evec\", \"low_ld{}\".format(thresh_LD)) #OUTPUT LINE\n",
    "\n",
    "\n",
    "        # Split training / testing datasets\n",
    "\n",
    "        snp_data, pheno = util.load_data(\"/home/vcabeli/Documents/data/BP_final/BP.B37-final\")\n",
    "\n",
    "        train_idces = np.random.choice(np.arange(snp_data.row_count), size=int(snp_data.row_count*0.5), replace=False)\n",
    "\n",
    "        test_idces = np.setdiff1d(np.arange(snp_data.row_count), train_idces, assume_unique=True)\n",
    " \n",
    "\n",
    "\n",
    "\n",
    "        training_sample_out = \"training_samples.keep\"\n",
    "\n",
    "        with open(training_sample_out, 'w') as f:\n",
    "            for i in train_idces:\n",
    "                f.write(pheno['iid'][i][0] + \"\\t\" + pheno['iid'][i][1])\n",
    "                f.write(\"\\n\")\n",
    "\n",
    "        # #### Build training set bed bim fam\n",
    "\n",
    "        cmd_keep_plink = \"plink --bfile {} --keep {} --make-bed --out {}\".format(\"/home/vcabeli/Documents/data/BP_final/BP.B37-final\",\n",
    "                                                                                 training_sample_out,\n",
    "                                                                                 \"training_set\")\n",
    "        print cmd_keep_plink\n",
    "        p = subprocess.Popen(cmd_keep_plink, shell=True)\n",
    "        p.wait()\n",
    "        # Association\n",
    "        if (nb_pc==0):\n",
    "            cmd_second_gwas = \"plink --bfile {} --logistic sex beta hide-covar --out {}\".format(\"training_set\",\"low_ld\")\n",
    "        elif(nb_pc==1):\n",
    "            cmd_second_gwas = \"plink --bfile {} --logistic sex beta hide-covar --covar {} --covar-name PC1 --out {}\".format(\"training_set\",\n",
    "                                                                                                           \"low_ld_pruned.cov\",\n",
    "                                                                                                           \"low_ld\")\n",
    "        else:\n",
    "            cmd_second_gwas = \"plink --bfile {} --logistic sex beta hide-covar --covar {} --covar-name PC1-PC{} --out {}\".format(\"training_set\",\n",
    "                                                                                                           \"low_ld_pruned.cov\",\n",
    "                                                                                                            nb_pc,\n",
    "                                                                                                           \"low_ld\")\n",
    "        print cmd_second_gwas\n",
    "        p = subprocess.Popen(cmd_second_gwas, shell=True)\n",
    "        p.wait()\n",
    "        low_ld_res = pd.read_table(\"low_ld.assoc.logistic\", delim_whitespace=True)\n",
    "\n",
    "        # ### Compute PRS\n",
    "\n",
    "\n",
    "        # Coded genotype (hardy-weinberg)\n",
    "        G_hw = snp_data.val.copy()\n",
    "\n",
    "        MAFs = np.nansum(2-G_hw, axis=0, ) / (np.count_nonzero(~np.isnan(G_hw), axis=0) * 2)\n",
    "        G_hw = (2-G_hw - 2*MAFs)/np.sqrt(2*MAFs*(1-MAFs))\n",
    "\n",
    "\n",
    "\n",
    "        sorted_snps_low_ld = np.argsort(low_ld_res.P)\n",
    "        sorted_snps_low_ld = clump_sorted_snps(\"training_set\", \"low_ld.assoc.logistic\",snp_data.col, sorted_snps_low_ld)\n",
    "\n",
    "        prs_low_ld = polygen_score_sign(G_hw, sorted_snps_low_ld,\n",
    "                                        threshs,\n",
    "                                        test_idces, pheno,\n",
    "                                        low_ld_res.BETA)\n",
    "        res_hw_pval_sign[iteration] = prs_low_ld\n",
    "    return(res_hw_pval_sign)"
   ]
  },
  {
   "cell_type": "code",
   "execution_count": 302,
   "metadata": {
    "collapsed": false
   },
   "outputs": [
    {
     "name": "stdout",
     "output_type": "stream",
     "text": [
      "plink --bfile /home/vcabeli/Documents/data/BP_final/BP.B37-final --extract 50_snps.extract --make-bed --out 50_snps_set\n",
      "plink --bfile /home/vcabeli/Documents/data/BP_final/BP.B37-final --extract 100_snps.extract --make-bed --out 100_snps_set\n",
      "plink --bfile /home/vcabeli/Documents/data/BP_final/BP.B37-final --extract 200_snps.extract --make-bed --out 200_snps_set\n",
      "plink --bfile /home/vcabeli/Documents/data/BP_final/BP.B37-final --extract 500_snps.extract --make-bed --out 500_snps_set\n",
      "plink --bfile /home/vcabeli/Documents/data/BP_final/BP.B37-final --extract 1000_snps.extract --make-bed --out 1000_snps_set\n",
      "plink --bfile /home/vcabeli/Documents/data/BP_final/BP.B37-final --extract 2000_snps.extract --make-bed --out 2000_snps_set\n"
     ]
    }
   ],
   "source": [
    "data_50=select_snp(50)\n",
    "data_100=select_snp(100)\n",
    "data_200=select_snp(200)\n",
    "data_500=select_snp(500)\n",
    "data_1000=select_snp(1000)\n",
    "data_2000=select_snp(2000)\n",
    "nb_pc_tot=11\n",
    "threshs = range(10, 95000, 1000)\n",
    "n_iter=1\n",
    "time_pc = range(0,nb_pc_tot)\n",
    "get_color = lambda : \"#\" + \"\".join(np.random.choice(list(\"02468acef\"), size=6))\n",
    "auc_50 = np.zeros([nb_pc_tot,n_iter,len(threshs)])\n",
    "auc_100 = np.zeros([nb_pc_tot,n_iter,len(threshs)])\n",
    "auc_200 = np.zeros([nb_pc_tot,n_iter,len(threshs)])\n",
    "auc_500 = np.zeros([nb_pc_tot,n_iter,len(threshs)])\n",
    "auc_1000 = np.zeros([nb_pc_tot,n_iter,len(threshs)])\n",
    "auc_2000 = np.zeros([nb_pc_tot,n_iter,len(threshs)])"
   ]
  },
  {
   "cell_type": "markdown",
   "metadata": {},
   "source": [
    "### Calcul des covariables pour 50 snps"
   ]
  },
  {
   "cell_type": "code",
   "execution_count": 305,
   "metadata": {
    "collapsed": false,
    "scrolled": true
   },
   "outputs": [
    {
     "name": "stdout",
     "output_type": "stream",
     "text": [
      "========================= 0 PCs =========================\n",
      "=========================Iteration 0=========================\n",
      "plink --bfile 100_snps_set --extract L2_thresh_5_BP.extract --make-bed --out low_ld\n"
     ]
    },
    {
     "name": "stderr",
     "output_type": "stream",
     "text": [
      "WARNING:root:loadPhen is using default missing value of '-9'.\n"
     ]
    },
    {
     "name": "stdout",
     "output_type": "stream",
     "text": [
      "Wrote low_ld_pruned bed/bim/fam.\n",
      "Using last column in .fam file as phenotype.\n",
      "\tConsidering phenotype as a plink binary 1/2.\n",
      "\tFound 427 cases and 1525 controls.\n",
      "Loaded 1952 samples and 250140 SNPs.\n",
      "plink --bfile /home/vcabeli/Documents/data/BP_final/BP.B37-final --keep training_samples.keep --make-bed --out training_set\n",
      "plink --bfile training_set --logistic sex beta hide-covar --out low_ld\n",
      "plink --bfile training_set --clump low_ld.assoc.logistic --clump-p1 1 --clump-p2 1 --clump-r2 0.2 --clump-kb 500 --out low_ld_clump \n"
     ]
    },
    {
     "name": "stderr",
     "output_type": "stream",
     "text": [
      "100%|██████████| 95/95 [00:05<00:00, 18.33it/s]\n"
     ]
    },
    {
     "name": "stdout",
     "output_type": "stream",
     "text": [
      "=========================Iteration 0=========================\n",
      "plink --bfile 200_snps_set --extract L2_thresh_5_BP.extract --make-bed --out low_ld\n"
     ]
    },
    {
     "name": "stderr",
     "output_type": "stream",
     "text": [
      "WARNING:root:loadPhen is using default missing value of '-9'.\n"
     ]
    },
    {
     "name": "stdout",
     "output_type": "stream",
     "text": [
      "Wrote low_ld_pruned bed/bim/fam.\n",
      "Using last column in .fam file as phenotype.\n",
      "\tConsidering phenotype as a plink binary 1/2.\n",
      "\tFound 427 cases and 1525 controls.\n",
      "Loaded 1952 samples and 250140 SNPs.\n",
      "plink --bfile /home/vcabeli/Documents/data/BP_final/BP.B37-final --keep training_samples.keep --make-bed --out training_set\n",
      "plink --bfile training_set --logistic sex beta hide-covar --out low_ld\n",
      "plink --bfile training_set --clump low_ld.assoc.logistic --clump-p1 1 --clump-p2 1 --clump-r2 0.2 --clump-kb 500 --out low_ld_clump \n"
     ]
    },
    {
     "name": "stderr",
     "output_type": "stream",
     "text": [
      "100%|██████████| 95/95 [00:04<00:00, 19.25it/s]\n"
     ]
    },
    {
     "name": "stdout",
     "output_type": "stream",
     "text": [
      "=========================Iteration 0=========================\n",
      "plink --bfile 500_snps_set --extract L2_thresh_5_BP.extract --make-bed --out low_ld\n"
     ]
    },
    {
     "name": "stderr",
     "output_type": "stream",
     "text": [
      "WARNING:root:loadPhen is using default missing value of '-9'.\n"
     ]
    },
    {
     "name": "stdout",
     "output_type": "stream",
     "text": [
      "Wrote low_ld_pruned bed/bim/fam.\n",
      "Using last column in .fam file as phenotype.\n",
      "\tConsidering phenotype as a plink binary 1/2.\n",
      "\tFound 427 cases and 1525 controls.\n",
      "Loaded 1952 samples and 250140 SNPs.\n",
      "plink --bfile /home/vcabeli/Documents/data/BP_final/BP.B37-final --keep training_samples.keep --make-bed --out training_set\n",
      "plink --bfile training_set --logistic sex beta hide-covar --out low_ld\n",
      "plink --bfile training_set --clump low_ld.assoc.logistic --clump-p1 1 --clump-p2 1 --clump-r2 0.2 --clump-kb 500 --out low_ld_clump \n"
     ]
    },
    {
     "name": "stderr",
     "output_type": "stream",
     "text": [
      "100%|██████████| 95/95 [00:04<00:00, 19.10it/s]\n"
     ]
    },
    {
     "name": "stdout",
     "output_type": "stream",
     "text": [
      "=========================Iteration 0=========================\n",
      "plink --bfile 1000_snps_set --extract L2_thresh_5_BP.extract --make-bed --out low_ld\n"
     ]
    },
    {
     "name": "stderr",
     "output_type": "stream",
     "text": [
      "WARNING:root:loadPhen is using default missing value of '-9'.\n"
     ]
    },
    {
     "name": "stdout",
     "output_type": "stream",
     "text": [
      "Wrote low_ld_pruned bed/bim/fam.\n",
      "Using last column in .fam file as phenotype.\n",
      "\tConsidering phenotype as a plink binary 1/2.\n",
      "\tFound 427 cases and 1525 controls.\n",
      "Loaded 1952 samples and 250140 SNPs.\n",
      "plink --bfile /home/vcabeli/Documents/data/BP_final/BP.B37-final --keep training_samples.keep --make-bed --out training_set\n",
      "plink --bfile training_set --logistic sex beta hide-covar --out low_ld\n",
      "plink --bfile training_set --clump low_ld.assoc.logistic --clump-p1 1 --clump-p2 1 --clump-r2 0.2 --clump-kb 500 --out low_ld_clump \n"
     ]
    },
    {
     "name": "stderr",
     "output_type": "stream",
     "text": [
      "100%|██████████| 95/95 [00:04<00:00, 19.14it/s]\n"
     ]
    },
    {
     "name": "stdout",
     "output_type": "stream",
     "text": [
      "=========================Iteration 0=========================\n",
      "plink --bfile 2000_snps_set --extract L2_thresh_5_BP.extract --make-bed --out low_ld\n"
     ]
    },
    {
     "name": "stderr",
     "output_type": "stream",
     "text": [
      "WARNING:root:loadPhen is using default missing value of '-9'.\n"
     ]
    },
    {
     "name": "stdout",
     "output_type": "stream",
     "text": [
      "Wrote low_ld_pruned bed/bim/fam.\n",
      "Using last column in .fam file as phenotype.\n",
      "\tConsidering phenotype as a plink binary 1/2.\n",
      "\tFound 427 cases and 1525 controls.\n",
      "Loaded 1952 samples and 250140 SNPs.\n",
      "plink --bfile /home/vcabeli/Documents/data/BP_final/BP.B37-final --keep training_samples.keep --make-bed --out training_set\n",
      "plink --bfile training_set --logistic sex beta hide-covar --out low_ld\n",
      "plink --bfile training_set --clump low_ld.assoc.logistic --clump-p1 1 --clump-p2 1 --clump-r2 0.2 --clump-kb 500 --out low_ld_clump \n"
     ]
    },
    {
     "name": "stderr",
     "output_type": "stream",
     "text": [
      "100%|██████████| 95/95 [00:05<00:00, 18.87it/s]\n"
     ]
    },
    {
     "name": "stdout",
     "output_type": "stream",
     "text": [
      "========================= 1 PCs =========================\n",
      "=========================Iteration 0=========================\n",
      "plink --bfile 100_snps_set --extract L2_thresh_5_BP.extract --make-bed --out low_ld\n",
      "Wrote low_ld_pruned bed/bim/fam.\n",
      "smartpca.perl -i low_ld_pruned.bed -a low_ld_pruned.bim -b low_ld_pruned.fam -o low_ld_pruned.pca -p low_ld_pruned.plot -e low_ld_pruned.eval -l low_ld_pruned.log -k 1 -t 2 -m 0\n"
     ]
    },
    {
     "name": "stderr",
     "output_type": "stream",
     "text": [
      "WARNING:root:loadPhen is using default missing value of '-9'.\n"
     ]
    },
    {
     "name": "stdout",
     "output_type": "stream",
     "text": [
      "Wrote low_ld_pruned.cov\n",
      "Using last column in .fam file as phenotype.\n",
      "\tConsidering phenotype as a plink binary 1/2.\n",
      "\tFound 427 cases and 1525 controls.\n",
      "Loaded 1952 samples and 250140 SNPs.\n",
      "plink --bfile /home/vcabeli/Documents/data/BP_final/BP.B37-final --keep training_samples.keep --make-bed --out training_set\n",
      "plink --bfile training_set --logistic sex beta hide-covar --covar low_ld_pruned.cov --covar-name PC1 --out low_ld\n",
      "plink --bfile training_set --clump low_ld.assoc.logistic --clump-p1 1 --clump-p2 1 --clump-r2 0.2 --clump-kb 500 --out low_ld_clump \n"
     ]
    },
    {
     "name": "stderr",
     "output_type": "stream",
     "text": [
      "100%|██████████| 95/95 [00:05<00:00, 18.62it/s]\n"
     ]
    },
    {
     "name": "stdout",
     "output_type": "stream",
     "text": [
      "=========================Iteration 0=========================\n",
      "plink --bfile 200_snps_set --extract L2_thresh_5_BP.extract --make-bed --out low_ld\n",
      "Wrote low_ld_pruned bed/bim/fam.\n",
      "smartpca.perl -i low_ld_pruned.bed -a low_ld_pruned.bim -b low_ld_pruned.fam -o low_ld_pruned.pca -p low_ld_pruned.plot -e low_ld_pruned.eval -l low_ld_pruned.log -k 1 -t 2 -m 0\n"
     ]
    },
    {
     "name": "stderr",
     "output_type": "stream",
     "text": [
      "WARNING:root:loadPhen is using default missing value of '-9'.\n"
     ]
    },
    {
     "name": "stdout",
     "output_type": "stream",
     "text": [
      "Wrote low_ld_pruned.cov\n",
      "Using last column in .fam file as phenotype.\n",
      "\tConsidering phenotype as a plink binary 1/2.\n",
      "\tFound 427 cases and 1525 controls.\n",
      "Loaded 1952 samples and 250140 SNPs.\n",
      "plink --bfile /home/vcabeli/Documents/data/BP_final/BP.B37-final --keep training_samples.keep --make-bed --out training_set\n",
      "plink --bfile training_set --logistic sex beta hide-covar --covar low_ld_pruned.cov --covar-name PC1 --out low_ld\n",
      "plink --bfile training_set --clump low_ld.assoc.logistic --clump-p1 1 --clump-p2 1 --clump-r2 0.2 --clump-kb 500 --out low_ld_clump \n"
     ]
    },
    {
     "name": "stderr",
     "output_type": "stream",
     "text": [
      "100%|██████████| 95/95 [00:05<00:00, 18.44it/s]\n"
     ]
    },
    {
     "name": "stdout",
     "output_type": "stream",
     "text": [
      "=========================Iteration 0=========================\n",
      "plink --bfile 500_snps_set --extract L2_thresh_5_BP.extract --make-bed --out low_ld\n",
      "Wrote low_ld_pruned bed/bim/fam.\n",
      "smartpca.perl -i low_ld_pruned.bed -a low_ld_pruned.bim -b low_ld_pruned.fam -o low_ld_pruned.pca -p low_ld_pruned.plot -e low_ld_pruned.eval -l low_ld_pruned.log -k 1 -t 2 -m 0\n"
     ]
    },
    {
     "name": "stderr",
     "output_type": "stream",
     "text": [
      "WARNING:root:loadPhen is using default missing value of '-9'.\n"
     ]
    },
    {
     "name": "stdout",
     "output_type": "stream",
     "text": [
      "Wrote low_ld_pruned.cov\n",
      "Using last column in .fam file as phenotype.\n",
      "\tConsidering phenotype as a plink binary 1/2.\n",
      "\tFound 427 cases and 1525 controls.\n",
      "Loaded 1952 samples and 250140 SNPs.\n",
      "plink --bfile /home/vcabeli/Documents/data/BP_final/BP.B37-final --keep training_samples.keep --make-bed --out training_set\n",
      "plink --bfile training_set --logistic sex beta hide-covar --covar low_ld_pruned.cov --covar-name PC1 --out low_ld\n",
      "plink --bfile training_set --clump low_ld.assoc.logistic --clump-p1 1 --clump-p2 1 --clump-r2 0.2 --clump-kb 500 --out low_ld_clump \n"
     ]
    },
    {
     "name": "stderr",
     "output_type": "stream",
     "text": [
      "100%|██████████| 95/95 [00:05<00:00, 18.88it/s]\n"
     ]
    },
    {
     "name": "stdout",
     "output_type": "stream",
     "text": [
      "=========================Iteration 0=========================\n",
      "plink --bfile 1000_snps_set --extract L2_thresh_5_BP.extract --make-bed --out low_ld\n",
      "Wrote low_ld_pruned bed/bim/fam.\n",
      "smartpca.perl -i low_ld_pruned.bed -a low_ld_pruned.bim -b low_ld_pruned.fam -o low_ld_pruned.pca -p low_ld_pruned.plot -e low_ld_pruned.eval -l low_ld_pruned.log -k 1 -t 2 -m 0\n"
     ]
    },
    {
     "name": "stderr",
     "output_type": "stream",
     "text": [
      "WARNING:root:loadPhen is using default missing value of '-9'.\n"
     ]
    },
    {
     "name": "stdout",
     "output_type": "stream",
     "text": [
      "Wrote low_ld_pruned.cov\n",
      "Using last column in .fam file as phenotype.\n",
      "\tConsidering phenotype as a plink binary 1/2.\n",
      "\tFound 427 cases and 1525 controls.\n",
      "Loaded 1952 samples and 250140 SNPs.\n",
      "plink --bfile /home/vcabeli/Documents/data/BP_final/BP.B37-final --keep training_samples.keep --make-bed --out training_set\n",
      "plink --bfile training_set --logistic sex beta hide-covar --covar low_ld_pruned.cov --covar-name PC1 --out low_ld\n",
      "plink --bfile training_set --clump low_ld.assoc.logistic --clump-p1 1 --clump-p2 1 --clump-r2 0.2 --clump-kb 500 --out low_ld_clump \n"
     ]
    },
    {
     "name": "stderr",
     "output_type": "stream",
     "text": [
      "100%|██████████| 95/95 [00:05<00:00, 17.98it/s]\n"
     ]
    },
    {
     "name": "stdout",
     "output_type": "stream",
     "text": [
      "=========================Iteration 0=========================\n",
      "plink --bfile 2000_snps_set --extract L2_thresh_5_BP.extract --make-bed --out low_ld\n",
      "Wrote low_ld_pruned bed/bim/fam.\n",
      "smartpca.perl -i low_ld_pruned.bed -a low_ld_pruned.bim -b low_ld_pruned.fam -o low_ld_pruned.pca -p low_ld_pruned.plot -e low_ld_pruned.eval -l low_ld_pruned.log -k 1 -t 2 -m 0\n"
     ]
    },
    {
     "name": "stderr",
     "output_type": "stream",
     "text": [
      "WARNING:root:loadPhen is using default missing value of '-9'.\n"
     ]
    },
    {
     "name": "stdout",
     "output_type": "stream",
     "text": [
      "Wrote low_ld_pruned.cov\n",
      "Using last column in .fam file as phenotype.\n",
      "\tConsidering phenotype as a plink binary 1/2.\n",
      "\tFound 427 cases and 1525 controls.\n",
      "Loaded 1952 samples and 250140 SNPs.\n",
      "plink --bfile /home/vcabeli/Documents/data/BP_final/BP.B37-final --keep training_samples.keep --make-bed --out training_set\n",
      "plink --bfile training_set --logistic sex beta hide-covar --covar low_ld_pruned.cov --covar-name PC1 --out low_ld\n",
      "plink --bfile training_set --clump low_ld.assoc.logistic --clump-p1 1 --clump-p2 1 --clump-r2 0.2 --clump-kb 500 --out low_ld_clump \n"
     ]
    },
    {
     "name": "stderr",
     "output_type": "stream",
     "text": [
      "100%|██████████| 95/95 [00:05<00:00, 17.85it/s]\n"
     ]
    },
    {
     "name": "stdout",
     "output_type": "stream",
     "text": [
      "========================= 2 PCs =========================\n",
      "=========================Iteration 0=========================\n",
      "plink --bfile 100_snps_set --extract L2_thresh_5_BP.extract --make-bed --out low_ld\n",
      "Wrote low_ld_pruned bed/bim/fam.\n",
      "smartpca.perl -i low_ld_pruned.bed -a low_ld_pruned.bim -b low_ld_pruned.fam -o low_ld_pruned.pca -p low_ld_pruned.plot -e low_ld_pruned.eval -l low_ld_pruned.log -k 2 -t 2 -m 0\n"
     ]
    },
    {
     "name": "stderr",
     "output_type": "stream",
     "text": [
      "WARNING:root:loadPhen is using default missing value of '-9'.\n"
     ]
    },
    {
     "name": "stdout",
     "output_type": "stream",
     "text": [
      "Wrote low_ld_pruned.cov\n",
      "Using last column in .fam file as phenotype.\n",
      "\tConsidering phenotype as a plink binary 1/2.\n",
      "\tFound 427 cases and 1525 controls.\n",
      "Loaded 1952 samples and 250140 SNPs.\n",
      "plink --bfile /home/vcabeli/Documents/data/BP_final/BP.B37-final --keep training_samples.keep --make-bed --out training_set\n",
      "plink --bfile training_set --logistic sex beta hide-covar --covar low_ld_pruned.cov --covar-name PC1-PC2 --out low_ld\n",
      "plink --bfile training_set --clump low_ld.assoc.logistic --clump-p1 1 --clump-p2 1 --clump-r2 0.2 --clump-kb 500 --out low_ld_clump \n"
     ]
    },
    {
     "name": "stderr",
     "output_type": "stream",
     "text": [
      "100%|██████████| 95/95 [00:04<00:00, 19.28it/s]\n"
     ]
    },
    {
     "name": "stdout",
     "output_type": "stream",
     "text": [
      "=========================Iteration 0=========================\n",
      "plink --bfile 200_snps_set --extract L2_thresh_5_BP.extract --make-bed --out low_ld\n",
      "Wrote low_ld_pruned bed/bim/fam.\n",
      "smartpca.perl -i low_ld_pruned.bed -a low_ld_pruned.bim -b low_ld_pruned.fam -o low_ld_pruned.pca -p low_ld_pruned.plot -e low_ld_pruned.eval -l low_ld_pruned.log -k 2 -t 2 -m 0\n"
     ]
    },
    {
     "name": "stderr",
     "output_type": "stream",
     "text": [
      "WARNING:root:loadPhen is using default missing value of '-9'.\n"
     ]
    },
    {
     "name": "stdout",
     "output_type": "stream",
     "text": [
      "Wrote low_ld_pruned.cov\n",
      "Using last column in .fam file as phenotype.\n",
      "\tConsidering phenotype as a plink binary 1/2.\n",
      "\tFound 427 cases and 1525 controls.\n",
      "Loaded 1952 samples and 250140 SNPs.\n",
      "plink --bfile /home/vcabeli/Documents/data/BP_final/BP.B37-final --keep training_samples.keep --make-bed --out training_set\n",
      "plink --bfile training_set --logistic sex beta hide-covar --covar low_ld_pruned.cov --covar-name PC1-PC2 --out low_ld\n",
      "plink --bfile training_set --clump low_ld.assoc.logistic --clump-p1 1 --clump-p2 1 --clump-r2 0.2 --clump-kb 500 --out low_ld_clump \n"
     ]
    },
    {
     "name": "stderr",
     "output_type": "stream",
     "text": [
      "100%|██████████| 95/95 [00:04<00:00, 19.27it/s]\n"
     ]
    },
    {
     "name": "stdout",
     "output_type": "stream",
     "text": [
      "=========================Iteration 0=========================\n",
      "plink --bfile 500_snps_set --extract L2_thresh_5_BP.extract --make-bed --out low_ld\n",
      "Wrote low_ld_pruned bed/bim/fam.\n",
      "smartpca.perl -i low_ld_pruned.bed -a low_ld_pruned.bim -b low_ld_pruned.fam -o low_ld_pruned.pca -p low_ld_pruned.plot -e low_ld_pruned.eval -l low_ld_pruned.log -k 2 -t 2 -m 0\n"
     ]
    },
    {
     "name": "stderr",
     "output_type": "stream",
     "text": [
      "WARNING:root:loadPhen is using default missing value of '-9'.\n"
     ]
    },
    {
     "name": "stdout",
     "output_type": "stream",
     "text": [
      "Wrote low_ld_pruned.cov\n",
      "Using last column in .fam file as phenotype.\n",
      "\tConsidering phenotype as a plink binary 1/2.\n",
      "\tFound 427 cases and 1525 controls.\n",
      "Loaded 1952 samples and 250140 SNPs.\n",
      "plink --bfile /home/vcabeli/Documents/data/BP_final/BP.B37-final --keep training_samples.keep --make-bed --out training_set\n",
      "plink --bfile training_set --logistic sex beta hide-covar --covar low_ld_pruned.cov --covar-name PC1-PC2 --out low_ld\n",
      "plink --bfile training_set --clump low_ld.assoc.logistic --clump-p1 1 --clump-p2 1 --clump-r2 0.2 --clump-kb 500 --out low_ld_clump \n"
     ]
    },
    {
     "name": "stderr",
     "output_type": "stream",
     "text": [
      "100%|██████████| 95/95 [00:05<00:00, 18.86it/s]\n"
     ]
    },
    {
     "name": "stdout",
     "output_type": "stream",
     "text": [
      "=========================Iteration 0=========================\n",
      "plink --bfile 1000_snps_set --extract L2_thresh_5_BP.extract --make-bed --out low_ld\n",
      "Wrote low_ld_pruned bed/bim/fam.\n",
      "smartpca.perl -i low_ld_pruned.bed -a low_ld_pruned.bim -b low_ld_pruned.fam -o low_ld_pruned.pca -p low_ld_pruned.plot -e low_ld_pruned.eval -l low_ld_pruned.log -k 2 -t 2 -m 0\n"
     ]
    },
    {
     "name": "stderr",
     "output_type": "stream",
     "text": [
      "WARNING:root:loadPhen is using default missing value of '-9'.\n"
     ]
    },
    {
     "name": "stdout",
     "output_type": "stream",
     "text": [
      "Wrote low_ld_pruned.cov\n",
      "Using last column in .fam file as phenotype.\n",
      "\tConsidering phenotype as a plink binary 1/2.\n",
      "\tFound 427 cases and 1525 controls.\n",
      "Loaded 1952 samples and 250140 SNPs.\n",
      "plink --bfile /home/vcabeli/Documents/data/BP_final/BP.B37-final --keep training_samples.keep --make-bed --out training_set\n",
      "plink --bfile training_set --logistic sex beta hide-covar --covar low_ld_pruned.cov --covar-name PC1-PC2 --out low_ld\n",
      "plink --bfile training_set --clump low_ld.assoc.logistic --clump-p1 1 --clump-p2 1 --clump-r2 0.2 --clump-kb 500 --out low_ld_clump \n"
     ]
    },
    {
     "name": "stderr",
     "output_type": "stream",
     "text": [
      "100%|██████████| 95/95 [00:04<00:00, 19.25it/s]\n"
     ]
    },
    {
     "name": "stdout",
     "output_type": "stream",
     "text": [
      "=========================Iteration 0=========================\n",
      "plink --bfile 2000_snps_set --extract L2_thresh_5_BP.extract --make-bed --out low_ld\n",
      "Wrote low_ld_pruned bed/bim/fam.\n",
      "smartpca.perl -i low_ld_pruned.bed -a low_ld_pruned.bim -b low_ld_pruned.fam -o low_ld_pruned.pca -p low_ld_pruned.plot -e low_ld_pruned.eval -l low_ld_pruned.log -k 2 -t 2 -m 0\n"
     ]
    },
    {
     "name": "stderr",
     "output_type": "stream",
     "text": [
      "WARNING:root:loadPhen is using default missing value of '-9'.\n"
     ]
    },
    {
     "name": "stdout",
     "output_type": "stream",
     "text": [
      "Wrote low_ld_pruned.cov\n",
      "Using last column in .fam file as phenotype.\n",
      "\tConsidering phenotype as a plink binary 1/2.\n",
      "\tFound 427 cases and 1525 controls.\n",
      "Loaded 1952 samples and 250140 SNPs.\n",
      "plink --bfile /home/vcabeli/Documents/data/BP_final/BP.B37-final --keep training_samples.keep --make-bed --out training_set\n",
      "plink --bfile training_set --logistic sex beta hide-covar --covar low_ld_pruned.cov --covar-name PC1-PC2 --out low_ld\n",
      "plink --bfile training_set --clump low_ld.assoc.logistic --clump-p1 1 --clump-p2 1 --clump-r2 0.2 --clump-kb 500 --out low_ld_clump \n"
     ]
    },
    {
     "name": "stderr",
     "output_type": "stream",
     "text": [
      "100%|██████████| 95/95 [00:05<00:00, 18.37it/s]\n"
     ]
    },
    {
     "name": "stdout",
     "output_type": "stream",
     "text": [
      "========================= 3 PCs =========================\n",
      "=========================Iteration 0=========================\n",
      "plink --bfile 100_snps_set --extract L2_thresh_5_BP.extract --make-bed --out low_ld\n",
      "Wrote low_ld_pruned bed/bim/fam.\n",
      "smartpca.perl -i low_ld_pruned.bed -a low_ld_pruned.bim -b low_ld_pruned.fam -o low_ld_pruned.pca -p low_ld_pruned.plot -e low_ld_pruned.eval -l low_ld_pruned.log -k 3 -t 2 -m 0\n"
     ]
    },
    {
     "name": "stderr",
     "output_type": "stream",
     "text": [
      "WARNING:root:loadPhen is using default missing value of '-9'.\n"
     ]
    },
    {
     "name": "stdout",
     "output_type": "stream",
     "text": [
      "Wrote low_ld_pruned.cov\n",
      "Using last column in .fam file as phenotype.\n",
      "\tConsidering phenotype as a plink binary 1/2.\n",
      "\tFound 427 cases and 1525 controls.\n",
      "Loaded 1952 samples and 250140 SNPs.\n",
      "plink --bfile /home/vcabeli/Documents/data/BP_final/BP.B37-final --keep training_samples.keep --make-bed --out training_set\n",
      "plink --bfile training_set --logistic sex beta hide-covar --covar low_ld_pruned.cov --covar-name PC1-PC3 --out low_ld\n",
      "plink --bfile training_set --clump low_ld.assoc.logistic --clump-p1 1 --clump-p2 1 --clump-r2 0.2 --clump-kb 500 --out low_ld_clump \n"
     ]
    },
    {
     "name": "stderr",
     "output_type": "stream",
     "text": [
      "100%|██████████| 95/95 [00:04<00:00, 19.42it/s]\n"
     ]
    },
    {
     "name": "stdout",
     "output_type": "stream",
     "text": [
      "=========================Iteration 0=========================\n",
      "plink --bfile 200_snps_set --extract L2_thresh_5_BP.extract --make-bed --out low_ld\n",
      "Wrote low_ld_pruned bed/bim/fam.\n",
      "smartpca.perl -i low_ld_pruned.bed -a low_ld_pruned.bim -b low_ld_pruned.fam -o low_ld_pruned.pca -p low_ld_pruned.plot -e low_ld_pruned.eval -l low_ld_pruned.log -k 3 -t 2 -m 0\n"
     ]
    },
    {
     "name": "stderr",
     "output_type": "stream",
     "text": [
      "WARNING:root:loadPhen is using default missing value of '-9'.\n"
     ]
    },
    {
     "name": "stdout",
     "output_type": "stream",
     "text": [
      "Wrote low_ld_pruned.cov\n",
      "Using last column in .fam file as phenotype.\n",
      "\tConsidering phenotype as a plink binary 1/2.\n",
      "\tFound 427 cases and 1525 controls.\n",
      "Loaded 1952 samples and 250140 SNPs.\n",
      "plink --bfile /home/vcabeli/Documents/data/BP_final/BP.B37-final --keep training_samples.keep --make-bed --out training_set\n",
      "plink --bfile training_set --logistic sex beta hide-covar --covar low_ld_pruned.cov --covar-name PC1-PC3 --out low_ld\n",
      "plink --bfile training_set --clump low_ld.assoc.logistic --clump-p1 1 --clump-p2 1 --clump-r2 0.2 --clump-kb 500 --out low_ld_clump \n"
     ]
    },
    {
     "name": "stderr",
     "output_type": "stream",
     "text": [
      "100%|██████████| 95/95 [00:04<00:00, 19.47it/s]\n"
     ]
    },
    {
     "name": "stdout",
     "output_type": "stream",
     "text": [
      "=========================Iteration 0=========================\n",
      "plink --bfile 500_snps_set --extract L2_thresh_5_BP.extract --make-bed --out low_ld\n",
      "Wrote low_ld_pruned bed/bim/fam.\n",
      "smartpca.perl -i low_ld_pruned.bed -a low_ld_pruned.bim -b low_ld_pruned.fam -o low_ld_pruned.pca -p low_ld_pruned.plot -e low_ld_pruned.eval -l low_ld_pruned.log -k 3 -t 2 -m 0\n"
     ]
    },
    {
     "name": "stderr",
     "output_type": "stream",
     "text": [
      "WARNING:root:loadPhen is using default missing value of '-9'.\n"
     ]
    },
    {
     "name": "stdout",
     "output_type": "stream",
     "text": [
      "Wrote low_ld_pruned.cov\n",
      "Using last column in .fam file as phenotype.\n",
      "\tConsidering phenotype as a plink binary 1/2.\n",
      "\tFound 427 cases and 1525 controls.\n",
      "Loaded 1952 samples and 250140 SNPs.\n",
      "plink --bfile /home/vcabeli/Documents/data/BP_final/BP.B37-final --keep training_samples.keep --make-bed --out training_set\n",
      "plink --bfile training_set --logistic sex beta hide-covar --covar low_ld_pruned.cov --covar-name PC1-PC3 --out low_ld\n",
      "plink --bfile training_set --clump low_ld.assoc.logistic --clump-p1 1 --clump-p2 1 --clump-r2 0.2 --clump-kb 500 --out low_ld_clump \n"
     ]
    },
    {
     "name": "stderr",
     "output_type": "stream",
     "text": [
      "100%|██████████| 95/95 [00:05<00:00, 18.29it/s]\n"
     ]
    },
    {
     "name": "stdout",
     "output_type": "stream",
     "text": [
      "=========================Iteration 0=========================\n",
      "plink --bfile 1000_snps_set --extract L2_thresh_5_BP.extract --make-bed --out low_ld\n",
      "Wrote low_ld_pruned bed/bim/fam.\n",
      "smartpca.perl -i low_ld_pruned.bed -a low_ld_pruned.bim -b low_ld_pruned.fam -o low_ld_pruned.pca -p low_ld_pruned.plot -e low_ld_pruned.eval -l low_ld_pruned.log -k 3 -t 2 -m 0\n"
     ]
    },
    {
     "name": "stderr",
     "output_type": "stream",
     "text": [
      "WARNING:root:loadPhen is using default missing value of '-9'.\n"
     ]
    },
    {
     "name": "stdout",
     "output_type": "stream",
     "text": [
      "Wrote low_ld_pruned.cov\n",
      "Using last column in .fam file as phenotype.\n",
      "\tConsidering phenotype as a plink binary 1/2.\n",
      "\tFound 427 cases and 1525 controls.\n",
      "Loaded 1952 samples and 250140 SNPs.\n",
      "plink --bfile /home/vcabeli/Documents/data/BP_final/BP.B37-final --keep training_samples.keep --make-bed --out training_set\n",
      "plink --bfile training_set --logistic sex beta hide-covar --covar low_ld_pruned.cov --covar-name PC1-PC3 --out low_ld\n",
      "plink --bfile training_set --clump low_ld.assoc.logistic --clump-p1 1 --clump-p2 1 --clump-r2 0.2 --clump-kb 500 --out low_ld_clump \n"
     ]
    },
    {
     "name": "stderr",
     "output_type": "stream",
     "text": [
      "100%|██████████| 95/95 [00:04<00:00, 19.04it/s]\n"
     ]
    },
    {
     "name": "stdout",
     "output_type": "stream",
     "text": [
      "=========================Iteration 0=========================\n",
      "plink --bfile 2000_snps_set --extract L2_thresh_5_BP.extract --make-bed --out low_ld\n",
      "Wrote low_ld_pruned bed/bim/fam.\n",
      "smartpca.perl -i low_ld_pruned.bed -a low_ld_pruned.bim -b low_ld_pruned.fam -o low_ld_pruned.pca -p low_ld_pruned.plot -e low_ld_pruned.eval -l low_ld_pruned.log -k 3 -t 2 -m 0\n"
     ]
    },
    {
     "name": "stderr",
     "output_type": "stream",
     "text": [
      "WARNING:root:loadPhen is using default missing value of '-9'.\n"
     ]
    },
    {
     "name": "stdout",
     "output_type": "stream",
     "text": [
      "Wrote low_ld_pruned.cov\n",
      "Using last column in .fam file as phenotype.\n",
      "\tConsidering phenotype as a plink binary 1/2.\n",
      "\tFound 427 cases and 1525 controls.\n",
      "Loaded 1952 samples and 250140 SNPs.\n",
      "plink --bfile /home/vcabeli/Documents/data/BP_final/BP.B37-final --keep training_samples.keep --make-bed --out training_set\n",
      "plink --bfile training_set --logistic sex beta hide-covar --covar low_ld_pruned.cov --covar-name PC1-PC3 --out low_ld\n",
      "plink --bfile training_set --clump low_ld.assoc.logistic --clump-p1 1 --clump-p2 1 --clump-r2 0.2 --clump-kb 500 --out low_ld_clump \n"
     ]
    },
    {
     "name": "stderr",
     "output_type": "stream",
     "text": [
      "100%|██████████| 95/95 [00:05<00:00, 18.47it/s]\n"
     ]
    },
    {
     "name": "stdout",
     "output_type": "stream",
     "text": [
      "========================= 4 PCs =========================\n",
      "=========================Iteration 0=========================\n",
      "plink --bfile 100_snps_set --extract L2_thresh_5_BP.extract --make-bed --out low_ld\n",
      "Wrote low_ld_pruned bed/bim/fam.\n",
      "smartpca.perl -i low_ld_pruned.bed -a low_ld_pruned.bim -b low_ld_pruned.fam -o low_ld_pruned.pca -p low_ld_pruned.plot -e low_ld_pruned.eval -l low_ld_pruned.log -k 4 -t 2 -m 0\n"
     ]
    },
    {
     "name": "stderr",
     "output_type": "stream",
     "text": [
      "WARNING:root:loadPhen is using default missing value of '-9'.\n"
     ]
    },
    {
     "name": "stdout",
     "output_type": "stream",
     "text": [
      "Wrote low_ld_pruned.cov\n",
      "Using last column in .fam file as phenotype.\n",
      "\tConsidering phenotype as a plink binary 1/2.\n",
      "\tFound 427 cases and 1525 controls.\n",
      "Loaded 1952 samples and 250140 SNPs.\n",
      "plink --bfile /home/vcabeli/Documents/data/BP_final/BP.B37-final --keep training_samples.keep --make-bed --out training_set\n",
      "plink --bfile training_set --logistic sex beta hide-covar --covar low_ld_pruned.cov --covar-name PC1-PC4 --out low_ld\n",
      "plink --bfile training_set --clump low_ld.assoc.logistic --clump-p1 1 --clump-p2 1 --clump-r2 0.2 --clump-kb 500 --out low_ld_clump \n"
     ]
    },
    {
     "name": "stderr",
     "output_type": "stream",
     "text": [
      "100%|██████████| 95/95 [00:05<00:00, 18.74it/s]\n"
     ]
    },
    {
     "name": "stdout",
     "output_type": "stream",
     "text": [
      "=========================Iteration 0=========================\n",
      "plink --bfile 200_snps_set --extract L2_thresh_5_BP.extract --make-bed --out low_ld\n",
      "Wrote low_ld_pruned bed/bim/fam.\n",
      "smartpca.perl -i low_ld_pruned.bed -a low_ld_pruned.bim -b low_ld_pruned.fam -o low_ld_pruned.pca -p low_ld_pruned.plot -e low_ld_pruned.eval -l low_ld_pruned.log -k 4 -t 2 -m 0\n"
     ]
    },
    {
     "name": "stderr",
     "output_type": "stream",
     "text": [
      "WARNING:root:loadPhen is using default missing value of '-9'.\n"
     ]
    },
    {
     "name": "stdout",
     "output_type": "stream",
     "text": [
      "Wrote low_ld_pruned.cov\n",
      "Using last column in .fam file as phenotype.\n",
      "\tConsidering phenotype as a plink binary 1/2.\n",
      "\tFound 427 cases and 1525 controls.\n",
      "Loaded 1952 samples and 250140 SNPs.\n",
      "plink --bfile /home/vcabeli/Documents/data/BP_final/BP.B37-final --keep training_samples.keep --make-bed --out training_set\n",
      "plink --bfile training_set --logistic sex beta hide-covar --covar low_ld_pruned.cov --covar-name PC1-PC4 --out low_ld\n",
      "plink --bfile training_set --clump low_ld.assoc.logistic --clump-p1 1 --clump-p2 1 --clump-r2 0.2 --clump-kb 500 --out low_ld_clump \n"
     ]
    },
    {
     "name": "stderr",
     "output_type": "stream",
     "text": [
      "100%|██████████| 95/95 [00:04<00:00, 19.27it/s]\n"
     ]
    },
    {
     "name": "stdout",
     "output_type": "stream",
     "text": [
      "=========================Iteration 0=========================\n",
      "plink --bfile 500_snps_set --extract L2_thresh_5_BP.extract --make-bed --out low_ld\n",
      "Wrote low_ld_pruned bed/bim/fam.\n",
      "smartpca.perl -i low_ld_pruned.bed -a low_ld_pruned.bim -b low_ld_pruned.fam -o low_ld_pruned.pca -p low_ld_pruned.plot -e low_ld_pruned.eval -l low_ld_pruned.log -k 4 -t 2 -m 0\n"
     ]
    },
    {
     "name": "stderr",
     "output_type": "stream",
     "text": [
      "WARNING:root:loadPhen is using default missing value of '-9'.\n"
     ]
    },
    {
     "name": "stdout",
     "output_type": "stream",
     "text": [
      "Wrote low_ld_pruned.cov\n",
      "Using last column in .fam file as phenotype.\n",
      "\tConsidering phenotype as a plink binary 1/2.\n",
      "\tFound 427 cases and 1525 controls.\n",
      "Loaded 1952 samples and 250140 SNPs.\n",
      "plink --bfile /home/vcabeli/Documents/data/BP_final/BP.B37-final --keep training_samples.keep --make-bed --out training_set\n",
      "plink --bfile training_set --logistic sex beta hide-covar --covar low_ld_pruned.cov --covar-name PC1-PC4 --out low_ld\n",
      "plink --bfile training_set --clump low_ld.assoc.logistic --clump-p1 1 --clump-p2 1 --clump-r2 0.2 --clump-kb 500 --out low_ld_clump \n"
     ]
    },
    {
     "name": "stderr",
     "output_type": "stream",
     "text": [
      "100%|██████████| 95/95 [00:05<00:00, 18.85it/s]\n"
     ]
    },
    {
     "name": "stdout",
     "output_type": "stream",
     "text": [
      "=========================Iteration 0=========================\n",
      "plink --bfile 1000_snps_set --extract L2_thresh_5_BP.extract --make-bed --out low_ld\n",
      "Wrote low_ld_pruned bed/bim/fam.\n",
      "smartpca.perl -i low_ld_pruned.bed -a low_ld_pruned.bim -b low_ld_pruned.fam -o low_ld_pruned.pca -p low_ld_pruned.plot -e low_ld_pruned.eval -l low_ld_pruned.log -k 4 -t 2 -m 0\n"
     ]
    },
    {
     "name": "stderr",
     "output_type": "stream",
     "text": [
      "WARNING:root:loadPhen is using default missing value of '-9'.\n"
     ]
    },
    {
     "name": "stdout",
     "output_type": "stream",
     "text": [
      "Wrote low_ld_pruned.cov\n",
      "Using last column in .fam file as phenotype.\n",
      "\tConsidering phenotype as a plink binary 1/2.\n",
      "\tFound 427 cases and 1525 controls.\n",
      "Loaded 1952 samples and 250140 SNPs.\n",
      "plink --bfile /home/vcabeli/Documents/data/BP_final/BP.B37-final --keep training_samples.keep --make-bed --out training_set\n",
      "plink --bfile training_set --logistic sex beta hide-covar --covar low_ld_pruned.cov --covar-name PC1-PC4 --out low_ld\n",
      "plink --bfile training_set --clump low_ld.assoc.logistic --clump-p1 1 --clump-p2 1 --clump-r2 0.2 --clump-kb 500 --out low_ld_clump \n"
     ]
    },
    {
     "name": "stderr",
     "output_type": "stream",
     "text": [
      "100%|██████████| 95/95 [00:04<00:00, 19.28it/s]\n"
     ]
    },
    {
     "name": "stdout",
     "output_type": "stream",
     "text": [
      "=========================Iteration 0=========================\n",
      "plink --bfile 2000_snps_set --extract L2_thresh_5_BP.extract --make-bed --out low_ld\n",
      "Wrote low_ld_pruned bed/bim/fam.\n",
      "smartpca.perl -i low_ld_pruned.bed -a low_ld_pruned.bim -b low_ld_pruned.fam -o low_ld_pruned.pca -p low_ld_pruned.plot -e low_ld_pruned.eval -l low_ld_pruned.log -k 4 -t 2 -m 0\n"
     ]
    },
    {
     "name": "stderr",
     "output_type": "stream",
     "text": [
      "WARNING:root:loadPhen is using default missing value of '-9'.\n"
     ]
    },
    {
     "name": "stdout",
     "output_type": "stream",
     "text": [
      "Wrote low_ld_pruned.cov\n",
      "Using last column in .fam file as phenotype.\n",
      "\tConsidering phenotype as a plink binary 1/2.\n",
      "\tFound 427 cases and 1525 controls.\n",
      "Loaded 1952 samples and 250140 SNPs.\n",
      "plink --bfile /home/vcabeli/Documents/data/BP_final/BP.B37-final --keep training_samples.keep --make-bed --out training_set\n",
      "plink --bfile training_set --logistic sex beta hide-covar --covar low_ld_pruned.cov --covar-name PC1-PC4 --out low_ld\n",
      "plink --bfile training_set --clump low_ld.assoc.logistic --clump-p1 1 --clump-p2 1 --clump-r2 0.2 --clump-kb 500 --out low_ld_clump \n"
     ]
    },
    {
     "name": "stderr",
     "output_type": "stream",
     "text": [
      "100%|██████████| 95/95 [00:05<00:00, 18.60it/s]\n"
     ]
    },
    {
     "name": "stdout",
     "output_type": "stream",
     "text": [
      "========================= 5 PCs =========================\n",
      "=========================Iteration 0=========================\n",
      "plink --bfile 100_snps_set --extract L2_thresh_5_BP.extract --make-bed --out low_ld\n",
      "Wrote low_ld_pruned bed/bim/fam.\n",
      "smartpca.perl -i low_ld_pruned.bed -a low_ld_pruned.bim -b low_ld_pruned.fam -o low_ld_pruned.pca -p low_ld_pruned.plot -e low_ld_pruned.eval -l low_ld_pruned.log -k 5 -t 2 -m 0\n"
     ]
    },
    {
     "name": "stderr",
     "output_type": "stream",
     "text": [
      "WARNING:root:loadPhen is using default missing value of '-9'.\n"
     ]
    },
    {
     "name": "stdout",
     "output_type": "stream",
     "text": [
      "Wrote low_ld_pruned.cov\n",
      "Using last column in .fam file as phenotype.\n",
      "\tConsidering phenotype as a plink binary 1/2.\n",
      "\tFound 427 cases and 1525 controls.\n",
      "Loaded 1952 samples and 250140 SNPs.\n",
      "plink --bfile /home/vcabeli/Documents/data/BP_final/BP.B37-final --keep training_samples.keep --make-bed --out training_set\n",
      "plink --bfile training_set --logistic sex beta hide-covar --covar low_ld_pruned.cov --covar-name PC1-PC5 --out low_ld\n",
      "plink --bfile training_set --clump low_ld.assoc.logistic --clump-p1 1 --clump-p2 1 --clump-r2 0.2 --clump-kb 500 --out low_ld_clump \n"
     ]
    },
    {
     "name": "stderr",
     "output_type": "stream",
     "text": [
      "100%|██████████| 95/95 [00:04<00:00, 19.18it/s]\n"
     ]
    },
    {
     "name": "stdout",
     "output_type": "stream",
     "text": [
      "=========================Iteration 0=========================\n",
      "plink --bfile 200_snps_set --extract L2_thresh_5_BP.extract --make-bed --out low_ld\n",
      "Wrote low_ld_pruned bed/bim/fam.\n",
      "smartpca.perl -i low_ld_pruned.bed -a low_ld_pruned.bim -b low_ld_pruned.fam -o low_ld_pruned.pca -p low_ld_pruned.plot -e low_ld_pruned.eval -l low_ld_pruned.log -k 5 -t 2 -m 0\n"
     ]
    },
    {
     "name": "stderr",
     "output_type": "stream",
     "text": [
      "WARNING:root:loadPhen is using default missing value of '-9'.\n"
     ]
    },
    {
     "name": "stdout",
     "output_type": "stream",
     "text": [
      "Wrote low_ld_pruned.cov\n",
      "Using last column in .fam file as phenotype.\n",
      "\tConsidering phenotype as a plink binary 1/2.\n",
      "\tFound 427 cases and 1525 controls.\n",
      "Loaded 1952 samples and 250140 SNPs.\n",
      "plink --bfile /home/vcabeli/Documents/data/BP_final/BP.B37-final --keep training_samples.keep --make-bed --out training_set\n",
      "plink --bfile training_set --logistic sex beta hide-covar --covar low_ld_pruned.cov --covar-name PC1-PC5 --out low_ld\n",
      "plink --bfile training_set --clump low_ld.assoc.logistic --clump-p1 1 --clump-p2 1 --clump-r2 0.2 --clump-kb 500 --out low_ld_clump \n"
     ]
    },
    {
     "name": "stderr",
     "output_type": "stream",
     "text": [
      "100%|██████████| 95/95 [00:04<00:00, 19.44it/s]\n"
     ]
    },
    {
     "name": "stdout",
     "output_type": "stream",
     "text": [
      "=========================Iteration 0=========================\n",
      "plink --bfile 500_snps_set --extract L2_thresh_5_BP.extract --make-bed --out low_ld\n",
      "Wrote low_ld_pruned bed/bim/fam.\n",
      "smartpca.perl -i low_ld_pruned.bed -a low_ld_pruned.bim -b low_ld_pruned.fam -o low_ld_pruned.pca -p low_ld_pruned.plot -e low_ld_pruned.eval -l low_ld_pruned.log -k 5 -t 2 -m 0\n"
     ]
    },
    {
     "name": "stderr",
     "output_type": "stream",
     "text": [
      "WARNING:root:loadPhen is using default missing value of '-9'.\n"
     ]
    },
    {
     "name": "stdout",
     "output_type": "stream",
     "text": [
      "Wrote low_ld_pruned.cov\n",
      "Using last column in .fam file as phenotype.\n",
      "\tConsidering phenotype as a plink binary 1/2.\n",
      "\tFound 427 cases and 1525 controls.\n",
      "Loaded 1952 samples and 250140 SNPs.\n",
      "plink --bfile /home/vcabeli/Documents/data/BP_final/BP.B37-final --keep training_samples.keep --make-bed --out training_set\n",
      "plink --bfile training_set --logistic sex beta hide-covar --covar low_ld_pruned.cov --covar-name PC1-PC5 --out low_ld\n",
      "plink --bfile training_set --clump low_ld.assoc.logistic --clump-p1 1 --clump-p2 1 --clump-r2 0.2 --clump-kb 500 --out low_ld_clump \n"
     ]
    },
    {
     "name": "stderr",
     "output_type": "stream",
     "text": [
      "100%|██████████| 95/95 [00:04<00:00, 19.47it/s]\n"
     ]
    },
    {
     "name": "stdout",
     "output_type": "stream",
     "text": [
      "=========================Iteration 0=========================\n",
      "plink --bfile 1000_snps_set --extract L2_thresh_5_BP.extract --make-bed --out low_ld\n",
      "Wrote low_ld_pruned bed/bim/fam.\n",
      "smartpca.perl -i low_ld_pruned.bed -a low_ld_pruned.bim -b low_ld_pruned.fam -o low_ld_pruned.pca -p low_ld_pruned.plot -e low_ld_pruned.eval -l low_ld_pruned.log -k 5 -t 2 -m 0\n"
     ]
    },
    {
     "name": "stderr",
     "output_type": "stream",
     "text": [
      "WARNING:root:loadPhen is using default missing value of '-9'.\n"
     ]
    },
    {
     "name": "stdout",
     "output_type": "stream",
     "text": [
      "Wrote low_ld_pruned.cov\n",
      "Using last column in .fam file as phenotype.\n",
      "\tConsidering phenotype as a plink binary 1/2.\n",
      "\tFound 427 cases and 1525 controls.\n",
      "Loaded 1952 samples and 250140 SNPs.\n",
      "plink --bfile /home/vcabeli/Documents/data/BP_final/BP.B37-final --keep training_samples.keep --make-bed --out training_set\n",
      "plink --bfile training_set --logistic sex beta hide-covar --covar low_ld_pruned.cov --covar-name PC1-PC5 --out low_ld\n",
      "plink --bfile training_set --clump low_ld.assoc.logistic --clump-p1 1 --clump-p2 1 --clump-r2 0.2 --clump-kb 500 --out low_ld_clump \n"
     ]
    },
    {
     "name": "stderr",
     "output_type": "stream",
     "text": [
      "100%|██████████| 95/95 [00:04<00:00, 19.30it/s]\n"
     ]
    },
    {
     "name": "stdout",
     "output_type": "stream",
     "text": [
      "=========================Iteration 0=========================\n",
      "plink --bfile 2000_snps_set --extract L2_thresh_5_BP.extract --make-bed --out low_ld\n",
      "Wrote low_ld_pruned bed/bim/fam.\n",
      "smartpca.perl -i low_ld_pruned.bed -a low_ld_pruned.bim -b low_ld_pruned.fam -o low_ld_pruned.pca -p low_ld_pruned.plot -e low_ld_pruned.eval -l low_ld_pruned.log -k 5 -t 2 -m 0\n"
     ]
    },
    {
     "name": "stderr",
     "output_type": "stream",
     "text": [
      "WARNING:root:loadPhen is using default missing value of '-9'.\n"
     ]
    },
    {
     "name": "stdout",
     "output_type": "stream",
     "text": [
      "Wrote low_ld_pruned.cov\n",
      "Using last column in .fam file as phenotype.\n",
      "\tConsidering phenotype as a plink binary 1/2.\n",
      "\tFound 427 cases and 1525 controls.\n",
      "Loaded 1952 samples and 250140 SNPs.\n",
      "plink --bfile /home/vcabeli/Documents/data/BP_final/BP.B37-final --keep training_samples.keep --make-bed --out training_set\n",
      "plink --bfile training_set --logistic sex beta hide-covar --covar low_ld_pruned.cov --covar-name PC1-PC5 --out low_ld\n",
      "plink --bfile training_set --clump low_ld.assoc.logistic --clump-p1 1 --clump-p2 1 --clump-r2 0.2 --clump-kb 500 --out low_ld_clump \n"
     ]
    },
    {
     "name": "stderr",
     "output_type": "stream",
     "text": [
      "100%|██████████| 95/95 [00:04<00:00, 19.17it/s]\n"
     ]
    },
    {
     "name": "stdout",
     "output_type": "stream",
     "text": [
      "========================= 6 PCs =========================\n",
      "=========================Iteration 0=========================\n",
      "plink --bfile 100_snps_set --extract L2_thresh_5_BP.extract --make-bed --out low_ld\n",
      "Wrote low_ld_pruned bed/bim/fam.\n",
      "smartpca.perl -i low_ld_pruned.bed -a low_ld_pruned.bim -b low_ld_pruned.fam -o low_ld_pruned.pca -p low_ld_pruned.plot -e low_ld_pruned.eval -l low_ld_pruned.log -k 6 -t 2 -m 0\n"
     ]
    },
    {
     "name": "stderr",
     "output_type": "stream",
     "text": [
      "WARNING:root:loadPhen is using default missing value of '-9'.\n"
     ]
    },
    {
     "name": "stdout",
     "output_type": "stream",
     "text": [
      "Wrote low_ld_pruned.cov\n",
      "Using last column in .fam file as phenotype.\n",
      "\tConsidering phenotype as a plink binary 1/2.\n",
      "\tFound 427 cases and 1525 controls.\n",
      "Loaded 1952 samples and 250140 SNPs.\n",
      "plink --bfile /home/vcabeli/Documents/data/BP_final/BP.B37-final --keep training_samples.keep --make-bed --out training_set\n",
      "plink --bfile training_set --logistic sex beta hide-covar --covar low_ld_pruned.cov --covar-name PC1-PC6 --out low_ld\n",
      "plink --bfile training_set --clump low_ld.assoc.logistic --clump-p1 1 --clump-p2 1 --clump-r2 0.2 --clump-kb 500 --out low_ld_clump \n"
     ]
    },
    {
     "name": "stderr",
     "output_type": "stream",
     "text": [
      "100%|██████████| 95/95 [00:04<00:00, 19.52it/s]\n"
     ]
    },
    {
     "name": "stdout",
     "output_type": "stream",
     "text": [
      "=========================Iteration 0=========================\n",
      "plink --bfile 200_snps_set --extract L2_thresh_5_BP.extract --make-bed --out low_ld\n",
      "Wrote low_ld_pruned bed/bim/fam.\n",
      "smartpca.perl -i low_ld_pruned.bed -a low_ld_pruned.bim -b low_ld_pruned.fam -o low_ld_pruned.pca -p low_ld_pruned.plot -e low_ld_pruned.eval -l low_ld_pruned.log -k 6 -t 2 -m 0\n"
     ]
    },
    {
     "name": "stderr",
     "output_type": "stream",
     "text": [
      "WARNING:root:loadPhen is using default missing value of '-9'.\n"
     ]
    },
    {
     "name": "stdout",
     "output_type": "stream",
     "text": [
      "Wrote low_ld_pruned.cov\n",
      "Using last column in .fam file as phenotype.\n",
      "\tConsidering phenotype as a plink binary 1/2.\n",
      "\tFound 427 cases and 1525 controls.\n",
      "Loaded 1952 samples and 250140 SNPs.\n",
      "plink --bfile /home/vcabeli/Documents/data/BP_final/BP.B37-final --keep training_samples.keep --make-bed --out training_set\n",
      "plink --bfile training_set --logistic sex beta hide-covar --covar low_ld_pruned.cov --covar-name PC1-PC6 --out low_ld\n",
      "plink --bfile training_set --clump low_ld.assoc.logistic --clump-p1 1 --clump-p2 1 --clump-r2 0.2 --clump-kb 500 --out low_ld_clump \n"
     ]
    },
    {
     "name": "stderr",
     "output_type": "stream",
     "text": [
      "100%|██████████| 95/95 [00:04<00:00, 19.21it/s]\n"
     ]
    },
    {
     "name": "stdout",
     "output_type": "stream",
     "text": [
      "=========================Iteration 0=========================\n",
      "plink --bfile 500_snps_set --extract L2_thresh_5_BP.extract --make-bed --out low_ld\n",
      "Wrote low_ld_pruned bed/bim/fam.\n",
      "smartpca.perl -i low_ld_pruned.bed -a low_ld_pruned.bim -b low_ld_pruned.fam -o low_ld_pruned.pca -p low_ld_pruned.plot -e low_ld_pruned.eval -l low_ld_pruned.log -k 6 -t 2 -m 0\n"
     ]
    },
    {
     "name": "stderr",
     "output_type": "stream",
     "text": [
      "WARNING:root:loadPhen is using default missing value of '-9'.\n"
     ]
    },
    {
     "name": "stdout",
     "output_type": "stream",
     "text": [
      "Wrote low_ld_pruned.cov\n",
      "Using last column in .fam file as phenotype.\n",
      "\tConsidering phenotype as a plink binary 1/2.\n",
      "\tFound 427 cases and 1525 controls.\n",
      "Loaded 1952 samples and 250140 SNPs.\n",
      "plink --bfile /home/vcabeli/Documents/data/BP_final/BP.B37-final --keep training_samples.keep --make-bed --out training_set\n",
      "plink --bfile training_set --logistic sex beta hide-covar --covar low_ld_pruned.cov --covar-name PC1-PC6 --out low_ld\n",
      "plink --bfile training_set --clump low_ld.assoc.logistic --clump-p1 1 --clump-p2 1 --clump-r2 0.2 --clump-kb 500 --out low_ld_clump \n"
     ]
    },
    {
     "name": "stderr",
     "output_type": "stream",
     "text": [
      "100%|██████████| 95/95 [00:05<00:00, 18.40it/s]\n"
     ]
    },
    {
     "name": "stdout",
     "output_type": "stream",
     "text": [
      "=========================Iteration 0=========================\n",
      "plink --bfile 1000_snps_set --extract L2_thresh_5_BP.extract --make-bed --out low_ld\n",
      "Wrote low_ld_pruned bed/bim/fam.\n",
      "smartpca.perl -i low_ld_pruned.bed -a low_ld_pruned.bim -b low_ld_pruned.fam -o low_ld_pruned.pca -p low_ld_pruned.plot -e low_ld_pruned.eval -l low_ld_pruned.log -k 6 -t 2 -m 0\n"
     ]
    },
    {
     "name": "stderr",
     "output_type": "stream",
     "text": [
      "WARNING:root:loadPhen is using default missing value of '-9'.\n"
     ]
    },
    {
     "name": "stdout",
     "output_type": "stream",
     "text": [
      "Wrote low_ld_pruned.cov\n",
      "Using last column in .fam file as phenotype.\n",
      "\tConsidering phenotype as a plink binary 1/2.\n",
      "\tFound 427 cases and 1525 controls.\n",
      "Loaded 1952 samples and 250140 SNPs.\n",
      "plink --bfile /home/vcabeli/Documents/data/BP_final/BP.B37-final --keep training_samples.keep --make-bed --out training_set\n",
      "plink --bfile training_set --logistic sex beta hide-covar --covar low_ld_pruned.cov --covar-name PC1-PC6 --out low_ld\n",
      "plink --bfile training_set --clump low_ld.assoc.logistic --clump-p1 1 --clump-p2 1 --clump-r2 0.2 --clump-kb 500 --out low_ld_clump \n"
     ]
    },
    {
     "name": "stderr",
     "output_type": "stream",
     "text": [
      "100%|██████████| 95/95 [00:04<00:00, 19.47it/s]\n"
     ]
    },
    {
     "name": "stdout",
     "output_type": "stream",
     "text": [
      "=========================Iteration 0=========================\n",
      "plink --bfile 2000_snps_set --extract L2_thresh_5_BP.extract --make-bed --out low_ld\n",
      "Wrote low_ld_pruned bed/bim/fam.\n",
      "smartpca.perl -i low_ld_pruned.bed -a low_ld_pruned.bim -b low_ld_pruned.fam -o low_ld_pruned.pca -p low_ld_pruned.plot -e low_ld_pruned.eval -l low_ld_pruned.log -k 6 -t 2 -m 0\n"
     ]
    },
    {
     "name": "stderr",
     "output_type": "stream",
     "text": [
      "WARNING:root:loadPhen is using default missing value of '-9'.\n"
     ]
    },
    {
     "name": "stdout",
     "output_type": "stream",
     "text": [
      "Wrote low_ld_pruned.cov\n",
      "Using last column in .fam file as phenotype.\n",
      "\tConsidering phenotype as a plink binary 1/2.\n",
      "\tFound 427 cases and 1525 controls.\n",
      "Loaded 1952 samples and 250140 SNPs.\n",
      "plink --bfile /home/vcabeli/Documents/data/BP_final/BP.B37-final --keep training_samples.keep --make-bed --out training_set\n",
      "plink --bfile training_set --logistic sex beta hide-covar --covar low_ld_pruned.cov --covar-name PC1-PC6 --out low_ld\n",
      "plink --bfile training_set --clump low_ld.assoc.logistic --clump-p1 1 --clump-p2 1 --clump-r2 0.2 --clump-kb 500 --out low_ld_clump \n"
     ]
    },
    {
     "name": "stderr",
     "output_type": "stream",
     "text": [
      "100%|██████████| 95/95 [00:04<00:00, 19.24it/s]\n"
     ]
    },
    {
     "name": "stdout",
     "output_type": "stream",
     "text": [
      "========================= 7 PCs =========================\n",
      "=========================Iteration 0=========================\n",
      "plink --bfile 100_snps_set --extract L2_thresh_5_BP.extract --make-bed --out low_ld\n",
      "Wrote low_ld_pruned bed/bim/fam.\n",
      "smartpca.perl -i low_ld_pruned.bed -a low_ld_pruned.bim -b low_ld_pruned.fam -o low_ld_pruned.pca -p low_ld_pruned.plot -e low_ld_pruned.eval -l low_ld_pruned.log -k 7 -t 2 -m 0\n"
     ]
    },
    {
     "name": "stderr",
     "output_type": "stream",
     "text": [
      "WARNING:root:loadPhen is using default missing value of '-9'.\n"
     ]
    },
    {
     "name": "stdout",
     "output_type": "stream",
     "text": [
      "Wrote low_ld_pruned.cov\n",
      "Using last column in .fam file as phenotype.\n",
      "\tConsidering phenotype as a plink binary 1/2.\n",
      "\tFound 427 cases and 1525 controls.\n",
      "Loaded 1952 samples and 250140 SNPs.\n",
      "plink --bfile /home/vcabeli/Documents/data/BP_final/BP.B37-final --keep training_samples.keep --make-bed --out training_set\n",
      "plink --bfile training_set --logistic sex beta hide-covar --covar low_ld_pruned.cov --covar-name PC1-PC7 --out low_ld\n",
      "plink --bfile training_set --clump low_ld.assoc.logistic --clump-p1 1 --clump-p2 1 --clump-r2 0.2 --clump-kb 500 --out low_ld_clump \n"
     ]
    },
    {
     "name": "stderr",
     "output_type": "stream",
     "text": [
      "100%|██████████| 95/95 [00:05<00:00, 18.30it/s]\n"
     ]
    },
    {
     "name": "stdout",
     "output_type": "stream",
     "text": [
      "=========================Iteration 0=========================\n",
      "plink --bfile 200_snps_set --extract L2_thresh_5_BP.extract --make-bed --out low_ld\n",
      "Wrote low_ld_pruned bed/bim/fam.\n",
      "smartpca.perl -i low_ld_pruned.bed -a low_ld_pruned.bim -b low_ld_pruned.fam -o low_ld_pruned.pca -p low_ld_pruned.plot -e low_ld_pruned.eval -l low_ld_pruned.log -k 7 -t 2 -m 0\n"
     ]
    },
    {
     "name": "stderr",
     "output_type": "stream",
     "text": [
      "WARNING:root:loadPhen is using default missing value of '-9'.\n"
     ]
    },
    {
     "name": "stdout",
     "output_type": "stream",
     "text": [
      "Wrote low_ld_pruned.cov\n",
      "Using last column in .fam file as phenotype.\n",
      "\tConsidering phenotype as a plink binary 1/2.\n",
      "\tFound 427 cases and 1525 controls.\n",
      "Loaded 1952 samples and 250140 SNPs.\n",
      "plink --bfile /home/vcabeli/Documents/data/BP_final/BP.B37-final --keep training_samples.keep --make-bed --out training_set\n",
      "plink --bfile training_set --logistic sex beta hide-covar --covar low_ld_pruned.cov --covar-name PC1-PC7 --out low_ld\n",
      "plink --bfile training_set --clump low_ld.assoc.logistic --clump-p1 1 --clump-p2 1 --clump-r2 0.2 --clump-kb 500 --out low_ld_clump \n"
     ]
    },
    {
     "name": "stderr",
     "output_type": "stream",
     "text": [
      "100%|██████████| 95/95 [00:04<00:00, 19.04it/s]\n"
     ]
    },
    {
     "name": "stdout",
     "output_type": "stream",
     "text": [
      "=========================Iteration 0=========================\n",
      "plink --bfile 500_snps_set --extract L2_thresh_5_BP.extract --make-bed --out low_ld\n",
      "Wrote low_ld_pruned bed/bim/fam.\n",
      "smartpca.perl -i low_ld_pruned.bed -a low_ld_pruned.bim -b low_ld_pruned.fam -o low_ld_pruned.pca -p low_ld_pruned.plot -e low_ld_pruned.eval -l low_ld_pruned.log -k 7 -t 2 -m 0\n"
     ]
    },
    {
     "name": "stderr",
     "output_type": "stream",
     "text": [
      "WARNING:root:loadPhen is using default missing value of '-9'.\n"
     ]
    },
    {
     "name": "stdout",
     "output_type": "stream",
     "text": [
      "Wrote low_ld_pruned.cov\n",
      "Using last column in .fam file as phenotype.\n",
      "\tConsidering phenotype as a plink binary 1/2.\n",
      "\tFound 427 cases and 1525 controls.\n",
      "Loaded 1952 samples and 250140 SNPs.\n",
      "plink --bfile /home/vcabeli/Documents/data/BP_final/BP.B37-final --keep training_samples.keep --make-bed --out training_set\n",
      "plink --bfile training_set --logistic sex beta hide-covar --covar low_ld_pruned.cov --covar-name PC1-PC7 --out low_ld\n",
      "plink --bfile training_set --clump low_ld.assoc.logistic --clump-p1 1 --clump-p2 1 --clump-r2 0.2 --clump-kb 500 --out low_ld_clump \n"
     ]
    },
    {
     "name": "stderr",
     "output_type": "stream",
     "text": [
      "100%|██████████| 95/95 [00:04<00:00, 19.22it/s]\n"
     ]
    },
    {
     "name": "stdout",
     "output_type": "stream",
     "text": [
      "=========================Iteration 0=========================\n",
      "plink --bfile 1000_snps_set --extract L2_thresh_5_BP.extract --make-bed --out low_ld\n",
      "Wrote low_ld_pruned bed/bim/fam.\n",
      "smartpca.perl -i low_ld_pruned.bed -a low_ld_pruned.bim -b low_ld_pruned.fam -o low_ld_pruned.pca -p low_ld_pruned.plot -e low_ld_pruned.eval -l low_ld_pruned.log -k 7 -t 2 -m 0\n"
     ]
    },
    {
     "name": "stderr",
     "output_type": "stream",
     "text": [
      "WARNING:root:loadPhen is using default missing value of '-9'.\n"
     ]
    },
    {
     "name": "stdout",
     "output_type": "stream",
     "text": [
      "Wrote low_ld_pruned.cov\n",
      "Using last column in .fam file as phenotype.\n",
      "\tConsidering phenotype as a plink binary 1/2.\n",
      "\tFound 427 cases and 1525 controls.\n",
      "Loaded 1952 samples and 250140 SNPs.\n",
      "plink --bfile /home/vcabeli/Documents/data/BP_final/BP.B37-final --keep training_samples.keep --make-bed --out training_set\n",
      "plink --bfile training_set --logistic sex beta hide-covar --covar low_ld_pruned.cov --covar-name PC1-PC7 --out low_ld\n",
      "plink --bfile training_set --clump low_ld.assoc.logistic --clump-p1 1 --clump-p2 1 --clump-r2 0.2 --clump-kb 500 --out low_ld_clump \n"
     ]
    },
    {
     "name": "stderr",
     "output_type": "stream",
     "text": [
      "100%|██████████| 95/95 [00:04<00:00, 19.31it/s]\n"
     ]
    },
    {
     "name": "stdout",
     "output_type": "stream",
     "text": [
      "=========================Iteration 0=========================\n",
      "plink --bfile 2000_snps_set --extract L2_thresh_5_BP.extract --make-bed --out low_ld\n",
      "Wrote low_ld_pruned bed/bim/fam.\n",
      "smartpca.perl -i low_ld_pruned.bed -a low_ld_pruned.bim -b low_ld_pruned.fam -o low_ld_pruned.pca -p low_ld_pruned.plot -e low_ld_pruned.eval -l low_ld_pruned.log -k 7 -t 2 -m 0\n"
     ]
    },
    {
     "name": "stderr",
     "output_type": "stream",
     "text": [
      "WARNING:root:loadPhen is using default missing value of '-9'.\n"
     ]
    },
    {
     "name": "stdout",
     "output_type": "stream",
     "text": [
      "Wrote low_ld_pruned.cov\n",
      "Using last column in .fam file as phenotype.\n",
      "\tConsidering phenotype as a plink binary 1/2.\n",
      "\tFound 427 cases and 1525 controls.\n",
      "Loaded 1952 samples and 250140 SNPs.\n",
      "plink --bfile /home/vcabeli/Documents/data/BP_final/BP.B37-final --keep training_samples.keep --make-bed --out training_set\n",
      "plink --bfile training_set --logistic sex beta hide-covar --covar low_ld_pruned.cov --covar-name PC1-PC7 --out low_ld\n",
      "plink --bfile training_set --clump low_ld.assoc.logistic --clump-p1 1 --clump-p2 1 --clump-r2 0.2 --clump-kb 500 --out low_ld_clump \n"
     ]
    },
    {
     "name": "stderr",
     "output_type": "stream",
     "text": [
      "100%|██████████| 95/95 [00:04<00:00, 19.08it/s]\n"
     ]
    },
    {
     "name": "stdout",
     "output_type": "stream",
     "text": [
      "========================= 8 PCs =========================\n",
      "=========================Iteration 0=========================\n",
      "plink --bfile 100_snps_set --extract L2_thresh_5_BP.extract --make-bed --out low_ld\n",
      "Wrote low_ld_pruned bed/bim/fam.\n",
      "smartpca.perl -i low_ld_pruned.bed -a low_ld_pruned.bim -b low_ld_pruned.fam -o low_ld_pruned.pca -p low_ld_pruned.plot -e low_ld_pruned.eval -l low_ld_pruned.log -k 8 -t 2 -m 0\n"
     ]
    },
    {
     "name": "stderr",
     "output_type": "stream",
     "text": [
      "WARNING:root:loadPhen is using default missing value of '-9'.\n"
     ]
    },
    {
     "name": "stdout",
     "output_type": "stream",
     "text": [
      "Wrote low_ld_pruned.cov\n",
      "Using last column in .fam file as phenotype.\n",
      "\tConsidering phenotype as a plink binary 1/2.\n",
      "\tFound 427 cases and 1525 controls.\n",
      "Loaded 1952 samples and 250140 SNPs.\n",
      "plink --bfile /home/vcabeli/Documents/data/BP_final/BP.B37-final --keep training_samples.keep --make-bed --out training_set\n",
      "plink --bfile training_set --logistic sex beta hide-covar --covar low_ld_pruned.cov --covar-name PC1-PC8 --out low_ld\n",
      "plink --bfile training_set --clump low_ld.assoc.logistic --clump-p1 1 --clump-p2 1 --clump-r2 0.2 --clump-kb 500 --out low_ld_clump \n"
     ]
    },
    {
     "name": "stderr",
     "output_type": "stream",
     "text": [
      "100%|██████████| 95/95 [00:04<00:00, 19.22it/s]\n"
     ]
    },
    {
     "name": "stdout",
     "output_type": "stream",
     "text": [
      "=========================Iteration 0=========================\n",
      "plink --bfile 200_snps_set --extract L2_thresh_5_BP.extract --make-bed --out low_ld\n",
      "Wrote low_ld_pruned bed/bim/fam.\n",
      "smartpca.perl -i low_ld_pruned.bed -a low_ld_pruned.bim -b low_ld_pruned.fam -o low_ld_pruned.pca -p low_ld_pruned.plot -e low_ld_pruned.eval -l low_ld_pruned.log -k 8 -t 2 -m 0\n"
     ]
    },
    {
     "name": "stderr",
     "output_type": "stream",
     "text": [
      "WARNING:root:loadPhen is using default missing value of '-9'.\n"
     ]
    },
    {
     "name": "stdout",
     "output_type": "stream",
     "text": [
      "Wrote low_ld_pruned.cov\n",
      "Using last column in .fam file as phenotype.\n",
      "\tConsidering phenotype as a plink binary 1/2.\n",
      "\tFound 427 cases and 1525 controls.\n",
      "Loaded 1952 samples and 250140 SNPs.\n",
      "plink --bfile /home/vcabeli/Documents/data/BP_final/BP.B37-final --keep training_samples.keep --make-bed --out training_set\n",
      "plink --bfile training_set --logistic sex beta hide-covar --covar low_ld_pruned.cov --covar-name PC1-PC8 --out low_ld\n",
      "plink --bfile training_set --clump low_ld.assoc.logistic --clump-p1 1 --clump-p2 1 --clump-r2 0.2 --clump-kb 500 --out low_ld_clump \n"
     ]
    },
    {
     "name": "stderr",
     "output_type": "stream",
     "text": [
      "100%|██████████| 95/95 [00:04<00:00, 19.26it/s]\n"
     ]
    },
    {
     "name": "stdout",
     "output_type": "stream",
     "text": [
      "=========================Iteration 0=========================\n",
      "plink --bfile 500_snps_set --extract L2_thresh_5_BP.extract --make-bed --out low_ld\n",
      "Wrote low_ld_pruned bed/bim/fam.\n",
      "smartpca.perl -i low_ld_pruned.bed -a low_ld_pruned.bim -b low_ld_pruned.fam -o low_ld_pruned.pca -p low_ld_pruned.plot -e low_ld_pruned.eval -l low_ld_pruned.log -k 8 -t 2 -m 0\n"
     ]
    },
    {
     "name": "stderr",
     "output_type": "stream",
     "text": [
      "WARNING:root:loadPhen is using default missing value of '-9'.\n"
     ]
    },
    {
     "name": "stdout",
     "output_type": "stream",
     "text": [
      "Wrote low_ld_pruned.cov\n",
      "Using last column in .fam file as phenotype.\n",
      "\tConsidering phenotype as a plink binary 1/2.\n",
      "\tFound 427 cases and 1525 controls.\n",
      "Loaded 1952 samples and 250140 SNPs.\n",
      "plink --bfile /home/vcabeli/Documents/data/BP_final/BP.B37-final --keep training_samples.keep --make-bed --out training_set\n",
      "plink --bfile training_set --logistic sex beta hide-covar --covar low_ld_pruned.cov --covar-name PC1-PC8 --out low_ld\n",
      "plink --bfile training_set --clump low_ld.assoc.logistic --clump-p1 1 --clump-p2 1 --clump-r2 0.2 --clump-kb 500 --out low_ld_clump \n"
     ]
    },
    {
     "name": "stderr",
     "output_type": "stream",
     "text": [
      "100%|██████████| 95/95 [00:05<00:00, 18.66it/s]\n"
     ]
    },
    {
     "name": "stdout",
     "output_type": "stream",
     "text": [
      "=========================Iteration 0=========================\n",
      "plink --bfile 1000_snps_set --extract L2_thresh_5_BP.extract --make-bed --out low_ld\n",
      "Wrote low_ld_pruned bed/bim/fam.\n",
      "smartpca.perl -i low_ld_pruned.bed -a low_ld_pruned.bim -b low_ld_pruned.fam -o low_ld_pruned.pca -p low_ld_pruned.plot -e low_ld_pruned.eval -l low_ld_pruned.log -k 8 -t 2 -m 0\n"
     ]
    },
    {
     "name": "stderr",
     "output_type": "stream",
     "text": [
      "WARNING:root:loadPhen is using default missing value of '-9'.\n"
     ]
    },
    {
     "name": "stdout",
     "output_type": "stream",
     "text": [
      "Wrote low_ld_pruned.cov\n",
      "Using last column in .fam file as phenotype.\n",
      "\tConsidering phenotype as a plink binary 1/2.\n",
      "\tFound 427 cases and 1525 controls.\n",
      "Loaded 1952 samples and 250140 SNPs.\n",
      "plink --bfile /home/vcabeli/Documents/data/BP_final/BP.B37-final --keep training_samples.keep --make-bed --out training_set\n",
      "plink --bfile training_set --logistic sex beta hide-covar --covar low_ld_pruned.cov --covar-name PC1-PC8 --out low_ld\n",
      "plink --bfile training_set --clump low_ld.assoc.logistic --clump-p1 1 --clump-p2 1 --clump-r2 0.2 --clump-kb 500 --out low_ld_clump \n"
     ]
    },
    {
     "name": "stderr",
     "output_type": "stream",
     "text": [
      "100%|██████████| 95/95 [00:04<00:00, 19.11it/s]\n"
     ]
    },
    {
     "name": "stdout",
     "output_type": "stream",
     "text": [
      "=========================Iteration 0=========================\n",
      "plink --bfile 2000_snps_set --extract L2_thresh_5_BP.extract --make-bed --out low_ld\n",
      "Wrote low_ld_pruned bed/bim/fam.\n",
      "smartpca.perl -i low_ld_pruned.bed -a low_ld_pruned.bim -b low_ld_pruned.fam -o low_ld_pruned.pca -p low_ld_pruned.plot -e low_ld_pruned.eval -l low_ld_pruned.log -k 8 -t 2 -m 0\n"
     ]
    },
    {
     "name": "stderr",
     "output_type": "stream",
     "text": [
      "WARNING:root:loadPhen is using default missing value of '-9'.\n"
     ]
    },
    {
     "name": "stdout",
     "output_type": "stream",
     "text": [
      "Wrote low_ld_pruned.cov\n",
      "Using last column in .fam file as phenotype.\n",
      "\tConsidering phenotype as a plink binary 1/2.\n",
      "\tFound 427 cases and 1525 controls.\n",
      "Loaded 1952 samples and 250140 SNPs.\n",
      "plink --bfile /home/vcabeli/Documents/data/BP_final/BP.B37-final --keep training_samples.keep --make-bed --out training_set\n",
      "plink --bfile training_set --logistic sex beta hide-covar --covar low_ld_pruned.cov --covar-name PC1-PC8 --out low_ld\n",
      "plink --bfile training_set --clump low_ld.assoc.logistic --clump-p1 1 --clump-p2 1 --clump-r2 0.2 --clump-kb 500 --out low_ld_clump \n"
     ]
    },
    {
     "name": "stderr",
     "output_type": "stream",
     "text": [
      "100%|██████████| 95/95 [00:04<00:00, 19.18it/s]\n"
     ]
    },
    {
     "name": "stdout",
     "output_type": "stream",
     "text": [
      "========================= 9 PCs =========================\n",
      "=========================Iteration 0=========================\n",
      "plink --bfile 100_snps_set --extract L2_thresh_5_BP.extract --make-bed --out low_ld\n",
      "Wrote low_ld_pruned bed/bim/fam.\n",
      "smartpca.perl -i low_ld_pruned.bed -a low_ld_pruned.bim -b low_ld_pruned.fam -o low_ld_pruned.pca -p low_ld_pruned.plot -e low_ld_pruned.eval -l low_ld_pruned.log -k 9 -t 2 -m 0\n"
     ]
    },
    {
     "name": "stderr",
     "output_type": "stream",
     "text": [
      "WARNING:root:loadPhen is using default missing value of '-9'.\n"
     ]
    },
    {
     "name": "stdout",
     "output_type": "stream",
     "text": [
      "Wrote low_ld_pruned.cov\n",
      "Using last column in .fam file as phenotype.\n",
      "\tConsidering phenotype as a plink binary 1/2.\n",
      "\tFound 427 cases and 1525 controls.\n",
      "Loaded 1952 samples and 250140 SNPs.\n",
      "plink --bfile /home/vcabeli/Documents/data/BP_final/BP.B37-final --keep training_samples.keep --make-bed --out training_set\n",
      "plink --bfile training_set --logistic sex beta hide-covar --covar low_ld_pruned.cov --covar-name PC1-PC9 --out low_ld\n",
      "plink --bfile training_set --clump low_ld.assoc.logistic --clump-p1 1 --clump-p2 1 --clump-r2 0.2 --clump-kb 500 --out low_ld_clump \n"
     ]
    },
    {
     "name": "stderr",
     "output_type": "stream",
     "text": [
      "100%|██████████| 95/95 [00:04<00:00, 19.08it/s]\n"
     ]
    },
    {
     "name": "stdout",
     "output_type": "stream",
     "text": [
      "=========================Iteration 0=========================\n",
      "plink --bfile 200_snps_set --extract L2_thresh_5_BP.extract --make-bed --out low_ld\n",
      "Wrote low_ld_pruned bed/bim/fam.\n",
      "smartpca.perl -i low_ld_pruned.bed -a low_ld_pruned.bim -b low_ld_pruned.fam -o low_ld_pruned.pca -p low_ld_pruned.plot -e low_ld_pruned.eval -l low_ld_pruned.log -k 9 -t 2 -m 0\n"
     ]
    },
    {
     "name": "stderr",
     "output_type": "stream",
     "text": [
      "WARNING:root:loadPhen is using default missing value of '-9'.\n"
     ]
    },
    {
     "name": "stdout",
     "output_type": "stream",
     "text": [
      "Wrote low_ld_pruned.cov\n",
      "Using last column in .fam file as phenotype.\n",
      "\tConsidering phenotype as a plink binary 1/2.\n",
      "\tFound 427 cases and 1525 controls.\n",
      "Loaded 1952 samples and 250140 SNPs.\n",
      "plink --bfile /home/vcabeli/Documents/data/BP_final/BP.B37-final --keep training_samples.keep --make-bed --out training_set\n",
      "plink --bfile training_set --logistic sex beta hide-covar --covar low_ld_pruned.cov --covar-name PC1-PC9 --out low_ld\n",
      "plink --bfile training_set --clump low_ld.assoc.logistic --clump-p1 1 --clump-p2 1 --clump-r2 0.2 --clump-kb 500 --out low_ld_clump \n"
     ]
    },
    {
     "name": "stderr",
     "output_type": "stream",
     "text": [
      "100%|██████████| 95/95 [00:05<00:00, 18.44it/s]\n"
     ]
    },
    {
     "name": "stdout",
     "output_type": "stream",
     "text": [
      "=========================Iteration 0=========================\n",
      "plink --bfile 500_snps_set --extract L2_thresh_5_BP.extract --make-bed --out low_ld\n",
      "Wrote low_ld_pruned bed/bim/fam.\n",
      "smartpca.perl -i low_ld_pruned.bed -a low_ld_pruned.bim -b low_ld_pruned.fam -o low_ld_pruned.pca -p low_ld_pruned.plot -e low_ld_pruned.eval -l low_ld_pruned.log -k 9 -t 2 -m 0\n"
     ]
    },
    {
     "name": "stderr",
     "output_type": "stream",
     "text": [
      "WARNING:root:loadPhen is using default missing value of '-9'.\n"
     ]
    },
    {
     "name": "stdout",
     "output_type": "stream",
     "text": [
      "Wrote low_ld_pruned.cov\n",
      "Using last column in .fam file as phenotype.\n",
      "\tConsidering phenotype as a plink binary 1/2.\n",
      "\tFound 427 cases and 1525 controls.\n",
      "Loaded 1952 samples and 250140 SNPs.\n",
      "plink --bfile /home/vcabeli/Documents/data/BP_final/BP.B37-final --keep training_samples.keep --make-bed --out training_set\n",
      "plink --bfile training_set --logistic sex beta hide-covar --covar low_ld_pruned.cov --covar-name PC1-PC9 --out low_ld\n",
      "plink --bfile training_set --clump low_ld.assoc.logistic --clump-p1 1 --clump-p2 1 --clump-r2 0.2 --clump-kb 500 --out low_ld_clump \n"
     ]
    },
    {
     "name": "stderr",
     "output_type": "stream",
     "text": [
      "100%|██████████| 95/95 [00:05<00:00, 18.69it/s]\n"
     ]
    },
    {
     "name": "stdout",
     "output_type": "stream",
     "text": [
      "=========================Iteration 0=========================\n",
      "plink --bfile 1000_snps_set --extract L2_thresh_5_BP.extract --make-bed --out low_ld\n",
      "Wrote low_ld_pruned bed/bim/fam.\n",
      "smartpca.perl -i low_ld_pruned.bed -a low_ld_pruned.bim -b low_ld_pruned.fam -o low_ld_pruned.pca -p low_ld_pruned.plot -e low_ld_pruned.eval -l low_ld_pruned.log -k 9 -t 2 -m 0\n"
     ]
    },
    {
     "name": "stderr",
     "output_type": "stream",
     "text": [
      "WARNING:root:loadPhen is using default missing value of '-9'.\n"
     ]
    },
    {
     "name": "stdout",
     "output_type": "stream",
     "text": [
      "Wrote low_ld_pruned.cov\n",
      "Using last column in .fam file as phenotype.\n",
      "\tConsidering phenotype as a plink binary 1/2.\n",
      "\tFound 427 cases and 1525 controls.\n",
      "Loaded 1952 samples and 250140 SNPs.\n",
      "plink --bfile /home/vcabeli/Documents/data/BP_final/BP.B37-final --keep training_samples.keep --make-bed --out training_set\n",
      "plink --bfile training_set --logistic sex beta hide-covar --covar low_ld_pruned.cov --covar-name PC1-PC9 --out low_ld\n",
      "plink --bfile training_set --clump low_ld.assoc.logistic --clump-p1 1 --clump-p2 1 --clump-r2 0.2 --clump-kb 500 --out low_ld_clump \n"
     ]
    },
    {
     "name": "stderr",
     "output_type": "stream",
     "text": [
      "100%|██████████| 95/95 [00:04<00:00, 19.13it/s]\n"
     ]
    },
    {
     "name": "stdout",
     "output_type": "stream",
     "text": [
      "=========================Iteration 0=========================\n",
      "plink --bfile 2000_snps_set --extract L2_thresh_5_BP.extract --make-bed --out low_ld\n",
      "Wrote low_ld_pruned bed/bim/fam.\n",
      "smartpca.perl -i low_ld_pruned.bed -a low_ld_pruned.bim -b low_ld_pruned.fam -o low_ld_pruned.pca -p low_ld_pruned.plot -e low_ld_pruned.eval -l low_ld_pruned.log -k 9 -t 2 -m 0\n"
     ]
    },
    {
     "name": "stderr",
     "output_type": "stream",
     "text": [
      "WARNING:root:loadPhen is using default missing value of '-9'.\n"
     ]
    },
    {
     "name": "stdout",
     "output_type": "stream",
     "text": [
      "Wrote low_ld_pruned.cov\n",
      "Using last column in .fam file as phenotype.\n",
      "\tConsidering phenotype as a plink binary 1/2.\n",
      "\tFound 427 cases and 1525 controls.\n",
      "Loaded 1952 samples and 250140 SNPs.\n",
      "plink --bfile /home/vcabeli/Documents/data/BP_final/BP.B37-final --keep training_samples.keep --make-bed --out training_set\n",
      "plink --bfile training_set --logistic sex beta hide-covar --covar low_ld_pruned.cov --covar-name PC1-PC9 --out low_ld\n",
      "plink --bfile training_set --clump low_ld.assoc.logistic --clump-p1 1 --clump-p2 1 --clump-r2 0.2 --clump-kb 500 --out low_ld_clump \n"
     ]
    },
    {
     "name": "stderr",
     "output_type": "stream",
     "text": [
      "100%|██████████| 95/95 [00:05<00:00, 18.65it/s]\n"
     ]
    },
    {
     "name": "stdout",
     "output_type": "stream",
     "text": [
      "========================= 10 PCs =========================\n",
      "=========================Iteration 0=========================\n",
      "plink --bfile 100_snps_set --extract L2_thresh_5_BP.extract --make-bed --out low_ld\n",
      "Wrote low_ld_pruned bed/bim/fam.\n",
      "smartpca.perl -i low_ld_pruned.bed -a low_ld_pruned.bim -b low_ld_pruned.fam -o low_ld_pruned.pca -p low_ld_pruned.plot -e low_ld_pruned.eval -l low_ld_pruned.log -k 10 -t 2 -m 0\n"
     ]
    },
    {
     "name": "stderr",
     "output_type": "stream",
     "text": [
      "WARNING:root:loadPhen is using default missing value of '-9'.\n"
     ]
    },
    {
     "name": "stdout",
     "output_type": "stream",
     "text": [
      "Wrote low_ld_pruned.cov\n",
      "Using last column in .fam file as phenotype.\n",
      "\tConsidering phenotype as a plink binary 1/2.\n",
      "\tFound 427 cases and 1525 controls.\n",
      "Loaded 1952 samples and 250140 SNPs.\n",
      "plink --bfile /home/vcabeli/Documents/data/BP_final/BP.B37-final --keep training_samples.keep --make-bed --out training_set\n",
      "plink --bfile training_set --logistic sex beta hide-covar --covar low_ld_pruned.cov --covar-name PC1-PC10 --out low_ld\n",
      "plink --bfile training_set --clump low_ld.assoc.logistic --clump-p1 1 --clump-p2 1 --clump-r2 0.2 --clump-kb 500 --out low_ld_clump \n"
     ]
    },
    {
     "name": "stderr",
     "output_type": "stream",
     "text": [
      "100%|██████████| 95/95 [00:04<00:00, 19.24it/s]\n"
     ]
    },
    {
     "name": "stdout",
     "output_type": "stream",
     "text": [
      "=========================Iteration 0=========================\n",
      "plink --bfile 200_snps_set --extract L2_thresh_5_BP.extract --make-bed --out low_ld\n",
      "Wrote low_ld_pruned bed/bim/fam.\n",
      "smartpca.perl -i low_ld_pruned.bed -a low_ld_pruned.bim -b low_ld_pruned.fam -o low_ld_pruned.pca -p low_ld_pruned.plot -e low_ld_pruned.eval -l low_ld_pruned.log -k 10 -t 2 -m 0\n"
     ]
    },
    {
     "name": "stderr",
     "output_type": "stream",
     "text": [
      "WARNING:root:loadPhen is using default missing value of '-9'.\n"
     ]
    },
    {
     "name": "stdout",
     "output_type": "stream",
     "text": [
      "Wrote low_ld_pruned.cov\n",
      "Using last column in .fam file as phenotype.\n",
      "\tConsidering phenotype as a plink binary 1/2.\n",
      "\tFound 427 cases and 1525 controls.\n",
      "Loaded 1952 samples and 250140 SNPs.\n",
      "plink --bfile /home/vcabeli/Documents/data/BP_final/BP.B37-final --keep training_samples.keep --make-bed --out training_set\n",
      "plink --bfile training_set --logistic sex beta hide-covar --covar low_ld_pruned.cov --covar-name PC1-PC10 --out low_ld\n",
      "plink --bfile training_set --clump low_ld.assoc.logistic --clump-p1 1 --clump-p2 1 --clump-r2 0.2 --clump-kb 500 --out low_ld_clump \n"
     ]
    },
    {
     "name": "stderr",
     "output_type": "stream",
     "text": [
      "100%|██████████| 95/95 [00:04<00:00, 19.26it/s]\n"
     ]
    },
    {
     "name": "stdout",
     "output_type": "stream",
     "text": [
      "=========================Iteration 0=========================\n",
      "plink --bfile 500_snps_set --extract L2_thresh_5_BP.extract --make-bed --out low_ld\n",
      "Wrote low_ld_pruned bed/bim/fam.\n",
      "smartpca.perl -i low_ld_pruned.bed -a low_ld_pruned.bim -b low_ld_pruned.fam -o low_ld_pruned.pca -p low_ld_pruned.plot -e low_ld_pruned.eval -l low_ld_pruned.log -k 10 -t 2 -m 0\n"
     ]
    },
    {
     "name": "stderr",
     "output_type": "stream",
     "text": [
      "WARNING:root:loadPhen is using default missing value of '-9'.\n"
     ]
    },
    {
     "name": "stdout",
     "output_type": "stream",
     "text": [
      "Wrote low_ld_pruned.cov\n",
      "Using last column in .fam file as phenotype.\n",
      "\tConsidering phenotype as a plink binary 1/2.\n",
      "\tFound 427 cases and 1525 controls.\n",
      "Loaded 1952 samples and 250140 SNPs.\n",
      "plink --bfile /home/vcabeli/Documents/data/BP_final/BP.B37-final --keep training_samples.keep --make-bed --out training_set\n",
      "plink --bfile training_set --logistic sex beta hide-covar --covar low_ld_pruned.cov --covar-name PC1-PC10 --out low_ld\n",
      "plink --bfile training_set --clump low_ld.assoc.logistic --clump-p1 1 --clump-p2 1 --clump-r2 0.2 --clump-kb 500 --out low_ld_clump \n"
     ]
    },
    {
     "name": "stderr",
     "output_type": "stream",
     "text": [
      "100%|██████████| 95/95 [00:05<00:00, 18.80it/s]\n"
     ]
    },
    {
     "name": "stdout",
     "output_type": "stream",
     "text": [
      "=========================Iteration 0=========================\n",
      "plink --bfile 1000_snps_set --extract L2_thresh_5_BP.extract --make-bed --out low_ld\n",
      "Wrote low_ld_pruned bed/bim/fam.\n",
      "smartpca.perl -i low_ld_pruned.bed -a low_ld_pruned.bim -b low_ld_pruned.fam -o low_ld_pruned.pca -p low_ld_pruned.plot -e low_ld_pruned.eval -l low_ld_pruned.log -k 10 -t 2 -m 0\n"
     ]
    },
    {
     "name": "stderr",
     "output_type": "stream",
     "text": [
      "WARNING:root:loadPhen is using default missing value of '-9'.\n"
     ]
    },
    {
     "name": "stdout",
     "output_type": "stream",
     "text": [
      "Wrote low_ld_pruned.cov\n",
      "Using last column in .fam file as phenotype.\n",
      "\tConsidering phenotype as a plink binary 1/2.\n",
      "\tFound 427 cases and 1525 controls.\n",
      "Loaded 1952 samples and 250140 SNPs.\n",
      "plink --bfile /home/vcabeli/Documents/data/BP_final/BP.B37-final --keep training_samples.keep --make-bed --out training_set\n",
      "plink --bfile training_set --logistic sex beta hide-covar --covar low_ld_pruned.cov --covar-name PC1-PC10 --out low_ld\n",
      "plink --bfile training_set --clump low_ld.assoc.logistic --clump-p1 1 --clump-p2 1 --clump-r2 0.2 --clump-kb 500 --out low_ld_clump \n"
     ]
    },
    {
     "name": "stderr",
     "output_type": "stream",
     "text": [
      "100%|██████████| 95/95 [00:04<00:00, 19.01it/s]\n"
     ]
    },
    {
     "name": "stdout",
     "output_type": "stream",
     "text": [
      "=========================Iteration 0=========================\n",
      "plink --bfile 2000_snps_set --extract L2_thresh_5_BP.extract --make-bed --out low_ld\n",
      "Wrote low_ld_pruned bed/bim/fam.\n",
      "smartpca.perl -i low_ld_pruned.bed -a low_ld_pruned.bim -b low_ld_pruned.fam -o low_ld_pruned.pca -p low_ld_pruned.plot -e low_ld_pruned.eval -l low_ld_pruned.log -k 10 -t 2 -m 0\n"
     ]
    },
    {
     "name": "stderr",
     "output_type": "stream",
     "text": [
      "WARNING:root:loadPhen is using default missing value of '-9'.\n"
     ]
    },
    {
     "name": "stdout",
     "output_type": "stream",
     "text": [
      "Wrote low_ld_pruned.cov\n",
      "Using last column in .fam file as phenotype.\n",
      "\tConsidering phenotype as a plink binary 1/2.\n",
      "\tFound 427 cases and 1525 controls.\n",
      "Loaded 1952 samples and 250140 SNPs.\n",
      "plink --bfile /home/vcabeli/Documents/data/BP_final/BP.B37-final --keep training_samples.keep --make-bed --out training_set\n",
      "plink --bfile training_set --logistic sex beta hide-covar --covar low_ld_pruned.cov --covar-name PC1-PC10 --out low_ld\n",
      "plink --bfile training_set --clump low_ld.assoc.logistic --clump-p1 1 --clump-p2 1 --clump-r2 0.2 --clump-kb 500 --out low_ld_clump \n"
     ]
    },
    {
     "name": "stderr",
     "output_type": "stream",
     "text": [
      "100%|██████████| 95/95 [00:04<00:00, 19.14it/s]\n"
     ]
    }
   ],
   "source": [
    "for PC in range(0,nb_pc_tot):\n",
    "        print \"========================= {} PCs =========================\".format(PC)\n",
    "        #auc_50[PC]=iterate(n_iter,threshs,PC,data_50)\n",
    "        auc_100[PC]=iterate(n_iter,threshs,PC,data_100)\n",
    "        auc_200[PC]=iterate(n_iter,threshs,PC,data_200)\n",
    "        auc_500[PC]=iterate(n_iter,threshs,PC,data_500)\n",
    "        auc_1000[PC]=iterate(n_iter,threshs,PC,data_1000)\n",
    "        auc_2000[PC]=iterate(n_iter,threshs,PC,data_2000)"
   ]
  },
  {
   "cell_type": "code",
   "execution_count": 308,
   "metadata": {
    "collapsed": false
   },
   "outputs": [
    {
     "data": {
      "image/png": "[encoded data removed]",
      "text/plain": [
       "<matplotlib.figure.Figure at 0x7f0c5b681a50>"
      ]
     },
     "metadata": {},
     "output_type": "display_data"
    },
    {
     "name": "stdout",
     "output_type": "stream",
     "text": [
      "[ 0.  0.  0.  0.  0.  0.  0.  0.  0.  0.  0.]\n",
      "[ 0.59210165  0.54820746  0.59195469  0.5808614   0.58188841  0.59772126\n",
      "  0.5574324   0.54160556  0.88869735  0.89192803  0.89871757]\n"
     ]
    }
   ],
   "source": [
    "#sns.tsplot(auc_50.mean(axis=(1,2)),time_pc,color=get_color(),ci=[0,95], condition=\"SNP 50\")\n",
    "sns.tsplot(auc_100.mean(axis=(1,2)),time_pc,color=get_color(),ci=[0,95], condition=\"SNP 100\")\n",
    "sns.tsplot(auc_200.mean(axis=(1,2)),time_pc,color=get_color(),ci=[0,95], condition=\"SNP 200\")\n",
    "sns.tsplot(auc_500.mean(axis=(1,2)),time_pc,color=get_color(),ci=[0,95], condition=\"SNP 500\")\n",
    "sns.tsplot(auc_1000.mean(axis=(1,2)),time_pc,color=get_color(),ci=[0,95], condition=\"SNP 1000\")\n",
    "sns.tsplot(auc_2000.mean(axis=(1,2)),time_pc,color=get_color(),ci=[0,95], condition=\"SNP 2000\")\n",
    "sns.plt.ylim(0.4,0.7)\n",
    "sns.plt.ylabel('AUC')\n",
    "sns.plt.xlabel('N PCs')\n",
    "\n",
    "plt.show()\n",
    "print auc_50.mean(axis=(1,2))\n",
    "print auc_100.mean(axis=(1,2))"
   ]
  },
  {
   "cell_type": "code",
   "execution_count": 263,
   "metadata": {
    "collapsed": false
   },
   "outputs": [
    {
     "name": "stdout",
     "output_type": "stream",
     "text": [
      "[array([ 0.48744443,  0.50410476,  0.51894344,  0.53892136,  0.54400029,\n",
      "        0.55421847,  0.57392495,  0.57622917,  0.58578383,  0.5811573 ,\n",
      "        0.58132016,  0.57657299,  0.57920897,  0.57661521,  0.57803876,\n",
      "        0.57486594,  0.56596273,  0.55941803,  0.55657697,  0.55460451,\n",
      "        0.55338002,  0.55056912,  0.5551112 ,  0.55681825,  0.55812719,\n",
      "        0.55756622,  0.55959296,  0.56071491,  0.56022632,  0.55723446,\n",
      "        0.55096723,  0.54769789,  0.55287333,  0.55161868,  0.54702834,\n",
      "        0.55082849,  0.54897064,  0.55125073,  0.55020117,  0.55060531,\n",
      "        0.55192028,  0.55027355,  0.55082246,  0.55208314,  0.55541883,\n",
      "        0.55593758,  0.55729478,  0.55813322,  0.55918279,  0.55476738,\n",
      "        0.55699921,  0.55474325,  0.55692683,  0.55564201,  0.5554128 ,\n",
      "        0.55821164,  0.55549725,  0.55623315,  0.55483373,  0.5556963 ,\n",
      "        0.55283714,  0.55423656,  0.55039419,  0.550925  ,  0.55430895,\n",
      "        0.55525597,  0.55559979,  0.55707159,  0.55713191,  0.55732494,\n",
      "        0.55710779,  0.5579221 ,  0.55692683,  0.55841673,  0.55813925,\n",
      "        0.5616559 ,  0.55877261,  0.56136636,  0.56084761,  0.5624099 ,\n",
      "        0.56035902,  0.56104064,  0.56390583,  0.56558272,  0.56942509,\n",
      "        0.56763963,  0.56558875,  0.56351978,  0.56365249,  0.5625245 ,\n",
      "        0.56590241,  0.56529922,  0.56680118,  0.56438839,  0.5637309 ,\n",
      "        0.54089892,  0.53597538,  0.53961209,  0.5381201 ,  0.55538356,\n",
      "        0.55862862,  0.56883626,  0.57891956,  0.57295163,  0.57854656,\n",
      "        0.58491235,  0.58337685,  0.59573542,  0.59932861,  0.597675  ,\n",
      "        0.59597787,  0.60086411,  0.6001119 ,  0.59976999,  0.6067823 ,\n",
      "        0.60304613,  0.59687927,  0.59267686,  0.59052592,  0.59063782,\n",
      "        0.58982967,  0.59178789,  0.58902151,  0.58510506,  0.58724357,\n",
      "        0.58781549,  0.593628  ,  0.59124083,  0.58899043,  0.58783414,\n",
      "        0.58516101,  0.57812383,  0.57290812,  0.57498446,  0.57438767,\n",
      "        0.57543827,  0.57604749,  0.5701293 ,  0.57093746,  0.56877409,\n",
      "        0.56329728,  0.56201666,  0.56459033,  0.5670148 ,  0.56238344,\n",
      "        0.56406192,  0.56675992,  0.56118364,  0.56041278,  0.56186125,\n",
      "        0.56363919,  0.56432923,  0.56672262,  0.56746239,  0.56483899,\n",
      "        0.56306726,  0.56547308,  0.56155663,  0.5603071 ,  0.55574413,\n",
      "        0.55647147,  0.55540843,  0.55542086,  0.55088276,  0.54768743,\n",
      "        0.54750715,  0.54426831,  0.54688549,  0.54534999,  0.54615193,\n",
      "        0.54984459,  0.55050976,  0.54814746,  0.54677359,  0.54996892,\n",
      "        0.55154171,  0.55180903,  0.55304613,  0.55259232,  0.55166605,\n",
      "        0.5489121 ,  0.5485764 ,  0.54429317,  0.54548054,  0.54406316,\n",
      "        0.54577272,  0.54406938,  0.54469725,  0.54270794,  0.54352232,\n",
      "        0.5033391 ,  0.55105232,  0.5662607 ,  0.56457429,  0.57169402,\n",
      "        0.58365835,  0.57548998,  0.58248093,  0.58709863,  0.58411215,\n",
      "        0.58070253,  0.56982363,  0.57653249,  0.58252386,  0.58167758,\n",
      "        0.58884024,  0.59077195,  0.59012804,  0.58606839,  0.591747  ,\n",
      "        0.59878088,  0.59391174,  0.59592317,  0.59778129,  0.60219663,\n",
      "        0.60180416,  0.59973753,  0.60206172,  0.60208625,  0.59850492,\n",
      "        0.59640763,  0.59921628,  0.59959035,  0.60069419,  0.60280987,\n",
      "        0.59847426,  0.59636471,  0.59667133,  0.59959035,  0.59705154,\n",
      "        0.59543871,  0.59851105,  0.60167537,  0.60168151,  0.59609488,\n",
      "        0.59748694,  0.59894645,  0.59712513,  0.59926534,  0.60096402,\n",
      "        0.60158952,  0.60362548,  0.59945544,  0.59762185,  0.59561655,\n",
      "        0.59523021,  0.5933169 ,  0.59510143,  0.59510756,  0.59946157,\n",
      "        0.59879314,  0.60138715,  0.60097015,  0.60221503,  0.60101307,\n",
      "        0.60034464,  0.60046116,  0.60100081,  0.60290799,  0.60201879,\n",
      "        0.60041823,  0.59866436,  0.60162018,  0.60137489,  0.60006868,\n",
      "        0.60001349,  0.59421223,  0.59508917,  0.58912846,  0.59086393,\n",
      "        0.58922658,  0.59034881,  0.59188805,  0.59129934,  0.59485   ,\n",
      "        0.59255648,  0.59279564,  0.59101724,  0.59063703,  0.58808595,\n",
      "        0.58527731,  0.58183089,  0.58113793,  0.58208232,  0.5817757 ,\n",
      "        0.49758551,  0.52506588,  0.55729526,  0.58139535,  0.60661473,\n",
      "        0.60555939,  0.61217924,  0.60035945,  0.60085834,  0.60463197,\n",
      "        0.61626628,  0.60928825,  0.61358636,  0.6144818 ,  0.60417786,\n",
      "        0.59702714,  0.58522015,  0.58604523,  0.59052882,  0.5970975 ,\n",
      "        0.59423849,  0.58780413,  0.58406248,  0.58358278,  0.58262338,\n",
      "        0.58254023,  0.58382582,  0.58207972,  0.57490342,  0.57635531,\n",
      "        0.58308389,  0.5924796 ,  0.59379077,  0.59228132,  0.59271625,\n",
      "        0.59379077,  0.5899276 ,  0.59418093,  0.58870596,  0.58798961,\n",
      "        0.58885947,  0.59216619,  0.59459027,  0.59313199,  0.59409139,\n",
      "        0.59359889,  0.59066953,  0.58308389,  0.58097321,  0.579726  ,\n",
      "        0.57769847,  0.57439814,  0.57357945,  0.57703328,  0.57677745,\n",
      "        0.57806943,  0.57851715,  0.58144012,  0.58103078,  0.58238673,\n",
      "        0.58347405,  0.58033361,  0.57981554,  0.57739786,  0.57734029,\n",
      "        0.57622739,  0.57537672,  0.57773045,  0.57808862,  0.57836365,\n",
      "        0.57735308,  0.58069819,  0.57815898,  0.58168317,  0.5803528 ,\n",
      "        0.57769847,  0.57778162,  0.57450687,  0.57463479,  0.57446849,\n",
      "        0.5722299 ,  0.57216594,  0.57136004,  0.57139842,  0.571424  ,\n",
      "        0.57093151,  0.56642234,  0.56722823,  0.56769514,  0.56801494,\n",
      "        0.57070126,  0.57210837,  0.57128329,  0.56914703,  0.57160309]), array([ 0.,  0.,  0.,  0.,  0.,  0.,  0.,  0.,  0.,  0.,  0.,  0.,  0.,\n",
      "        0.,  0.,  0.,  0.,  0.,  0.,  0.,  0.,  0.,  0.,  0.,  0.,  0.,\n",
      "        0.,  0.,  0.,  0.,  0.,  0.,  0.,  0.,  0.,  0.,  0.,  0.,  0.,\n",
      "        0.,  0.,  0.,  0.,  0.,  0.,  0.,  0.,  0.,  0.,  0.,  0.,  0.,\n",
      "        0.,  0.,  0.,  0.,  0.,  0.,  0.,  0.,  0.,  0.,  0.,  0.,  0.,\n",
      "        0.,  0.,  0.,  0.,  0.,  0.,  0.,  0.,  0.,  0.,  0.,  0.,  0.,\n",
      "        0.,  0.,  0.,  0.,  0.,  0.,  0.,  0.,  0.,  0.,  0.,  0.,  0.,\n",
      "        0.,  0.,  0.,  0.,  0.,  0.,  0.,  0.,  0.,  0.,  0.,  0.,  0.,\n",
      "        0.,  0.,  0.,  0.,  0.,  0.,  0.,  0.,  0.,  0.,  0.,  0.,  0.,\n",
      "        0.,  0.,  0.,  0.,  0.,  0.,  0.,  0.,  0.,  0.,  0.,  0.,  0.,\n",
      "        0.,  0.,  0.,  0.,  0.,  0.,  0.,  0.,  0.,  0.,  0.,  0.,  0.,\n",
      "        0.,  0.,  0.,  0.,  0.,  0.,  0.,  0.,  0.,  0.,  0.,  0.,  0.,\n",
      "        0.,  0.,  0.,  0.,  0.,  0.,  0.,  0.,  0.,  0.,  0.,  0.,  0.,\n",
      "        0.,  0.,  0.,  0.,  0.,  0.,  0.,  0.,  0.,  0.,  0.,  0.,  0.,\n",
      "        0.,  0.,  0.,  0.,  0.,  0.,  0.,  0.,  0.,  0.,  0.,  0.,  0.,\n",
      "        0.,  0.,  0.,  0.,  0.,  0.,  0.,  0.,  0.,  0.,  0.,  0.,  0.,\n",
      "        0.,  0.,  0.,  0.,  0.,  0.,  0.,  0.,  0.,  0.,  0.,  0.,  0.,\n",
      "        0.,  0.,  0.,  0.,  0.,  0.,  0.,  0.,  0.,  0.,  0.,  0.,  0.,\n",
      "        0.,  0.,  0.,  0.,  0.,  0.,  0.,  0.,  0.,  0.,  0.,  0.,  0.,\n",
      "        0.,  0.,  0.,  0.,  0.,  0.,  0.,  0.,  0.,  0.,  0.,  0.,  0.,\n",
      "        0.,  0.,  0.,  0.,  0.,  0.,  0.,  0.,  0.,  0.,  0.,  0.,  0.,\n",
      "        0.,  0.,  0.,  0.,  0.,  0.,  0.,  0.,  0.,  0.,  0.,  0.,  0.,\n",
      "        0.,  0.,  0.,  0.,  0.,  0.,  0.,  0.,  0.,  0.,  0.,  0.,  0.,\n",
      "        0.,  0.,  0.,  0.,  0.,  0.,  0.,  0.,  0.,  0.,  0.,  0.,  0.,\n",
      "        0.,  0.,  0.,  0.,  0.,  0.,  0.,  0.,  0.,  0.,  0.,  0.,  0.,\n",
      "        0.,  0.,  0.,  0.,  0.,  0.,  0.,  0.,  0.,  0.,  0.,  0.,  0.,\n",
      "        0.,  0.,  0.,  0.,  0.,  0.,  0.,  0.,  0.,  0.,  0.,  0.,  0.,\n",
      "        0.,  0.,  0.,  0.,  0.,  0.,  0.,  0.,  0.,  0.,  0.,  0.,  0.,\n",
      "        0.,  0.,  0.,  0.,  0.,  0.,  0.,  0.,  0.,  0.,  0.,  0.,  0.,\n",
      "        0.,  0.,  0.]), array([ 0.52955181,  0.56049073,  0.55914442,  0.55702879,  0.55963399,\n",
      "        0.56236158,  0.56793915,  0.59418347,  0.59277305,  0.59893927,\n",
      "        0.59692855,  0.59001632,  0.59583285,  0.5856277 ,  0.58730621,\n",
      "        0.59653806,  0.59429421,  0.59924816,  0.59019116,  0.59569297,\n",
      "        0.5946031 ,  0.59125772,  0.59703928,  0.59698683,  0.59205618,\n",
      "        0.59731321,  0.60115981,  0.59777363,  0.59571628,  0.5952034 ,\n",
      "        0.59593775,  0.59779695,  0.60156778,  0.60377666,  0.60342114,\n",
      "        0.60149784,  0.6       ,  0.59934142,  0.59536659,  0.59665462,\n",
      "        0.5911703 ,  0.59347826,  0.5904476 ,  0.58915958,  0.58730621,\n",
      "        0.58675836,  0.58906632,  0.58542371,  0.58890896,  0.58630377,\n",
      "        0.58663014,  0.58716634,  0.58350041,  0.5846777 ,  0.58386176,\n",
      "        0.58378016,  0.58542371,  0.5847593 ,  0.58576174,  0.58791234,\n",
      "        0.59087306,  0.58899056,  0.59140926,  0.58979485,  0.5898881 ,\n",
      "        0.59149085,  0.59253992,  0.59357734,  0.59386292,  0.59259238,\n",
      "        0.59159576,  0.58847185,  0.5869099 ,  0.58660683,  0.58634456,\n",
      "        0.58432218,  0.58343047,  0.58267863,  0.58778995,  0.59099545,\n",
      "        0.58661849,  0.584532  ,  0.58524304,  0.58571512,  0.58429887,\n",
      "        0.58464856,  0.5857734 ,  0.58637953,  0.58630959,  0.58460776,\n",
      "        0.5818452 ,  0.58080779,  0.58293507,  0.58260287,  0.58693904,\n",
      "        0.52053131,  0.54744646,  0.57032649,  0.55719087,  0.55788383,\n",
      "        0.56355631,  0.56824147,  0.56760983,  0.5713322 ,  0.57607869,\n",
      "        0.57097653,  0.56562293,  0.56879339,  0.57040008,  0.5799789 ,\n",
      "        0.57876469,  0.58253612,  0.58957613,  0.58834351,  0.58627076,\n",
      "        0.58934923,  0.58747884,  0.58788971,  0.57835995,  0.57740942,\n",
      "        0.58080065,  0.58197807,  0.58235828,  0.58213138,  0.58392818,\n",
      "        0.58267103,  0.57575981,  0.57318419,  0.56799004,  0.56883631,\n",
      "        0.5726936 ,  0.56943116,  0.57523855,  0.57274266,  0.57338656,\n",
      "        0.57338656,  0.57325165,  0.57312287,  0.56908774,  0.56733387,\n",
      "        0.56638335,  0.56930238,  0.57195158,  0.57338043,  0.57212329,\n",
      "        0.57187799,  0.57262614,  0.56844384,  0.57489514,  0.57168175,\n",
      "        0.57425737,  0.57461304,  0.57437388,  0.57437388,  0.57545932,\n",
      "        0.57384649,  0.57286531,  0.57148552,  0.57103785,  0.56573945,\n",
      "        0.56842544,  0.56631589,  0.56688007,  0.56746879,  0.5658437 ,\n",
      "        0.56823534,  0.56939436,  0.56850516,  0.57386489,  0.57518949,\n",
      "        0.57323938,  0.57589472,  0.57767312,  0.57574754,  0.57609709,\n",
      "        0.57729904,  0.57941472,  0.57905904,  0.57929207,  0.57706601,\n",
      "        0.57218461,  0.57194545,  0.57303088,  0.57281625,  0.57368092,\n",
      "        0.57166336,  0.57255869,  0.57439841,  0.57265681,  0.57366252,\n",
      "        0.47862776,  0.57596324,  0.57717332,  0.57620877,  0.5870878 ,\n",
      "        0.58908706,  0.57592817,  0.57439657,  0.57454856,  0.57561249,\n",
      "        0.58625769,  0.58266253,  0.58211887,  0.58121277,  0.58099647,\n",
      "        0.58503008,  0.58434612,  0.57920181,  0.58309512,  0.58367385,\n",
      "        0.5852756 ,  0.58581926,  0.5872924 ,  0.58738593,  0.5893092 ,\n",
      "        0.58587187,  0.58767822,  0.58345756,  0.58043528,  0.57838925,\n",
      "        0.58218317,  0.58023652,  0.58529314,  0.58189088,  0.5804762 ,\n",
      "        0.58483717,  0.58602386,  0.58338156,  0.58145829,  0.57703302,\n",
      "        0.57818465,  0.57543127,  0.57159643,  0.5708774 ,  0.56973747,\n",
      "        0.56330709,  0.56341816,  0.56772066,  0.56939841,  0.56750437,\n",
      "        0.56796619,  0.56530635,  0.56615984,  0.56804218,  0.57119307,\n",
      "        0.57033958,  0.56818248,  0.56479192,  0.56268159,  0.56729977,\n",
      "        0.56674442,  0.56456978,  0.56549341,  0.56469839,  0.56580324,\n",
      "        0.56793696,  0.56672688,  0.56538234,  0.56764467,  0.56715947,\n",
      "        0.56749268,  0.56583832,  0.56644043,  0.56597277,  0.56587339,\n",
      "        0.5642658 ,  0.56440025,  0.56445286,  0.56347661,  0.56564541,\n",
      "        0.5642658 ,  0.56371629,  0.56244775,  0.56420734,  0.56169365,\n",
      "        0.56044264,  0.55736775,  0.55758405,  0.55812186,  0.55800495,\n",
      "        0.55810432,  0.55993406,  0.55999836,  0.55958916,  0.5600919 ,\n",
      "        0.53099816,  0.55977051,  0.53880446,  0.54291708,  0.54656919,\n",
      "        0.5534193 ,  0.55766623,  0.56357613,  0.55910533,  0.55592013,\n",
      "        0.55457697,  0.55797964,  0.55563231,  0.55439149,  0.55885589,\n",
      "        0.55555556,  0.55493514,  0.55159004,  0.55207614,  0.55368793,\n",
      "        0.54740067,  0.54678026,  0.54551385,  0.54200885,  0.53978305,\n",
      "        0.54056336,  0.5424182 ,  0.53748689,  0.5374613 ,  0.54003889,\n",
      "        0.54363343,  0.54234144,  0.54455446,  0.53965513,  0.54147799,\n",
      "        0.53748049,  0.53857421,  0.53849106,  0.53531225,  0.53537621,\n",
      "        0.53510758,  0.53769796,  0.53562566,  0.53458311,  0.53573439,\n",
      "        0.53680891,  0.53206309,  0.53505641,  0.53254279,  0.53375163,\n",
      "        0.53128278,  0.53632282,  0.53303528,  0.53440402,  0.53582393,\n",
      "        0.53673216,  0.54131169,  0.54158672,  0.54117098,  0.54066569,\n",
      "        0.54165068,  0.53976386,  0.53909868,  0.54298104,  0.53998132,\n",
      "        0.53870213,  0.53558088,  0.53780029,  0.53998132,  0.54077443,\n",
      "        0.54072965,  0.53816486,  0.53547855,  0.53583033,  0.53638678,\n",
      "        0.53646993,  0.53681531,  0.53417377,  0.53626525,  0.53659145,\n",
      "        0.53884923,  0.54051219,  0.53972548,  0.53909868,  0.54009006,\n",
      "        0.53933533,  0.53573439,  0.53857421,  0.54099829,  0.54134367,\n",
      "        0.54102387,  0.54232226,  0.54303221,  0.54022437,  0.54087676]), array([ 0.,  0.,  0.,  0.,  0.,  0.,  0.,  0.,  0.,  0.,  0.,  0.,  0.,\n",
      "        0.,  0.,  0.,  0.,  0.,  0.,  0.,  0.,  0.,  0.,  0.,  0.,  0.,\n",
      "        0.,  0.,  0.,  0.,  0.,  0.,  0.,  0.,  0.,  0.,  0.,  0.,  0.,\n",
      "        0.,  0.,  0.,  0.,  0.,  0.,  0.,  0.,  0.,  0.,  0.,  0.,  0.,\n",
      "        0.,  0.,  0.,  0.,  0.,  0.,  0.,  0.,  0.,  0.,  0.,  0.,  0.,\n",
      "        0.,  0.,  0.,  0.,  0.,  0.,  0.,  0.,  0.,  0.,  0.,  0.,  0.,\n",
      "        0.,  0.,  0.,  0.,  0.,  0.,  0.,  0.,  0.,  0.,  0.,  0.,  0.,\n",
      "        0.,  0.,  0.,  0.,  0.,  0.,  0.,  0.,  0.,  0.,  0.,  0.,  0.,\n",
      "        0.,  0.,  0.,  0.,  0.,  0.,  0.,  0.,  0.,  0.,  0.,  0.,  0.,\n",
      "        0.,  0.,  0.,  0.,  0.,  0.,  0.,  0.,  0.,  0.,  0.,  0.,  0.,\n",
      "        0.,  0.,  0.,  0.,  0.,  0.,  0.,  0.,  0.,  0.,  0.,  0.,  0.,\n",
      "        0.,  0.,  0.,  0.,  0.,  0.,  0.,  0.,  0.,  0.,  0.,  0.,  0.,\n",
      "        0.,  0.,  0.,  0.,  0.,  0.,  0.,  0.,  0.,  0.,  0.,  0.,  0.,\n",
      "        0.,  0.,  0.,  0.,  0.,  0.,  0.,  0.,  0.,  0.,  0.,  0.,  0.,\n",
      "        0.,  0.,  0.,  0.,  0.,  0.,  0.,  0.,  0.,  0.,  0.,  0.,  0.,\n",
      "        0.,  0.,  0.,  0.,  0.,  0.,  0.,  0.,  0.,  0.,  0.,  0.,  0.,\n",
      "        0.,  0.,  0.,  0.,  0.,  0.,  0.,  0.,  0.,  0.,  0.,  0.,  0.,\n",
      "        0.,  0.,  0.,  0.,  0.,  0.,  0.,  0.,  0.,  0.,  0.,  0.,  0.,\n",
      "        0.,  0.,  0.,  0.,  0.,  0.,  0.,  0.,  0.,  0.,  0.,  0.,  0.,\n",
      "        0.,  0.,  0.,  0.,  0.,  0.,  0.,  0.,  0.,  0.,  0.,  0.,  0.,\n",
      "        0.,  0.,  0.,  0.,  0.,  0.,  0.,  0.,  0.,  0.,  0.,  0.,  0.,\n",
      "        0.,  0.,  0.,  0.,  0.,  0.,  0.,  0.,  0.,  0.,  0.,  0.,  0.,\n",
      "        0.,  0.,  0.,  0.,  0.,  0.,  0.,  0.,  0.,  0.,  0.,  0.,  0.,\n",
      "        0.,  0.,  0.,  0.,  0.,  0.,  0.,  0.,  0.,  0.,  0.,  0.,  0.,\n",
      "        0.,  0.,  0.,  0.,  0.,  0.,  0.,  0.,  0.,  0.,  0.,  0.,  0.,\n",
      "        0.,  0.,  0.,  0.,  0.,  0.,  0.,  0.,  0.,  0.,  0.,  0.,  0.,\n",
      "        0.,  0.,  0.,  0.,  0.,  0.,  0.,  0.,  0.,  0.,  0.,  0.,  0.,\n",
      "        0.,  0.,  0.,  0.,  0.,  0.,  0.,  0.,  0.,  0.,  0.,  0.,  0.,\n",
      "        0.,  0.,  0.,  0.,  0.,  0.,  0.,  0.,  0.,  0.,  0.,  0.,  0.,\n",
      "        0.,  0.,  0.]), array([ 0.50975768,  0.53881336,  0.53456726,  0.52649194,  0.53360251,\n",
      "        0.5283738 ,  0.53167896,  0.51488515,  0.52026275,  0.52318677,\n",
      "        0.53650867,  0.5276949 ,  0.53038072,  0.52783187,  0.53060702,\n",
      "        0.53912303,  0.53690172,  0.54371453,  0.54473288,  0.53928978,\n",
      "        0.54798444,  0.55361811,  0.55758431,  0.56161006,  0.56907199,\n",
      "        0.56873254,  0.56750576,  0.56889929,  0.56711867,  0.56049047,\n",
      "        0.5587039 ,  0.55474961,  0.55613123,  0.55427319,  0.55312978,\n",
      "        0.55433274,  0.55466028,  0.54981271,  0.54704352,  0.5440778 ,\n",
      "        0.53975429,  0.5381285 ,  0.53847986,  0.5367052 ,  0.53732454,\n",
      "        0.54032599,  0.53943866,  0.54110017,  0.53734836,  0.53817019,\n",
      "        0.54011756,  0.54311305,  0.54705543,  0.55067026,  0.55067622,\n",
      "        0.548842  ,  0.54302372,  0.54330362,  0.54177312,  0.5430535 ,\n",
      "        0.54863952,  0.54657901,  0.55369553,  0.55897189,  0.56013911,\n",
      "        0.56231278,  0.5640398 ,  0.56317629,  0.56127061,  0.56016889,\n",
      "        0.5561491 ,  0.55701261,  0.55897189,  0.55769151,  0.55840018,\n",
      "        0.55660765,  0.5595019 ,  0.56048452,  0.55866221,  0.55625629,\n",
      "        0.55570245,  0.55216503,  0.55265336,  0.55096803,  0.55283202,\n",
      "        0.55498187,  0.55300472,  0.55661956,  0.55645281,  0.5577451 ,\n",
      "        0.55963292,  0.56144927,  0.5631882 ,  0.56538569,  0.56683282,\n",
      "        0.533966  ,  0.51452314,  0.51625565,  0.54677157,  0.54462685,\n",
      "        0.55552967,  0.55076827,  0.5439697 ,  0.55424523,  0.54852797,\n",
      "        0.56398308,  0.56895954,  0.57774751,  0.567699  ,  0.5701484 ,\n",
      "        0.5722035 ,  0.56489713,  0.56627715,  0.55920974,  0.55375535,\n",
      "        0.55380911,  0.55186752,  0.55754893,  0.55910818,  0.56019547,\n",
      "        0.55814037,  0.56024924,  0.55943078,  0.55622267,  0.56042847,\n",
      "        0.56438335,  0.56417425,  0.5643953 ,  0.5692463 ,  0.56613377,\n",
      "        0.56130069,  0.55806868,  0.55572681,  0.55612708,  0.55463952,\n",
      "        0.5544364 ,  0.55730996,  0.55615695,  0.55634215,  0.55595383,\n",
      "        0.55904844,  0.55754295,  0.55301455,  0.55464549,  0.55346261,\n",
      "        0.54859369,  0.54710015,  0.54699859,  0.5486833 ,  0.54833082,\n",
      "        0.54826511,  0.55189739,  0.55138361,  0.5528413 ,  0.5510849 ,\n",
      "        0.54894616,  0.55091165,  0.54986618,  0.55141348,  0.55135374,\n",
      "        0.55125218,  0.55391067,  0.55664683,  0.55961001,  0.56094224,\n",
      "        0.56250149,  0.56370827,  0.56176667,  0.5654109 ,  0.56673119,\n",
      "        0.56413841,  0.56287189,  0.56067938,  0.559843  ,  0.56015963,\n",
      "        0.55945468,  0.55809258,  0.55889908,  0.55781179,  0.55916195,\n",
      "        0.5596339 ,  0.55925156,  0.55748919,  0.55679021,  0.55392262,\n",
      "        0.55453796,  0.55660501,  0.55759672,  0.5582479 ,  0.55988482,\n",
      "        0.54221333,  0.51245431,  0.52766818,  0.54171407,  0.53529326,\n",
      "        0.54737237,  0.54029193,  0.54700927,  0.54487909,  0.55088233,\n",
      "        0.55318801,  0.54501828,  0.55009562,  0.55218949,  0.55503377,\n",
      "        0.56889811,  0.55034979,  0.55376292,  0.54587761,  0.54561739,\n",
      "        0.54481857,  0.53983201,  0.54026773,  0.54140544,  0.54011038,\n",
      "        0.54608337,  0.54283363,  0.54317252,  0.54772337,  0.54365665,\n",
      "        0.54503038,  0.54677931,  0.54842536,  0.55088233,  0.55607465,\n",
      "        0.55768439,  0.55813222,  0.55335141,  0.54838905,  0.55042846,\n",
      "        0.55735155,  0.56133354,  0.56209605,  0.56164218,  0.56267096,\n",
      "        0.55851952,  0.55762388,  0.56122461,  0.55697635,  0.55985694,\n",
      "        0.55553606,  0.55428336,  0.55328484,  0.55457384,  0.55641355,\n",
      "        0.55516085,  0.55487037,  0.55813827,  0.55717   ,  0.55796882,\n",
      "        0.55872528,  0.55820484,  0.55925782,  0.56293118,  0.55799303,\n",
      "        0.55620779,  0.55528189,  0.55278255,  0.5498596 ,  0.54988381,\n",
      "        0.55145724,  0.55378713,  0.55225001,  0.55001089,  0.55411392,\n",
      "        0.55328484,  0.55233473,  0.55378108,  0.55597783,  0.55488248,\n",
      "        0.55235894,  0.55439834,  0.55470698,  0.55683111,  0.55672218,\n",
      "        0.55976011,  0.56128513,  0.55965723,  0.56014742,  0.55873738,\n",
      "        0.55968144,  0.56032897,  0.5589976 ,  0.55709738,  0.55938491,\n",
      "        0.50079645,  0.54507063,  0.5208498 ,  0.53780376,  0.54799096,\n",
      "        0.55433789,  0.54455201,  0.56372864,  0.56401264,  0.56684654,\n",
      "        0.57150795,  0.57957127,  0.57786106,  0.57009409,  0.56787143,\n",
      "        0.57105725,  0.57043367,  0.5734713 ,  0.57855873,  0.57977502,\n",
      "        0.58112096,  0.58623926,  0.59125259,  0.59283315,  0.58896202,\n",
      "        0.5869678 ,  0.5831831 ,  0.58418947,  0.58462165,  0.58029981,\n",
      "        0.57849699,  0.58572064,  0.5808987 ,  0.57921318,  0.57878717,\n",
      "        0.57822533,  0.57726218,  0.57816359,  0.5826583 ,  0.58386842,\n",
      "        0.57992319,  0.57963301,  0.57964536,  0.58080609,  0.58131236,\n",
      "        0.58397338,  0.58196063,  0.57972562,  0.58200385,  0.57970093,\n",
      "        0.58083696,  0.58263361,  0.58244221,  0.57999111,  0.57786106,\n",
      "        0.57891682,  0.57888595,  0.58100366,  0.58375111,  0.58272622,\n",
      "        0.58238664,  0.58147288,  0.57757705,  0.57960214,  0.57731157,\n",
      "        0.58007137,  0.57871308,  0.57966388,  0.57814507,  0.57766349,\n",
      "        0.5788736 ,  0.57808333,  0.57883039,  0.58015781,  0.57787341,\n",
      "        0.58122592,  0.57695347,  0.5756137 ,  0.57550874,  0.57710782,\n",
      "        0.58108392,  0.57464437,  0.57613232,  0.57832411,  0.57743505,\n",
      "        0.57398992,  0.57158204,  0.57267485,  0.57261928,  0.57016201,\n",
      "        0.56926677,  0.56700706,  0.56827275,  0.56841475,  0.57398992])]\n"
     ]
    },
    {
     "data": {
      "image/png": "[encoded data removed]",
      "text/plain": [
       "<matplotlib.figure.Figure at 0x7f0c5ba123d0>"
      ]
     },
     "metadata": {},
     "output_type": "display_data"
    }
   ],
   "source": [
    "liste=[]\n",
    "for ele in auc_50:\n",
    "    liste.append(np.power(ele.ravel(),1))\n",
    "print liste\n",
    "\n",
    "sns.tsplot(np.power(liste,1),color='r',ci=[0,95], condition=\"SNP 50\")\n",
    "#sns.tsplot(np.power(auc_50.ravel(),1),time_pc,color='b',ci=[0,95], condition=\"SNP 500\")\n",
    "sns.plt.ylabel('AUC')\n",
    "sns.plt.xlabel('N PCs')\n",
    "plt.show()"
   ]
  },
  {
   "cell_type": "markdown",
   "metadata": {},
   "source": [
    "### Association sur toute les snps"
   ]
  },
  {
   "cell_type": "code",
   "execution_count": 177,
   "metadata": {
    "collapsed": false
   },
   "outputs": [
    {
     "name": "stderr",
     "output_type": "stream",
     "text": [
      "WARNING:root:loadPhen is using default missing value of '-9'.\n"
     ]
    },
    {
     "name": "stdout",
     "output_type": "stream",
     "text": [
      "Using last column in .fam file as phenotype.\n",
      "\tConsidering phenotype as a plink binary 1/2.\n",
      "\tFound 427 cases and 1525 controls.\n",
      "Loaded 1952 samples and 250140 SNPs.\n"
     ]
    }
   ],
   "source": [
    "snp_data, pheno = util.load_data(\"/home/vcabeli/Documents/data/BP_final/BP.B37-final\")"
   ]
  },
  {
   "cell_type": "code",
   "execution_count": 187,
   "metadata": {
    "collapsed": false
   },
   "outputs": [
    {
     "name": "stdout",
     "output_type": "stream",
     "text": [
      "976\n",
      "976\n",
      "plink --bfile /home/vcabeli/Documents/data/BP_final/BP.B37-final --keep training_samples.keep --make-bed --out training_set\n"
     ]
    },
    {
     "data": {
      "text/plain": [
       "0"
      ]
     },
     "execution_count": 187,
     "metadata": {},
     "output_type": "execute_result"
    }
   ],
   "source": [
    "# Split training / testing datasets\n",
    "\n",
    "train_idces = np.random.choice(np.arange(snp_data.row_count), size=int(snp_data.row_count*0.5), replace=False)\n",
    "print len(train_idces)\n",
    "test_idces = np.setdiff1d(np.arange(snp_data.row_count), train_idces, assume_unique=True)\n",
    "print len(test_idces)\n",
    "\n",
    "\n",
    "\n",
    "training_sample_out = \"training_samples.keep\"\n",
    "\n",
    "with open(training_sample_out, 'w') as f:\n",
    "    for i in train_idces:\n",
    "        f.write(pheno['iid'][i][0] + \"\\t\" + pheno['iid'][i][1])\n",
    "        f.write(\"\\n\")\n",
    "# #### Build training set bed bim fam\n",
    "\n",
    "\n",
    "\n",
    "cmd_keep_plink = \"plink --bfile {} --keep {} --make-bed --out {}\".format(\"/home/vcabeli/Documents/data/BP_final/BP.B37-final\",\n",
    "                                                                         training_sample_out,\n",
    "                                                                         \"training_set\")\n",
    "print cmd_keep_plink\n",
    "p = subprocess.Popen(cmd_keep_plink, shell=True)\n",
    "p.wait()\n"
   ]
  },
  {
   "cell_type": "code",
   "execution_count": 188,
   "metadata": {
    "collapsed": false
   },
   "outputs": [
    {
     "name": "stdout",
     "output_type": "stream",
     "text": [
      "plink --bfile training_set --logistic sex beta hide-covar --covar low_ld_pruned.cov --covar-name PC1-PC4 --out low_ld\n"
     ]
    }
   ],
   "source": [
    "# Association\n",
    "cmd_second_gwas = \"plink --bfile {} --logistic sex beta hide-covar --covar {} --covar-name PC1-PC{} --out {}\".format(\"training_set\",\n",
    "                                                                                                   \"low_ld_pruned.cov\",\n",
    "                                                                                                    4,\n",
    "                                                                                                   \"low_ld\")\n",
    "print cmd_second_gwas\n",
    "p = subprocess.Popen(cmd_second_gwas, shell=True)\n",
    "p.wait()\n",
    "low_ld_res = pd.read_table(\"low_ld.assoc.logistic\", delim_whitespace=True)\n"
   ]
  },
  {
   "cell_type": "code",
   "execution_count": 189,
   "metadata": {
    "collapsed": false,
    "scrolled": true
   },
   "outputs": [
    {
     "data": {
      "text/html": [
       "<div>\n",
       "<table border=\"1\" class=\"dataframe\">\n",
       "  <thead>\n",
       "    <tr style=\"text-align: right;\">\n",
       "      <th></th>\n",
       "      <th>CHR</th>\n",
       "      <th>SNP</th>\n",
       "      <th>BP</th>\n",
       "      <th>A1</th>\n",
       "      <th>TEST</th>\n",
       "      <th>NMISS</th>\n",
       "      <th>BETA</th>\n",
       "      <th>STAT</th>\n",
       "      <th>P</th>\n",
       "    </tr>\n",
       "  </thead>\n",
       "  <tbody>\n",
       "    <tr>\n",
       "      <th>0</th>\n",
       "      <td>1</td>\n",
       "      <td>rs3934834</td>\n",
       "      <td>1005806</td>\n",
       "      <td>T</td>\n",
       "      <td>ADD</td>\n",
       "      <td>966</td>\n",
       "      <td>-0.19510</td>\n",
       "      <td>-1.2020</td>\n",
       "      <td>0.2294</td>\n",
       "    </tr>\n",
       "    <tr>\n",
       "      <th>1</th>\n",
       "      <td>1</td>\n",
       "      <td>rs3737728</td>\n",
       "      <td>1021415</td>\n",
       "      <td>A</td>\n",
       "      <td>ADD</td>\n",
       "      <td>974</td>\n",
       "      <td>-0.02802</td>\n",
       "      <td>-0.2231</td>\n",
       "      <td>0.8234</td>\n",
       "    </tr>\n",
       "    <tr>\n",
       "      <th>2</th>\n",
       "      <td>1</td>\n",
       "      <td>rs6687776</td>\n",
       "      <td>1030565</td>\n",
       "      <td>T</td>\n",
       "      <td>ADD</td>\n",
       "      <td>976</td>\n",
       "      <td>0.02400</td>\n",
       "      <td>0.1579</td>\n",
       "      <td>0.8746</td>\n",
       "    </tr>\n",
       "    <tr>\n",
       "      <th>3</th>\n",
       "      <td>1</td>\n",
       "      <td>rs9651273</td>\n",
       "      <td>1031540</td>\n",
       "      <td>A</td>\n",
       "      <td>ADD</td>\n",
       "      <td>974</td>\n",
       "      <td>0.11500</td>\n",
       "      <td>0.9263</td>\n",
       "      <td>0.3543</td>\n",
       "    </tr>\n",
       "    <tr>\n",
       "      <th>4</th>\n",
       "      <td>1</td>\n",
       "      <td>rs4970405</td>\n",
       "      <td>1048955</td>\n",
       "      <td>G</td>\n",
       "      <td>ADD</td>\n",
       "      <td>975</td>\n",
       "      <td>0.19760</td>\n",
       "      <td>1.1300</td>\n",
       "      <td>0.2583</td>\n",
       "    </tr>\n",
       "  </tbody>\n",
       "</table>\n",
       "</div>"
      ],
      "text/plain": [
       "   CHR        SNP       BP A1 TEST  NMISS     BETA    STAT       P\n",
       "0    1  rs3934834  1005806  T  ADD    966 -0.19510 -1.2020  0.2294\n",
       "1    1  rs3737728  1021415  A  ADD    974 -0.02802 -0.2231  0.8234\n",
       "2    1  rs6687776  1030565  T  ADD    976  0.02400  0.1579  0.8746\n",
       "3    1  rs9651273  1031540  A  ADD    974  0.11500  0.9263  0.3543\n",
       "4    1  rs4970405  1048955  G  ADD    975  0.19760  1.1300  0.2583"
      ]
     },
     "execution_count": 189,
     "metadata": {},
     "output_type": "execute_result"
    }
   ],
   "source": [
    "low_ld_res.head()"
   ]
  },
  {
   "cell_type": "code",
   "execution_count": 190,
   "metadata": {
    "collapsed": false
   },
   "outputs": [
    {
     "name": "stdout",
     "output_type": "stream",
     "text": [
      "250140\n"
     ]
    }
   ],
   "source": [
    "# #### Coded genotype (hardy-weinberg)\n",
    "# \n",
    "# With sufficiently large cohorts, traning and test sets should have the same MAFs. The coded genotype is computed on the whole dataset.\n",
    "\n",
    "\n",
    "\n",
    "G_hw = snp_data.val.copy()\n",
    "\n",
    "MAFs = np.nansum(2-G_hw, axis=0, ) / (np.count_nonzero(~np.isnan(G_hw), axis=0) * 2)\n",
    "G_hw = (2-G_hw - 2*MAFs)/np.sqrt(2*MAFs*(1-MAFs))\n",
    "\n",
    "\n",
    "# ### Compute PRS\n",
    "sorted_snps_low_ld = np.argsort(low_ld_res.P)\n",
    "print len(sorted_snps_low_ld)"
   ]
  },
  {
   "cell_type": "code",
   "execution_count": 191,
   "metadata": {
    "collapsed": false
   },
   "outputs": [
    {
     "name": "stdout",
     "output_type": "stream",
     "text": [
      "plink --bfile training_set --clump low_ld.assoc.logistic --clump-p1 1 --clump-p2 1 --clump-r2 0.2 --clump-kb 500 --out low_ld_clump \n",
      "94984\n"
     ]
    }
   ],
   "source": [
    "\n",
    "sorted_snps_low_ld = clump_sorted_snps(\"training_set\", \"low_ld.assoc.logistic\",snp_data.col, sorted_snps_low_ld)\n",
    "\n",
    "\n",
    "print len(sorted_snps_low_ld)"
   ]
  },
  {
   "cell_type": "code",
   "execution_count": 192,
   "metadata": {
    "collapsed": false
   },
   "outputs": [
    {
     "name": "stderr",
     "output_type": "stream",
     "text": [
      "100%|██████████| 95/95 [00:05<00:00, 18.79it/s]\n"
     ]
    }
   ],
   "source": [
    "threshs = range(10, 95000, 1000)\n",
    "prs_low_ld = polygen_score_sign(G_hw, sorted_snps_low_ld,\n",
    "                                threshs,\n",
    "                                test_idces, pheno,\n",
    "                                low_ld_res.BETA)\n"
   ]
  },
  {
   "cell_type": "code",
   "execution_count": 199,
   "metadata": {
    "collapsed": false
   },
   "outputs": [
    {
     "name": "stdout",
     "output_type": "stream",
     "text": [
      "0.868487511601\n"
     ]
    },
    {
     "data": {
      "text/plain": [
       "array([ 0.57477109,  0.54965045,  0.89097429])"
      ]
     },
     "execution_count": 199,
     "metadata": {},
     "output_type": "execute_result"
    }
   ],
   "source": [
    "auc_50 = np.zeros([nb_pc_tot-2,1,len(threshs)])\n",
    "auc_50[2][0]=prs_low_ld\n",
    "print prs_low_ld.mean()\n",
    "auc_50.mean(axis=(1,2))"
   ]
  },
  {
   "cell_type": "code",
   "execution_count": 200,
   "metadata": {
    "collapsed": false
   },
   "outputs": [
    {
     "data": {
      "image/png": "[encoded data removed]",
      "text/plain": [
       "<matplotlib.figure.Figure at 0x7f0c5b553dd0>"
      ]
     },
     "metadata": {},
     "output_type": "display_data"
    }
   ],
   "source": [
    "sns.tsplot(auc_50.mean(axis=(1,2)),time_pc,color='r',ci=[0,95], condition=\"SNP 50\")\n",
    "\n",
    "sns.plt.ylabel('AUC')\n",
    "sns.plt.xlabel('N PCs')\n",
    "plt.show()\n"
   ]
  }
 ],
 "metadata": {
  "kernelspec": {
   "display_name": "Python 2",
   "language": "python",
   "name": "python2"
  },
  "language_info": {
   "codemirror_mode": {
    "name": "ipython",
    "version": 2
   },
   "file_extension": ".py",
   "mimetype": "text/x-python",
   "name": "python",
   "nbconvert_exporter": "python",
   "pygments_lexer": "ipython2",
   "version": "2.7.12"
  }
 },
 "nbformat": 4,
 "nbformat_minor": 2
}
